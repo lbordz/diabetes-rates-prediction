{
 "cells": [
  {
   "cell_type": "code",
   "execution_count": 1,
   "metadata": {
    "collapsed": true
   },
   "outputs": [],
   "source": [
    "import pandas as pd\n",
    "import numpy as np"
   ]
  },
  {
   "cell_type": "code",
   "execution_count": 2,
   "metadata": {
    "collapsed": true
   },
   "outputs": [],
   "source": [
    "#1  GETTING DIABETES RATE BY YEAR"
   ]
  },
  {
   "cell_type": "code",
   "execution_count": 3,
   "metadata": {
    "collapsed": true
   },
   "outputs": [],
   "source": [
    "Diabetes_data = pd.read_excel('../data/raw_data/DM_PREV_ALL_STATES.xlsx', skiprows=1)  #Diagnosed Diabetes Prevalence (\"DDP\")\n",
    "Diabetes_years = pd.read_excel('../data/raw_data/DM_PREV_ALL_STATES.xlsx', nrows=1)\n"
   ]
  },
  {
   "cell_type": "code",
   "execution_count": 4,
   "metadata": {},
   "outputs": [
    {
     "data": {
      "text/html": [
       "<div>\n",
       "<style scoped>\n",
       "    .dataframe tbody tr th:only-of-type {\n",
       "        vertical-align: middle;\n",
       "    }\n",
       "\n",
       "    .dataframe tbody tr th {\n",
       "        vertical-align: top;\n",
       "    }\n",
       "\n",
       "    .dataframe thead th {\n",
       "        text-align: right;\n",
       "    }\n",
       "</style>\n",
       "<table border=\"1\" class=\"dataframe\">\n",
       "  <thead>\n",
       "    <tr style=\"text-align: right;\">\n",
       "      <th></th>\n",
       "      <th>State</th>\n",
       "      <th>FIPS Codes</th>\n",
       "      <th>County</th>\n",
       "      <th>number</th>\n",
       "      <th>percent</th>\n",
       "      <th>lower confidence limit</th>\n",
       "      <th>upper confidence limit</th>\n",
       "      <th>age-adjusted percent</th>\n",
       "      <th>age-adjusted lower confidence limit</th>\n",
       "      <th>age-adjusted upper confidence limit</th>\n",
       "      <th>...</th>\n",
       "      <th>age-adjusted percent.8</th>\n",
       "      <th>age-adjusted lower confidence limit.8</th>\n",
       "      <th>age-adjusted upper confidence limit.8</th>\n",
       "      <th>number.9</th>\n",
       "      <th>percent.9</th>\n",
       "      <th>lower confidence limit.9</th>\n",
       "      <th>upper confidence limit.9</th>\n",
       "      <th>age-adjusted percent.9</th>\n",
       "      <th>age-adjusted lower confidence limit.9</th>\n",
       "      <th>age-adjusted upper confidence limit.9</th>\n",
       "    </tr>\n",
       "  </thead>\n",
       "  <tbody>\n",
       "    <tr>\n",
       "      <th>0</th>\n",
       "      <td>Alabama</td>\n",
       "      <td>1001</td>\n",
       "      <td>Autauga County</td>\n",
       "      <td>3368</td>\n",
       "      <td>10</td>\n",
       "      <td>7.8</td>\n",
       "      <td>12.8</td>\n",
       "      <td>9.9</td>\n",
       "      <td>7.8</td>\n",
       "      <td>12.6</td>\n",
       "      <td>...</td>\n",
       "      <td>11.1</td>\n",
       "      <td>8.8</td>\n",
       "      <td>13.8</td>\n",
       "      <td>5144</td>\n",
       "      <td>13</td>\n",
       "      <td>10.5</td>\n",
       "      <td>15.8</td>\n",
       "      <td>11.9</td>\n",
       "      <td>9.6</td>\n",
       "      <td>14.6</td>\n",
       "    </tr>\n",
       "    <tr>\n",
       "      <th>1</th>\n",
       "      <td>Alabama</td>\n",
       "      <td>1003</td>\n",
       "      <td>Baldwin County</td>\n",
       "      <td>9509</td>\n",
       "      <td>8.1</td>\n",
       "      <td>6.5</td>\n",
       "      <td>9.9</td>\n",
       "      <td>7.2</td>\n",
       "      <td>5.7</td>\n",
       "      <td>9</td>\n",
       "      <td>...</td>\n",
       "      <td>9.1</td>\n",
       "      <td>7.6</td>\n",
       "      <td>10.6</td>\n",
       "      <td>15367</td>\n",
       "      <td>10.4</td>\n",
       "      <td>8.7</td>\n",
       "      <td>12</td>\n",
       "      <td>8.8</td>\n",
       "      <td>7.3</td>\n",
       "      <td>10.2</td>\n",
       "    </tr>\n",
       "    <tr>\n",
       "      <th>2</th>\n",
       "      <td>Alabama</td>\n",
       "      <td>1005</td>\n",
       "      <td>Barbour County</td>\n",
       "      <td>2117</td>\n",
       "      <td>10.1</td>\n",
       "      <td>7.9</td>\n",
       "      <td>12.8</td>\n",
       "      <td>9.7</td>\n",
       "      <td>7.7</td>\n",
       "      <td>12.2</td>\n",
       "      <td>...</td>\n",
       "      <td>14.9</td>\n",
       "      <td>11.9</td>\n",
       "      <td>18.4</td>\n",
       "      <td>3813</td>\n",
       "      <td>18.4</td>\n",
       "      <td>14.9</td>\n",
       "      <td>22.9</td>\n",
       "      <td>16.9</td>\n",
       "      <td>13.5</td>\n",
       "      <td>21.2</td>\n",
       "    </tr>\n",
       "    <tr>\n",
       "      <th>3</th>\n",
       "      <td>Alabama</td>\n",
       "      <td>1007</td>\n",
       "      <td>Bibb County</td>\n",
       "      <td>1406</td>\n",
       "      <td>8.9</td>\n",
       "      <td>6.9</td>\n",
       "      <td>11.5</td>\n",
       "      <td>9</td>\n",
       "      <td>6.9</td>\n",
       "      <td>11.8</td>\n",
       "      <td>...</td>\n",
       "      <td>12.4</td>\n",
       "      <td>9.7</td>\n",
       "      <td>15.5</td>\n",
       "      <td>2557</td>\n",
       "      <td>14.8</td>\n",
       "      <td>11.5</td>\n",
       "      <td>18.4</td>\n",
       "      <td>13.8</td>\n",
       "      <td>10.6</td>\n",
       "      <td>17.3</td>\n",
       "    </tr>\n",
       "    <tr>\n",
       "      <th>4</th>\n",
       "      <td>Alabama</td>\n",
       "      <td>1009</td>\n",
       "      <td>Blount County</td>\n",
       "      <td>3367</td>\n",
       "      <td>8.3</td>\n",
       "      <td>6.3</td>\n",
       "      <td>10.8</td>\n",
       "      <td>8</td>\n",
       "      <td>6.1</td>\n",
       "      <td>10.4</td>\n",
       "      <td>...</td>\n",
       "      <td>12.2</td>\n",
       "      <td>9.5</td>\n",
       "      <td>15.3</td>\n",
       "      <td>5990</td>\n",
       "      <td>14.1</td>\n",
       "      <td>11</td>\n",
       "      <td>17.1</td>\n",
       "      <td>12.3</td>\n",
       "      <td>9.5</td>\n",
       "      <td>15.1</td>\n",
       "    </tr>\n",
       "  </tbody>\n",
       "</table>\n",
       "<p>5 rows × 73 columns</p>\n",
       "</div>"
      ],
      "text/plain": [
       "     State  FIPS Codes          County number percent lower confidence limit  \\\n",
       "0  Alabama        1001  Autauga County   3368      10                    7.8   \n",
       "1  Alabama        1003  Baldwin County   9509     8.1                    6.5   \n",
       "2  Alabama        1005  Barbour County   2117    10.1                    7.9   \n",
       "3  Alabama        1007     Bibb County   1406     8.9                    6.9   \n",
       "4  Alabama        1009   Blount County   3367     8.3                    6.3   \n",
       "\n",
       "  upper confidence limit age-adjusted percent  \\\n",
       "0                   12.8                  9.9   \n",
       "1                    9.9                  7.2   \n",
       "2                   12.8                  9.7   \n",
       "3                   11.5                    9   \n",
       "4                   10.8                    8   \n",
       "\n",
       "  age-adjusted lower confidence limit age-adjusted upper confidence limit  \\\n",
       "0                                 7.8                                12.6   \n",
       "1                                 5.7                                   9   \n",
       "2                                 7.7                                12.2   \n",
       "3                                 6.9                                11.8   \n",
       "4                                 6.1                                10.4   \n",
       "\n",
       "   ... age-adjusted percent.8 age-adjusted lower confidence limit.8  \\\n",
       "0  ...                   11.1                                   8.8   \n",
       "1  ...                    9.1                                   7.6   \n",
       "2  ...                   14.9                                  11.9   \n",
       "3  ...                   12.4                                   9.7   \n",
       "4  ...                   12.2                                   9.5   \n",
       "\n",
       "  age-adjusted upper confidence limit.8 number.9 percent.9  \\\n",
       "0                                  13.8     5144        13   \n",
       "1                                  10.6    15367      10.4   \n",
       "2                                  18.4     3813      18.4   \n",
       "3                                  15.5     2557      14.8   \n",
       "4                                  15.3     5990      14.1   \n",
       "\n",
       "  lower confidence limit.9 upper confidence limit.9 age-adjusted percent.9  \\\n",
       "0                     10.5                     15.8                   11.9   \n",
       "1                      8.7                       12                    8.8   \n",
       "2                     14.9                     22.9                   16.9   \n",
       "3                     11.5                     18.4                   13.8   \n",
       "4                       11                     17.1                   12.3   \n",
       "\n",
       "  age-adjusted lower confidence limit.9 age-adjusted upper confidence limit.9  \n",
       "0                                   9.6                                  14.6  \n",
       "1                                   7.3                                  10.2  \n",
       "2                                  13.5                                  21.2  \n",
       "3                                  10.6                                  17.3  \n",
       "4                                   9.5                                  15.1  \n",
       "\n",
       "[5 rows x 73 columns]"
      ]
     },
     "execution_count": 4,
     "metadata": {},
     "output_type": "execute_result"
    }
   ],
   "source": [
    "Diabetes_data.head()"
   ]
  },
  {
   "cell_type": "code",
   "execution_count": 5,
   "metadata": {
    "scrolled": true
   },
   "outputs": [
    {
     "data": {
      "text/html": [
       "<div>\n",
       "<style scoped>\n",
       "    .dataframe tbody tr th:only-of-type {\n",
       "        vertical-align: middle;\n",
       "    }\n",
       "\n",
       "    .dataframe tbody tr th {\n",
       "        vertical-align: top;\n",
       "    }\n",
       "\n",
       "    .dataframe thead th {\n",
       "        text-align: right;\n",
       "    }\n",
       "</style>\n",
       "<table border=\"1\" class=\"dataframe\">\n",
       "  <thead>\n",
       "    <tr style=\"text-align: right;\">\n",
       "      <th></th>\n",
       "      <th>Diagnosed Diabetes Prevalence</th>\n",
       "      <th>Unnamed: 1</th>\n",
       "      <th>Unnamed: 2</th>\n",
       "      <th>2004</th>\n",
       "      <th>Unnamed: 4</th>\n",
       "      <th>Unnamed: 5</th>\n",
       "      <th>Unnamed: 6</th>\n",
       "      <th>Unnamed: 7</th>\n",
       "      <th>Unnamed: 8</th>\n",
       "      <th>Unnamed: 9</th>\n",
       "      <th>...</th>\n",
       "      <th>Unnamed: 63</th>\n",
       "      <th>Unnamed: 64</th>\n",
       "      <th>Unnamed: 65</th>\n",
       "      <th>2013</th>\n",
       "      <th>Unnamed: 67</th>\n",
       "      <th>Unnamed: 68</th>\n",
       "      <th>Unnamed: 69</th>\n",
       "      <th>Unnamed: 70</th>\n",
       "      <th>Unnamed: 71</th>\n",
       "      <th>Unnamed: 72</th>\n",
       "    </tr>\n",
       "  </thead>\n",
       "  <tbody>\n",
       "    <tr>\n",
       "      <th>0</th>\n",
       "      <td>State</td>\n",
       "      <td>FIPS Codes</td>\n",
       "      <td>County</td>\n",
       "      <td>number</td>\n",
       "      <td>percent</td>\n",
       "      <td>lower confidence limit</td>\n",
       "      <td>upper confidence limit</td>\n",
       "      <td>age-adjusted percent</td>\n",
       "      <td>age-adjusted lower confidence limit</td>\n",
       "      <td>age-adjusted upper confidence limit</td>\n",
       "      <td>...</td>\n",
       "      <td>age-adjusted percent</td>\n",
       "      <td>age-adjusted lower confidence limit</td>\n",
       "      <td>age-adjusted upper confidence limit</td>\n",
       "      <td>number</td>\n",
       "      <td>percent</td>\n",
       "      <td>lower confidence limit</td>\n",
       "      <td>upper confidence limit</td>\n",
       "      <td>age-adjusted percent</td>\n",
       "      <td>age-adjusted lower confidence limit</td>\n",
       "      <td>age-adjusted upper confidence limit</td>\n",
       "    </tr>\n",
       "  </tbody>\n",
       "</table>\n",
       "<p>1 rows × 73 columns</p>\n",
       "</div>"
      ],
      "text/plain": [
       "  Diagnosed Diabetes Prevalence  Unnamed: 1 Unnamed: 2    2004 Unnamed: 4  \\\n",
       "0                         State  FIPS Codes     County  number    percent   \n",
       "\n",
       "               Unnamed: 5              Unnamed: 6            Unnamed: 7  \\\n",
       "0  lower confidence limit  upper confidence limit  age-adjusted percent   \n",
       "\n",
       "                            Unnamed: 8                           Unnamed: 9  \\\n",
       "0  age-adjusted lower confidence limit  age-adjusted upper confidence limit   \n",
       "\n",
       "   ...           Unnamed: 63                          Unnamed: 64  \\\n",
       "0  ...  age-adjusted percent  age-adjusted lower confidence limit   \n",
       "\n",
       "                           Unnamed: 65    2013 Unnamed: 67  \\\n",
       "0  age-adjusted upper confidence limit  number     percent   \n",
       "\n",
       "              Unnamed: 68             Unnamed: 69           Unnamed: 70  \\\n",
       "0  lower confidence limit  upper confidence limit  age-adjusted percent   \n",
       "\n",
       "                           Unnamed: 71                          Unnamed: 72  \n",
       "0  age-adjusted lower confidence limit  age-adjusted upper confidence limit  \n",
       "\n",
       "[1 rows x 73 columns]"
      ]
     },
     "execution_count": 5,
     "metadata": {},
     "output_type": "execute_result"
    }
   ],
   "source": [
    "Diabetes_years"
   ]
  },
  {
   "cell_type": "code",
   "execution_count": 6,
   "metadata": {},
   "outputs": [
    {
     "data": {
      "text/plain": [
       "array(['Diagnosed Diabetes Prevalence', 'Unnamed: 1', 'Unnamed: 2', 2004,\n",
       "       'Unnamed: 4', 'Unnamed: 5', 'Unnamed: 6', 'Unnamed: 7',\n",
       "       'Unnamed: 8', 'Unnamed: 9', 2005, 'Unnamed: 11', 'Unnamed: 12',\n",
       "       'Unnamed: 13', 'Unnamed: 14', 'Unnamed: 15', 'Unnamed: 16', 2006,\n",
       "       'Unnamed: 18', 'Unnamed: 19', 'Unnamed: 20', 'Unnamed: 21',\n",
       "       'Unnamed: 22', 'Unnamed: 23', 2007, 'Unnamed: 25', 'Unnamed: 26',\n",
       "       'Unnamed: 27', 'Unnamed: 28', 'Unnamed: 29', 'Unnamed: 30', 2008,\n",
       "       'Unnamed: 32', 'Unnamed: 33', 'Unnamed: 34', 'Unnamed: 35',\n",
       "       'Unnamed: 36', 'Unnamed: 37', 2009, 'Unnamed: 39', 'Unnamed: 40',\n",
       "       'Unnamed: 41', 'Unnamed: 42', 'Unnamed: 43', 'Unnamed: 44', 2010,\n",
       "       'Unnamed: 46', 'Unnamed: 47', 'Unnamed: 48', 'Unnamed: 49',\n",
       "       'Unnamed: 50', 'Unnamed: 51', 2011, 'Unnamed: 53', 'Unnamed: 54',\n",
       "       'Unnamed: 55', 'Unnamed: 56', 'Unnamed: 57', 'Unnamed: 58', 2012,\n",
       "       'Unnamed: 60', 'Unnamed: 61', 'Unnamed: 62', 'Unnamed: 63',\n",
       "       'Unnamed: 64', 'Unnamed: 65', 2013, 'Unnamed: 67', 'Unnamed: 68',\n",
       "       'Unnamed: 69', 'Unnamed: 70', 'Unnamed: 71', 'Unnamed: 72'],\n",
       "      dtype=object)"
      ]
     },
     "execution_count": 6,
     "metadata": {},
     "output_type": "execute_result"
    }
   ],
   "source": [
    "np.array(Diabetes_years.columns)"
   ]
  },
  {
   "cell_type": "code",
   "execution_count": 7,
   "metadata": {
    "collapsed": true
   },
   "outputs": [],
   "source": [
    "new_column_headers = np.array(['', '', '',\n",
    "                               'DDP:2004:','DDP:2004:','DDP:2004:','DDP:2004:','DDP:2004:','DDP:2004:','DDP:2004:',\n",
    "                               'DDP:2005:','DDP:2005:','DDP:2005:','DDP:2005:','DDP:2005:','DDP:2005:','DDP:2005:',\n",
    "                               'DDP:2006:','DDP:2006:','DDP:2006:','DDP:2006:','DDP:2006:','DDP:2006:','DDP:2006:',\n",
    "                               'DDP:2007:','DDP:2007:','DDP:2007:','DDP:2007:','DDP:2007:','DDP:2007:','DDP:2007:',\n",
    "                               'DDP:2008:','DDP:2008:','DDP:2008:','DDP:2008:','DDP:2008:','DDP:2008:','DDP:2008:',\n",
    "                               'DDP:2009:','DDP:2009:','DDP:2009:','DDP:2009:','DDP:2009:','DDP:2009:','DDP:2009:',\n",
    "                               'DDP:2010:','DDP:2010:','DDP:2010:','DDP:2010:','DDP:2010:','DDP:2010:','DDP:2010:',\n",
    "                               'DDP:2011:','DDP:2011:','DDP:2011:','DDP:2011:','DDP:2011:','DDP:2011:','DDP:2011:',\n",
    "                               'DDP:2012:','DDP:2012:','DDP:2012:','DDP:2012:','DDP:2012:','DDP:2012:','DDP:2012:',\n",
    "                               'DDP:2013:','DDP:2013:','DDP:2013:','DDP:2013:','DDP:2013:','DDP:2013:','DDP:2013:'])"
   ]
  },
  {
   "cell_type": "code",
   "execution_count": 10,
   "metadata": {},
   "outputs": [
    {
     "data": {
      "text/html": [
       "<div>\n",
       "<style scoped>\n",
       "    .dataframe tbody tr th:only-of-type {\n",
       "        vertical-align: middle;\n",
       "    }\n",
       "\n",
       "    .dataframe tbody tr th {\n",
       "        vertical-align: top;\n",
       "    }\n",
       "\n",
       "    .dataframe thead th {\n",
       "        text-align: right;\n",
       "    }\n",
       "</style>\n",
       "<table border=\"1\" class=\"dataframe\">\n",
       "  <thead>\n",
       "    <tr style=\"text-align: right;\">\n",
       "      <th></th>\n",
       "      <th>0</th>\n",
       "    </tr>\n",
       "  </thead>\n",
       "  <tbody>\n",
       "    <tr>\n",
       "      <th>Diagnosed Diabetes Prevalence</th>\n",
       "      <td></td>\n",
       "    </tr>\n",
       "    <tr>\n",
       "      <th>Unnamed: 1</th>\n",
       "      <td></td>\n",
       "    </tr>\n",
       "    <tr>\n",
       "      <th>Unnamed: 2</th>\n",
       "      <td></td>\n",
       "    </tr>\n",
       "    <tr>\n",
       "      <th>2004</th>\n",
       "      <td>DDP:2004:</td>\n",
       "    </tr>\n",
       "    <tr>\n",
       "      <th>Unnamed: 4</th>\n",
       "      <td>DDP:2004:</td>\n",
       "    </tr>\n",
       "  </tbody>\n",
       "</table>\n",
       "</div>"
      ],
      "text/plain": [
       "                                       0\n",
       "Diagnosed Diabetes Prevalence           \n",
       "Unnamed: 1                              \n",
       "Unnamed: 2                              \n",
       "2004                           DDP:2004:\n",
       "Unnamed: 4                     DDP:2004:"
      ]
     },
     "execution_count": 10,
     "metadata": {},
     "output_type": "execute_result"
    }
   ],
   "source": [
    "#checking aligment of my column names to original ones\n",
    "pd.DataFrame(new_column_headers, np.array(Diabetes_years.columns)).head()"
   ]
  },
  {
   "cell_type": "code",
   "execution_count": 11,
   "metadata": {},
   "outputs": [
    {
     "data": {
      "text/plain": [
       "Index(['State', 'FIPS Codes', 'County', 'number', 'percent',\n",
       "       'lower confidence limit', 'upper confidence limit',\n",
       "       'age-adjusted percent', 'age-adjusted lower confidence limit',\n",
       "       'age-adjusted upper confidence limit', 'number.1', 'percent.1',\n",
       "       'lower confidence limit.1', 'upper confidence limit.1',\n",
       "       'age-adjusted percent.1', 'age-adjusted lower confidence limit.1',\n",
       "       'age-adjusted upper confidence limit.1', 'number.2', 'percent.2',\n",
       "       'lower confidence limit.2', 'upper confidence limit.2',\n",
       "       'age-adjusted percent.2', 'age-adjusted lower confidence limit.2',\n",
       "       'age-adjusted upper confidence limit.2', 'number.3', 'percent.3',\n",
       "       'lower confidence limit.3', 'upper confidence limit.3',\n",
       "       'age-adjusted percent.3', 'age-adjusted lower confidence limit.3',\n",
       "       'age-adjusted upper confidence limit.3', 'number.4', 'percent.4',\n",
       "       'lower confidence limit.4', 'upper confidence limit.4',\n",
       "       'age-adjusted percent.4', 'age-adjusted lower confidence limit.4',\n",
       "       'age-adjusted upper confidence limit.4', 'number.5', 'percent.5',\n",
       "       'lower confidence limit.5', 'upper confidence limit.5',\n",
       "       'age-adjusted percent.5', 'age-adjusted lower confidence limit.5',\n",
       "       'age-adjusted upper confidence limit.5', 'number.6', 'percent.6',\n",
       "       'lower confidence limit.6', 'upper confidence limit.6',\n",
       "       'age-adjusted percent.6', 'age-adjusted lower confidence limit.6',\n",
       "       'age-adjusted upper confidence limit.6', 'number.7', 'percent.7',\n",
       "       'lower confidence limit.7', 'upper confidence limit.7',\n",
       "       'age-adjusted percent.7', 'age-adjusted lower confidence limit.7',\n",
       "       'age-adjusted upper confidence limit.7', 'number.8', 'percent.8',\n",
       "       'lower confidence limit.8', 'upper confidence limit.8',\n",
       "       'age-adjusted percent.8', 'age-adjusted lower confidence limit.8',\n",
       "       'age-adjusted upper confidence limit.8', 'number.9', 'percent.9',\n",
       "       'lower confidence limit.9', 'upper confidence limit.9',\n",
       "       'age-adjusted percent.9', 'age-adjusted lower confidence limit.9',\n",
       "       'age-adjusted upper confidence limit.9'],\n",
       "      dtype='object')"
      ]
     },
     "execution_count": 11,
     "metadata": {},
     "output_type": "execute_result"
    }
   ],
   "source": [
    "Diabetes_data.columns"
   ]
  },
  {
   "cell_type": "code",
   "execution_count": 12,
   "metadata": {
    "collapsed": true
   },
   "outputs": [],
   "source": [
    "Diabetes_data.columns = new_column_headers + Diabetes_data.columns"
   ]
  },
  {
   "cell_type": "code",
   "execution_count": 13,
   "metadata": {},
   "outputs": [
    {
     "data": {
      "text/html": [
       "<div>\n",
       "<style scoped>\n",
       "    .dataframe tbody tr th:only-of-type {\n",
       "        vertical-align: middle;\n",
       "    }\n",
       "\n",
       "    .dataframe tbody tr th {\n",
       "        vertical-align: top;\n",
       "    }\n",
       "\n",
       "    .dataframe thead th {\n",
       "        text-align: right;\n",
       "    }\n",
       "</style>\n",
       "<table border=\"1\" class=\"dataframe\">\n",
       "  <thead>\n",
       "    <tr style=\"text-align: right;\">\n",
       "      <th></th>\n",
       "      <th>State</th>\n",
       "      <th>FIPS Codes</th>\n",
       "      <th>County</th>\n",
       "      <th>DDP:2004:number</th>\n",
       "      <th>DDP:2004:percent</th>\n",
       "      <th>DDP:2004:lower confidence limit</th>\n",
       "      <th>DDP:2004:upper confidence limit</th>\n",
       "      <th>DDP:2004:age-adjusted percent</th>\n",
       "      <th>DDP:2004:age-adjusted lower confidence limit</th>\n",
       "      <th>DDP:2004:age-adjusted upper confidence limit</th>\n",
       "      <th>...</th>\n",
       "      <th>DDP:2012:age-adjusted percent.8</th>\n",
       "      <th>DDP:2012:age-adjusted lower confidence limit.8</th>\n",
       "      <th>DDP:2012:age-adjusted upper confidence limit.8</th>\n",
       "      <th>DDP:2013:number.9</th>\n",
       "      <th>DDP:2013:percent.9</th>\n",
       "      <th>DDP:2013:lower confidence limit.9</th>\n",
       "      <th>DDP:2013:upper confidence limit.9</th>\n",
       "      <th>DDP:2013:age-adjusted percent.9</th>\n",
       "      <th>DDP:2013:age-adjusted lower confidence limit.9</th>\n",
       "      <th>DDP:2013:age-adjusted upper confidence limit.9</th>\n",
       "    </tr>\n",
       "  </thead>\n",
       "  <tbody>\n",
       "    <tr>\n",
       "      <th>0</th>\n",
       "      <td>Alabama</td>\n",
       "      <td>1001</td>\n",
       "      <td>Autauga County</td>\n",
       "      <td>3368</td>\n",
       "      <td>10</td>\n",
       "      <td>7.8</td>\n",
       "      <td>12.8</td>\n",
       "      <td>9.9</td>\n",
       "      <td>7.8</td>\n",
       "      <td>12.6</td>\n",
       "      <td>...</td>\n",
       "      <td>11.1</td>\n",
       "      <td>8.8</td>\n",
       "      <td>13.8</td>\n",
       "      <td>5144</td>\n",
       "      <td>13</td>\n",
       "      <td>10.5</td>\n",
       "      <td>15.8</td>\n",
       "      <td>11.9</td>\n",
       "      <td>9.6</td>\n",
       "      <td>14.6</td>\n",
       "    </tr>\n",
       "    <tr>\n",
       "      <th>1</th>\n",
       "      <td>Alabama</td>\n",
       "      <td>1003</td>\n",
       "      <td>Baldwin County</td>\n",
       "      <td>9509</td>\n",
       "      <td>8.1</td>\n",
       "      <td>6.5</td>\n",
       "      <td>9.9</td>\n",
       "      <td>7.2</td>\n",
       "      <td>5.7</td>\n",
       "      <td>9</td>\n",
       "      <td>...</td>\n",
       "      <td>9.1</td>\n",
       "      <td>7.6</td>\n",
       "      <td>10.6</td>\n",
       "      <td>15367</td>\n",
       "      <td>10.4</td>\n",
       "      <td>8.7</td>\n",
       "      <td>12</td>\n",
       "      <td>8.8</td>\n",
       "      <td>7.3</td>\n",
       "      <td>10.2</td>\n",
       "    </tr>\n",
       "    <tr>\n",
       "      <th>2</th>\n",
       "      <td>Alabama</td>\n",
       "      <td>1005</td>\n",
       "      <td>Barbour County</td>\n",
       "      <td>2117</td>\n",
       "      <td>10.1</td>\n",
       "      <td>7.9</td>\n",
       "      <td>12.8</td>\n",
       "      <td>9.7</td>\n",
       "      <td>7.7</td>\n",
       "      <td>12.2</td>\n",
       "      <td>...</td>\n",
       "      <td>14.9</td>\n",
       "      <td>11.9</td>\n",
       "      <td>18.4</td>\n",
       "      <td>3813</td>\n",
       "      <td>18.4</td>\n",
       "      <td>14.9</td>\n",
       "      <td>22.9</td>\n",
       "      <td>16.9</td>\n",
       "      <td>13.5</td>\n",
       "      <td>21.2</td>\n",
       "    </tr>\n",
       "    <tr>\n",
       "      <th>3</th>\n",
       "      <td>Alabama</td>\n",
       "      <td>1007</td>\n",
       "      <td>Bibb County</td>\n",
       "      <td>1406</td>\n",
       "      <td>8.9</td>\n",
       "      <td>6.9</td>\n",
       "      <td>11.5</td>\n",
       "      <td>9</td>\n",
       "      <td>6.9</td>\n",
       "      <td>11.8</td>\n",
       "      <td>...</td>\n",
       "      <td>12.4</td>\n",
       "      <td>9.7</td>\n",
       "      <td>15.5</td>\n",
       "      <td>2557</td>\n",
       "      <td>14.8</td>\n",
       "      <td>11.5</td>\n",
       "      <td>18.4</td>\n",
       "      <td>13.8</td>\n",
       "      <td>10.6</td>\n",
       "      <td>17.3</td>\n",
       "    </tr>\n",
       "    <tr>\n",
       "      <th>4</th>\n",
       "      <td>Alabama</td>\n",
       "      <td>1009</td>\n",
       "      <td>Blount County</td>\n",
       "      <td>3367</td>\n",
       "      <td>8.3</td>\n",
       "      <td>6.3</td>\n",
       "      <td>10.8</td>\n",
       "      <td>8</td>\n",
       "      <td>6.1</td>\n",
       "      <td>10.4</td>\n",
       "      <td>...</td>\n",
       "      <td>12.2</td>\n",
       "      <td>9.5</td>\n",
       "      <td>15.3</td>\n",
       "      <td>5990</td>\n",
       "      <td>14.1</td>\n",
       "      <td>11</td>\n",
       "      <td>17.1</td>\n",
       "      <td>12.3</td>\n",
       "      <td>9.5</td>\n",
       "      <td>15.1</td>\n",
       "    </tr>\n",
       "  </tbody>\n",
       "</table>\n",
       "<p>5 rows × 73 columns</p>\n",
       "</div>"
      ],
      "text/plain": [
       "     State  FIPS Codes          County DDP:2004:number DDP:2004:percent  \\\n",
       "0  Alabama        1001  Autauga County            3368               10   \n",
       "1  Alabama        1003  Baldwin County            9509              8.1   \n",
       "2  Alabama        1005  Barbour County            2117             10.1   \n",
       "3  Alabama        1007     Bibb County            1406              8.9   \n",
       "4  Alabama        1009   Blount County            3367              8.3   \n",
       "\n",
       "  DDP:2004:lower confidence limit DDP:2004:upper confidence limit  \\\n",
       "0                             7.8                            12.8   \n",
       "1                             6.5                             9.9   \n",
       "2                             7.9                            12.8   \n",
       "3                             6.9                            11.5   \n",
       "4                             6.3                            10.8   \n",
       "\n",
       "  DDP:2004:age-adjusted percent DDP:2004:age-adjusted lower confidence limit  \\\n",
       "0                           9.9                                          7.8   \n",
       "1                           7.2                                          5.7   \n",
       "2                           9.7                                          7.7   \n",
       "3                             9                                          6.9   \n",
       "4                             8                                          6.1   \n",
       "\n",
       "  DDP:2004:age-adjusted upper confidence limit  ...  \\\n",
       "0                                         12.6  ...   \n",
       "1                                            9  ...   \n",
       "2                                         12.2  ...   \n",
       "3                                         11.8  ...   \n",
       "4                                         10.4  ...   \n",
       "\n",
       "  DDP:2012:age-adjusted percent.8  \\\n",
       "0                            11.1   \n",
       "1                             9.1   \n",
       "2                            14.9   \n",
       "3                            12.4   \n",
       "4                            12.2   \n",
       "\n",
       "  DDP:2012:age-adjusted lower confidence limit.8  \\\n",
       "0                                            8.8   \n",
       "1                                            7.6   \n",
       "2                                           11.9   \n",
       "3                                            9.7   \n",
       "4                                            9.5   \n",
       "\n",
       "  DDP:2012:age-adjusted upper confidence limit.8 DDP:2013:number.9  \\\n",
       "0                                           13.8              5144   \n",
       "1                                           10.6             15367   \n",
       "2                                           18.4              3813   \n",
       "3                                           15.5              2557   \n",
       "4                                           15.3              5990   \n",
       "\n",
       "  DDP:2013:percent.9 DDP:2013:lower confidence limit.9  \\\n",
       "0                 13                              10.5   \n",
       "1               10.4                               8.7   \n",
       "2               18.4                              14.9   \n",
       "3               14.8                              11.5   \n",
       "4               14.1                                11   \n",
       "\n",
       "  DDP:2013:upper confidence limit.9 DDP:2013:age-adjusted percent.9  \\\n",
       "0                              15.8                            11.9   \n",
       "1                                12                             8.8   \n",
       "2                              22.9                            16.9   \n",
       "3                              18.4                            13.8   \n",
       "4                              17.1                            12.3   \n",
       "\n",
       "  DDP:2013:age-adjusted lower confidence limit.9  \\\n",
       "0                                            9.6   \n",
       "1                                            7.3   \n",
       "2                                           13.5   \n",
       "3                                           10.6   \n",
       "4                                            9.5   \n",
       "\n",
       "  DDP:2013:age-adjusted upper confidence limit.9  \n",
       "0                                           14.6  \n",
       "1                                           10.2  \n",
       "2                                           21.2  \n",
       "3                                           17.3  \n",
       "4                                           15.1  \n",
       "\n",
       "[5 rows x 73 columns]"
      ]
     },
     "execution_count": 13,
     "metadata": {},
     "output_type": "execute_result"
    }
   ],
   "source": [
    "Diabetes_data.head()"
   ]
  },
  {
   "cell_type": "code",
   "execution_count": 14,
   "metadata": {},
   "outputs": [
    {
     "data": {
      "text/plain": [
       "Index(['State', 'FIPS Codes', 'County', 'DDP:2004:number', 'DDP:2004:percent',\n",
       "       'DDP:2004:lower confidence limit', 'DDP:2004:upper confidence limit',\n",
       "       'DDP:2004:age-adjusted percent',\n",
       "       'DDP:2004:age-adjusted lower confidence limit',\n",
       "       'DDP:2004:age-adjusted upper confidence limit', 'DDP:2005:number.1',\n",
       "       'DDP:2005:percent.1', 'DDP:2005:lower confidence limit.1',\n",
       "       'DDP:2005:upper confidence limit.1', 'DDP:2005:age-adjusted percent.1',\n",
       "       'DDP:2005:age-adjusted lower confidence limit.1',\n",
       "       'DDP:2005:age-adjusted upper confidence limit.1', 'DDP:2006:number.2',\n",
       "       'DDP:2006:percent.2', 'DDP:2006:lower confidence limit.2',\n",
       "       'DDP:2006:upper confidence limit.2', 'DDP:2006:age-adjusted percent.2',\n",
       "       'DDP:2006:age-adjusted lower confidence limit.2',\n",
       "       'DDP:2006:age-adjusted upper confidence limit.2', 'DDP:2007:number.3',\n",
       "       'DDP:2007:percent.3', 'DDP:2007:lower confidence limit.3',\n",
       "       'DDP:2007:upper confidence limit.3', 'DDP:2007:age-adjusted percent.3',\n",
       "       'DDP:2007:age-adjusted lower confidence limit.3',\n",
       "       'DDP:2007:age-adjusted upper confidence limit.3', 'DDP:2008:number.4',\n",
       "       'DDP:2008:percent.4', 'DDP:2008:lower confidence limit.4',\n",
       "       'DDP:2008:upper confidence limit.4', 'DDP:2008:age-adjusted percent.4',\n",
       "       'DDP:2008:age-adjusted lower confidence limit.4',\n",
       "       'DDP:2008:age-adjusted upper confidence limit.4', 'DDP:2009:number.5',\n",
       "       'DDP:2009:percent.5', 'DDP:2009:lower confidence limit.5',\n",
       "       'DDP:2009:upper confidence limit.5', 'DDP:2009:age-adjusted percent.5',\n",
       "       'DDP:2009:age-adjusted lower confidence limit.5',\n",
       "       'DDP:2009:age-adjusted upper confidence limit.5', 'DDP:2010:number.6',\n",
       "       'DDP:2010:percent.6', 'DDP:2010:lower confidence limit.6',\n",
       "       'DDP:2010:upper confidence limit.6', 'DDP:2010:age-adjusted percent.6',\n",
       "       'DDP:2010:age-adjusted lower confidence limit.6',\n",
       "       'DDP:2010:age-adjusted upper confidence limit.6', 'DDP:2011:number.7',\n",
       "       'DDP:2011:percent.7', 'DDP:2011:lower confidence limit.7',\n",
       "       'DDP:2011:upper confidence limit.7', 'DDP:2011:age-adjusted percent.7',\n",
       "       'DDP:2011:age-adjusted lower confidence limit.7',\n",
       "       'DDP:2011:age-adjusted upper confidence limit.7', 'DDP:2012:number.8',\n",
       "       'DDP:2012:percent.8', 'DDP:2012:lower confidence limit.8',\n",
       "       'DDP:2012:upper confidence limit.8', 'DDP:2012:age-adjusted percent.8',\n",
       "       'DDP:2012:age-adjusted lower confidence limit.8',\n",
       "       'DDP:2012:age-adjusted upper confidence limit.8', 'DDP:2013:number.9',\n",
       "       'DDP:2013:percent.9', 'DDP:2013:lower confidence limit.9',\n",
       "       'DDP:2013:upper confidence limit.9', 'DDP:2013:age-adjusted percent.9',\n",
       "       'DDP:2013:age-adjusted lower confidence limit.9',\n",
       "       'DDP:2013:age-adjusted upper confidence limit.9'],\n",
       "      dtype='object')"
      ]
     },
     "execution_count": 14,
     "metadata": {},
     "output_type": "execute_result"
    }
   ],
   "source": [
    "Diabetes_data.columns"
   ]
  },
  {
   "cell_type": "code",
   "execution_count": 15,
   "metadata": {
    "collapsed": true
   },
   "outputs": [],
   "source": [
    "#Third pass! Second pass + % change in diabetes rate 2009 - 2010 and 2007-2010"
   ]
  },
  {
   "cell_type": "code",
   "execution_count": 16,
   "metadata": {
    "collapsed": true
   },
   "outputs": [],
   "source": [
    "third_pass = Diabetes_data[[\"State\", \"FIPS Codes\", \"County\", \"DDP:2012:percent.8\", \"DDP:2009:percent.5\", \"DDP:2010:percent.6\", \"DDP:2013:percent.9\", \"DDP:2007:percent.3\" ]]\n",
    "\n"
   ]
  },
  {
   "cell_type": "code",
   "execution_count": 17,
   "metadata": {},
   "outputs": [
    {
     "data": {
      "text/html": [
       "<div>\n",
       "<style scoped>\n",
       "    .dataframe tbody tr th:only-of-type {\n",
       "        vertical-align: middle;\n",
       "    }\n",
       "\n",
       "    .dataframe tbody tr th {\n",
       "        vertical-align: top;\n",
       "    }\n",
       "\n",
       "    .dataframe thead th {\n",
       "        text-align: right;\n",
       "    }\n",
       "</style>\n",
       "<table border=\"1\" class=\"dataframe\">\n",
       "  <thead>\n",
       "    <tr style=\"text-align: right;\">\n",
       "      <th></th>\n",
       "      <th>State</th>\n",
       "      <th>FIPS Codes</th>\n",
       "      <th>County</th>\n",
       "      <th>DDP:2012:percent.8</th>\n",
       "      <th>DDP:2009:percent.5</th>\n",
       "      <th>DDP:2010:percent.6</th>\n",
       "      <th>DDP:2013:percent.9</th>\n",
       "      <th>DDP:2007:percent.3</th>\n",
       "    </tr>\n",
       "  </thead>\n",
       "  <tbody>\n",
       "    <tr>\n",
       "      <th>0</th>\n",
       "      <td>Alabama</td>\n",
       "      <td>1001</td>\n",
       "      <td>Autauga County</td>\n",
       "      <td>12</td>\n",
       "      <td>12.3</td>\n",
       "      <td>11.8</td>\n",
       "      <td>13</td>\n",
       "      <td>11.4</td>\n",
       "    </tr>\n",
       "    <tr>\n",
       "      <th>1</th>\n",
       "      <td>Alabama</td>\n",
       "      <td>1003</td>\n",
       "      <td>Baldwin County</td>\n",
       "      <td>10.8</td>\n",
       "      <td>11.4</td>\n",
       "      <td>11.8</td>\n",
       "      <td>10.4</td>\n",
       "      <td>9.4</td>\n",
       "    </tr>\n",
       "    <tr>\n",
       "      <th>2</th>\n",
       "      <td>Alabama</td>\n",
       "      <td>1005</td>\n",
       "      <td>Barbour County</td>\n",
       "      <td>16.2</td>\n",
       "      <td>14</td>\n",
       "      <td>14.2</td>\n",
       "      <td>18.4</td>\n",
       "      <td>13</td>\n",
       "    </tr>\n",
       "    <tr>\n",
       "      <th>3</th>\n",
       "      <td>Alabama</td>\n",
       "      <td>1007</td>\n",
       "      <td>Bibb County</td>\n",
       "      <td>13.2</td>\n",
       "      <td>11.8</td>\n",
       "      <td>11.1</td>\n",
       "      <td>14.8</td>\n",
       "      <td>11.6</td>\n",
       "    </tr>\n",
       "    <tr>\n",
       "      <th>4</th>\n",
       "      <td>Alabama</td>\n",
       "      <td>1009</td>\n",
       "      <td>Blount County</td>\n",
       "      <td>13.8</td>\n",
       "      <td>12.6</td>\n",
       "      <td>14</td>\n",
       "      <td>14.1</td>\n",
       "      <td>10.5</td>\n",
       "    </tr>\n",
       "  </tbody>\n",
       "</table>\n",
       "</div>"
      ],
      "text/plain": [
       "     State  FIPS Codes          County DDP:2012:percent.8 DDP:2009:percent.5  \\\n",
       "0  Alabama        1001  Autauga County                 12               12.3   \n",
       "1  Alabama        1003  Baldwin County               10.8               11.4   \n",
       "2  Alabama        1005  Barbour County               16.2                 14   \n",
       "3  Alabama        1007     Bibb County               13.2               11.8   \n",
       "4  Alabama        1009   Blount County               13.8               12.6   \n",
       "\n",
       "  DDP:2010:percent.6 DDP:2013:percent.9 DDP:2007:percent.3  \n",
       "0               11.8                 13               11.4  \n",
       "1               11.8               10.4                9.4  \n",
       "2               14.2               18.4                 13  \n",
       "3               11.1               14.8               11.6  \n",
       "4                 14               14.1               10.5  "
      ]
     },
     "execution_count": 17,
     "metadata": {},
     "output_type": "execute_result"
    }
   ],
   "source": [
    "third_pass.head()"
   ]
  },
  {
   "cell_type": "code",
   "execution_count": 18,
   "metadata": {},
   "outputs": [
    {
     "name": "stdout",
     "output_type": "stream",
     "text": [
      "<class 'pandas.core.frame.DataFrame'>\n",
      "RangeIndex: 3224 entries, 0 to 3223\n",
      "Data columns (total 8 columns):\n",
      "State                 3224 non-null object\n",
      "FIPS Codes            3224 non-null int64\n",
      "County                3224 non-null object\n",
      "DDP:2012:percent.8    3224 non-null object\n",
      "DDP:2009:percent.5    3224 non-null object\n",
      "DDP:2010:percent.6    3224 non-null object\n",
      "DDP:2013:percent.9    3224 non-null object\n",
      "DDP:2007:percent.3    3224 non-null object\n",
      "dtypes: int64(1), object(7)\n",
      "memory usage: 201.6+ KB\n"
     ]
    }
   ],
   "source": [
    "third_pass.info()"
   ]
  },
  {
   "cell_type": "code",
   "execution_count": 19,
   "metadata": {},
   "outputs": [
    {
     "data": {
      "text/plain": [
       "Index(['State', 'FIPS Codes', 'County', 'DDP:2012:percent.8',\n",
       "       'DDP:2009:percent.5', 'DDP:2010:percent.6', 'DDP:2013:percent.9',\n",
       "       'DDP:2007:percent.3'],\n",
       "      dtype='object')"
      ]
     },
     "execution_count": 19,
     "metadata": {},
     "output_type": "execute_result"
    }
   ],
   "source": [
    "third_pass.columns"
   ]
  },
  {
   "cell_type": "code",
   "execution_count": 23,
   "metadata": {
    "scrolled": false
   },
   "outputs": [
    {
     "data": {
      "text/html": [
       "<div>\n",
       "<style scoped>\n",
       "    .dataframe tbody tr th:only-of-type {\n",
       "        vertical-align: middle;\n",
       "    }\n",
       "\n",
       "    .dataframe tbody tr th {\n",
       "        vertical-align: top;\n",
       "    }\n",
       "\n",
       "    .dataframe thead th {\n",
       "        text-align: right;\n",
       "    }\n",
       "</style>\n",
       "<table border=\"1\" class=\"dataframe\">\n",
       "  <thead>\n",
       "    <tr style=\"text-align: right;\">\n",
       "      <th></th>\n",
       "      <th>State</th>\n",
       "      <th>FIPS Codes</th>\n",
       "      <th>County</th>\n",
       "      <th>DDP:2012:percent.8</th>\n",
       "      <th>DDP:2009:percent.5</th>\n",
       "      <th>DDP:2010:percent.6</th>\n",
       "      <th>DDP:2013:percent.9</th>\n",
       "      <th>DDP:2007:percent.3</th>\n",
       "    </tr>\n",
       "  </thead>\n",
       "  <tbody>\n",
       "    <tr>\n",
       "      <th>76</th>\n",
       "      <td>Alaska</td>\n",
       "      <td>2105</td>\n",
       "      <td>Hoonah-Angoon 2009 Census</td>\n",
       "      <td>8.1</td>\n",
       "      <td>8.8</td>\n",
       "      <td>9.6</td>\n",
       "      <td>7.3</td>\n",
       "      <td>No Data</td>\n",
       "    </tr>\n",
       "    <tr>\n",
       "      <th>86</th>\n",
       "      <td>Alaska</td>\n",
       "      <td>2195</td>\n",
       "      <td>Petersburg 2009 Census</td>\n",
       "      <td>7</td>\n",
       "      <td>7.1</td>\n",
       "      <td>7</td>\n",
       "      <td>7.1</td>\n",
       "      <td>No Data</td>\n",
       "    </tr>\n",
       "    <tr>\n",
       "      <th>87</th>\n",
       "      <td>Alaska</td>\n",
       "      <td>2198</td>\n",
       "      <td>Prince of Wales-Hyder 2009 Census</td>\n",
       "      <td>7.7</td>\n",
       "      <td>7.2</td>\n",
       "      <td>7.6</td>\n",
       "      <td>7.3</td>\n",
       "      <td>No Data</td>\n",
       "    </tr>\n",
       "    <tr>\n",
       "      <th>88</th>\n",
       "      <td>Alaska</td>\n",
       "      <td>2201</td>\n",
       "      <td>Prince of Wales-Outer K 2004 to 2008 Census</td>\n",
       "      <td>No Data</td>\n",
       "      <td>No Data</td>\n",
       "      <td>No Data</td>\n",
       "      <td>No Data</td>\n",
       "      <td>6.8</td>\n",
       "    </tr>\n",
       "    <tr>\n",
       "      <th>90</th>\n",
       "      <td>Alaska</td>\n",
       "      <td>2230</td>\n",
       "      <td>Skagway Municipality 2009 Census</td>\n",
       "      <td>6.7</td>\n",
       "      <td>6.2</td>\n",
       "      <td>6.5</td>\n",
       "      <td>6.4</td>\n",
       "      <td>No Data</td>\n",
       "    </tr>\n",
       "    <tr>\n",
       "      <th>91</th>\n",
       "      <td>Alaska</td>\n",
       "      <td>2232</td>\n",
       "      <td>Hoonah-Angoon 2004 to 2008 Census</td>\n",
       "      <td>No Data</td>\n",
       "      <td>No Data</td>\n",
       "      <td>No Data</td>\n",
       "      <td>No Data</td>\n",
       "      <td>6.9</td>\n",
       "    </tr>\n",
       "    <tr>\n",
       "      <th>95</th>\n",
       "      <td>Alaska</td>\n",
       "      <td>2275</td>\n",
       "      <td>Wrangell City and Borough 2009 Census</td>\n",
       "      <td>8.7</td>\n",
       "      <td>8.2</td>\n",
       "      <td>8.7</td>\n",
       "      <td>8.9</td>\n",
       "      <td>No Data</td>\n",
       "    </tr>\n",
       "    <tr>\n",
       "      <th>96</th>\n",
       "      <td>Alaska</td>\n",
       "      <td>2280</td>\n",
       "      <td>Wrangell-Petersburg 2004 to 2008 Census</td>\n",
       "      <td>No Data</td>\n",
       "      <td>No Data</td>\n",
       "      <td>No Data</td>\n",
       "      <td>No Data</td>\n",
       "      <td>7</td>\n",
       "    </tr>\n",
       "    <tr>\n",
       "      <th>2919</th>\n",
       "      <td>Virginia</td>\n",
       "      <td>51515</td>\n",
       "      <td>Bedford city</td>\n",
       "      <td>12.4</td>\n",
       "      <td>12.7</td>\n",
       "      <td>12.8</td>\n",
       "      <td>No Data</td>\n",
       "      <td>12.1</td>\n",
       "    </tr>\n",
       "  </tbody>\n",
       "</table>\n",
       "</div>"
      ],
      "text/plain": [
       "         State  FIPS Codes                                       County  \\\n",
       "76      Alaska        2105                    Hoonah-Angoon 2009 Census   \n",
       "86      Alaska        2195                       Petersburg 2009 Census   \n",
       "87      Alaska        2198            Prince of Wales-Hyder 2009 Census   \n",
       "88      Alaska        2201  Prince of Wales-Outer K 2004 to 2008 Census   \n",
       "90      Alaska        2230             Skagway Municipality 2009 Census   \n",
       "91      Alaska        2232            Hoonah-Angoon 2004 to 2008 Census   \n",
       "95      Alaska        2275        Wrangell City and Borough 2009 Census   \n",
       "96      Alaska        2280      Wrangell-Petersburg 2004 to 2008 Census   \n",
       "2919  Virginia       51515                                 Bedford city   \n",
       "\n",
       "     DDP:2012:percent.8 DDP:2009:percent.5 DDP:2010:percent.6  \\\n",
       "76                  8.1                8.8                9.6   \n",
       "86                    7                7.1                  7   \n",
       "87                  7.7                7.2                7.6   \n",
       "88              No Data            No Data            No Data   \n",
       "90                  6.7                6.2                6.5   \n",
       "91              No Data            No Data            No Data   \n",
       "95                  8.7                8.2                8.7   \n",
       "96              No Data            No Data            No Data   \n",
       "2919               12.4               12.7               12.8   \n",
       "\n",
       "     DDP:2013:percent.9 DDP:2007:percent.3  \n",
       "76                  7.3            No Data  \n",
       "86                  7.1            No Data  \n",
       "87                  7.3            No Data  \n",
       "88              No Data                6.8  \n",
       "90                  6.4            No Data  \n",
       "91              No Data                6.9  \n",
       "95                  8.9            No Data  \n",
       "96              No Data                  7  \n",
       "2919            No Data               12.1  "
      ]
     },
     "execution_count": 23,
     "metadata": {},
     "output_type": "execute_result"
    }
   ],
   "source": [
    "#finding columns with missing numbers in \n",
    "third_pass[third_pass[['DDP:2012:percent.8', 'DDP:2009:percent.5', 'DDP:2010:percent.6', \n",
    "            'DDP:2013:percent.9', 'DDP:2007:percent.3']].applymap(np.isreal).sum(axis = 1) < 5]"
   ]
  },
  {
   "cell_type": "code",
   "execution_count": 24,
   "metadata": {
    "collapsed": true
   },
   "outputs": [],
   "source": [
    "#Choice: \n",
    "# - To convert Virginia to 2012\n",
    "# to not include 2007-2010 for now, as it'll probably mess up my train/test split\n",
    "# - and all the rest to NANs, to be filtered out later"
   ]
  },
  {
   "cell_type": "code",
   "execution_count": 25,
   "metadata": {},
   "outputs": [
    {
     "name": "stderr",
     "output_type": "stream",
     "text": [
      "/Users/LB/anaconda3/lib/python3.6/site-packages/pandas/core/indexing.py:543: SettingWithCopyWarning: \n",
      "A value is trying to be set on a copy of a slice from a DataFrame.\n",
      "Try using .loc[row_indexer,col_indexer] = value instead\n",
      "\n",
      "See the caveats in the documentation: http://pandas.pydata.org/pandas-docs/stable/indexing.html#indexing-view-versus-copy\n",
      "  self.obj[item] = s\n"
     ]
    }
   ],
   "source": [
    "third_pass.loc[2919, 'DDP:2013:percent.9'] = Diabetes_data.iloc[2919]['DDP:2012:percent.8']"
   ]
  },
  {
   "cell_type": "code",
   "execution_count": 26,
   "metadata": {},
   "outputs": [
    {
     "data": {
      "text/plain": [
       "State                     Virginia\n",
       "FIPS Codes                   51515\n",
       "County                Bedford city\n",
       "DDP:2012:percent.8            12.4\n",
       "DDP:2009:percent.5            12.7\n",
       "DDP:2010:percent.6            12.8\n",
       "DDP:2013:percent.9            12.4\n",
       "DDP:2007:percent.3            12.1\n",
       "Name: 2919, dtype: object"
      ]
     },
     "execution_count": 26,
     "metadata": {},
     "output_type": "execute_result"
    }
   ],
   "source": [
    "third_pass.iloc[2919]"
   ]
  },
  {
   "cell_type": "code",
   "execution_count": 27,
   "metadata": {},
   "outputs": [
    {
     "name": "stderr",
     "output_type": "stream",
     "text": [
      "/Users/LB/anaconda3/lib/python3.6/site-packages/ipykernel_launcher.py:1: SettingWithCopyWarning: \n",
      "A value is trying to be set on a copy of a slice from a DataFrame.\n",
      "Try using .loc[row_indexer,col_indexer] = value instead\n",
      "\n",
      "See the caveats in the documentation: http://pandas.pydata.org/pandas-docs/stable/indexing.html#indexing-view-versus-copy\n",
      "  \"\"\"Entry point for launching an IPython kernel.\n",
      "/Users/LB/anaconda3/lib/python3.6/site-packages/ipykernel_launcher.py:2: SettingWithCopyWarning: \n",
      "A value is trying to be set on a copy of a slice from a DataFrame.\n",
      "Try using .loc[row_indexer,col_indexer] = value instead\n",
      "\n",
      "See the caveats in the documentation: http://pandas.pydata.org/pandas-docs/stable/indexing.html#indexing-view-versus-copy\n",
      "  \n",
      "/Users/LB/anaconda3/lib/python3.6/site-packages/ipykernel_launcher.py:3: SettingWithCopyWarning: \n",
      "A value is trying to be set on a copy of a slice from a DataFrame.\n",
      "Try using .loc[row_indexer,col_indexer] = value instead\n",
      "\n",
      "See the caveats in the documentation: http://pandas.pydata.org/pandas-docs/stable/indexing.html#indexing-view-versus-copy\n",
      "  This is separate from the ipykernel package so we can avoid doing imports until\n",
      "/Users/LB/anaconda3/lib/python3.6/site-packages/ipykernel_launcher.py:4: SettingWithCopyWarning: \n",
      "A value is trying to be set on a copy of a slice from a DataFrame.\n",
      "Try using .loc[row_indexer,col_indexer] = value instead\n",
      "\n",
      "See the caveats in the documentation: http://pandas.pydata.org/pandas-docs/stable/indexing.html#indexing-view-versus-copy\n",
      "  after removing the cwd from sys.path.\n"
     ]
    }
   ],
   "source": [
    "third_pass['DDP:2012:percent.8'] = pd.to_numeric(third_pass['DDP:2012:percent.8'], errors = 'coerce')\n",
    "third_pass['DDP:2009:percent.5'] = pd.to_numeric(third_pass['DDP:2009:percent.5'], errors = 'coerce')\n",
    "third_pass['DDP:2010:percent.6'] = pd.to_numeric(third_pass['DDP:2010:percent.6'], errors = 'coerce')\n",
    "third_pass['DDP:2013:percent.9'] = pd.to_numeric(third_pass['DDP:2013:percent.9'], errors = 'coerce')\n"
   ]
  },
  {
   "cell_type": "code",
   "execution_count": 28,
   "metadata": {},
   "outputs": [
    {
     "data": {
      "text/html": [
       "<div>\n",
       "<style scoped>\n",
       "    .dataframe tbody tr th:only-of-type {\n",
       "        vertical-align: middle;\n",
       "    }\n",
       "\n",
       "    .dataframe tbody tr th {\n",
       "        vertical-align: top;\n",
       "    }\n",
       "\n",
       "    .dataframe thead th {\n",
       "        text-align: right;\n",
       "    }\n",
       "</style>\n",
       "<table border=\"1\" class=\"dataframe\">\n",
       "  <thead>\n",
       "    <tr style=\"text-align: right;\">\n",
       "      <th></th>\n",
       "      <th>State</th>\n",
       "      <th>FIPS Codes</th>\n",
       "      <th>County</th>\n",
       "      <th>DDP:2012:percent.8</th>\n",
       "      <th>DDP:2009:percent.5</th>\n",
       "      <th>DDP:2010:percent.6</th>\n",
       "      <th>DDP:2013:percent.9</th>\n",
       "      <th>DDP:2007:percent.3</th>\n",
       "    </tr>\n",
       "  </thead>\n",
       "  <tbody>\n",
       "  </tbody>\n",
       "</table>\n",
       "</div>"
      ],
      "text/plain": [
       "Empty DataFrame\n",
       "Columns: [State, FIPS Codes, County, DDP:2012:percent.8, DDP:2009:percent.5, DDP:2010:percent.6, DDP:2013:percent.9, DDP:2007:percent.3]\n",
       "Index: []"
      ]
     },
     "execution_count": 28,
     "metadata": {},
     "output_type": "execute_result"
    }
   ],
   "source": [
    "#making sure no missing numbers\n",
    "third_pass[third_pass[['DDP:2012:percent.8', 'DDP:2009:percent.5', 'DDP:2010:percent.6', \n",
    "            'DDP:2013:percent.9']].applymap(np.isreal).sum(axis = 1) < 4]"
   ]
  },
  {
   "cell_type": "code",
   "execution_count": 29,
   "metadata": {},
   "outputs": [
    {
     "data": {
      "text/html": [
       "<div>\n",
       "<style scoped>\n",
       "    .dataframe tbody tr th:only-of-type {\n",
       "        vertical-align: middle;\n",
       "    }\n",
       "\n",
       "    .dataframe tbody tr th {\n",
       "        vertical-align: top;\n",
       "    }\n",
       "\n",
       "    .dataframe thead th {\n",
       "        text-align: right;\n",
       "    }\n",
       "</style>\n",
       "<table border=\"1\" class=\"dataframe\">\n",
       "  <thead>\n",
       "    <tr style=\"text-align: right;\">\n",
       "      <th></th>\n",
       "      <th>State</th>\n",
       "      <th>FIPS Codes</th>\n",
       "      <th>County</th>\n",
       "      <th>DDP:2012:percent.8</th>\n",
       "      <th>DDP:2009:percent.5</th>\n",
       "      <th>DDP:2010:percent.6</th>\n",
       "      <th>DDP:2013:percent.9</th>\n",
       "      <th>DDP:2007:percent.3</th>\n",
       "    </tr>\n",
       "  </thead>\n",
       "  <tbody>\n",
       "    <tr>\n",
       "      <th>88</th>\n",
       "      <td>Alaska</td>\n",
       "      <td>2201</td>\n",
       "      <td>Prince of Wales-Outer K 2004 to 2008 Census</td>\n",
       "      <td>NaN</td>\n",
       "      <td>NaN</td>\n",
       "      <td>NaN</td>\n",
       "      <td>NaN</td>\n",
       "      <td>6.8</td>\n",
       "    </tr>\n",
       "    <tr>\n",
       "      <th>91</th>\n",
       "      <td>Alaska</td>\n",
       "      <td>2232</td>\n",
       "      <td>Hoonah-Angoon 2004 to 2008 Census</td>\n",
       "      <td>NaN</td>\n",
       "      <td>NaN</td>\n",
       "      <td>NaN</td>\n",
       "      <td>NaN</td>\n",
       "      <td>6.9</td>\n",
       "    </tr>\n",
       "    <tr>\n",
       "      <th>96</th>\n",
       "      <td>Alaska</td>\n",
       "      <td>2280</td>\n",
       "      <td>Wrangell-Petersburg 2004 to 2008 Census</td>\n",
       "      <td>NaN</td>\n",
       "      <td>NaN</td>\n",
       "      <td>NaN</td>\n",
       "      <td>NaN</td>\n",
       "      <td>7</td>\n",
       "    </tr>\n",
       "  </tbody>\n",
       "</table>\n",
       "</div>"
      ],
      "text/plain": [
       "     State  FIPS Codes                                       County  \\\n",
       "88  Alaska        2201  Prince of Wales-Outer K 2004 to 2008 Census   \n",
       "91  Alaska        2232            Hoonah-Angoon 2004 to 2008 Census   \n",
       "96  Alaska        2280      Wrangell-Petersburg 2004 to 2008 Census   \n",
       "\n",
       "    DDP:2012:percent.8  DDP:2009:percent.5  DDP:2010:percent.6  \\\n",
       "88                 NaN                 NaN                 NaN   \n",
       "91                 NaN                 NaN                 NaN   \n",
       "96                 NaN                 NaN                 NaN   \n",
       "\n",
       "    DDP:2013:percent.9 DDP:2007:percent.3  \n",
       "88                 NaN                6.8  \n",
       "91                 NaN                6.9  \n",
       "96                 NaN                  7  "
      ]
     },
     "execution_count": 29,
     "metadata": {},
     "output_type": "execute_result"
    }
   ],
   "source": [
    "#making sure NANs are the 3 i expect\n",
    "third_pass[third_pass[['DDP:2012:percent.8', 'DDP:2009:percent.5', 'DDP:2010:percent.6', \n",
    "            'DDP:2013:percent.9']].isnull().sum(axis = 1) > 0]"
   ]
  },
  {
   "cell_type": "code",
   "execution_count": 30,
   "metadata": {},
   "outputs": [
    {
     "name": "stderr",
     "output_type": "stream",
     "text": [
      "/Users/LB/anaconda3/lib/python3.6/site-packages/ipykernel_launcher.py:2: SettingWithCopyWarning: \n",
      "A value is trying to be set on a copy of a slice from a DataFrame.\n",
      "Try using .loc[row_indexer,col_indexer] = value instead\n",
      "\n",
      "See the caveats in the documentation: http://pandas.pydata.org/pandas-docs/stable/indexing.html#indexing-view-versus-copy\n",
      "  \n",
      "/Users/LB/anaconda3/lib/python3.6/site-packages/ipykernel_launcher.py:5: SettingWithCopyWarning: \n",
      "A value is trying to be set on a copy of a slice from a DataFrame.\n",
      "Try using .loc[row_indexer,col_indexer] = value instead\n",
      "\n",
      "See the caveats in the documentation: http://pandas.pydata.org/pandas-docs/stable/indexing.html#indexing-view-versus-copy\n",
      "  \"\"\"\n"
     ]
    }
   ],
   "source": [
    "#per second pass, adding Diabetes growth rate TARGET\n",
    "third_pass['Diabetes_pct_growth_rate'] = (third_pass[\"DDP:2013:percent.9\"] - third_pass[\"DDP:2010:percent.6\"]) / third_pass[\"DDP:2010:percent.6\"]\n",
    "\n",
    "#new for third pass: adding percent increase 2009-2010\n",
    "third_pass['DDP:2009-2010:Growth_Rate'] = (third_pass[\"DDP:2010:percent.6\"] - third_pass[\"DDP:2009:percent.5\"]) / third_pass[\"DDP:2009:percent.5\"]\n",
    "\n",
    "\n"
   ]
  },
  {
   "cell_type": "code",
   "execution_count": 31,
   "metadata": {},
   "outputs": [
    {
     "name": "stdout",
     "output_type": "stream",
     "text": [
      "<class 'pandas.core.frame.DataFrame'>\n",
      "RangeIndex: 3224 entries, 0 to 3223\n",
      "Data columns (total 10 columns):\n",
      "State                        3224 non-null object\n",
      "FIPS Codes                   3224 non-null int64\n",
      "County                       3224 non-null object\n",
      "DDP:2012:percent.8           3221 non-null float64\n",
      "DDP:2009:percent.5           3221 non-null float64\n",
      "DDP:2010:percent.6           3221 non-null float64\n",
      "DDP:2013:percent.9           3221 non-null float64\n",
      "DDP:2007:percent.3           3224 non-null object\n",
      "Diabetes_pct_growth_rate     3221 non-null float64\n",
      "DDP:2009-2010:Growth_Rate    3221 non-null float64\n",
      "dtypes: float64(6), int64(1), object(3)\n",
      "memory usage: 252.0+ KB\n"
     ]
    }
   ],
   "source": [
    "third_pass.info()"
   ]
  },
  {
   "cell_type": "code",
   "execution_count": 32,
   "metadata": {},
   "outputs": [
    {
     "data": {
      "text/plain": [
       "Index(['State', 'FIPS Codes', 'County', 'DDP:2012:percent.8',\n",
       "       'DDP:2009:percent.5', 'DDP:2010:percent.6', 'DDP:2013:percent.9',\n",
       "       'DDP:2007:percent.3', 'Diabetes_pct_growth_rate',\n",
       "       'DDP:2009-2010:Growth_Rate'],\n",
       "      dtype='object')"
      ]
     },
     "execution_count": 32,
     "metadata": {},
     "output_type": "execute_result"
    }
   ],
   "source": [
    "third_pass.columns"
   ]
  },
  {
   "cell_type": "code",
   "execution_count": null,
   "metadata": {
    "collapsed": true
   },
   "outputs": [],
   "source": [
    "#exporting third pass"
   ]
  },
  {
   "cell_type": "code",
   "execution_count": 33,
   "metadata": {
    "collapsed": true
   },
   "outputs": [],
   "source": [
    "final = third_pass[['State', 'FIPS Codes', 'County', 'DDP:2012:percent.8',\n",
    "        'DDP:2010:percent.6', 'DDP:2013:percent.9',\n",
    "        'DDP:2009-2010:Growth_Rate',\n",
    "        'Diabetes_pct_growth_rate'\n",
    "       ]]"
   ]
  },
  {
   "cell_type": "code",
   "execution_count": 35,
   "metadata": {},
   "outputs": [
    {
     "data": {
      "text/html": [
       "<div>\n",
       "<style scoped>\n",
       "    .dataframe tbody tr th:only-of-type {\n",
       "        vertical-align: middle;\n",
       "    }\n",
       "\n",
       "    .dataframe tbody tr th {\n",
       "        vertical-align: top;\n",
       "    }\n",
       "\n",
       "    .dataframe thead th {\n",
       "        text-align: right;\n",
       "    }\n",
       "</style>\n",
       "<table border=\"1\" class=\"dataframe\">\n",
       "  <thead>\n",
       "    <tr style=\"text-align: right;\">\n",
       "      <th></th>\n",
       "      <th>State</th>\n",
       "      <th>FIPS Codes</th>\n",
       "      <th>County</th>\n",
       "      <th>DDP:2012:percent.8</th>\n",
       "      <th>DDP:2010:percent.6</th>\n",
       "      <th>DDP:2013:percent.9</th>\n",
       "      <th>DDP:2009-2010:Growth_Rate</th>\n",
       "      <th>Diabetes_pct_growth_rate</th>\n",
       "    </tr>\n",
       "  </thead>\n",
       "  <tbody>\n",
       "    <tr>\n",
       "      <th>88</th>\n",
       "      <td>Alaska</td>\n",
       "      <td>2201</td>\n",
       "      <td>Prince of Wales-Outer K 2004 to 2008 Census</td>\n",
       "      <td>NaN</td>\n",
       "      <td>NaN</td>\n",
       "      <td>NaN</td>\n",
       "      <td>NaN</td>\n",
       "      <td>NaN</td>\n",
       "    </tr>\n",
       "    <tr>\n",
       "      <th>91</th>\n",
       "      <td>Alaska</td>\n",
       "      <td>2232</td>\n",
       "      <td>Hoonah-Angoon 2004 to 2008 Census</td>\n",
       "      <td>NaN</td>\n",
       "      <td>NaN</td>\n",
       "      <td>NaN</td>\n",
       "      <td>NaN</td>\n",
       "      <td>NaN</td>\n",
       "    </tr>\n",
       "    <tr>\n",
       "      <th>96</th>\n",
       "      <td>Alaska</td>\n",
       "      <td>2280</td>\n",
       "      <td>Wrangell-Petersburg 2004 to 2008 Census</td>\n",
       "      <td>NaN</td>\n",
       "      <td>NaN</td>\n",
       "      <td>NaN</td>\n",
       "      <td>NaN</td>\n",
       "      <td>NaN</td>\n",
       "    </tr>\n",
       "  </tbody>\n",
       "</table>\n",
       "</div>"
      ],
      "text/plain": [
       "     State  FIPS Codes                                       County  \\\n",
       "88  Alaska        2201  Prince of Wales-Outer K 2004 to 2008 Census   \n",
       "91  Alaska        2232            Hoonah-Angoon 2004 to 2008 Census   \n",
       "96  Alaska        2280      Wrangell-Petersburg 2004 to 2008 Census   \n",
       "\n",
       "    DDP:2012:percent.8  DDP:2010:percent.6  DDP:2013:percent.9  \\\n",
       "88                 NaN                 NaN                 NaN   \n",
       "91                 NaN                 NaN                 NaN   \n",
       "96                 NaN                 NaN                 NaN   \n",
       "\n",
       "    DDP:2009-2010:Growth_Rate  Diabetes_pct_growth_rate  \n",
       "88                        NaN                       NaN  \n",
       "91                        NaN                       NaN  \n",
       "96                        NaN                       NaN  "
      ]
     },
     "execution_count": 35,
     "metadata": {},
     "output_type": "execute_result"
    }
   ],
   "source": [
    "final[final.isnull().sum(axis = 1) > 0]"
   ]
  },
  {
   "cell_type": "code",
   "execution_count": 36,
   "metadata": {
    "collapsed": true
   },
   "outputs": [],
   "source": [
    "final.to_csv('../data/Diabetes_rates_3.csv')"
   ]
  },
  {
   "cell_type": "code",
   "execution_count": 15,
   "metadata": {
    "collapsed": true
   },
   "outputs": [],
   "source": [
    "\n",
    "## SECOND PASS--> Adding column for difference\n",
    "#NOTE! Now making second_pass to get it to be change from 2010 to 2010. "
   ]
  },
  {
   "cell_type": "code",
   "execution_count": 84,
   "metadata": {
    "collapsed": true
   },
   "outputs": [],
   "source": [
    "second_pass = Diabetes_data[[\"State\", \"FIPS Codes\", \"County\", \"DDP:2012:percent.8\", \"DDP:2010:percent.6\", \"DDP:2013:percent.9\" ]]"
   ]
  },
  {
   "cell_type": "code",
   "execution_count": 85,
   "metadata": {},
   "outputs": [
    {
     "name": "stdout",
     "output_type": "stream",
     "text": [
      "<class 'pandas.core.frame.DataFrame'>\n",
      "RangeIndex: 3224 entries, 0 to 3223\n",
      "Data columns (total 6 columns):\n",
      "State                 3224 non-null object\n",
      "FIPS Codes            3224 non-null int64\n",
      "County                3224 non-null object\n",
      "DDP:2012:percent.8    3224 non-null object\n",
      "DDP:2010:percent.6    3224 non-null object\n",
      "DDP:2013:percent.9    3224 non-null object\n",
      "dtypes: int64(1), object(5)\n",
      "memory usage: 151.2+ KB\n"
     ]
    }
   ],
   "source": [
    "second_pass.info()"
   ]
  },
  {
   "cell_type": "code",
   "execution_count": 86,
   "metadata": {},
   "outputs": [
    {
     "data": {
      "text/html": [
       "<div>\n",
       "<style scoped>\n",
       "    .dataframe tbody tr th:only-of-type {\n",
       "        vertical-align: middle;\n",
       "    }\n",
       "\n",
       "    .dataframe tbody tr th {\n",
       "        vertical-align: top;\n",
       "    }\n",
       "\n",
       "    .dataframe thead th {\n",
       "        text-align: right;\n",
       "    }\n",
       "</style>\n",
       "<table border=\"1\" class=\"dataframe\">\n",
       "  <thead>\n",
       "    <tr style=\"text-align: right;\">\n",
       "      <th></th>\n",
       "      <th>State</th>\n",
       "      <th>FIPS Codes</th>\n",
       "      <th>County</th>\n",
       "      <th>DDP:2012:percent.8</th>\n",
       "      <th>DDP:2010:percent.6</th>\n",
       "      <th>DDP:2013:percent.9</th>\n",
       "    </tr>\n",
       "  </thead>\n",
       "  <tbody>\n",
       "  </tbody>\n",
       "</table>\n",
       "</div>"
      ],
      "text/plain": [
       "Empty DataFrame\n",
       "Columns: [State, FIPS Codes, County, DDP:2012:percent.8, DDP:2010:percent.6, DDP:2013:percent.9]\n",
       "Index: []"
      ]
     },
     "execution_count": 86,
     "metadata": {},
     "output_type": "execute_result"
    }
   ],
   "source": [
    "second_pass[second_pass[\"State\"].isnull()]"
   ]
  },
  {
   "cell_type": "code",
   "execution_count": 87,
   "metadata": {},
   "outputs": [
    {
     "data": {
      "text/html": [
       "<div>\n",
       "<style scoped>\n",
       "    .dataframe tbody tr th:only-of-type {\n",
       "        vertical-align: middle;\n",
       "    }\n",
       "\n",
       "    .dataframe tbody tr th {\n",
       "        vertical-align: top;\n",
       "    }\n",
       "\n",
       "    .dataframe thead th {\n",
       "        text-align: right;\n",
       "    }\n",
       "</style>\n",
       "<table border=\"1\" class=\"dataframe\">\n",
       "  <thead>\n",
       "    <tr style=\"text-align: right;\">\n",
       "      <th></th>\n",
       "      <th>State</th>\n",
       "      <th>FIPS Codes</th>\n",
       "      <th>County</th>\n",
       "      <th>DDP:2012:percent.8</th>\n",
       "      <th>DDP:2010:percent.6</th>\n",
       "      <th>DDP:2013:percent.9</th>\n",
       "    </tr>\n",
       "  </thead>\n",
       "  <tbody>\n",
       "  </tbody>\n",
       "</table>\n",
       "</div>"
      ],
      "text/plain": [
       "Empty DataFrame\n",
       "Columns: [State, FIPS Codes, County, DDP:2012:percent.8, DDP:2010:percent.6, DDP:2013:percent.9]\n",
       "Index: []"
      ]
     },
     "execution_count": 87,
     "metadata": {},
     "output_type": "execute_result"
    }
   ],
   "source": [
    "second_pass[second_pass[\"FIPS Codes\"].isnull()]"
   ]
  },
  {
   "cell_type": "code",
   "execution_count": 88,
   "metadata": {},
   "outputs": [
    {
     "data": {
      "text/html": [
       "<div>\n",
       "<style scoped>\n",
       "    .dataframe tbody tr th:only-of-type {\n",
       "        vertical-align: middle;\n",
       "    }\n",
       "\n",
       "    .dataframe tbody tr th {\n",
       "        vertical-align: top;\n",
       "    }\n",
       "\n",
       "    .dataframe thead th {\n",
       "        text-align: right;\n",
       "    }\n",
       "</style>\n",
       "<table border=\"1\" class=\"dataframe\">\n",
       "  <thead>\n",
       "    <tr style=\"text-align: right;\">\n",
       "      <th></th>\n",
       "      <th>State</th>\n",
       "      <th>FIPS Codes</th>\n",
       "      <th>County</th>\n",
       "      <th>DDP:2012:percent.8</th>\n",
       "      <th>DDP:2010:percent.6</th>\n",
       "      <th>DDP:2013:percent.9</th>\n",
       "    </tr>\n",
       "  </thead>\n",
       "  <tbody>\n",
       "  </tbody>\n",
       "</table>\n",
       "</div>"
      ],
      "text/plain": [
       "Empty DataFrame\n",
       "Columns: [State, FIPS Codes, County, DDP:2012:percent.8, DDP:2010:percent.6, DDP:2013:percent.9]\n",
       "Index: []"
      ]
     },
     "execution_count": 88,
     "metadata": {},
     "output_type": "execute_result"
    }
   ],
   "source": [
    "second_pass[second_pass[\"DDP:2010:percent.6\"].isnull()]"
   ]
  },
  {
   "cell_type": "code",
   "execution_count": 89,
   "metadata": {},
   "outputs": [
    {
     "data": {
      "text/html": [
       "<div>\n",
       "<style scoped>\n",
       "    .dataframe tbody tr th:only-of-type {\n",
       "        vertical-align: middle;\n",
       "    }\n",
       "\n",
       "    .dataframe tbody tr th {\n",
       "        vertical-align: top;\n",
       "    }\n",
       "\n",
       "    .dataframe thead th {\n",
       "        text-align: right;\n",
       "    }\n",
       "</style>\n",
       "<table border=\"1\" class=\"dataframe\">\n",
       "  <thead>\n",
       "    <tr style=\"text-align: right;\">\n",
       "      <th></th>\n",
       "      <th>State</th>\n",
       "      <th>FIPS Codes</th>\n",
       "      <th>County</th>\n",
       "      <th>DDP:2012:percent.8</th>\n",
       "      <th>DDP:2010:percent.6</th>\n",
       "      <th>DDP:2013:percent.9</th>\n",
       "    </tr>\n",
       "  </thead>\n",
       "  <tbody>\n",
       "  </tbody>\n",
       "</table>\n",
       "</div>"
      ],
      "text/plain": [
       "Empty DataFrame\n",
       "Columns: [State, FIPS Codes, County, DDP:2012:percent.8, DDP:2010:percent.6, DDP:2013:percent.9]\n",
       "Index: []"
      ]
     },
     "execution_count": 89,
     "metadata": {},
     "output_type": "execute_result"
    }
   ],
   "source": [
    "second_pass[second_pass[\"DDP:2012:percent.8\"].isnull()]"
   ]
  },
  {
   "cell_type": "code",
   "execution_count": 90,
   "metadata": {},
   "outputs": [
    {
     "data": {
      "text/html": [
       "<div>\n",
       "<style scoped>\n",
       "    .dataframe tbody tr th:only-of-type {\n",
       "        vertical-align: middle;\n",
       "    }\n",
       "\n",
       "    .dataframe tbody tr th {\n",
       "        vertical-align: top;\n",
       "    }\n",
       "\n",
       "    .dataframe thead th {\n",
       "        text-align: right;\n",
       "    }\n",
       "</style>\n",
       "<table border=\"1\" class=\"dataframe\">\n",
       "  <thead>\n",
       "    <tr style=\"text-align: right;\">\n",
       "      <th></th>\n",
       "      <th>State</th>\n",
       "      <th>FIPS Codes</th>\n",
       "      <th>County</th>\n",
       "      <th>DDP:2012:percent.8</th>\n",
       "      <th>DDP:2010:percent.6</th>\n",
       "      <th>DDP:2013:percent.9</th>\n",
       "    </tr>\n",
       "  </thead>\n",
       "  <tbody>\n",
       "    <tr>\n",
       "      <th>88</th>\n",
       "      <td>Alaska</td>\n",
       "      <td>2201</td>\n",
       "      <td>Prince of Wales-Outer K 2004 to 2008 Census</td>\n",
       "      <td>No Data</td>\n",
       "      <td>No Data</td>\n",
       "      <td>No Data</td>\n",
       "    </tr>\n",
       "    <tr>\n",
       "      <th>91</th>\n",
       "      <td>Alaska</td>\n",
       "      <td>2232</td>\n",
       "      <td>Hoonah-Angoon 2004 to 2008 Census</td>\n",
       "      <td>No Data</td>\n",
       "      <td>No Data</td>\n",
       "      <td>No Data</td>\n",
       "    </tr>\n",
       "    <tr>\n",
       "      <th>96</th>\n",
       "      <td>Alaska</td>\n",
       "      <td>2280</td>\n",
       "      <td>Wrangell-Petersburg 2004 to 2008 Census</td>\n",
       "      <td>No Data</td>\n",
       "      <td>No Data</td>\n",
       "      <td>No Data</td>\n",
       "    </tr>\n",
       "    <tr>\n",
       "      <th>2919</th>\n",
       "      <td>Virginia</td>\n",
       "      <td>51515</td>\n",
       "      <td>Bedford city</td>\n",
       "      <td>12.4</td>\n",
       "      <td>12.8</td>\n",
       "      <td>No Data</td>\n",
       "    </tr>\n",
       "  </tbody>\n",
       "</table>\n",
       "</div>"
      ],
      "text/plain": [
       "         State  FIPS Codes                                       County  \\\n",
       "88      Alaska        2201  Prince of Wales-Outer K 2004 to 2008 Census   \n",
       "91      Alaska        2232            Hoonah-Angoon 2004 to 2008 Census   \n",
       "96      Alaska        2280      Wrangell-Petersburg 2004 to 2008 Census   \n",
       "2919  Virginia       51515                                 Bedford city   \n",
       "\n",
       "     DDP:2012:percent.8 DDP:2010:percent.6 DDP:2013:percent.9  \n",
       "88              No Data            No Data            No Data  \n",
       "91              No Data            No Data            No Data  \n",
       "96              No Data            No Data            No Data  \n",
       "2919               12.4               12.8            No Data  "
      ]
     },
     "execution_count": 90,
     "metadata": {},
     "output_type": "execute_result"
    }
   ],
   "source": [
    "second_pass[second_pass[second_pass.applymap(np.isreal)]['DDP:2013:percent.9'].isnull()]"
   ]
  },
  {
   "cell_type": "code",
   "execution_count": 91,
   "metadata": {},
   "outputs": [
    {
     "name": "stderr",
     "output_type": "stream",
     "text": [
      "/Users/LB/anaconda3/lib/python3.6/site-packages/pandas/core/indexing.py:543: SettingWithCopyWarning: \n",
      "A value is trying to be set on a copy of a slice from a DataFrame.\n",
      "Try using .loc[row_indexer,col_indexer] = value instead\n",
      "\n",
      "See the caveats in the documentation: http://pandas.pydata.org/pandas-docs/stable/indexing.html#indexing-view-versus-copy\n",
      "  self.obj[item] = s\n"
     ]
    }
   ],
   "source": [
    "second_pass.loc[2919, 'DDP:2013:percent.9'] = Diabetes_data.iloc[2919]['DDP:2012:percent.8']"
   ]
  },
  {
   "cell_type": "code",
   "execution_count": 92,
   "metadata": {},
   "outputs": [
    {
     "data": {
      "text/html": [
       "<div>\n",
       "<style scoped>\n",
       "    .dataframe tbody tr th:only-of-type {\n",
       "        vertical-align: middle;\n",
       "    }\n",
       "\n",
       "    .dataframe tbody tr th {\n",
       "        vertical-align: top;\n",
       "    }\n",
       "\n",
       "    .dataframe thead th {\n",
       "        text-align: right;\n",
       "    }\n",
       "</style>\n",
       "<table border=\"1\" class=\"dataframe\">\n",
       "  <thead>\n",
       "    <tr style=\"text-align: right;\">\n",
       "      <th></th>\n",
       "      <th>State</th>\n",
       "      <th>FIPS Codes</th>\n",
       "      <th>County</th>\n",
       "      <th>DDP:2012:percent.8</th>\n",
       "      <th>DDP:2010:percent.6</th>\n",
       "      <th>DDP:2013:percent.9</th>\n",
       "    </tr>\n",
       "  </thead>\n",
       "  <tbody>\n",
       "    <tr>\n",
       "      <th>88</th>\n",
       "      <td>Alaska</td>\n",
       "      <td>2201</td>\n",
       "      <td>Prince of Wales-Outer K 2004 to 2008 Census</td>\n",
       "      <td>No Data</td>\n",
       "      <td>No Data</td>\n",
       "      <td>No Data</td>\n",
       "    </tr>\n",
       "    <tr>\n",
       "      <th>91</th>\n",
       "      <td>Alaska</td>\n",
       "      <td>2232</td>\n",
       "      <td>Hoonah-Angoon 2004 to 2008 Census</td>\n",
       "      <td>No Data</td>\n",
       "      <td>No Data</td>\n",
       "      <td>No Data</td>\n",
       "    </tr>\n",
       "    <tr>\n",
       "      <th>96</th>\n",
       "      <td>Alaska</td>\n",
       "      <td>2280</td>\n",
       "      <td>Wrangell-Petersburg 2004 to 2008 Census</td>\n",
       "      <td>No Data</td>\n",
       "      <td>No Data</td>\n",
       "      <td>No Data</td>\n",
       "    </tr>\n",
       "  </tbody>\n",
       "</table>\n",
       "</div>"
      ],
      "text/plain": [
       "     State  FIPS Codes                                       County  \\\n",
       "88  Alaska        2201  Prince of Wales-Outer K 2004 to 2008 Census   \n",
       "91  Alaska        2232            Hoonah-Angoon 2004 to 2008 Census   \n",
       "96  Alaska        2280      Wrangell-Petersburg 2004 to 2008 Census   \n",
       "\n",
       "   DDP:2012:percent.8 DDP:2010:percent.6 DDP:2013:percent.9  \n",
       "88            No Data            No Data            No Data  \n",
       "91            No Data            No Data            No Data  \n",
       "96            No Data            No Data            No Data  "
      ]
     },
     "execution_count": 92,
     "metadata": {},
     "output_type": "execute_result"
    }
   ],
   "source": [
    "second_pass[second_pass[second_pass.applymap(np.isreal)]['DDP:2013:percent.9'].isnull()]"
   ]
  },
  {
   "cell_type": "code",
   "execution_count": 93,
   "metadata": {},
   "outputs": [
    {
     "data": {
      "text/plain": [
       "State                     Virginia\n",
       "FIPS Codes                   51515\n",
       "County                Bedford city\n",
       "DDP:2012:percent.8            12.4\n",
       "DDP:2010:percent.6            12.8\n",
       "DDP:2013:percent.9            12.4\n",
       "Name: 2919, dtype: object"
      ]
     },
     "execution_count": 93,
     "metadata": {},
     "output_type": "execute_result"
    }
   ],
   "source": [
    "second_pass.loc[2919]"
   ]
  },
  {
   "cell_type": "code",
   "execution_count": 94,
   "metadata": {},
   "outputs": [
    {
     "name": "stderr",
     "output_type": "stream",
     "text": [
      "/Users/LB/anaconda3/lib/python3.6/site-packages/ipykernel_launcher.py:1: SettingWithCopyWarning: \n",
      "A value is trying to be set on a copy of a slice from a DataFrame.\n",
      "Try using .loc[row_indexer,col_indexer] = value instead\n",
      "\n",
      "See the caveats in the documentation: http://pandas.pydata.org/pandas-docs/stable/indexing.html#indexing-view-versus-copy\n",
      "  \"\"\"Entry point for launching an IPython kernel.\n"
     ]
    }
   ],
   "source": [
    "second_pass['DDP:2010:percent.6'] = pd.to_numeric(second_pass['DDP:2010:percent.6'], errors = 'coerce')"
   ]
  },
  {
   "cell_type": "code",
   "execution_count": 97,
   "metadata": {},
   "outputs": [
    {
     "name": "stderr",
     "output_type": "stream",
     "text": [
      "/Users/LB/anaconda3/lib/python3.6/site-packages/ipykernel_launcher.py:1: SettingWithCopyWarning: \n",
      "A value is trying to be set on a copy of a slice from a DataFrame.\n",
      "Try using .loc[row_indexer,col_indexer] = value instead\n",
      "\n",
      "See the caveats in the documentation: http://pandas.pydata.org/pandas-docs/stable/indexing.html#indexing-view-versus-copy\n",
      "  \"\"\"Entry point for launching an IPython kernel.\n",
      "/Users/LB/anaconda3/lib/python3.6/site-packages/ipykernel_launcher.py:2: SettingWithCopyWarning: \n",
      "A value is trying to be set on a copy of a slice from a DataFrame.\n",
      "Try using .loc[row_indexer,col_indexer] = value instead\n",
      "\n",
      "See the caveats in the documentation: http://pandas.pydata.org/pandas-docs/stable/indexing.html#indexing-view-versus-copy\n",
      "  \n"
     ]
    }
   ],
   "source": [
    "second_pass['DDP:2013:percent.9'] = pd.to_numeric(second_pass['DDP:2013:percent.9'], errors = 'coerce')\n",
    "second_pass['DDP:2012:percent.8'] = pd.to_numeric(second_pass['DDP:2012:percent.8'], errors = 'coerce')"
   ]
  },
  {
   "cell_type": "code",
   "execution_count": 98,
   "metadata": {},
   "outputs": [
    {
     "data": {
      "text/html": [
       "<div>\n",
       "<style scoped>\n",
       "    .dataframe tbody tr th:only-of-type {\n",
       "        vertical-align: middle;\n",
       "    }\n",
       "\n",
       "    .dataframe tbody tr th {\n",
       "        vertical-align: top;\n",
       "    }\n",
       "\n",
       "    .dataframe thead th {\n",
       "        text-align: right;\n",
       "    }\n",
       "</style>\n",
       "<table border=\"1\" class=\"dataframe\">\n",
       "  <thead>\n",
       "    <tr style=\"text-align: right;\">\n",
       "      <th></th>\n",
       "      <th>State</th>\n",
       "      <th>FIPS Codes</th>\n",
       "      <th>County</th>\n",
       "      <th>DDP:2012:percent.8</th>\n",
       "      <th>DDP:2010:percent.6</th>\n",
       "      <th>DDP:2013:percent.9</th>\n",
       "    </tr>\n",
       "  </thead>\n",
       "  <tbody>\n",
       "    <tr>\n",
       "      <th>88</th>\n",
       "      <td>Alaska</td>\n",
       "      <td>2201</td>\n",
       "      <td>Prince of Wales-Outer K 2004 to 2008 Census</td>\n",
       "      <td>NaN</td>\n",
       "      <td>NaN</td>\n",
       "      <td>NaN</td>\n",
       "    </tr>\n",
       "    <tr>\n",
       "      <th>91</th>\n",
       "      <td>Alaska</td>\n",
       "      <td>2232</td>\n",
       "      <td>Hoonah-Angoon 2004 to 2008 Census</td>\n",
       "      <td>NaN</td>\n",
       "      <td>NaN</td>\n",
       "      <td>NaN</td>\n",
       "    </tr>\n",
       "    <tr>\n",
       "      <th>96</th>\n",
       "      <td>Alaska</td>\n",
       "      <td>2280</td>\n",
       "      <td>Wrangell-Petersburg 2004 to 2008 Census</td>\n",
       "      <td>NaN</td>\n",
       "      <td>NaN</td>\n",
       "      <td>NaN</td>\n",
       "    </tr>\n",
       "  </tbody>\n",
       "</table>\n",
       "</div>"
      ],
      "text/plain": [
       "     State  FIPS Codes                                       County  \\\n",
       "88  Alaska        2201  Prince of Wales-Outer K 2004 to 2008 Census   \n",
       "91  Alaska        2232            Hoonah-Angoon 2004 to 2008 Census   \n",
       "96  Alaska        2280      Wrangell-Petersburg 2004 to 2008 Census   \n",
       "\n",
       "    DDP:2012:percent.8  DDP:2010:percent.6  DDP:2013:percent.9  \n",
       "88                 NaN                 NaN                 NaN  \n",
       "91                 NaN                 NaN                 NaN  \n",
       "96                 NaN                 NaN                 NaN  "
      ]
     },
     "execution_count": 98,
     "metadata": {},
     "output_type": "execute_result"
    }
   ],
   "source": [
    "second_pass[second_pass.isnull().sum(axis = 1) > 0]"
   ]
  },
  {
   "cell_type": "code",
   "execution_count": 99,
   "metadata": {},
   "outputs": [
    {
     "name": "stderr",
     "output_type": "stream",
     "text": [
      "/Users/LB/anaconda3/lib/python3.6/site-packages/ipykernel_launcher.py:1: SettingWithCopyWarning: \n",
      "A value is trying to be set on a copy of a slice from a DataFrame.\n",
      "Try using .loc[row_indexer,col_indexer] = value instead\n",
      "\n",
      "See the caveats in the documentation: http://pandas.pydata.org/pandas-docs/stable/indexing.html#indexing-view-versus-copy\n",
      "  \"\"\"Entry point for launching an IPython kernel.\n"
     ]
    }
   ],
   "source": [
    "second_pass['Diabetes_pct_growth_rate'] = (second_pass[\"DDP:2013:percent.9\"] - second_pass[\"DDP:2010:percent.6\"]) / second_pass[\"DDP:2010:percent.6\"]"
   ]
  },
  {
   "cell_type": "code",
   "execution_count": 100,
   "metadata": {},
   "outputs": [
    {
     "data": {
      "text/html": [
       "<div>\n",
       "<style scoped>\n",
       "    .dataframe tbody tr th:only-of-type {\n",
       "        vertical-align: middle;\n",
       "    }\n",
       "\n",
       "    .dataframe tbody tr th {\n",
       "        vertical-align: top;\n",
       "    }\n",
       "\n",
       "    .dataframe thead th {\n",
       "        text-align: right;\n",
       "    }\n",
       "</style>\n",
       "<table border=\"1\" class=\"dataframe\">\n",
       "  <thead>\n",
       "    <tr style=\"text-align: right;\">\n",
       "      <th></th>\n",
       "      <th>State</th>\n",
       "      <th>FIPS Codes</th>\n",
       "      <th>County</th>\n",
       "      <th>DDP:2012:percent.8</th>\n",
       "      <th>DDP:2010:percent.6</th>\n",
       "      <th>DDP:2013:percent.9</th>\n",
       "      <th>Diabetes_pct_growth_rate</th>\n",
       "    </tr>\n",
       "  </thead>\n",
       "  <tbody>\n",
       "    <tr>\n",
       "      <th>88</th>\n",
       "      <td>Alaska</td>\n",
       "      <td>2201</td>\n",
       "      <td>Prince of Wales-Outer K 2004 to 2008 Census</td>\n",
       "      <td>NaN</td>\n",
       "      <td>NaN</td>\n",
       "      <td>NaN</td>\n",
       "      <td>NaN</td>\n",
       "    </tr>\n",
       "    <tr>\n",
       "      <th>91</th>\n",
       "      <td>Alaska</td>\n",
       "      <td>2232</td>\n",
       "      <td>Hoonah-Angoon 2004 to 2008 Census</td>\n",
       "      <td>NaN</td>\n",
       "      <td>NaN</td>\n",
       "      <td>NaN</td>\n",
       "      <td>NaN</td>\n",
       "    </tr>\n",
       "    <tr>\n",
       "      <th>96</th>\n",
       "      <td>Alaska</td>\n",
       "      <td>2280</td>\n",
       "      <td>Wrangell-Petersburg 2004 to 2008 Census</td>\n",
       "      <td>NaN</td>\n",
       "      <td>NaN</td>\n",
       "      <td>NaN</td>\n",
       "      <td>NaN</td>\n",
       "    </tr>\n",
       "  </tbody>\n",
       "</table>\n",
       "</div>"
      ],
      "text/plain": [
       "     State  FIPS Codes                                       County  \\\n",
       "88  Alaska        2201  Prince of Wales-Outer K 2004 to 2008 Census   \n",
       "91  Alaska        2232            Hoonah-Angoon 2004 to 2008 Census   \n",
       "96  Alaska        2280      Wrangell-Petersburg 2004 to 2008 Census   \n",
       "\n",
       "    DDP:2012:percent.8  DDP:2010:percent.6  DDP:2013:percent.9  \\\n",
       "88                 NaN                 NaN                 NaN   \n",
       "91                 NaN                 NaN                 NaN   \n",
       "96                 NaN                 NaN                 NaN   \n",
       "\n",
       "    Diabetes_pct_growth_rate  \n",
       "88                       NaN  \n",
       "91                       NaN  \n",
       "96                       NaN  "
      ]
     },
     "execution_count": 100,
     "metadata": {},
     "output_type": "execute_result"
    }
   ],
   "source": [
    "second_pass[second_pass.isnull().sum(axis = 1) > 0]"
   ]
  },
  {
   "cell_type": "code",
   "execution_count": 101,
   "metadata": {
    "collapsed": true
   },
   "outputs": [],
   "source": [
    "second_pass.to_csv('../data/Diabetes_rates_2.csv')"
   ]
  },
  {
   "cell_type": "code",
   "execution_count": 17,
   "metadata": {
    "collapsed": true
   },
   "outputs": [],
   "source": [
    "# Exporting to CSV  (first-pass)"
   ]
  },
  {
   "cell_type": "code",
   "execution_count": 39,
   "metadata": {
    "collapsed": true
   },
   "outputs": [],
   "source": [
    "first_pass = Diabetes_data[[\"State\", \"FIPS Codes\", \"County\", \"DDP:2012:percent.8\"]]\n",
    "\n",
    "first_pass.to_csv('../data/Diabetes_rates_1.csv')"
   ]
  },
  {
   "cell_type": "code",
   "execution_count": 40,
   "metadata": {
    "scrolled": true
   },
   "outputs": [
    {
     "data": {
      "text/html": [
       "<div>\n",
       "<style scoped>\n",
       "    .dataframe tbody tr th:only-of-type {\n",
       "        vertical-align: middle;\n",
       "    }\n",
       "\n",
       "    .dataframe tbody tr th {\n",
       "        vertical-align: top;\n",
       "    }\n",
       "\n",
       "    .dataframe thead th {\n",
       "        text-align: right;\n",
       "    }\n",
       "</style>\n",
       "<table border=\"1\" class=\"dataframe\">\n",
       "  <thead>\n",
       "    <tr style=\"text-align: right;\">\n",
       "      <th></th>\n",
       "      <th>State</th>\n",
       "      <th>FIPS Codes</th>\n",
       "      <th>County</th>\n",
       "      <th>DDP:2012:percent.8</th>\n",
       "    </tr>\n",
       "  </thead>\n",
       "  <tbody>\n",
       "    <tr>\n",
       "      <th>0</th>\n",
       "      <td>Alabama</td>\n",
       "      <td>1001</td>\n",
       "      <td>Autauga County</td>\n",
       "      <td>12</td>\n",
       "    </tr>\n",
       "    <tr>\n",
       "      <th>1</th>\n",
       "      <td>Alabama</td>\n",
       "      <td>1003</td>\n",
       "      <td>Baldwin County</td>\n",
       "      <td>10.8</td>\n",
       "    </tr>\n",
       "    <tr>\n",
       "      <th>2</th>\n",
       "      <td>Alabama</td>\n",
       "      <td>1005</td>\n",
       "      <td>Barbour County</td>\n",
       "      <td>16.2</td>\n",
       "    </tr>\n",
       "    <tr>\n",
       "      <th>3</th>\n",
       "      <td>Alabama</td>\n",
       "      <td>1007</td>\n",
       "      <td>Bibb County</td>\n",
       "      <td>13.2</td>\n",
       "    </tr>\n",
       "    <tr>\n",
       "      <th>4</th>\n",
       "      <td>Alabama</td>\n",
       "      <td>1009</td>\n",
       "      <td>Blount County</td>\n",
       "      <td>13.8</td>\n",
       "    </tr>\n",
       "  </tbody>\n",
       "</table>\n",
       "</div>"
      ],
      "text/plain": [
       "     State  FIPS Codes          County DDP:2012:percent.8\n",
       "0  Alabama        1001  Autauga County                 12\n",
       "1  Alabama        1003  Baldwin County               10.8\n",
       "2  Alabama        1005  Barbour County               16.2\n",
       "3  Alabama        1007     Bibb County               13.2\n",
       "4  Alabama        1009   Blount County               13.8"
      ]
     },
     "execution_count": 40,
     "metadata": {},
     "output_type": "execute_result"
    }
   ],
   "source": [
    "first_pass.head()"
   ]
  },
  {
   "cell_type": "code",
   "execution_count": null,
   "metadata": {
    "collapsed": true
   },
   "outputs": [],
   "source": []
  }
 ],
 "metadata": {
  "kernelspec": {
   "display_name": "Python 3",
   "language": "python",
   "name": "python3"
  },
  "language_info": {
   "codemirror_mode": {
    "name": "ipython",
    "version": 3
   },
   "file_extension": ".py",
   "mimetype": "text/x-python",
   "name": "python",
   "nbconvert_exporter": "python",
   "pygments_lexer": "ipython3",
   "version": "3.6.8"
  }
 },
 "nbformat": 4,
 "nbformat_minor": 2
}
