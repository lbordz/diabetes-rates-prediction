{
 "cells": [
  {
   "cell_type": "code",
   "execution_count": 292,
   "metadata": {
    "collapsed": true
   },
   "outputs": [],
   "source": [
    "import pandas as pd\n",
    "import numpy as np"
   ]
  },
  {
   "cell_type": "code",
   "execution_count": 314,
   "metadata": {
    "collapsed": true
   },
   "outputs": [],
   "source": [
    "#1 uploading data"
   ]
  },
  {
   "cell_type": "code",
   "execution_count": 315,
   "metadata": {
    "collapsed": true
   },
   "outputs": [],
   "source": [
    "alc_desc = pd.read_excel('../data/raw_data/IHME_USA_COUNTY_ALCOHOL_USE_PREVALENCE_2002_2012_NATIONAL_Y2015M04D23.XLSX')\n",
    "\n",
    "pd.options.display.max_colwidth = 500"
   ]
  },
  {
   "cell_type": "code",
   "execution_count": 316,
   "metadata": {
    "scrolled": true
   },
   "outputs": [
    {
     "data": {
      "text/html": [
       "<div>\n",
       "<style scoped>\n",
       "    .dataframe tbody tr th:only-of-type {\n",
       "        vertical-align: middle;\n",
       "    }\n",
       "\n",
       "    .dataframe tbody tr th {\n",
       "        vertical-align: top;\n",
       "    }\n",
       "\n",
       "    .dataframe thead th {\n",
       "        text-align: right;\n",
       "    }\n",
       "</style>\n",
       "<table border=\"1\" class=\"dataframe\">\n",
       "  <thead>\n",
       "    <tr style=\"text-align: right;\">\n",
       "      <th></th>\n",
       "      <th>Drinking Patterns in US Counties from 2002 to 2012 - dataset overview</th>\n",
       "      <th>Unnamed: 1</th>\n",
       "      <th>Unnamed: 2</th>\n",
       "    </tr>\n",
       "  </thead>\n",
       "  <tbody>\n",
       "    <tr>\n",
       "      <th>0</th>\n",
       "      <td>Tab name</td>\n",
       "      <td>Description</td>\n",
       "      <td>Definitions</td>\n",
       "    </tr>\n",
       "    <tr>\n",
       "      <th>1</th>\n",
       "      <td>Any</td>\n",
       "      <td>Age-standardized Prevalence of Any Drinking by year and sex</td>\n",
       "      <td>\"Any\" drinking is defined as at least one drink of any alcoholic bevarage in the past 30 days</td>\n",
       "    </tr>\n",
       "    <tr>\n",
       "      <th>2</th>\n",
       "      <td>NaN</td>\n",
       "      <td>Percent Change in Age-standardized Prevalence of Any Drinking</td>\n",
       "      <td>NaN</td>\n",
       "    </tr>\n",
       "    <tr>\n",
       "      <th>3</th>\n",
       "      <td>Heavy</td>\n",
       "      <td>Age-standardized Prevalence of Heavy Drinking by year and sex, 2005-2012</td>\n",
       "      <td>\"Heavy\" drinking is defined as the consumption, on average, of more than one drink per day for women or two drinks per day for men in the past 30 days</td>\n",
       "    </tr>\n",
       "    <tr>\n",
       "      <th>4</th>\n",
       "      <td>NaN</td>\n",
       "      <td>Percent Change in Age-standardized Prevalence of Heavy Drinking</td>\n",
       "      <td>NaN</td>\n",
       "    </tr>\n",
       "  </tbody>\n",
       "</table>\n",
       "</div>"
      ],
      "text/plain": [
       "  Drinking Patterns in US Counties from 2002 to 2012 - dataset overview                                                                Unnamed: 1                                                                                                                                              Unnamed: 2\n",
       "0                                                              Tab name                                                               Description                                                                                                                                             Definitions\n",
       "1                                                                   Any               Age-standardized Prevalence of Any Drinking by year and sex                                                           \"Any\" drinking is defined as at least one drink of any alcoholic bevarage in the past 30 days\n",
       "2                                                                   NaN             Percent Change in Age-standardized Prevalence of Any Drinking                                                                                                                                                     NaN\n",
       "3                                                                 Heavy  Age-standardized Prevalence of Heavy Drinking by year and sex, 2005-2012  \"Heavy\" drinking is defined as the consumption, on average, of more than one drink per day for women or two drinks per day for men in the past 30 days\n",
       "4                                                                   NaN           Percent Change in Age-standardized Prevalence of Heavy Drinking                                                                                                                                                     NaN"
      ]
     },
     "execution_count": 316,
     "metadata": {},
     "output_type": "execute_result"
    }
   ],
   "source": [
    "alc_desc.head()"
   ]
  },
  {
   "cell_type": "code",
   "execution_count": 317,
   "metadata": {
    "collapsed": true
   },
   "outputs": [],
   "source": [
    "#upload 'Any' Data"
   ]
  },
  {
   "cell_type": "code",
   "execution_count": 318,
   "metadata": {
    "collapsed": true
   },
   "outputs": [],
   "source": [
    "alc_any = pd.read_excel('../data/raw_data/IHME_USA_COUNTY_ALCOHOL_USE_PREVALENCE_2002_2012_NATIONAL_Y2015M04D23.XLSX', sheet_name = \"Any\")"
   ]
  },
  {
   "cell_type": "code",
   "execution_count": 319,
   "metadata": {},
   "outputs": [
    {
     "data": {
      "text/html": [
       "<div>\n",
       "<style scoped>\n",
       "    .dataframe tbody tr th:only-of-type {\n",
       "        vertical-align: middle;\n",
       "    }\n",
       "\n",
       "    .dataframe tbody tr th {\n",
       "        vertical-align: top;\n",
       "    }\n",
       "\n",
       "    .dataframe thead th {\n",
       "        text-align: right;\n",
       "    }\n",
       "</style>\n",
       "<table border=\"1\" class=\"dataframe\">\n",
       "  <thead>\n",
       "    <tr style=\"text-align: right;\">\n",
       "      <th></th>\n",
       "      <th>State</th>\n",
       "      <th>Location</th>\n",
       "      <th>2002 Both Sexes</th>\n",
       "      <th>2002 Females</th>\n",
       "      <th>2002 Males</th>\n",
       "      <th>2003 Both Sexes</th>\n",
       "      <th>2003 Females</th>\n",
       "      <th>2003 Males</th>\n",
       "      <th>2004 Both Sexes</th>\n",
       "      <th>2004 Females</th>\n",
       "      <th>...</th>\n",
       "      <th>2011 Males</th>\n",
       "      <th>2012 Both Sexes</th>\n",
       "      <th>2012 Females</th>\n",
       "      <th>2012 Males</th>\n",
       "      <th>Percent Change 2002-2012, Both Sexes</th>\n",
       "      <th>Percent Change 2002-2012, Females</th>\n",
       "      <th>Percent Change 2002-2012, Males</th>\n",
       "      <th>Percent Change 2005-2012, Both Sexes</th>\n",
       "      <th>Percent Change 2005-2012, Females</th>\n",
       "      <th>Percent Change 2005-2012, Males</th>\n",
       "    </tr>\n",
       "  </thead>\n",
       "  <tbody>\n",
       "    <tr>\n",
       "      <th>0</th>\n",
       "      <td>National</td>\n",
       "      <td>United States</td>\n",
       "      <td>55.4</td>\n",
       "      <td>47.5</td>\n",
       "      <td>63.7</td>\n",
       "      <td>56.6</td>\n",
       "      <td>48.9</td>\n",
       "      <td>64.6</td>\n",
       "      <td>55.2</td>\n",
       "      <td>47.6</td>\n",
       "      <td>...</td>\n",
       "      <td>63.9</td>\n",
       "      <td>56.0</td>\n",
       "      <td>49.1</td>\n",
       "      <td>63.0</td>\n",
       "      <td>0.9</td>\n",
       "      <td>3.5</td>\n",
       "      <td>-1.0</td>\n",
       "      <td>0.0</td>\n",
       "      <td>0.9</td>\n",
       "      <td>-0.8</td>\n",
       "    </tr>\n",
       "    <tr>\n",
       "      <th>1</th>\n",
       "      <td>Alabama</td>\n",
       "      <td>Alabama</td>\n",
       "      <td>40.7</td>\n",
       "      <td>32.1</td>\n",
       "      <td>49.6</td>\n",
       "      <td>42.3</td>\n",
       "      <td>33.8</td>\n",
       "      <td>51.2</td>\n",
       "      <td>41.0</td>\n",
       "      <td>32.9</td>\n",
       "      <td>...</td>\n",
       "      <td>52.5</td>\n",
       "      <td>43.6</td>\n",
       "      <td>36.5</td>\n",
       "      <td>51.0</td>\n",
       "      <td>7.2</td>\n",
       "      <td>13.5</td>\n",
       "      <td>2.9</td>\n",
       "      <td>3.1</td>\n",
       "      <td>7.8</td>\n",
       "      <td>-0.1</td>\n",
       "    </tr>\n",
       "    <tr>\n",
       "      <th>2</th>\n",
       "      <td>Alabama</td>\n",
       "      <td>Autauga County</td>\n",
       "      <td>39.4</td>\n",
       "      <td>29.4</td>\n",
       "      <td>49.7</td>\n",
       "      <td>40.6</td>\n",
       "      <td>31.0</td>\n",
       "      <td>50.6</td>\n",
       "      <td>39.2</td>\n",
       "      <td>30.1</td>\n",
       "      <td>...</td>\n",
       "      <td>52.0</td>\n",
       "      <td>42.5</td>\n",
       "      <td>34.4</td>\n",
       "      <td>50.9</td>\n",
       "      <td>7.9</td>\n",
       "      <td>17.1</td>\n",
       "      <td>2.3</td>\n",
       "      <td>4.5</td>\n",
       "      <td>8.9</td>\n",
       "      <td>1.6</td>\n",
       "    </tr>\n",
       "    <tr>\n",
       "      <th>3</th>\n",
       "      <td>Alabama</td>\n",
       "      <td>Baldwin County</td>\n",
       "      <td>54.0</td>\n",
       "      <td>45.7</td>\n",
       "      <td>62.5</td>\n",
       "      <td>54.9</td>\n",
       "      <td>47.0</td>\n",
       "      <td>63.2</td>\n",
       "      <td>53.1</td>\n",
       "      <td>45.2</td>\n",
       "      <td>...</td>\n",
       "      <td>64.3</td>\n",
       "      <td>55.7</td>\n",
       "      <td>48.8</td>\n",
       "      <td>62.8</td>\n",
       "      <td>3.2</td>\n",
       "      <td>6.8</td>\n",
       "      <td>0.4</td>\n",
       "      <td>2.2</td>\n",
       "      <td>5.0</td>\n",
       "      <td>0.1</td>\n",
       "    </tr>\n",
       "    <tr>\n",
       "      <th>4</th>\n",
       "      <td>Alabama</td>\n",
       "      <td>Barbour County</td>\n",
       "      <td>36.0</td>\n",
       "      <td>27.3</td>\n",
       "      <td>45.0</td>\n",
       "      <td>37.9</td>\n",
       "      <td>29.2</td>\n",
       "      <td>46.9</td>\n",
       "      <td>35.8</td>\n",
       "      <td>27.4</td>\n",
       "      <td>...</td>\n",
       "      <td>48.2</td>\n",
       "      <td>37.6</td>\n",
       "      <td>29.2</td>\n",
       "      <td>46.3</td>\n",
       "      <td>4.6</td>\n",
       "      <td>7.2</td>\n",
       "      <td>3.0</td>\n",
       "      <td>0.7</td>\n",
       "      <td>1.9</td>\n",
       "      <td>-0.1</td>\n",
       "    </tr>\n",
       "  </tbody>\n",
       "</table>\n",
       "<p>5 rows × 41 columns</p>\n",
       "</div>"
      ],
      "text/plain": [
       "      State        Location  2002 Both Sexes  2002 Females  2002 Males  2003 Both Sexes  2003 Females  2003 Males  2004 Both Sexes  2004 Females  ...  2011 Males  2012 Both Sexes  2012 Females  2012 Males  Percent Change 2002-2012, Both Sexes  Percent Change 2002-2012, Females  Percent Change 2002-2012, Males  Percent Change 2005-2012, Both Sexes  Percent Change 2005-2012, Females  Percent Change 2005-2012, Males\n",
       "0  National   United States             55.4          47.5        63.7             56.6          48.9        64.6             55.2          47.6  ...        63.9             56.0          49.1        63.0                                   0.9                                3.5                             -1.0                                   0.0                                0.9                             -0.8\n",
       "1   Alabama         Alabama             40.7          32.1        49.6             42.3          33.8        51.2             41.0          32.9  ...        52.5             43.6          36.5        51.0                                   7.2                               13.5                              2.9                                   3.1                                7.8                             -0.1\n",
       "2   Alabama  Autauga County             39.4          29.4        49.7             40.6          31.0        50.6             39.2          30.1  ...        52.0             42.5          34.4        50.9                                   7.9                               17.1                              2.3                                   4.5                                8.9                              1.6\n",
       "3   Alabama  Baldwin County             54.0          45.7        62.5             54.9          47.0        63.2             53.1          45.2  ...        64.3             55.7          48.8        62.8                                   3.2                                6.8                              0.4                                   2.2                                5.0                              0.1\n",
       "4   Alabama  Barbour County             36.0          27.3        45.0             37.9          29.2        46.9             35.8          27.4  ...        48.2             37.6          29.2        46.3                                   4.6                                7.2                              3.0                                   0.7                                1.9                             -0.1\n",
       "\n",
       "[5 rows x 41 columns]"
      ]
     },
     "execution_count": 319,
     "metadata": {},
     "output_type": "execute_result"
    }
   ],
   "source": [
    "alc_any.head()"
   ]
  },
  {
   "cell_type": "code",
   "execution_count": 320,
   "metadata": {
    "scrolled": true
   },
   "outputs": [
    {
     "data": {
      "text/plain": [
       "count    3179.000000\n",
       "mean       49.952092\n",
       "std        11.951590\n",
       "min        10.500000\n",
       "25%        40.800000\n",
       "50%        50.900000\n",
       "75%        59.900000\n",
       "max        79.200000\n",
       "Name: 2010 Both Sexes, dtype: float64"
      ]
     },
     "execution_count": 320,
     "metadata": {},
     "output_type": "execute_result"
    }
   ],
   "source": [
    "alc_data['2010 Both Sexes'].describe()"
   ]
  },
  {
   "cell_type": "code",
   "execution_count": 321,
   "metadata": {
    "collapsed": true
   },
   "outputs": [],
   "source": [
    "#Break Apart rows with several locations"
   ]
  },
  {
   "cell_type": "code",
   "execution_count": 322,
   "metadata": {},
   "outputs": [],
   "source": [
    "alc_any = alc_any[['State', 'Location', '2010 Both Sexes']]\n",
    "alc_any.columns = ['State', 'Location', 'Alcohol:Any:2010']\n",
    "alc_any = alc_any[alc_any['State'] != alc_any['Location']]  #When they are equal, metrics are state level not ounty level"
   ]
  },
  {
   "cell_type": "code",
   "execution_count": 323,
   "metadata": {},
   "outputs": [
    {
     "data": {
      "text/html": [
       "<div>\n",
       "<style scoped>\n",
       "    .dataframe tbody tr th:only-of-type {\n",
       "        vertical-align: middle;\n",
       "    }\n",
       "\n",
       "    .dataframe tbody tr th {\n",
       "        vertical-align: top;\n",
       "    }\n",
       "\n",
       "    .dataframe thead th {\n",
       "        text-align: right;\n",
       "    }\n",
       "</style>\n",
       "<table border=\"1\" class=\"dataframe\">\n",
       "  <thead>\n",
       "    <tr style=\"text-align: right;\">\n",
       "      <th></th>\n",
       "      <th>State</th>\n",
       "      <th>Location</th>\n",
       "      <th>Alcohol:Any:2010</th>\n",
       "    </tr>\n",
       "  </thead>\n",
       "  <tbody>\n",
       "    <tr>\n",
       "      <th>0</th>\n",
       "      <td>National</td>\n",
       "      <td>United States</td>\n",
       "      <td>56.1</td>\n",
       "    </tr>\n",
       "    <tr>\n",
       "      <th>2</th>\n",
       "      <td>Alabama</td>\n",
       "      <td>Autauga County</td>\n",
       "      <td>42.5</td>\n",
       "    </tr>\n",
       "    <tr>\n",
       "      <th>3</th>\n",
       "      <td>Alabama</td>\n",
       "      <td>Baldwin County</td>\n",
       "      <td>54.6</td>\n",
       "    </tr>\n",
       "    <tr>\n",
       "      <th>4</th>\n",
       "      <td>Alabama</td>\n",
       "      <td>Barbour County</td>\n",
       "      <td>38.6</td>\n",
       "    </tr>\n",
       "    <tr>\n",
       "      <th>5</th>\n",
       "      <td>Alabama</td>\n",
       "      <td>Bibb County</td>\n",
       "      <td>34.4</td>\n",
       "    </tr>\n",
       "  </tbody>\n",
       "</table>\n",
       "</div>"
      ],
      "text/plain": [
       "      State        Location  Alcohol:Any:2010\n",
       "0  National   United States              56.1\n",
       "2   Alabama  Autauga County              42.5\n",
       "3   Alabama  Baldwin County              54.6\n",
       "4   Alabama  Barbour County              38.6\n",
       "5   Alabama     Bibb County              34.4"
      ]
     },
     "execution_count": 323,
     "metadata": {},
     "output_type": "execute_result"
    }
   ],
   "source": [
    "alc_any.head()"
   ]
  },
  {
   "cell_type": "code",
   "execution_count": 324,
   "metadata": {
    "collapsed": true
   },
   "outputs": [],
   "source": [
    "#get \"HEAVY\" drinking %"
   ]
  },
  {
   "cell_type": "code",
   "execution_count": 325,
   "metadata": {
    "collapsed": true
   },
   "outputs": [],
   "source": [
    "alc_heavy = pd.read_excel('../data/raw_data/IHME_USA_COUNTY_ALCOHOL_USE_PREVALENCE_2002_2012_NATIONAL_Y2015M04D23.XLSX', sheet_name = \"Heavy\")"
   ]
  },
  {
   "cell_type": "code",
   "execution_count": 326,
   "metadata": {},
   "outputs": [
    {
     "data": {
      "text/html": [
       "<div>\n",
       "<style scoped>\n",
       "    .dataframe tbody tr th:only-of-type {\n",
       "        vertical-align: middle;\n",
       "    }\n",
       "\n",
       "    .dataframe tbody tr th {\n",
       "        vertical-align: top;\n",
       "    }\n",
       "\n",
       "    .dataframe thead th {\n",
       "        text-align: right;\n",
       "    }\n",
       "</style>\n",
       "<table border=\"1\" class=\"dataframe\">\n",
       "  <thead>\n",
       "    <tr style=\"text-align: right;\">\n",
       "      <th></th>\n",
       "      <th>State</th>\n",
       "      <th>Location</th>\n",
       "      <th>2005 Both Sexes</th>\n",
       "      <th>2005 Females</th>\n",
       "      <th>2005 Males</th>\n",
       "      <th>2006 Both Sexes</th>\n",
       "      <th>2006 Females</th>\n",
       "      <th>2006 Males</th>\n",
       "      <th>2007 Both Sexes</th>\n",
       "      <th>2007 Females</th>\n",
       "      <th>...</th>\n",
       "      <th>2010 Males</th>\n",
       "      <th>2011 Both Sexes</th>\n",
       "      <th>2011 Females</th>\n",
       "      <th>2011 Males</th>\n",
       "      <th>2012 Both Sexes</th>\n",
       "      <th>2012 Females</th>\n",
       "      <th>2012 Males</th>\n",
       "      <th>Percent Change 2005-2012, Both Sexes</th>\n",
       "      <th>Percent Change 2005-2012, Females</th>\n",
       "      <th>Percent Change 2005-2012, Males</th>\n",
       "    </tr>\n",
       "  </thead>\n",
       "  <tbody>\n",
       "    <tr>\n",
       "      <th>0</th>\n",
       "      <td>National</td>\n",
       "      <td>United States</td>\n",
       "      <td>7.0</td>\n",
       "      <td>5.2</td>\n",
       "      <td>8.9</td>\n",
       "      <td>7.2</td>\n",
       "      <td>5.5</td>\n",
       "      <td>8.9</td>\n",
       "      <td>7.7</td>\n",
       "      <td>5.9</td>\n",
       "      <td>...</td>\n",
       "      <td>9.4</td>\n",
       "      <td>8.8</td>\n",
       "      <td>7.0</td>\n",
       "      <td>10.6</td>\n",
       "      <td>8.2</td>\n",
       "      <td>6.7</td>\n",
       "      <td>9.9</td>\n",
       "      <td>17.2</td>\n",
       "      <td>28.2</td>\n",
       "      <td>10.5</td>\n",
       "    </tr>\n",
       "    <tr>\n",
       "      <th>1</th>\n",
       "      <td>Alabama</td>\n",
       "      <td>Alabama</td>\n",
       "      <td>6.0</td>\n",
       "      <td>3.6</td>\n",
       "      <td>8.4</td>\n",
       "      <td>5.6</td>\n",
       "      <td>3.4</td>\n",
       "      <td>7.9</td>\n",
       "      <td>5.6</td>\n",
       "      <td>3.5</td>\n",
       "      <td>...</td>\n",
       "      <td>8.3</td>\n",
       "      <td>7.3</td>\n",
       "      <td>4.6</td>\n",
       "      <td>10.1</td>\n",
       "      <td>6.6</td>\n",
       "      <td>4.3</td>\n",
       "      <td>8.9</td>\n",
       "      <td>9.8</td>\n",
       "      <td>19.1</td>\n",
       "      <td>5.6</td>\n",
       "    </tr>\n",
       "    <tr>\n",
       "      <th>2</th>\n",
       "      <td>Alabama</td>\n",
       "      <td>Autauga County</td>\n",
       "      <td>6.2</td>\n",
       "      <td>3.4</td>\n",
       "      <td>9.0</td>\n",
       "      <td>5.6</td>\n",
       "      <td>3.0</td>\n",
       "      <td>8.3</td>\n",
       "      <td>5.6</td>\n",
       "      <td>3.3</td>\n",
       "      <td>...</td>\n",
       "      <td>8.1</td>\n",
       "      <td>6.9</td>\n",
       "      <td>4.0</td>\n",
       "      <td>10.0</td>\n",
       "      <td>6.3</td>\n",
       "      <td>3.8</td>\n",
       "      <td>8.8</td>\n",
       "      <td>1.7</td>\n",
       "      <td>12.2</td>\n",
       "      <td>-2.4</td>\n",
       "    </tr>\n",
       "    <tr>\n",
       "      <th>3</th>\n",
       "      <td>Alabama</td>\n",
       "      <td>Baldwin County</td>\n",
       "      <td>9.0</td>\n",
       "      <td>6.7</td>\n",
       "      <td>11.3</td>\n",
       "      <td>8.4</td>\n",
       "      <td>6.1</td>\n",
       "      <td>10.8</td>\n",
       "      <td>8.4</td>\n",
       "      <td>6.1</td>\n",
       "      <td>...</td>\n",
       "      <td>11.1</td>\n",
       "      <td>10.4</td>\n",
       "      <td>7.8</td>\n",
       "      <td>13.1</td>\n",
       "      <td>9.3</td>\n",
       "      <td>7.3</td>\n",
       "      <td>11.4</td>\n",
       "      <td>3.4</td>\n",
       "      <td>7.7</td>\n",
       "      <td>0.8</td>\n",
       "    </tr>\n",
       "    <tr>\n",
       "      <th>4</th>\n",
       "      <td>Alabama</td>\n",
       "      <td>Barbour County</td>\n",
       "      <td>5.4</td>\n",
       "      <td>2.5</td>\n",
       "      <td>8.3</td>\n",
       "      <td>5.0</td>\n",
       "      <td>2.0</td>\n",
       "      <td>8.1</td>\n",
       "      <td>5.1</td>\n",
       "      <td>1.9</td>\n",
       "      <td>...</td>\n",
       "      <td>10.0</td>\n",
       "      <td>7.4</td>\n",
       "      <td>2.5</td>\n",
       "      <td>12.4</td>\n",
       "      <td>6.4</td>\n",
       "      <td>2.3</td>\n",
       "      <td>10.5</td>\n",
       "      <td>18.3</td>\n",
       "      <td>-7.6</td>\n",
       "      <td>26.4</td>\n",
       "    </tr>\n",
       "  </tbody>\n",
       "</table>\n",
       "<p>5 rows × 29 columns</p>\n",
       "</div>"
      ],
      "text/plain": [
       "      State        Location  2005 Both Sexes  2005 Females  2005 Males  2006 Both Sexes  2006 Females  2006 Males  2007 Both Sexes  2007 Females  ...  2010 Males  2011 Both Sexes  2011 Females  2011 Males  2012 Both Sexes  2012 Females  2012 Males  Percent Change 2005-2012, Both Sexes  Percent Change 2005-2012, Females  Percent Change 2005-2012, Males\n",
       "0  National   United States              7.0           5.2         8.9              7.2           5.5         8.9              7.7           5.9  ...         9.4              8.8           7.0        10.6              8.2           6.7         9.9                                  17.2                               28.2                             10.5\n",
       "1   Alabama         Alabama              6.0           3.6         8.4              5.6           3.4         7.9              5.6           3.5  ...         8.3              7.3           4.6        10.1              6.6           4.3         8.9                                   9.8                               19.1                              5.6\n",
       "2   Alabama  Autauga County              6.2           3.4         9.0              5.6           3.0         8.3              5.6           3.3  ...         8.1              6.9           4.0        10.0              6.3           3.8         8.8                                   1.7                               12.2                             -2.4\n",
       "3   Alabama  Baldwin County              9.0           6.7        11.3              8.4           6.1        10.8              8.4           6.1  ...        11.1             10.4           7.8        13.1              9.3           7.3        11.4                                   3.4                                7.7                              0.8\n",
       "4   Alabama  Barbour County              5.4           2.5         8.3              5.0           2.0         8.1              5.1           1.9  ...        10.0              7.4           2.5        12.4              6.4           2.3        10.5                                  18.3                               -7.6                             26.4\n",
       "\n",
       "[5 rows x 29 columns]"
      ]
     },
     "execution_count": 326,
     "metadata": {},
     "output_type": "execute_result"
    }
   ],
   "source": [
    "alc_heavy.head()"
   ]
  },
  {
   "cell_type": "code",
   "execution_count": 327,
   "metadata": {},
   "outputs": [
    {
     "data": {
      "text/plain": [
       "count    3179.000000\n",
       "mean        7.533910\n",
       "std         2.450056\n",
       "min         2.100000\n",
       "25%         5.800000\n",
       "50%         7.200000\n",
       "75%         8.900000\n",
       "max        21.600000\n",
       "Name: 2010 Both Sexes, dtype: float64"
      ]
     },
     "execution_count": 327,
     "metadata": {},
     "output_type": "execute_result"
    }
   ],
   "source": [
    "alc_heavy['2010 Both Sexes'].describe()"
   ]
  },
  {
   "cell_type": "code",
   "execution_count": 328,
   "metadata": {},
   "outputs": [],
   "source": [
    "alc_heavy = alc_heavy[['State', 'Location', '2010 Both Sexes']]\n",
    "alc_heavy.columns = ['State', 'Location', 'Alcohol:Heavy:2010']\n",
    "alc_heavy = alc_heavy[alc_heavy['State'] != alc_heavy['Location']]  #When they are equal, metrics are state level not ounty level"
   ]
  },
  {
   "cell_type": "code",
   "execution_count": 329,
   "metadata": {},
   "outputs": [
    {
     "data": {
      "text/html": [
       "<div>\n",
       "<style scoped>\n",
       "    .dataframe tbody tr th:only-of-type {\n",
       "        vertical-align: middle;\n",
       "    }\n",
       "\n",
       "    .dataframe tbody tr th {\n",
       "        vertical-align: top;\n",
       "    }\n",
       "\n",
       "    .dataframe thead th {\n",
       "        text-align: right;\n",
       "    }\n",
       "</style>\n",
       "<table border=\"1\" class=\"dataframe\">\n",
       "  <thead>\n",
       "    <tr style=\"text-align: right;\">\n",
       "      <th></th>\n",
       "      <th>State</th>\n",
       "      <th>Location</th>\n",
       "      <th>Alcohol:Heavy:2010</th>\n",
       "    </tr>\n",
       "  </thead>\n",
       "  <tbody>\n",
       "    <tr>\n",
       "      <th>0</th>\n",
       "      <td>National</td>\n",
       "      <td>United States</td>\n",
       "      <td>7.8</td>\n",
       "    </tr>\n",
       "    <tr>\n",
       "      <th>2</th>\n",
       "      <td>Alabama</td>\n",
       "      <td>Autauga County</td>\n",
       "      <td>5.8</td>\n",
       "    </tr>\n",
       "    <tr>\n",
       "      <th>3</th>\n",
       "      <td>Alabama</td>\n",
       "      <td>Baldwin County</td>\n",
       "      <td>8.7</td>\n",
       "    </tr>\n",
       "    <tr>\n",
       "      <th>4</th>\n",
       "      <td>Alabama</td>\n",
       "      <td>Barbour County</td>\n",
       "      <td>6.1</td>\n",
       "    </tr>\n",
       "    <tr>\n",
       "      <th>5</th>\n",
       "      <td>Alabama</td>\n",
       "      <td>Bibb County</td>\n",
       "      <td>5.0</td>\n",
       "    </tr>\n",
       "  </tbody>\n",
       "</table>\n",
       "</div>"
      ],
      "text/plain": [
       "      State        Location  Alcohol:Heavy:2010\n",
       "0  National   United States                 7.8\n",
       "2   Alabama  Autauga County                 5.8\n",
       "3   Alabama  Baldwin County                 8.7\n",
       "4   Alabama  Barbour County                 6.1\n",
       "5   Alabama     Bibb County                 5.0"
      ]
     },
     "execution_count": 329,
     "metadata": {},
     "output_type": "execute_result"
    }
   ],
   "source": [
    "alc_heavy.head()"
   ]
  },
  {
   "cell_type": "code",
   "execution_count": 330,
   "metadata": {
    "collapsed": true
   },
   "outputs": [],
   "source": [
    "#Put into one big alc dataframe"
   ]
  },
  {
   "cell_type": "code",
   "execution_count": 336,
   "metadata": {},
   "outputs": [],
   "source": [
    "alc = pd.merge(alc_any, alc_heavy, on = [\"State\", \"Location\"])"
   ]
  },
  {
   "cell_type": "code",
   "execution_count": 337,
   "metadata": {
    "collapsed": true
   },
   "outputs": [],
   "source": [
    "#Break Apart rows with several locations"
   ]
  },
  {
   "cell_type": "code",
   "execution_count": 338,
   "metadata": {},
   "outputs": [
    {
     "data": {
      "text/plain": [
       "(10, 4)"
      ]
     },
     "execution_count": 338,
     "metadata": {},
     "output_type": "execute_result"
    }
   ],
   "source": [
    "alc_together_counties = alc[alc['Location'].str.contains(\",\")]  #need to break up ones iwth multiple locations\n",
    "alc_together_counties.shape"
   ]
  },
  {
   "cell_type": "code",
   "execution_count": 339,
   "metadata": {},
   "outputs": [
    {
     "data": {
      "text/plain": [
       "(3118, 4)"
      ]
     },
     "execution_count": 339,
     "metadata": {},
     "output_type": "execute_result"
    }
   ],
   "source": [
    "alc = alc[~alc['Location'].str.contains(\",\")] \n",
    "alc.shape"
   ]
  },
  {
   "cell_type": "code",
   "execution_count": 342,
   "metadata": {},
   "outputs": [
    {
     "name": "stdout",
     "output_type": "stream",
     "text": [
      "<class 'pandas.core.frame.DataFrame'>\n",
      "Int64Index: 3118 entries, 0 to 3127\n",
      "Data columns (total 4 columns):\n",
      "State                 3118 non-null object\n",
      "Location              3118 non-null object\n",
      "Alcohol:Any:2010      3118 non-null float64\n",
      "Alcohol:Heavy:2010    3118 non-null float64\n",
      "dtypes: float64(2), object(2)\n",
      "memory usage: 121.8+ KB\n"
     ]
    }
   ],
   "source": [
    "alc.info()"
   ]
  },
  {
   "cell_type": "code",
   "execution_count": 343,
   "metadata": {},
   "outputs": [],
   "source": [
    "for i in range(alc_together_counties.shape[0]):\n",
    "    row = alc_together_counties.iloc[i]\n",
    "    locations = row['Location'].split(\", \")\n",
    "    for location in locations:\n",
    "        alc = alc.append(pd.DataFrame([[row['State'], location, row['Alcohol:Any:2010'], row['Alcohol:Heavy:2010'] ]], columns = alc.columns ))\n"
   ]
  },
  {
   "cell_type": "code",
   "execution_count": 344,
   "metadata": {},
   "outputs": [
    {
     "data": {
      "text/plain": [
       "(3144, 4)"
      ]
     },
     "execution_count": 344,
     "metadata": {},
     "output_type": "execute_result"
    }
   ],
   "source": [
    "alc.shape"
   ]
  },
  {
   "cell_type": "markdown",
   "metadata": {},
   "source": [
    "# Attach to FIPS"
   ]
  },
  {
   "cell_type": "code",
   "execution_count": 347,
   "metadata": {
    "collapsed": true
   },
   "outputs": [],
   "source": [
    "fips = pd.read_csv('../data/county_fips_mapping.csv')"
   ]
  },
  {
   "cell_type": "code",
   "execution_count": 348,
   "metadata": {},
   "outputs": [
    {
     "data": {
      "text/html": [
       "<div>\n",
       "<style scoped>\n",
       "    .dataframe tbody tr th:only-of-type {\n",
       "        vertical-align: middle;\n",
       "    }\n",
       "\n",
       "    .dataframe tbody tr th {\n",
       "        vertical-align: top;\n",
       "    }\n",
       "\n",
       "    .dataframe thead th {\n",
       "        text-align: right;\n",
       "    }\n",
       "</style>\n",
       "<table border=\"1\" class=\"dataframe\">\n",
       "  <thead>\n",
       "    <tr style=\"text-align: right;\">\n",
       "      <th></th>\n",
       "      <th>Unnamed: 0</th>\n",
       "      <th>fips</th>\n",
       "      <th>county</th>\n",
       "      <th>state_abbr</th>\n",
       "      <th>state</th>\n",
       "      <th>census_CTYNAME</th>\n",
       "    </tr>\n",
       "  </thead>\n",
       "  <tbody>\n",
       "    <tr>\n",
       "      <th>0</th>\n",
       "      <td>0</td>\n",
       "      <td>1001</td>\n",
       "      <td>Autauga</td>\n",
       "      <td>AL</td>\n",
       "      <td>Alabama</td>\n",
       "      <td>Autauga County</td>\n",
       "    </tr>\n",
       "    <tr>\n",
       "      <th>1</th>\n",
       "      <td>1</td>\n",
       "      <td>1003</td>\n",
       "      <td>Baldwin</td>\n",
       "      <td>AL</td>\n",
       "      <td>Alabama</td>\n",
       "      <td>Baldwin County</td>\n",
       "    </tr>\n",
       "    <tr>\n",
       "      <th>2</th>\n",
       "      <td>2</td>\n",
       "      <td>1005</td>\n",
       "      <td>Barbour</td>\n",
       "      <td>AL</td>\n",
       "      <td>Alabama</td>\n",
       "      <td>Barbour County</td>\n",
       "    </tr>\n",
       "    <tr>\n",
       "      <th>3</th>\n",
       "      <td>3</td>\n",
       "      <td>1007</td>\n",
       "      <td>Bibb</td>\n",
       "      <td>AL</td>\n",
       "      <td>Alabama</td>\n",
       "      <td>Bibb County</td>\n",
       "    </tr>\n",
       "    <tr>\n",
       "      <th>4</th>\n",
       "      <td>4</td>\n",
       "      <td>1009</td>\n",
       "      <td>Blount</td>\n",
       "      <td>AL</td>\n",
       "      <td>Alabama</td>\n",
       "      <td>Blount County</td>\n",
       "    </tr>\n",
       "  </tbody>\n",
       "</table>\n",
       "</div>"
      ],
      "text/plain": [
       "   Unnamed: 0  fips   county state_abbr    state  census_CTYNAME\n",
       "0           0  1001  Autauga         AL  Alabama  Autauga County\n",
       "1           1  1003  Baldwin         AL  Alabama  Baldwin County\n",
       "2           2  1005  Barbour         AL  Alabama  Barbour County\n",
       "3           3  1007     Bibb         AL  Alabama     Bibb County\n",
       "4           4  1009   Blount         AL  Alabama   Blount County"
      ]
     },
     "execution_count": 348,
     "metadata": {},
     "output_type": "execute_result"
    }
   ],
   "source": [
    "fips.head()"
   ]
  },
  {
   "cell_type": "code",
   "execution_count": 349,
   "metadata": {},
   "outputs": [
    {
     "data": {
      "text/plain": [
       "(3236, 7)"
      ]
     },
     "execution_count": 349,
     "metadata": {},
     "output_type": "execute_result"
    }
   ],
   "source": [
    "fips['StateCounty'] = fips['state'].str.lower() + fips['census_CTYNAME'].str.lower()\n",
    "fips.shape"
   ]
  },
  {
   "cell_type": "code",
   "execution_count": 350,
   "metadata": {},
   "outputs": [
    {
     "name": "stdout",
     "output_type": "stream",
     "text": [
      "<class 'pandas.core.frame.DataFrame'>\n",
      "RangeIndex: 3236 entries, 0 to 3235\n",
      "Data columns (total 7 columns):\n",
      "Unnamed: 0        3236 non-null int64\n",
      "fips              3236 non-null int64\n",
      "county            3236 non-null object\n",
      "state_abbr        3236 non-null object\n",
      "state             3236 non-null object\n",
      "census_CTYNAME    3236 non-null object\n",
      "StateCounty       3236 non-null object\n",
      "dtypes: int64(2), object(5)\n",
      "memory usage: 177.0+ KB\n"
     ]
    }
   ],
   "source": [
    "fips.info()"
   ]
  },
  {
   "cell_type": "code",
   "execution_count": 351,
   "metadata": {},
   "outputs": [
    {
     "data": {
      "text/plain": [
       "(3144, 5)"
      ]
     },
     "execution_count": 351,
     "metadata": {},
     "output_type": "execute_result"
    }
   ],
   "source": [
    "alc['StateCounty'] = alc[\"State\"].str.lower() + alc['Location'].str.lower()\n",
    "alc.shape"
   ]
  },
  {
   "cell_type": "code",
   "execution_count": 353,
   "metadata": {},
   "outputs": [
    {
     "data": {
      "text/html": [
       "<div>\n",
       "<style scoped>\n",
       "    .dataframe tbody tr th:only-of-type {\n",
       "        vertical-align: middle;\n",
       "    }\n",
       "\n",
       "    .dataframe tbody tr th {\n",
       "        vertical-align: top;\n",
       "    }\n",
       "\n",
       "    .dataframe thead th {\n",
       "        text-align: right;\n",
       "    }\n",
       "</style>\n",
       "<table border=\"1\" class=\"dataframe\">\n",
       "  <thead>\n",
       "    <tr style=\"text-align: right;\">\n",
       "      <th></th>\n",
       "      <th>State</th>\n",
       "      <th>Location</th>\n",
       "      <th>Alcohol:Any:2010</th>\n",
       "      <th>Alcohol:Heavy:2010</th>\n",
       "      <th>StateCounty</th>\n",
       "    </tr>\n",
       "  </thead>\n",
       "  <tbody>\n",
       "    <tr>\n",
       "      <th>0</th>\n",
       "      <td>National</td>\n",
       "      <td>United States</td>\n",
       "      <td>56.1</td>\n",
       "      <td>7.8</td>\n",
       "      <td>nationalunited states</td>\n",
       "    </tr>\n",
       "    <tr>\n",
       "      <th>1</th>\n",
       "      <td>Alabama</td>\n",
       "      <td>Autauga County</td>\n",
       "      <td>42.5</td>\n",
       "      <td>5.8</td>\n",
       "      <td>alabamaautauga county</td>\n",
       "    </tr>\n",
       "    <tr>\n",
       "      <th>2</th>\n",
       "      <td>Alabama</td>\n",
       "      <td>Baldwin County</td>\n",
       "      <td>54.6</td>\n",
       "      <td>8.7</td>\n",
       "      <td>alabamabaldwin county</td>\n",
       "    </tr>\n",
       "    <tr>\n",
       "      <th>3</th>\n",
       "      <td>Alabama</td>\n",
       "      <td>Barbour County</td>\n",
       "      <td>38.6</td>\n",
       "      <td>6.1</td>\n",
       "      <td>alabamabarbour county</td>\n",
       "    </tr>\n",
       "    <tr>\n",
       "      <th>4</th>\n",
       "      <td>Alabama</td>\n",
       "      <td>Bibb County</td>\n",
       "      <td>34.4</td>\n",
       "      <td>5.0</td>\n",
       "      <td>alabamabibb county</td>\n",
       "    </tr>\n",
       "  </tbody>\n",
       "</table>\n",
       "</div>"
      ],
      "text/plain": [
       "      State        Location  Alcohol:Any:2010  Alcohol:Heavy:2010            StateCounty\n",
       "0  National   United States              56.1                 7.8  nationalunited states\n",
       "1   Alabama  Autauga County              42.5                 5.8  alabamaautauga county\n",
       "2   Alabama  Baldwin County              54.6                 8.7  alabamabaldwin county\n",
       "3   Alabama  Barbour County              38.6                 6.1  alabamabarbour county\n",
       "4   Alabama     Bibb County              34.4                 5.0     alabamabibb county"
      ]
     },
     "execution_count": 353,
     "metadata": {},
     "output_type": "execute_result"
    }
   ],
   "source": [
    "alc.head()"
   ]
  },
  {
   "cell_type": "code",
   "execution_count": 354,
   "metadata": {},
   "outputs": [],
   "source": [
    "newdf = pd.merge(alc, fips, on = \"StateCounty\", how = 'outer')"
   ]
  },
  {
   "cell_type": "code",
   "execution_count": 355,
   "metadata": {},
   "outputs": [
    {
     "data": {
      "text/plain": [
       "(3244, 11)"
      ]
     },
     "execution_count": 355,
     "metadata": {},
     "output_type": "execute_result"
    }
   ],
   "source": [
    "newdf.shape   #exactly 100 missing"
   ]
  },
  {
   "cell_type": "code",
   "execution_count": 359,
   "metadata": {},
   "outputs": [
    {
     "data": {
      "text/plain": [
       "0                         nationalunited states\n",
       "87               alaskawade hampton census area\n",
       "1125                   louisianala salle parish\n",
       "1787                  new mexicodona ana county\n",
       "2402                 south dakotashannon county\n",
       "3124               alaskapetersburg census area\n",
       "3125    alaskaprince of wales-hyder census area\n",
       "3137                       virginiabedford city\n",
       "Name: StateCounty, dtype: object"
      ]
     },
     "execution_count": 359,
     "metadata": {},
     "output_type": "execute_result"
    }
   ],
   "source": [
    "missing_fips = newdf[newdf['fips'].isnull()]['StateCounty']\n",
    "missing_fips"
   ]
  },
  {
   "cell_type": "code",
   "execution_count": 357,
   "metadata": {},
   "outputs": [
    {
     "data": {
      "text/html": [
       "<div>\n",
       "<style scoped>\n",
       "    .dataframe tbody tr th:only-of-type {\n",
       "        vertical-align: middle;\n",
       "    }\n",
       "\n",
       "    .dataframe tbody tr th {\n",
       "        vertical-align: top;\n",
       "    }\n",
       "\n",
       "    .dataframe thead th {\n",
       "        text-align: right;\n",
       "    }\n",
       "</style>\n",
       "<table border=\"1\" class=\"dataframe\">\n",
       "  <thead>\n",
       "    <tr style=\"text-align: right;\">\n",
       "      <th></th>\n",
       "      <th>Unnamed: 0</th>\n",
       "      <th>fips</th>\n",
       "      <th>county</th>\n",
       "      <th>state_abbr</th>\n",
       "      <th>state</th>\n",
       "      <th>census_CTYNAME</th>\n",
       "      <th>StateCounty</th>\n",
       "    </tr>\n",
       "  </thead>\n",
       "  <tbody>\n",
       "    <tr>\n",
       "      <th>1460</th>\n",
       "      <td>1630</td>\n",
       "      <td>29203</td>\n",
       "      <td>Shannon</td>\n",
       "      <td>MO</td>\n",
       "      <td>Missouri</td>\n",
       "      <td>Shannon County</td>\n",
       "      <td>missourishannon county</td>\n",
       "    </tr>\n",
       "    <tr>\n",
       "      <th>2120</th>\n",
       "      <td>2290</td>\n",
       "      <td>42009</td>\n",
       "      <td>Bedford</td>\n",
       "      <td>PA</td>\n",
       "      <td>Pennsylvania</td>\n",
       "      <td>Bedford County</td>\n",
       "      <td>pennsylvaniabedford county</td>\n",
       "    </tr>\n",
       "    <tr>\n",
       "      <th>2300</th>\n",
       "      <td>2470</td>\n",
       "      <td>47003</td>\n",
       "      <td>Bedford</td>\n",
       "      <td>TN</td>\n",
       "      <td>Tennessee</td>\n",
       "      <td>Bedford County</td>\n",
       "      <td>tennesseebedford county</td>\n",
       "    </tr>\n",
       "    <tr>\n",
       "      <th>2533</th>\n",
       "      <td>2703</td>\n",
       "      <td>48283</td>\n",
       "      <td>La Salle</td>\n",
       "      <td>TX</td>\n",
       "      <td>Texas</td>\n",
       "      <td>La Salle County</td>\n",
       "      <td>texasla salle county</td>\n",
       "    </tr>\n",
       "    <tr>\n",
       "      <th>2698</th>\n",
       "      <td>2868</td>\n",
       "      <td>51019</td>\n",
       "      <td>Bedford</td>\n",
       "      <td>VA</td>\n",
       "      <td>Virginia</td>\n",
       "      <td>Bedford County</td>\n",
       "      <td>virginiabedford county</td>\n",
       "    </tr>\n",
       "    <tr>\n",
       "      <th>2997</th>\n",
       "      <td>3167</td>\n",
       "      <td>2270</td>\n",
       "      <td>Wade Hampton</td>\n",
       "      <td>AK</td>\n",
       "      <td>Alaska</td>\n",
       "      <td>Kusilvak Census Area</td>\n",
       "      <td>alaskakusilvak census area</td>\n",
       "    </tr>\n",
       "    <tr>\n",
       "      <th>2998</th>\n",
       "      <td>3168</td>\n",
       "      <td>2280</td>\n",
       "      <td>Wrangell-Petersburg</td>\n",
       "      <td>AK</td>\n",
       "      <td>Alaska</td>\n",
       "      <td>Wrangell-Petersburg County</td>\n",
       "      <td>alaskawrangell-petersburg county</td>\n",
       "    </tr>\n",
       "    <tr>\n",
       "      <th>3002</th>\n",
       "      <td>3172</td>\n",
       "      <td>2195</td>\n",
       "      <td>Petersburg Census Area</td>\n",
       "      <td>AK</td>\n",
       "      <td>Alaska</td>\n",
       "      <td>Petersburg Borough</td>\n",
       "      <td>alaskapetersburg borough</td>\n",
       "    </tr>\n",
       "    <tr>\n",
       "      <th>3003</th>\n",
       "      <td>3173</td>\n",
       "      <td>2198</td>\n",
       "      <td>Prince of Wales-Hyder</td>\n",
       "      <td>AK</td>\n",
       "      <td>Alaska</td>\n",
       "      <td>Prince of Wales-Hyder County</td>\n",
       "      <td>alaskaprince of wales-hyder county</td>\n",
       "    </tr>\n",
       "    <tr>\n",
       "      <th>3015</th>\n",
       "      <td>3185</td>\n",
       "      <td>17099</td>\n",
       "      <td>La Salle</td>\n",
       "      <td>IL</td>\n",
       "      <td>Illinois</td>\n",
       "      <td>LaSalle County</td>\n",
       "      <td>illinoislasalle county</td>\n",
       "    </tr>\n",
       "    <tr>\n",
       "      <th>3051</th>\n",
       "      <td>3221</td>\n",
       "      <td>22059</td>\n",
       "      <td>La Salle</td>\n",
       "      <td>LA</td>\n",
       "      <td>Louisiana</td>\n",
       "      <td>LaSalle Parish</td>\n",
       "      <td>louisianalasalle parish</td>\n",
       "    </tr>\n",
       "    <tr>\n",
       "      <th>3102</th>\n",
       "      <td>3272</td>\n",
       "      <td>35013</td>\n",
       "      <td>Dona Ana</td>\n",
       "      <td>NM</td>\n",
       "      <td>New Mexico</td>\n",
       "      <td>Doña Ana County</td>\n",
       "      <td>new mexicodoña ana county</td>\n",
       "    </tr>\n",
       "    <tr>\n",
       "      <th>3105</th>\n",
       "      <td>3275</td>\n",
       "      <td>46113</td>\n",
       "      <td>Shannon</td>\n",
       "      <td>SD</td>\n",
       "      <td>South Dakota</td>\n",
       "      <td>Oglala Lakota County</td>\n",
       "      <td>south dakotaoglala lakota county</td>\n",
       "    </tr>\n",
       "    <tr>\n",
       "      <th>3109</th>\n",
       "      <td>3279</td>\n",
       "      <td>51515</td>\n",
       "      <td>Bedford City</td>\n",
       "      <td>VA</td>\n",
       "      <td>Virginia</td>\n",
       "      <td>Bedford City County</td>\n",
       "      <td>virginiabedford city county</td>\n",
       "    </tr>\n",
       "    <tr>\n",
       "      <th>3135</th>\n",
       "      <td>3305</td>\n",
       "      <td>51730</td>\n",
       "      <td>Petersburg City</td>\n",
       "      <td>VA</td>\n",
       "      <td>Virginia</td>\n",
       "      <td>Petersburg city</td>\n",
       "      <td>virginiapetersburg city</td>\n",
       "    </tr>\n",
       "  </tbody>\n",
       "</table>\n",
       "</div>"
      ],
      "text/plain": [
       "      Unnamed: 0   fips                  county state_abbr         state                census_CTYNAME                         StateCounty\n",
       "1460        1630  29203                 Shannon         MO      Missouri                Shannon County              missourishannon county\n",
       "2120        2290  42009                 Bedford         PA  Pennsylvania                Bedford County          pennsylvaniabedford county\n",
       "2300        2470  47003                 Bedford         TN     Tennessee                Bedford County             tennesseebedford county\n",
       "2533        2703  48283                La Salle         TX         Texas               La Salle County                texasla salle county\n",
       "2698        2868  51019                 Bedford         VA      Virginia                Bedford County              virginiabedford county\n",
       "2997        3167   2270            Wade Hampton         AK        Alaska          Kusilvak Census Area          alaskakusilvak census area\n",
       "2998        3168   2280     Wrangell-Petersburg         AK        Alaska    Wrangell-Petersburg County    alaskawrangell-petersburg county\n",
       "3002        3172   2195  Petersburg Census Area         AK        Alaska            Petersburg Borough            alaskapetersburg borough\n",
       "3003        3173   2198   Prince of Wales-Hyder         AK        Alaska  Prince of Wales-Hyder County  alaskaprince of wales-hyder county\n",
       "3015        3185  17099                La Salle         IL      Illinois                LaSalle County              illinoislasalle county\n",
       "3051        3221  22059                La Salle         LA     Louisiana                LaSalle Parish             louisianalasalle parish\n",
       "3102        3272  35013                Dona Ana         NM    New Mexico               Doña Ana County           new mexicodoña ana county\n",
       "3105        3275  46113                 Shannon         SD  South Dakota          Oglala Lakota County    south dakotaoglala lakota county\n",
       "3109        3279  51515            Bedford City         VA      Virginia           Bedford City County         virginiabedford city county\n",
       "3135        3305  51730         Petersburg City         VA      Virginia               Petersburg city             virginiapetersburg city"
      ]
     },
     "execution_count": 357,
     "metadata": {},
     "output_type": "execute_result"
    }
   ],
   "source": [
    "fips[(fips['county'].str.contains('Shannon')) | \n",
    "     (fips['county'].str.contains('Wade Hampton')) |\n",
    "    (fips['county'].str.contains('La Salle')) |\n",
    "          (fips['county'].str.contains('Dona Ana')) |\n",
    "          (fips['county'].str.contains('Petersburg')) |\n",
    "          (fips['county'].str.contains('Hyder')) |\n",
    "          (fips['county'].str.contains('Bedford')) \n",
    "    ]"
   ]
  },
  {
   "cell_type": "code",
   "execution_count": 358,
   "metadata": {},
   "outputs": [],
   "source": [
    "special_cases = {   #INDEX IN NEW DATAFRAME :  FIPS CODE\n",
    "87:    2270,        #   alaskawade hampton census area\n",
    "1125: 22059,           #        louisianala salle parish\n",
    "1787 : 35013,          #       new mexicodona ana county\n",
    "2402:   46113,         #      south dakotashannon county\n",
    "3124: 2195,       #    alaskapetersburg census area\n",
    "3125: 2198,  #  alaskaprince of wales-hyder census area\n",
    "3137: 51515,   #                    virginiabedford city\n",
    "}"
   ]
  },
  {
   "cell_type": "code",
   "execution_count": 365,
   "metadata": {},
   "outputs": [
    {
     "data": {
      "text/plain": [
       "True"
      ]
     },
     "execution_count": 365,
     "metadata": {},
     "output_type": "execute_result"
    }
   ],
   "source": [
    "#check my keys are right, should get \"True\"\n",
    "set(special_cases.keys() ) == set(missing_fips.index.values) - set([0])"
   ]
  },
  {
   "cell_type": "code",
   "execution_count": 370,
   "metadata": {
    "scrolled": true
   },
   "outputs": [
    {
     "data": {
      "text/html": [
       "<div>\n",
       "<style scoped>\n",
       "    .dataframe tbody tr th:only-of-type {\n",
       "        vertical-align: middle;\n",
       "    }\n",
       "\n",
       "    .dataframe tbody tr th {\n",
       "        vertical-align: top;\n",
       "    }\n",
       "\n",
       "    .dataframe thead th {\n",
       "        text-align: right;\n",
       "    }\n",
       "</style>\n",
       "<table border=\"1\" class=\"dataframe\">\n",
       "  <thead>\n",
       "    <tr style=\"text-align: right;\">\n",
       "      <th></th>\n",
       "      <th>Unnamed: 0</th>\n",
       "      <th>fips</th>\n",
       "      <th>county</th>\n",
       "      <th>state_abbr</th>\n",
       "      <th>state</th>\n",
       "      <th>census_CTYNAME</th>\n",
       "      <th>StateCounty</th>\n",
       "    </tr>\n",
       "  </thead>\n",
       "  <tbody>\n",
       "    <tr>\n",
       "      <th>2997</th>\n",
       "      <td>3167</td>\n",
       "      <td>2270</td>\n",
       "      <td>Wade Hampton</td>\n",
       "      <td>AK</td>\n",
       "      <td>Alaska</td>\n",
       "      <td>Kusilvak Census Area</td>\n",
       "      <td>alaskakusilvak census area</td>\n",
       "    </tr>\n",
       "    <tr>\n",
       "      <th>3002</th>\n",
       "      <td>3172</td>\n",
       "      <td>2195</td>\n",
       "      <td>Petersburg Census Area</td>\n",
       "      <td>AK</td>\n",
       "      <td>Alaska</td>\n",
       "      <td>Petersburg Borough</td>\n",
       "      <td>alaskapetersburg borough</td>\n",
       "    </tr>\n",
       "    <tr>\n",
       "      <th>3003</th>\n",
       "      <td>3173</td>\n",
       "      <td>2198</td>\n",
       "      <td>Prince of Wales-Hyder</td>\n",
       "      <td>AK</td>\n",
       "      <td>Alaska</td>\n",
       "      <td>Prince of Wales-Hyder County</td>\n",
       "      <td>alaskaprince of wales-hyder county</td>\n",
       "    </tr>\n",
       "    <tr>\n",
       "      <th>3051</th>\n",
       "      <td>3221</td>\n",
       "      <td>22059</td>\n",
       "      <td>La Salle</td>\n",
       "      <td>LA</td>\n",
       "      <td>Louisiana</td>\n",
       "      <td>LaSalle Parish</td>\n",
       "      <td>louisianalasalle parish</td>\n",
       "    </tr>\n",
       "    <tr>\n",
       "      <th>3102</th>\n",
       "      <td>3272</td>\n",
       "      <td>35013</td>\n",
       "      <td>Dona Ana</td>\n",
       "      <td>NM</td>\n",
       "      <td>New Mexico</td>\n",
       "      <td>Doña Ana County</td>\n",
       "      <td>new mexicodoña ana county</td>\n",
       "    </tr>\n",
       "    <tr>\n",
       "      <th>3105</th>\n",
       "      <td>3275</td>\n",
       "      <td>46113</td>\n",
       "      <td>Shannon</td>\n",
       "      <td>SD</td>\n",
       "      <td>South Dakota</td>\n",
       "      <td>Oglala Lakota County</td>\n",
       "      <td>south dakotaoglala lakota county</td>\n",
       "    </tr>\n",
       "    <tr>\n",
       "      <th>3109</th>\n",
       "      <td>3279</td>\n",
       "      <td>51515</td>\n",
       "      <td>Bedford City</td>\n",
       "      <td>VA</td>\n",
       "      <td>Virginia</td>\n",
       "      <td>Bedford City County</td>\n",
       "      <td>virginiabedford city county</td>\n",
       "    </tr>\n",
       "  </tbody>\n",
       "</table>\n",
       "</div>"
      ],
      "text/plain": [
       "      Unnamed: 0   fips                  county state_abbr         state                census_CTYNAME                         StateCounty\n",
       "2997        3167   2270            Wade Hampton         AK        Alaska          Kusilvak Census Area          alaskakusilvak census area\n",
       "3002        3172   2195  Petersburg Census Area         AK        Alaska            Petersburg Borough            alaskapetersburg borough\n",
       "3003        3173   2198   Prince of Wales-Hyder         AK        Alaska  Prince of Wales-Hyder County  alaskaprince of wales-hyder county\n",
       "3051        3221  22059                La Salle         LA     Louisiana                LaSalle Parish             louisianalasalle parish\n",
       "3102        3272  35013                Dona Ana         NM    New Mexico               Doña Ana County           new mexicodoña ana county\n",
       "3105        3275  46113                 Shannon         SD  South Dakota          Oglala Lakota County    south dakotaoglala lakota county\n",
       "3109        3279  51515            Bedford City         VA      Virginia           Bedford City County         virginiabedford city county"
      ]
     },
     "execution_count": 370,
     "metadata": {},
     "output_type": "execute_result"
    }
   ],
   "source": [
    "#check that my fips codes bring up the correct matching cities\n",
    "fips[fips['fips'].isin(special_cases.values())]"
   ]
  },
  {
   "cell_type": "code",
   "execution_count": 371,
   "metadata": {
    "collapsed": true
   },
   "outputs": [],
   "source": [
    "for key, value in special_cases.items():\n",
    "    newdf.loc[key, 'fips'] = value"
   ]
  },
  {
   "cell_type": "code",
   "execution_count": 373,
   "metadata": {},
   "outputs": [
    {
     "data": {
      "text/html": [
       "<div>\n",
       "<style scoped>\n",
       "    .dataframe tbody tr th:only-of-type {\n",
       "        vertical-align: middle;\n",
       "    }\n",
       "\n",
       "    .dataframe tbody tr th {\n",
       "        vertical-align: top;\n",
       "    }\n",
       "\n",
       "    .dataframe thead th {\n",
       "        text-align: right;\n",
       "    }\n",
       "</style>\n",
       "<table border=\"1\" class=\"dataframe\">\n",
       "  <thead>\n",
       "    <tr style=\"text-align: right;\">\n",
       "      <th></th>\n",
       "      <th>State</th>\n",
       "      <th>Location</th>\n",
       "      <th>Alcohol:Any:2010</th>\n",
       "      <th>Alcohol:Heavy:2010</th>\n",
       "      <th>StateCounty</th>\n",
       "      <th>Unnamed: 0</th>\n",
       "      <th>fips</th>\n",
       "      <th>county</th>\n",
       "      <th>state_abbr</th>\n",
       "      <th>state</th>\n",
       "      <th>census_CTYNAME</th>\n",
       "    </tr>\n",
       "  </thead>\n",
       "  <tbody>\n",
       "    <tr>\n",
       "      <th>87</th>\n",
       "      <td>Alaska</td>\n",
       "      <td>Wade Hampton Census Area</td>\n",
       "      <td>28.5</td>\n",
       "      <td>6.7</td>\n",
       "      <td>alaskawade hampton census area</td>\n",
       "      <td>NaN</td>\n",
       "      <td>2270.0</td>\n",
       "      <td>NaN</td>\n",
       "      <td>NaN</td>\n",
       "      <td>NaN</td>\n",
       "      <td>NaN</td>\n",
       "    </tr>\n",
       "    <tr>\n",
       "      <th>1125</th>\n",
       "      <td>Louisiana</td>\n",
       "      <td>La Salle Parish</td>\n",
       "      <td>37.4</td>\n",
       "      <td>5.5</td>\n",
       "      <td>louisianala salle parish</td>\n",
       "      <td>NaN</td>\n",
       "      <td>22059.0</td>\n",
       "      <td>NaN</td>\n",
       "      <td>NaN</td>\n",
       "      <td>NaN</td>\n",
       "      <td>NaN</td>\n",
       "    </tr>\n",
       "    <tr>\n",
       "      <th>1787</th>\n",
       "      <td>New Mexico</td>\n",
       "      <td>Dona Ana County</td>\n",
       "      <td>52.0</td>\n",
       "      <td>7.5</td>\n",
       "      <td>new mexicodona ana county</td>\n",
       "      <td>NaN</td>\n",
       "      <td>35013.0</td>\n",
       "      <td>NaN</td>\n",
       "      <td>NaN</td>\n",
       "      <td>NaN</td>\n",
       "      <td>NaN</td>\n",
       "    </tr>\n",
       "    <tr>\n",
       "      <th>2402</th>\n",
       "      <td>South Dakota</td>\n",
       "      <td>Shannon County</td>\n",
       "      <td>29.8</td>\n",
       "      <td>16.6</td>\n",
       "      <td>south dakotashannon county</td>\n",
       "      <td>NaN</td>\n",
       "      <td>46113.0</td>\n",
       "      <td>NaN</td>\n",
       "      <td>NaN</td>\n",
       "      <td>NaN</td>\n",
       "      <td>NaN</td>\n",
       "    </tr>\n",
       "    <tr>\n",
       "      <th>3124</th>\n",
       "      <td>Alaska</td>\n",
       "      <td>Petersburg Census Area</td>\n",
       "      <td>61.0</td>\n",
       "      <td>11.7</td>\n",
       "      <td>alaskapetersburg census area</td>\n",
       "      <td>NaN</td>\n",
       "      <td>2195.0</td>\n",
       "      <td>NaN</td>\n",
       "      <td>NaN</td>\n",
       "      <td>NaN</td>\n",
       "      <td>NaN</td>\n",
       "    </tr>\n",
       "    <tr>\n",
       "      <th>3125</th>\n",
       "      <td>Alaska</td>\n",
       "      <td>Prince of Wales-Hyder Census Area</td>\n",
       "      <td>61.0</td>\n",
       "      <td>11.7</td>\n",
       "      <td>alaskaprince of wales-hyder census area</td>\n",
       "      <td>NaN</td>\n",
       "      <td>2198.0</td>\n",
       "      <td>NaN</td>\n",
       "      <td>NaN</td>\n",
       "      <td>NaN</td>\n",
       "      <td>NaN</td>\n",
       "    </tr>\n",
       "    <tr>\n",
       "      <th>3137</th>\n",
       "      <td>Virginia</td>\n",
       "      <td>Bedford City</td>\n",
       "      <td>47.3</td>\n",
       "      <td>6.2</td>\n",
       "      <td>virginiabedford city</td>\n",
       "      <td>NaN</td>\n",
       "      <td>51515.0</td>\n",
       "      <td>NaN</td>\n",
       "      <td>NaN</td>\n",
       "      <td>NaN</td>\n",
       "      <td>NaN</td>\n",
       "    </tr>\n",
       "  </tbody>\n",
       "</table>\n",
       "</div>"
      ],
      "text/plain": [
       "             State                           Location  Alcohol:Any:2010  Alcohol:Heavy:2010                              StateCounty  Unnamed: 0     fips county state_abbr state census_CTYNAME\n",
       "87          Alaska           Wade Hampton Census Area              28.5                 6.7           alaskawade hampton census area         NaN   2270.0    NaN        NaN   NaN            NaN\n",
       "1125     Louisiana                    La Salle Parish              37.4                 5.5                 louisianala salle parish         NaN  22059.0    NaN        NaN   NaN            NaN\n",
       "1787    New Mexico                    Dona Ana County              52.0                 7.5                new mexicodona ana county         NaN  35013.0    NaN        NaN   NaN            NaN\n",
       "2402  South Dakota                     Shannon County              29.8                16.6               south dakotashannon county         NaN  46113.0    NaN        NaN   NaN            NaN\n",
       "3124        Alaska             Petersburg Census Area              61.0                11.7             alaskapetersburg census area         NaN   2195.0    NaN        NaN   NaN            NaN\n",
       "3125        Alaska  Prince of Wales-Hyder Census Area              61.0                11.7  alaskaprince of wales-hyder census area         NaN   2198.0    NaN        NaN   NaN            NaN\n",
       "3137      Virginia                       Bedford City              47.3                 6.2                     virginiabedford city         NaN  51515.0    NaN        NaN   NaN            NaN"
      ]
     },
     "execution_count": 373,
     "metadata": {},
     "output_type": "execute_result"
    }
   ],
   "source": [
    "newdf.loc[special_cases.keys()]  #checking that they now have Fips codes!"
   ]
  },
  {
   "cell_type": "code",
   "execution_count": 374,
   "metadata": {},
   "outputs": [
    {
     "data": {
      "text/html": [
       "<div>\n",
       "<style scoped>\n",
       "    .dataframe tbody tr th:only-of-type {\n",
       "        vertical-align: middle;\n",
       "    }\n",
       "\n",
       "    .dataframe tbody tr th {\n",
       "        vertical-align: top;\n",
       "    }\n",
       "\n",
       "    .dataframe thead th {\n",
       "        text-align: right;\n",
       "    }\n",
       "</style>\n",
       "<table border=\"1\" class=\"dataframe\">\n",
       "  <thead>\n",
       "    <tr style=\"text-align: right;\">\n",
       "      <th></th>\n",
       "      <th>State</th>\n",
       "      <th>Location</th>\n",
       "      <th>Alcohol:Any:2010</th>\n",
       "      <th>Alcohol:Heavy:2010</th>\n",
       "      <th>StateCounty</th>\n",
       "      <th>Unnamed: 0</th>\n",
       "      <th>fips</th>\n",
       "      <th>county</th>\n",
       "      <th>state_abbr</th>\n",
       "      <th>state</th>\n",
       "      <th>census_CTYNAME</th>\n",
       "    </tr>\n",
       "  </thead>\n",
       "  <tbody>\n",
       "    <tr>\n",
       "      <th>0</th>\n",
       "      <td>National</td>\n",
       "      <td>United States</td>\n",
       "      <td>56.1</td>\n",
       "      <td>7.8</td>\n",
       "      <td>nationalunited states</td>\n",
       "      <td>NaN</td>\n",
       "      <td>NaN</td>\n",
       "      <td>NaN</td>\n",
       "      <td>NaN</td>\n",
       "      <td>NaN</td>\n",
       "      <td>NaN</td>\n",
       "    </tr>\n",
       "    <tr>\n",
       "      <th>1</th>\n",
       "      <td>Alabama</td>\n",
       "      <td>Autauga County</td>\n",
       "      <td>42.5</td>\n",
       "      <td>5.8</td>\n",
       "      <td>alabamaautauga county</td>\n",
       "      <td>0.0</td>\n",
       "      <td>1001.0</td>\n",
       "      <td>Autauga</td>\n",
       "      <td>AL</td>\n",
       "      <td>Alabama</td>\n",
       "      <td>Autauga County</td>\n",
       "    </tr>\n",
       "    <tr>\n",
       "      <th>2</th>\n",
       "      <td>Alabama</td>\n",
       "      <td>Baldwin County</td>\n",
       "      <td>54.6</td>\n",
       "      <td>8.7</td>\n",
       "      <td>alabamabaldwin county</td>\n",
       "      <td>1.0</td>\n",
       "      <td>1003.0</td>\n",
       "      <td>Baldwin</td>\n",
       "      <td>AL</td>\n",
       "      <td>Alabama</td>\n",
       "      <td>Baldwin County</td>\n",
       "    </tr>\n",
       "    <tr>\n",
       "      <th>3</th>\n",
       "      <td>Alabama</td>\n",
       "      <td>Barbour County</td>\n",
       "      <td>38.6</td>\n",
       "      <td>6.1</td>\n",
       "      <td>alabamabarbour county</td>\n",
       "      <td>2.0</td>\n",
       "      <td>1005.0</td>\n",
       "      <td>Barbour</td>\n",
       "      <td>AL</td>\n",
       "      <td>Alabama</td>\n",
       "      <td>Barbour County</td>\n",
       "    </tr>\n",
       "    <tr>\n",
       "      <th>4</th>\n",
       "      <td>Alabama</td>\n",
       "      <td>Bibb County</td>\n",
       "      <td>34.4</td>\n",
       "      <td>5.0</td>\n",
       "      <td>alabamabibb county</td>\n",
       "      <td>3.0</td>\n",
       "      <td>1007.0</td>\n",
       "      <td>Bibb</td>\n",
       "      <td>AL</td>\n",
       "      <td>Alabama</td>\n",
       "      <td>Bibb County</td>\n",
       "    </tr>\n",
       "  </tbody>\n",
       "</table>\n",
       "</div>"
      ],
      "text/plain": [
       "      State        Location  Alcohol:Any:2010  Alcohol:Heavy:2010            StateCounty  Unnamed: 0    fips   county state_abbr    state  census_CTYNAME\n",
       "0  National   United States              56.1                 7.8  nationalunited states         NaN     NaN      NaN        NaN      NaN             NaN\n",
       "1   Alabama  Autauga County              42.5                 5.8  alabamaautauga county         0.0  1001.0  Autauga         AL  Alabama  Autauga County\n",
       "2   Alabama  Baldwin County              54.6                 8.7  alabamabaldwin county         1.0  1003.0  Baldwin         AL  Alabama  Baldwin County\n",
       "3   Alabama  Barbour County              38.6                 6.1  alabamabarbour county         2.0  1005.0  Barbour         AL  Alabama  Barbour County\n",
       "4   Alabama     Bibb County              34.4                 5.0     alabamabibb county         3.0  1007.0     Bibb         AL  Alabama     Bibb County"
      ]
     },
     "execution_count": 374,
     "metadata": {},
     "output_type": "execute_result"
    }
   ],
   "source": [
    "newdf.head()"
   ]
  },
  {
   "cell_type": "code",
   "execution_count": 375,
   "metadata": {},
   "outputs": [],
   "source": [
    "newdf = newdf[newdf['fips'].isnull() == False]"
   ]
  },
  {
   "cell_type": "code",
   "execution_count": 376,
   "metadata": {
    "collapsed": true
   },
   "outputs": [],
   "source": [
    "newdf = newdf[newdf['State'].isnull() == False]"
   ]
  },
  {
   "cell_type": "code",
   "execution_count": 377,
   "metadata": {},
   "outputs": [
    {
     "data": {
      "text/html": [
       "<div>\n",
       "<style scoped>\n",
       "    .dataframe tbody tr th:only-of-type {\n",
       "        vertical-align: middle;\n",
       "    }\n",
       "\n",
       "    .dataframe tbody tr th {\n",
       "        vertical-align: top;\n",
       "    }\n",
       "\n",
       "    .dataframe thead th {\n",
       "        text-align: right;\n",
       "    }\n",
       "</style>\n",
       "<table border=\"1\" class=\"dataframe\">\n",
       "  <thead>\n",
       "    <tr style=\"text-align: right;\">\n",
       "      <th></th>\n",
       "      <th>State</th>\n",
       "      <th>Location</th>\n",
       "      <th>Alcohol:Any:2010</th>\n",
       "      <th>Alcohol:Heavy:2010</th>\n",
       "      <th>StateCounty</th>\n",
       "      <th>Unnamed: 0</th>\n",
       "      <th>fips</th>\n",
       "      <th>county</th>\n",
       "      <th>state_abbr</th>\n",
       "      <th>state</th>\n",
       "      <th>census_CTYNAME</th>\n",
       "    </tr>\n",
       "  </thead>\n",
       "  <tbody>\n",
       "    <tr>\n",
       "      <th>1</th>\n",
       "      <td>Alabama</td>\n",
       "      <td>Autauga County</td>\n",
       "      <td>42.5</td>\n",
       "      <td>5.8</td>\n",
       "      <td>alabamaautauga county</td>\n",
       "      <td>0.0</td>\n",
       "      <td>1001.0</td>\n",
       "      <td>Autauga</td>\n",
       "      <td>AL</td>\n",
       "      <td>Alabama</td>\n",
       "      <td>Autauga County</td>\n",
       "    </tr>\n",
       "    <tr>\n",
       "      <th>2</th>\n",
       "      <td>Alabama</td>\n",
       "      <td>Baldwin County</td>\n",
       "      <td>54.6</td>\n",
       "      <td>8.7</td>\n",
       "      <td>alabamabaldwin county</td>\n",
       "      <td>1.0</td>\n",
       "      <td>1003.0</td>\n",
       "      <td>Baldwin</td>\n",
       "      <td>AL</td>\n",
       "      <td>Alabama</td>\n",
       "      <td>Baldwin County</td>\n",
       "    </tr>\n",
       "    <tr>\n",
       "      <th>3</th>\n",
       "      <td>Alabama</td>\n",
       "      <td>Barbour County</td>\n",
       "      <td>38.6</td>\n",
       "      <td>6.1</td>\n",
       "      <td>alabamabarbour county</td>\n",
       "      <td>2.0</td>\n",
       "      <td>1005.0</td>\n",
       "      <td>Barbour</td>\n",
       "      <td>AL</td>\n",
       "      <td>Alabama</td>\n",
       "      <td>Barbour County</td>\n",
       "    </tr>\n",
       "    <tr>\n",
       "      <th>4</th>\n",
       "      <td>Alabama</td>\n",
       "      <td>Bibb County</td>\n",
       "      <td>34.4</td>\n",
       "      <td>5.0</td>\n",
       "      <td>alabamabibb county</td>\n",
       "      <td>3.0</td>\n",
       "      <td>1007.0</td>\n",
       "      <td>Bibb</td>\n",
       "      <td>AL</td>\n",
       "      <td>Alabama</td>\n",
       "      <td>Bibb County</td>\n",
       "    </tr>\n",
       "    <tr>\n",
       "      <th>5</th>\n",
       "      <td>Alabama</td>\n",
       "      <td>Blount County</td>\n",
       "      <td>33.5</td>\n",
       "      <td>4.6</td>\n",
       "      <td>alabamablount county</td>\n",
       "      <td>4.0</td>\n",
       "      <td>1009.0</td>\n",
       "      <td>Blount</td>\n",
       "      <td>AL</td>\n",
       "      <td>Alabama</td>\n",
       "      <td>Blount County</td>\n",
       "    </tr>\n",
       "  </tbody>\n",
       "</table>\n",
       "</div>"
      ],
      "text/plain": [
       "     State        Location  Alcohol:Any:2010  Alcohol:Heavy:2010            StateCounty  Unnamed: 0    fips   county state_abbr    state  census_CTYNAME\n",
       "1  Alabama  Autauga County              42.5                 5.8  alabamaautauga county         0.0  1001.0  Autauga         AL  Alabama  Autauga County\n",
       "2  Alabama  Baldwin County              54.6                 8.7  alabamabaldwin county         1.0  1003.0  Baldwin         AL  Alabama  Baldwin County\n",
       "3  Alabama  Barbour County              38.6                 6.1  alabamabarbour county         2.0  1005.0  Barbour         AL  Alabama  Barbour County\n",
       "4  Alabama     Bibb County              34.4                 5.0     alabamabibb county         3.0  1007.0     Bibb         AL  Alabama     Bibb County\n",
       "5  Alabama   Blount County              33.5                 4.6   alabamablount county         4.0  1009.0   Blount         AL  Alabama   Blount County"
      ]
     },
     "execution_count": 377,
     "metadata": {},
     "output_type": "execute_result"
    }
   ],
   "source": [
    "newdf.head()"
   ]
  },
  {
   "cell_type": "code",
   "execution_count": 378,
   "metadata": {},
   "outputs": [
    {
     "data": {
      "text/plain": [
       "(3143, 11)"
      ]
     },
     "execution_count": 378,
     "metadata": {},
     "output_type": "execute_result"
    }
   ],
   "source": [
    "newdf.shape"
   ]
  },
  {
   "cell_type": "code",
   "execution_count": 379,
   "metadata": {
    "collapsed": true
   },
   "outputs": [],
   "source": [
    "# Exporting to CSV  (first-pass)"
   ]
  },
  {
   "cell_type": "code",
   "execution_count": 380,
   "metadata": {},
   "outputs": [
    {
     "data": {
      "text/plain": [
       "Index(['State', 'Location', 'Alcohol:Any:2010', 'Alcohol:Heavy:2010', 'StateCounty', 'Unnamed: 0', 'fips', 'county', 'state_abbr', 'state', 'census_CTYNAME'], dtype='object')"
      ]
     },
     "execution_count": 380,
     "metadata": {},
     "output_type": "execute_result"
    }
   ],
   "source": [
    "newdf.columns"
   ]
  },
  {
   "cell_type": "code",
   "execution_count": 381,
   "metadata": {
    "collapsed": true
   },
   "outputs": [],
   "source": [
    "first_pass = newdf[[\"State\", \"Location\", \"fips\", 'Alcohol:Any:2010', 'Alcohol:Heavy:2010']]\n",
    "\n",
    "first_pass.to_csv('../data/Alcohol_rates_1.csv')"
   ]
  },
  {
   "cell_type": "code",
   "execution_count": null,
   "metadata": {
    "collapsed": true
   },
   "outputs": [],
   "source": []
  }
 ],
 "metadata": {
  "kernelspec": {
   "display_name": "Python 3",
   "language": "python",
   "name": "python3"
  },
  "language_info": {
   "codemirror_mode": {
    "name": "ipython",
    "version": 3
   },
   "file_extension": ".py",
   "mimetype": "text/x-python",
   "name": "python",
   "nbconvert_exporter": "python",
   "pygments_lexer": "ipython3",
   "version": "3.6.8"
  }
 },
 "nbformat": 4,
 "nbformat_minor": 2
}
