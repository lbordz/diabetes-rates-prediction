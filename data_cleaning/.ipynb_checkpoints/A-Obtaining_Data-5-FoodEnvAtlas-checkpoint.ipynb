{
 "cells": [
  {
   "cell_type": "code",
   "execution_count": 1,
   "metadata": {
    "collapsed": true
   },
   "outputs": [],
   "source": [
    "import pandas as pd"
   ]
  },
  {
   "cell_type": "code",
   "execution_count": 2,
   "metadata": {},
   "outputs": [
    {
     "data": {
      "text/plain": [
       "50"
      ]
     },
     "execution_count": 2,
     "metadata": {},
     "output_type": "execute_result"
    }
   ],
   "source": [
    "pd.options.display.max_colwidth"
   ]
  },
  {
   "cell_type": "code",
   "execution_count": 3,
   "metadata": {
    "collapsed": true
   },
   "outputs": [],
   "source": [
    "pd.options.display.max_colwidth = 500"
   ]
  },
  {
   "cell_type": "code",
   "execution_count": 8,
   "metadata": {
    "collapsed": true
   },
   "outputs": [],
   "source": [
    "xlsfile = '../Data/raw_data/DataDownload.xls'"
   ]
  },
  {
   "cell_type": "code",
   "execution_count": 9,
   "metadata": {},
   "outputs": [
    {
     "data": {
      "text/html": [
       "<div>\n",
       "<style scoped>\n",
       "    .dataframe tbody tr th:only-of-type {\n",
       "        vertical-align: middle;\n",
       "    }\n",
       "\n",
       "    .dataframe tbody tr th {\n",
       "        vertical-align: top;\n",
       "    }\n",
       "\n",
       "    .dataframe thead th {\n",
       "        text-align: right;\n",
       "    }\n",
       "</style>\n",
       "<table border=\"1\" class=\"dataframe\">\n",
       "  <thead>\n",
       "    <tr style=\"text-align: right;\">\n",
       "      <th></th>\n",
       "      <th>Food Environment Atlas data download</th>\n",
       "    </tr>\n",
       "  </thead>\n",
       "  <tbody>\n",
       "    <tr>\n",
       "      <th>0</th>\n",
       "      <td>Notes about the Food Environment Atlas download data:</td>\n",
       "    </tr>\n",
       "    <tr>\n",
       "      <th>1</th>\n",
       "      <td>This file contains multiple spreadsheets:</td>\n",
       "    </tr>\n",
       "    <tr>\n",
       "      <th>2</th>\n",
       "      <td>1.  A variable list that includes metadata about all of the variables that are mapped in the Food Environment Atlas.</td>\n",
       "    </tr>\n",
       "    <tr>\n",
       "      <th>3</th>\n",
       "      <td>2.  Spreadsheets that contain data for each of the Food Environment Atlas categories.</td>\n",
       "    </tr>\n",
       "    <tr>\n",
       "      <th>4</th>\n",
       "      <td>3.  County and State-level supplemental data that were used as the basis for a number of calculations in the Food Environment Atlas.</td>\n",
       "    </tr>\n",
       "    <tr>\n",
       "      <th>5</th>\n",
       "      <td>Note: Data that were not available, not applicable, or suppressed for specific counties are denoted with a blank cell.</td>\n",
       "    </tr>\n",
       "    <tr>\n",
       "      <th>6</th>\n",
       "      <td>Release history:</td>\n",
       "    </tr>\n",
       "    <tr>\n",
       "      <th>7</th>\n",
       "      <td>The original release date of this file is September, 2017.</td>\n",
       "    </tr>\n",
       "    <tr>\n",
       "      <th>8</th>\n",
       "      <td>This file supercedes the orginal file with the following changes:</td>\n",
       "    </tr>\n",
       "    <tr>\n",
       "      <th>9</th>\n",
       "      <td>On March 12, 2018, 5 variables--SNAP benefits per capita, 2010; SNAP benefits per capita, 2015; SNAP benefits per capita (% change), 2010-15; Farmers' markets/1,000 pop, 2016; and Farmers' markets/1,000 pop (% change), 2009-16-- were corrected due to an error using the wrong population estimates in the denominator for 5 counties in South Dakota. These counties are Pennington, Perkins, Potter, Roberts, and Sanborn.</td>\n",
       "    </tr>\n",
       "    <tr>\n",
       "      <th>10</th>\n",
       "      <td>On March 26, 2018, 4 variables--SNAP-authorized stores, 2016; SNAP-authorized stores (% change), 2012-16; SNAP-authorized stores/1,000 pop, 2016;  SNAP-authorized stores/1,000 pop (% change), 2012-16--were recalculated so that the weighting methodology for the number of stores in the county authorized to accept SNAP benefits in 2016 matched the weighting methodology used in 2012.</td>\n",
       "    </tr>\n",
       "    <tr>\n",
       "      <th>11</th>\n",
       "      <td>Previous releases occurred in August 2015, February 2014, November 2012, June 2012, and January 2011.</td>\n",
       "    </tr>\n",
       "  </tbody>\n",
       "</table>\n",
       "</div>"
      ],
      "text/plain": [
       "                                                                                                                                                                                                                                                                                                                                                                                                 Food Environment Atlas data download\n",
       "0                                                                                                                                                                                                                                                                                                                                                                               Notes about the Food Environment Atlas download data:\n",
       "1                                                                                                                                                                                                                                                                                                                                                                                           This file contains multiple spreadsheets:\n",
       "2                                                                                                                                                                                                                                                                                                                1.  A variable list that includes metadata about all of the variables that are mapped in the Food Environment Atlas.\n",
       "3                                                                                                                                                                                                                                                                                                                                               2.  Spreadsheets that contain data for each of the Food Environment Atlas categories.\n",
       "4                                                                                                                                                                                                                                                                                                3.  County and State-level supplemental data that were used as the basis for a number of calculations in the Food Environment Atlas.\n",
       "5                                                                                                                                                                                                                                                                                                              Note: Data that were not available, not applicable, or suppressed for specific counties are denoted with a blank cell.\n",
       "6                                                                                                                                                                                                                                                                                                                                                                                                                    Release history:\n",
       "7                                                                                                                                                                                                                                                                                                                                                                          The original release date of this file is September, 2017.\n",
       "8                                                                                                                                                                                                                                                                                                                                                                   This file supercedes the orginal file with the following changes:\n",
       "9   On March 12, 2018, 5 variables--SNAP benefits per capita, 2010; SNAP benefits per capita, 2015; SNAP benefits per capita (% change), 2010-15; Farmers' markets/1,000 pop, 2016; and Farmers' markets/1,000 pop (% change), 2009-16-- were corrected due to an error using the wrong population estimates in the denominator for 5 counties in South Dakota. These counties are Pennington, Perkins, Potter, Roberts, and Sanborn.\n",
       "10                                     On March 26, 2018, 4 variables--SNAP-authorized stores, 2016; SNAP-authorized stores (% change), 2012-16; SNAP-authorized stores/1,000 pop, 2016;  SNAP-authorized stores/1,000 pop (% change), 2012-16--were recalculated so that the weighting methodology for the number of stores in the county authorized to accept SNAP benefits in 2016 matched the weighting methodology used in 2012.\n",
       "11                                                                                                                                                                                                                                                                                                                              Previous releases occurred in August 2015, February 2014, November 2012, June 2012, and January 2011."
      ]
     },
     "execution_count": 9,
     "metadata": {},
     "output_type": "execute_result"
    }
   ],
   "source": [
    "main_page = pd.read_excel(xlsfile, dtype={'Food Environment Atlas data download': str})\n",
    "main_page"
   ]
  },
  {
   "cell_type": "code",
   "execution_count": 10,
   "metadata": {},
   "outputs": [
    {
     "data": {
      "text/plain": [
       "array(['Overall', 'Household Resources', 'Demographics', 'Grocery',\n",
       "       'Supercenters', 'Convenience', 'Specialized', 'SNAP-authorized',\n",
       "       'WIC-authorized', 'Fast-food', 'Full-service', 'Expenditures',\n",
       "       'SNAP', 'National School Lunch Program',\n",
       "       'School Breakfast Program', 'Summer Food Service Program', 'WIC',\n",
       "       'Child & Adult Care', 'FDPIR', 'State Food Insecurity', 'Prices',\n",
       "       'Sales Tax', 'Direct Sales', \"Farmers' Markets\",\n",
       "       'Farms & Crop Acreage', 'Other Local Food Outlets', 'Health',\n",
       "       'Physical Activity', 'Race & Age', 'Income Level', 'Other'],\n",
       "      dtype=object)"
      ]
     },
     "execution_count": 10,
     "metadata": {},
     "output_type": "execute_result"
    }
   ],
   "source": [
    "all_fields = pd.read_excel(xlsfile, sheet_name = 1)\n",
    "all_fields['Subcategory Name'].unique()"
   ]
  },
  {
   "cell_type": "code",
   "execution_count": 36,
   "metadata": {},
   "outputs": [],
   "source": [
    "## FUNCTION TO GET SHEETS OF MY FEILDS\n",
    "\n",
    "desired_columns = ['PCT_LACCESS_POP10', 'FFRPTH09']\n",
    "\n",
    "def get_sheets_num_for_cols(desired_columns):\n",
    "    results = {}\n",
    "    found = 0\n",
    "    for i in range (2, 12):\n",
    "        sheet = pd.read_excel(xlsfile, sheet_name = i)\n",
    "        for col in Desired_columns:\n",
    "            if col in sheet.columns:\n",
    "                found += 1\n",
    "                results[col] = i\n",
    "                if found == len(Desired_columns):\n",
    "                    return results\n",
    "    return results\n",
    "#46"
   ]
  },
  {
   "cell_type": "code",
   "execution_count": 37,
   "metadata": {},
   "outputs": [
    {
     "data": {
      "text/plain": [
       "{'FFRPTH09': 6, 'PCT_LACCESS_POP10': 4}"
      ]
     },
     "execution_count": 37,
     "metadata": {},
     "output_type": "execute_result"
    }
   ],
   "source": [
    "get_sheets_num_for_cols(desired_columns)"
   ]
  },
  {
   "cell_type": "code",
   "execution_count": 56,
   "metadata": {},
   "outputs": [],
   "source": [
    "low_access_df = pd.read_excel(xlsfile, sheet_name = 4)\n",
    "low_access_df = low_access_df[['FIPS', 'State', 'County', \"PCT_LACCESS_POP10\"]].sort_values('FIPS').reset_index()"
   ]
  },
  {
   "cell_type": "code",
   "execution_count": 57,
   "metadata": {},
   "outputs": [
    {
     "data": {
      "text/plain": [
       "(3143, 5)"
      ]
     },
     "execution_count": 57,
     "metadata": {},
     "output_type": "execute_result"
    }
   ],
   "source": [
    "low_access_df.shape"
   ]
  },
  {
   "cell_type": "code",
   "execution_count": 58,
   "metadata": {
    "collapsed": true
   },
   "outputs": [],
   "source": [
    "fast_food_df = pd.read_excel(xlsfile, sheet_name = 6)\n",
    "fast_food_df = fast_food_df[['FIPS', 'State', 'County', \"FFRPTH09\"]].sort_values('FIPS').reset_index()"
   ]
  },
  {
   "cell_type": "code",
   "execution_count": 59,
   "metadata": {},
   "outputs": [
    {
     "data": {
      "text/plain": [
       "(3143, 5)"
      ]
     },
     "execution_count": 59,
     "metadata": {},
     "output_type": "execute_result"
    }
   ],
   "source": [
    "fast_food_df.shape"
   ]
  },
  {
   "cell_type": "code",
   "execution_count": 60,
   "metadata": {},
   "outputs": [
    {
     "data": {
      "text/html": [
       "<div>\n",
       "<style scoped>\n",
       "    .dataframe tbody tr th:only-of-type {\n",
       "        vertical-align: middle;\n",
       "    }\n",
       "\n",
       "    .dataframe tbody tr th {\n",
       "        vertical-align: top;\n",
       "    }\n",
       "\n",
       "    .dataframe thead th {\n",
       "        text-align: right;\n",
       "    }\n",
       "</style>\n",
       "<table border=\"1\" class=\"dataframe\">\n",
       "  <thead>\n",
       "    <tr style=\"text-align: right;\">\n",
       "      <th></th>\n",
       "      <th>index</th>\n",
       "      <th>FIPS</th>\n",
       "      <th>State</th>\n",
       "      <th>County</th>\n",
       "      <th>FFRPTH09</th>\n",
       "    </tr>\n",
       "  </thead>\n",
       "  <tbody>\n",
       "    <tr>\n",
       "      <th>3138</th>\n",
       "      <td>3138</td>\n",
       "      <td>56037</td>\n",
       "      <td>WY</td>\n",
       "      <td>Sweetwater</td>\n",
       "      <td>0.611787</td>\n",
       "    </tr>\n",
       "    <tr>\n",
       "      <th>3139</th>\n",
       "      <td>3139</td>\n",
       "      <td>56039</td>\n",
       "      <td>WY</td>\n",
       "      <td>Teton</td>\n",
       "      <td>1.177468</td>\n",
       "    </tr>\n",
       "    <tr>\n",
       "      <th>3140</th>\n",
       "      <td>3140</td>\n",
       "      <td>56041</td>\n",
       "      <td>WY</td>\n",
       "      <td>Uinta</td>\n",
       "      <td>0.712454</td>\n",
       "    </tr>\n",
       "    <tr>\n",
       "      <th>3141</th>\n",
       "      <td>3141</td>\n",
       "      <td>56043</td>\n",
       "      <td>WY</td>\n",
       "      <td>Washakie</td>\n",
       "      <td>0.949780</td>\n",
       "    </tr>\n",
       "    <tr>\n",
       "      <th>3142</th>\n",
       "      <td>3142</td>\n",
       "      <td>56045</td>\n",
       "      <td>WY</td>\n",
       "      <td>Weston</td>\n",
       "      <td>0.550509</td>\n",
       "    </tr>\n",
       "  </tbody>\n",
       "</table>\n",
       "</div>"
      ],
      "text/plain": [
       "      index   FIPS State      County  FFRPTH09\n",
       "3138   3138  56037    WY  Sweetwater  0.611787\n",
       "3139   3139  56039    WY       Teton  1.177468\n",
       "3140   3140  56041    WY       Uinta  0.712454\n",
       "3141   3141  56043    WY    Washakie  0.949780\n",
       "3142   3142  56045    WY      Weston  0.550509"
      ]
     },
     "execution_count": 60,
     "metadata": {},
     "output_type": "execute_result"
    }
   ],
   "source": [
    "fast_food_df.tail()"
   ]
  },
  {
   "cell_type": "code",
   "execution_count": 55,
   "metadata": {},
   "outputs": [
    {
     "data": {
      "text/html": [
       "<div>\n",
       "<style scoped>\n",
       "    .dataframe tbody tr th:only-of-type {\n",
       "        vertical-align: middle;\n",
       "    }\n",
       "\n",
       "    .dataframe tbody tr th {\n",
       "        vertical-align: top;\n",
       "    }\n",
       "\n",
       "    .dataframe thead th {\n",
       "        text-align: right;\n",
       "    }\n",
       "</style>\n",
       "<table border=\"1\" class=\"dataframe\">\n",
       "  <thead>\n",
       "    <tr style=\"text-align: right;\">\n",
       "      <th></th>\n",
       "      <th>FIPS</th>\n",
       "      <th>State</th>\n",
       "      <th>County</th>\n",
       "      <th>PCT_LACCESS_POP10</th>\n",
       "    </tr>\n",
       "  </thead>\n",
       "  <tbody>\n",
       "    <tr>\n",
       "      <th>3138</th>\n",
       "      <td>56037</td>\n",
       "      <td>WY</td>\n",
       "      <td>Sweetwater</td>\n",
       "      <td>30.570505</td>\n",
       "    </tr>\n",
       "    <tr>\n",
       "      <th>3139</th>\n",
       "      <td>56039</td>\n",
       "      <td>WY</td>\n",
       "      <td>Teton</td>\n",
       "      <td>29.174527</td>\n",
       "    </tr>\n",
       "    <tr>\n",
       "      <th>3140</th>\n",
       "      <td>56041</td>\n",
       "      <td>WY</td>\n",
       "      <td>Uinta</td>\n",
       "      <td>20.220414</td>\n",
       "    </tr>\n",
       "    <tr>\n",
       "      <th>3141</th>\n",
       "      <td>56043</td>\n",
       "      <td>WY</td>\n",
       "      <td>Washakie</td>\n",
       "      <td>10.915407</td>\n",
       "    </tr>\n",
       "    <tr>\n",
       "      <th>3142</th>\n",
       "      <td>56045</td>\n",
       "      <td>WY</td>\n",
       "      <td>Weston</td>\n",
       "      <td>17.209949</td>\n",
       "    </tr>\n",
       "  </tbody>\n",
       "</table>\n",
       "</div>"
      ],
      "text/plain": [
       "       FIPS State      County  PCT_LACCESS_POP10\n",
       "3138  56037    WY  Sweetwater          30.570505\n",
       "3139  56039    WY       Teton          29.174527\n",
       "3140  56041    WY       Uinta          20.220414\n",
       "3141  56043    WY    Washakie          10.915407\n",
       "3142  56045    WY      Weston          17.209949"
      ]
     },
     "execution_count": 55,
     "metadata": {},
     "output_type": "execute_result"
    }
   ],
   "source": [
    "low_access_df.tail()"
   ]
  },
  {
   "cell_type": "code",
   "execution_count": 71,
   "metadata": {},
   "outputs": [
    {
     "data": {
      "text/html": [
       "<div>\n",
       "<style scoped>\n",
       "    .dataframe tbody tr th:only-of-type {\n",
       "        vertical-align: middle;\n",
       "    }\n",
       "\n",
       "    .dataframe tbody tr th {\n",
       "        vertical-align: top;\n",
       "    }\n",
       "\n",
       "    .dataframe thead th {\n",
       "        text-align: right;\n",
       "    }\n",
       "</style>\n",
       "<table border=\"1\" class=\"dataframe\">\n",
       "  <thead>\n",
       "    <tr style=\"text-align: right;\">\n",
       "      <th></th>\n",
       "      <th>FIPS</th>\n",
       "      <th>State</th>\n",
       "      <th>County</th>\n",
       "      <th>FFRPTH09</th>\n",
       "      <th>PCT_LACCESS_POP10</th>\n",
       "    </tr>\n",
       "  </thead>\n",
       "  <tbody>\n",
       "    <tr>\n",
       "      <th>0</th>\n",
       "      <td>1001</td>\n",
       "      <td>AL</td>\n",
       "      <td>Autauga</td>\n",
       "      <td>0.554170</td>\n",
       "      <td>33.769657</td>\n",
       "    </tr>\n",
       "    <tr>\n",
       "      <th>1</th>\n",
       "      <td>1003</td>\n",
       "      <td>AL</td>\n",
       "      <td>Baldwin</td>\n",
       "      <td>0.624282</td>\n",
       "      <td>19.318473</td>\n",
       "    </tr>\n",
       "    <tr>\n",
       "      <th>2</th>\n",
       "      <td>1005</td>\n",
       "      <td>AL</td>\n",
       "      <td>Barbour</td>\n",
       "      <td>0.759301</td>\n",
       "      <td>20.840972</td>\n",
       "    </tr>\n",
       "    <tr>\n",
       "      <th>3</th>\n",
       "      <td>1007</td>\n",
       "      <td>AL</td>\n",
       "      <td>Bibb</td>\n",
       "      <td>0.305131</td>\n",
       "      <td>4.559753</td>\n",
       "    </tr>\n",
       "    <tr>\n",
       "      <th>4</th>\n",
       "      <td>1009</td>\n",
       "      <td>AL</td>\n",
       "      <td>Blount</td>\n",
       "      <td>0.418549</td>\n",
       "      <td>2.700840</td>\n",
       "    </tr>\n",
       "  </tbody>\n",
       "</table>\n",
       "</div>"
      ],
      "text/plain": [
       "   FIPS State   County  FFRPTH09  PCT_LACCESS_POP10\n",
       "0  1001    AL  Autauga  0.554170          33.769657\n",
       "1  1003    AL  Baldwin  0.624282          19.318473\n",
       "2  1005    AL  Barbour  0.759301          20.840972\n",
       "3  1007    AL     Bibb  0.305131           4.559753\n",
       "4  1009    AL   Blount  0.418549           2.700840"
      ]
     },
     "execution_count": 71,
     "metadata": {},
     "output_type": "execute_result"
    }
   ],
   "source": [
    "final_df = pd.merge(fast_food_df, low_access_df).drop('index', axis = 1)\n",
    "final_df.head()"
   ]
  },
  {
   "cell_type": "code",
   "execution_count": 72,
   "metadata": {
    "collapsed": true
   },
   "outputs": [],
   "source": [
    "final_df.to_csv('../data/Food_Env_Atlas_1.csv')"
   ]
  },
  {
   "cell_type": "code",
   "execution_count": null,
   "metadata": {
    "collapsed": true
   },
   "outputs": [],
   "source": []
  }
 ],
 "metadata": {
  "kernelspec": {
   "display_name": "Python 3",
   "language": "python",
   "name": "python3"
  },
  "language_info": {
   "codemirror_mode": {
    "name": "ipython",
    "version": 3
   },
   "file_extension": ".py",
   "mimetype": "text/x-python",
   "name": "python",
   "nbconvert_exporter": "python",
   "pygments_lexer": "ipython3",
   "version": "3.6.8"
  }
 },
 "nbformat": 4,
 "nbformat_minor": 2
}
