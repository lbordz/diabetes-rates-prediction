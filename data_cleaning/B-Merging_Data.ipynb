{
 "cells": [
  {
   "cell_type": "code",
   "execution_count": 83,
   "metadata": {
    "collapsed": true
   },
   "outputs": [],
   "source": [
    "import pandas as pd"
   ]
  },
  {
   "cell_type": "code",
   "execution_count": 53,
   "metadata": {
    "collapsed": true
   },
   "outputs": [],
   "source": [
    "census = pd.read_csv('../data/Census_2010_rates_1.csv')\n",
    "unemp = pd.read_csv('../data/Unemployment_rates_1.csv')\n",
    "diabetes = pd.read_csv('../data/Diabetes_rates_2.csv')   #USING SECOND ONE WITH PCT INCREASE\n",
    "foodenv = pd.read_csv('../data/Food_Env_Atlas_1.csv')\n",
    "poverty = pd.read_csv('../data/Poverty_rates_1.csv')"
   ]
  },
  {
   "cell_type": "code",
   "execution_count": 54,
   "metadata": {
    "collapsed": true
   },
   "outputs": [],
   "source": [
    "dfs = [census, unemp, diabetes, foodenv, poverty]\n",
    "dfs_str = [\"census\", \"unemp\", \"diabetes\", \"foodenv\", \"poverty\"]\n"
   ]
  },
  {
   "cell_type": "code",
   "execution_count": 55,
   "metadata": {
    "collapsed": true
   },
   "outputs": [],
   "source": [
    "colname = {}\n",
    "for i in range(len(dfs_str)):\n",
    "    colname[dfs_str[i]] = [col for col in dfs[i].columns if col.lower().startswith('fip') ][0]"
   ]
  },
  {
   "cell_type": "code",
   "execution_count": 56,
   "metadata": {},
   "outputs": [
    {
     "data": {
      "text/plain": [
       "{'census': 'fips',\n",
       " 'diabetes': 'FIPS Codes',\n",
       " 'foodenv': 'FIPS',\n",
       " 'poverty': 'FIPS',\n",
       " 'unemp': 'FIPS'}"
      ]
     },
     "execution_count": 56,
     "metadata": {},
     "output_type": "execute_result"
    }
   ],
   "source": [
    "colname"
   ]
  },
  {
   "cell_type": "code",
   "execution_count": 57,
   "metadata": {},
   "outputs": [
    {
     "data": {
      "text/plain": [
       "(3142, 25)"
      ]
     },
     "execution_count": 57,
     "metadata": {},
     "output_type": "execute_result"
    }
   ],
   "source": [
    "census.shape"
   ]
  },
  {
   "cell_type": "code",
   "execution_count": 58,
   "metadata": {},
   "outputs": [
    {
     "data": {
      "text/plain": [
       "(3217, 4)"
      ]
     },
     "execution_count": 58,
     "metadata": {},
     "output_type": "execute_result"
    }
   ],
   "source": [
    "unemp.shape"
   ]
  },
  {
   "cell_type": "code",
   "execution_count": 59,
   "metadata": {},
   "outputs": [
    {
     "data": {
      "text/plain": [
       "(3223, 29)"
      ]
     },
     "execution_count": 59,
     "metadata": {},
     "output_type": "execute_result"
    }
   ],
   "source": [
    "big_df = pd.merge(census, unemp, left_on = \"fips\", right_on = 'FIPS', how = 'outer' )\n",
    "big_df.shape"
   ]
  },
  {
   "cell_type": "code",
   "execution_count": 61,
   "metadata": {},
   "outputs": [
    {
     "data": {
      "text/plain": [
       "(3224, 8)"
      ]
     },
     "execution_count": 61,
     "metadata": {},
     "output_type": "execute_result"
    }
   ],
   "source": [
    "diabetes.shape"
   ]
  },
  {
   "cell_type": "code",
   "execution_count": 31,
   "metadata": {},
   "outputs": [
    {
     "name": "stdout",
     "output_type": "stream",
     "text": [
      "<class 'pandas.core.frame.DataFrame'>\n",
      "RangeIndex: 3224 entries, 0 to 3223\n",
      "Data columns (total 8 columns):\n",
      "Unnamed: 0                  3224 non-null int64\n",
      "State                       3224 non-null object\n",
      "FIPS Codes                  3224 non-null int64\n",
      "County                      3224 non-null object\n",
      "DDP:2012:percent.8          3221 non-null float64\n",
      "DDP:2010:percent.6          3221 non-null float64\n",
      "DDP:2013:percent.9          3221 non-null float64\n",
      "Diabetes_pct_growth_rate    3221 non-null float64\n",
      "dtypes: float64(4), int64(2), object(2)\n",
      "memory usage: 201.6+ KB\n"
     ]
    }
   ],
   "source": [
    "diabetes.info()"
   ]
  },
  {
   "cell_type": "code",
   "execution_count": 62,
   "metadata": {},
   "outputs": [
    {
     "data": {
      "text/plain": [
       "(3230, 37)"
      ]
     },
     "execution_count": 62,
     "metadata": {},
     "output_type": "execute_result"
    }
   ],
   "source": [
    "big_df = pd.merge(big_df,diabetes, left_on ='FIPS', right_on = 'FIPS Codes', how = 'outer')\n",
    "big_df.shape"
   ]
  },
  {
   "cell_type": "code",
   "execution_count": 63,
   "metadata": {},
   "outputs": [
    {
     "name": "stdout",
     "output_type": "stream",
     "text": [
      "<class 'pandas.core.frame.DataFrame'>\n",
      "Int64Index: 3230 entries, 0 to 3229\n",
      "Data columns (total 37 columns):\n",
      "Unnamed: 0_x                3142 non-null float64\n",
      "STNAME                      3142 non-null object\n",
      "CTYNAME                     3142 non-null object\n",
      "fips                        3142 non-null float64\n",
      "AGEGRP                      3142 non-null float64\n",
      "TOT_POP                     3142 non-null float64\n",
      "pct_male                    3142 non-null float64\n",
      "2010:AgeGroup01:0-4         3142 non-null float64\n",
      "2010:AgeGroup02:5-9         3142 non-null float64\n",
      "2010:AgeGroup03:10-14       3142 non-null float64\n",
      "2010:AgeGroup04:15-19       3142 non-null float64\n",
      "2010:AgeGroup05:20-24       3142 non-null float64\n",
      "2010:AgeGroup06:25-29       3142 non-null float64\n",
      "2010:AgeGroup07:30-34       3142 non-null float64\n",
      "2010:AgeGroup08:35-39       3142 non-null float64\n",
      "2010:AgeGroup09:40-44       3142 non-null float64\n",
      "2010:AgeGroup10:45-49       3142 non-null float64\n",
      "2010:AgeGroup11:50-54       3142 non-null float64\n",
      "2010:AgeGroup12:55-59       3142 non-null float64\n",
      "2010:AgeGroup13:60-64       3142 non-null float64\n",
      "2010:AgeGroup14:65-69       3142 non-null float64\n",
      "2010:AgeGroup15:70-74       3142 non-null float64\n",
      "2010:AgeGroup16:75-79       3142 non-null float64\n",
      "2010:AgeGroup17:80-84       3142 non-null float64\n",
      "2010:AgeGroup18:85+         3142 non-null float64\n",
      "Unnamed: 0_y                3217 non-null float64\n",
      "FIPS                        3217 non-null float64\n",
      "Name                        3217 non-null object\n",
      "2010:UnemploymentRate       3214 non-null float64\n",
      "Unnamed: 0                  3224 non-null float64\n",
      "State                       3224 non-null object\n",
      "FIPS Codes                  3224 non-null float64\n",
      "County                      3224 non-null object\n",
      "DDP:2012:percent.8          3221 non-null float64\n",
      "DDP:2010:percent.6          3221 non-null float64\n",
      "DDP:2013:percent.9          3221 non-null float64\n",
      "Diabetes_pct_growth_rate    3221 non-null float64\n",
      "dtypes: float64(32), object(5)\n",
      "memory usage: 958.9+ KB\n"
     ]
    }
   ],
   "source": [
    "big_df.info()  #diabetes added one state"
   ]
  },
  {
   "cell_type": "code",
   "execution_count": 64,
   "metadata": {},
   "outputs": [
    {
     "name": "stdout",
     "output_type": "stream",
     "text": [
      "<class 'pandas.core.frame.DataFrame'>\n",
      "RangeIndex: 3143 entries, 0 to 3142\n",
      "Data columns (total 6 columns):\n",
      "Unnamed: 0           3143 non-null int64\n",
      "FIPS                 3143 non-null int64\n",
      "State                3143 non-null object\n",
      "County               3143 non-null object\n",
      "FFRPTH09             3143 non-null float64\n",
      "PCT_LACCESS_POP10    3143 non-null float64\n",
      "dtypes: float64(2), int64(2), object(2)\n",
      "memory usage: 147.4+ KB\n"
     ]
    }
   ],
   "source": [
    "foodenv.info()"
   ]
  },
  {
   "cell_type": "code",
   "execution_count": 65,
   "metadata": {},
   "outputs": [
    {
     "data": {
      "text/plain": [
       "(3143, 6)"
      ]
     },
     "execution_count": 65,
     "metadata": {},
     "output_type": "execute_result"
    }
   ],
   "source": [
    "foodenv.shape   #food env added another state"
   ]
  },
  {
   "cell_type": "code",
   "execution_count": 66,
   "metadata": {},
   "outputs": [
    {
     "data": {
      "text/plain": [
       "(3237, 42)"
      ]
     },
     "execution_count": 66,
     "metadata": {},
     "output_type": "execute_result"
    }
   ],
   "source": [
    "big_df = pd.merge(big_df,foodenv, on ='FIPS', how = 'outer')    #there are 7 in food environment not in merge so far\n",
    "big_df.shape"
   ]
  },
  {
   "cell_type": "code",
   "execution_count": 67,
   "metadata": {},
   "outputs": [
    {
     "name": "stdout",
     "output_type": "stream",
     "text": [
      "<class 'pandas.core.frame.DataFrame'>\n",
      "RangeIndex: 3142 entries, 0 to 3141\n",
      "Data columns (total 5 columns):\n",
      "Unnamed: 0           3142 non-null int64\n",
      "FIPS                 3142 non-null int64\n",
      "State                3142 non-null object\n",
      "County               3142 non-null object\n",
      "Poverty Rate 2010    3142 non-null float64\n",
      "dtypes: float64(1), int64(2), object(2)\n",
      "memory usage: 122.8+ KB\n"
     ]
    }
   ],
   "source": [
    "poverty.info()"
   ]
  },
  {
   "cell_type": "code",
   "execution_count": 68,
   "metadata": {},
   "outputs": [
    {
     "data": {
      "text/plain": [
       "(3142, 5)"
      ]
     },
     "execution_count": 68,
     "metadata": {},
     "output_type": "execute_result"
    }
   ],
   "source": [
    "poverty.shape"
   ]
  },
  {
   "cell_type": "code",
   "execution_count": 69,
   "metadata": {},
   "outputs": [
    {
     "data": {
      "text/plain": [
       "(3237, 46)"
      ]
     },
     "execution_count": 69,
     "metadata": {},
     "output_type": "execute_result"
    }
   ],
   "source": [
    "big_df = pd.merge(big_df,poverty, on ='FIPS', how = 'outer' )  #there are 7 in food environment not in merge so far\n",
    "big_df.shape"
   ]
  },
  {
   "cell_type": "code",
   "execution_count": 70,
   "metadata": {},
   "outputs": [
    {
     "data": {
      "text/plain": [
       "Index(['Unnamed: 0_x', 'STNAME', 'CTYNAME', 'fips', 'AGEGRP', 'TOT_POP',\n",
       "       'pct_male', '2010:AgeGroup01:0-4', '2010:AgeGroup02:5-9',\n",
       "       '2010:AgeGroup03:10-14', '2010:AgeGroup04:15-19',\n",
       "       '2010:AgeGroup05:20-24', '2010:AgeGroup06:25-29',\n",
       "       '2010:AgeGroup07:30-34', '2010:AgeGroup08:35-39',\n",
       "       '2010:AgeGroup09:40-44', '2010:AgeGroup10:45-49',\n",
       "       '2010:AgeGroup11:50-54', '2010:AgeGroup12:55-59',\n",
       "       '2010:AgeGroup13:60-64', '2010:AgeGroup14:65-69',\n",
       "       '2010:AgeGroup15:70-74', '2010:AgeGroup16:75-79',\n",
       "       '2010:AgeGroup17:80-84', '2010:AgeGroup18:85+', 'Unnamed: 0_y', 'FIPS',\n",
       "       'Name', '2010:UnemploymentRate', 'Unnamed: 0_x', 'State_x',\n",
       "       'FIPS Codes', 'County_x', 'DDP:2012:percent.8', 'DDP:2010:percent.6',\n",
       "       'DDP:2013:percent.9', 'Diabetes_pct_growth_rate', 'Unnamed: 0_y',\n",
       "       'State_y', 'County_y', 'FFRPTH09', 'PCT_LACCESS_POP10', 'Unnamed: 0',\n",
       "       'State', 'County', 'Poverty Rate 2010'],\n",
       "      dtype='object')"
      ]
     },
     "execution_count": 70,
     "metadata": {},
     "output_type": "execute_result"
    }
   ],
   "source": [
    "big_df.columns"
   ]
  },
  {
   "cell_type": "code",
   "execution_count": 71,
   "metadata": {},
   "outputs": [
    {
     "data": {
      "text/plain": [
       "['fips', 'FIPS', 'FIPS Codes', 'FIPS', 'FIPS']"
      ]
     },
     "execution_count": 71,
     "metadata": {},
     "output_type": "execute_result"
    }
   ],
   "source": [
    "list(colname.values())"
   ]
  },
  {
   "cell_type": "code",
   "execution_count": 72,
   "metadata": {},
   "outputs": [
    {
     "data": {
      "text/plain": [
       "Index(['Unnamed: 0_x', 'STNAME', 'CTYNAME', 'fips', 'AGEGRP', 'TOT_POP',\n",
       "       'pct_male', '2010:AgeGroup01:0-4', '2010:AgeGroup02:5-9',\n",
       "       '2010:AgeGroup03:10-14', '2010:AgeGroup04:15-19',\n",
       "       '2010:AgeGroup05:20-24', '2010:AgeGroup06:25-29',\n",
       "       '2010:AgeGroup07:30-34', '2010:AgeGroup08:35-39',\n",
       "       '2010:AgeGroup09:40-44', '2010:AgeGroup10:45-49',\n",
       "       '2010:AgeGroup11:50-54', '2010:AgeGroup12:55-59',\n",
       "       '2010:AgeGroup13:60-64', '2010:AgeGroup14:65-69',\n",
       "       '2010:AgeGroup15:70-74', '2010:AgeGroup16:75-79',\n",
       "       '2010:AgeGroup17:80-84', '2010:AgeGroup18:85+', 'Unnamed: 0_y', 'FIPS',\n",
       "       'Name', '2010:UnemploymentRate', 'Unnamed: 0_x', 'State_x',\n",
       "       'FIPS Codes', 'County_x', 'DDP:2012:percent.8', 'DDP:2010:percent.6',\n",
       "       'DDP:2013:percent.9', 'Diabetes_pct_growth_rate', 'Unnamed: 0_y',\n",
       "       'State_y', 'County_y', 'FFRPTH09', 'PCT_LACCESS_POP10', 'Unnamed: 0',\n",
       "       'State', 'County', 'Poverty Rate 2010'],\n",
       "      dtype='object')"
      ]
     },
     "execution_count": 72,
     "metadata": {},
     "output_type": "execute_result"
    }
   ],
   "source": [
    "big_df.columns"
   ]
  },
  {
   "cell_type": "code",
   "execution_count": 73,
   "metadata": {},
   "outputs": [
    {
     "name": "stdout",
     "output_type": "stream",
     "text": [
      "<class 'pandas.core.frame.DataFrame'>\n",
      "Int64Index: 3237 entries, 0 to 3236\n",
      "Data columns (total 12 columns):\n",
      "STNAME        3142 non-null object\n",
      "State         3142 non-null object\n",
      "State_y       3143 non-null object\n",
      "State_x       3224 non-null object\n",
      "CTYNAME       3142 non-null object\n",
      "County_x      3224 non-null object\n",
      "County_y      3143 non-null object\n",
      "County        3142 non-null object\n",
      "Name          3217 non-null object\n",
      "fips          3142 non-null float64\n",
      "FIPS          3224 non-null float64\n",
      "FIPS Codes    3224 non-null float64\n",
      "dtypes: float64(3), object(9)\n",
      "memory usage: 328.8+ KB\n"
     ]
    }
   ],
   "source": [
    "big_df[list(colname.values()) + ['State'] + ['County']]\n",
    "\n",
    "big_df[['STNAME','State', 'State_y', 'State_x',  'CTYNAME', 'County_x', 'County_y',  'County', 'Name', 'fips', 'FIPS', \n",
    "'FIPS Codes']].info()"
   ]
  },
  {
   "cell_type": "code",
   "execution_count": 79,
   "metadata": {
    "collapsed": true
   },
   "outputs": [],
   "source": [
    "big_df_slim = big_df[['State', 'County', 'FIPS',  '2010:UnemploymentRate','DDP:2012:percent.8', 'Diabetes_pct_growth_rate','FFRPTH09', \n",
    "        'PCT_LACCESS_POP10', 'Poverty Rate 2010', 'pct_male',\n",
    "        '2010:AgeGroup01:0-4', '2010:AgeGroup02:5-9',\n",
    "       '2010:AgeGroup03:10-14', '2010:AgeGroup04:15-19',\n",
    "       '2010:AgeGroup05:20-24', '2010:AgeGroup06:25-29',\n",
    "       '2010:AgeGroup07:30-34', '2010:AgeGroup08:35-39',\n",
    "       '2010:AgeGroup09:40-44', '2010:AgeGroup10:45-49',\n",
    "       '2010:AgeGroup11:50-54', '2010:AgeGroup12:55-59',\n",
    "       '2010:AgeGroup13:60-64', '2010:AgeGroup14:65-69',\n",
    "       '2010:AgeGroup15:70-74', '2010:AgeGroup16:75-79',\n",
    "       '2010:AgeGroup17:80-84', '2010:AgeGroup18:85+', 'DDP:2010:percent.6']]\n",
    "\n"
   ]
  },
  {
   "cell_type": "code",
   "execution_count": 80,
   "metadata": {
    "collapsed": true
   },
   "outputs": [],
   "source": [
    "big_df_slim = big_df_slim[big_df_slim['FIPS'].isnull() == False]"
   ]
  },
  {
   "cell_type": "code",
   "execution_count": 81,
   "metadata": {},
   "outputs": [
    {
     "name": "stdout",
     "output_type": "stream",
     "text": [
      "<class 'pandas.core.frame.DataFrame'>\n",
      "Int64Index: 3224 entries, 0 to 3236\n",
      "Data columns (total 29 columns):\n",
      "State                       3142 non-null object\n",
      "County                      3142 non-null object\n",
      "FIPS                        3224 non-null float64\n",
      "2010:UnemploymentRate       3214 non-null float64\n",
      "DDP:2012:percent.8          3214 non-null float64\n",
      "Diabetes_pct_growth_rate    3214 non-null float64\n",
      "FFRPTH09                    3143 non-null float64\n",
      "PCT_LACCESS_POP10           3143 non-null float64\n",
      "Poverty Rate 2010           3142 non-null float64\n",
      "pct_male                    3136 non-null float64\n",
      "2010:AgeGroup01:0-4         3136 non-null float64\n",
      "2010:AgeGroup02:5-9         3136 non-null float64\n",
      "2010:AgeGroup03:10-14       3136 non-null float64\n",
      "2010:AgeGroup04:15-19       3136 non-null float64\n",
      "2010:AgeGroup05:20-24       3136 non-null float64\n",
      "2010:AgeGroup06:25-29       3136 non-null float64\n",
      "2010:AgeGroup07:30-34       3136 non-null float64\n",
      "2010:AgeGroup08:35-39       3136 non-null float64\n",
      "2010:AgeGroup09:40-44       3136 non-null float64\n",
      "2010:AgeGroup10:45-49       3136 non-null float64\n",
      "2010:AgeGroup11:50-54       3136 non-null float64\n",
      "2010:AgeGroup12:55-59       3136 non-null float64\n",
      "2010:AgeGroup13:60-64       3136 non-null float64\n",
      "2010:AgeGroup14:65-69       3136 non-null float64\n",
      "2010:AgeGroup15:70-74       3136 non-null float64\n",
      "2010:AgeGroup16:75-79       3136 non-null float64\n",
      "2010:AgeGroup17:80-84       3136 non-null float64\n",
      "2010:AgeGroup18:85+         3136 non-null float64\n",
      "DDP:2010:percent.6          3214 non-null float64\n",
      "dtypes: float64(27), object(2)\n",
      "memory usage: 755.6+ KB\n"
     ]
    }
   ],
   "source": [
    "big_df_slim.info()"
   ]
  },
  {
   "cell_type": "code",
   "execution_count": 82,
   "metadata": {
    "collapsed": true
   },
   "outputs": [],
   "source": [
    "big_df_slim.to_csv('../data/Finaldf_2.csv')   #second one, added the 'diabetes rates' info"
   ]
  },
  {
   "cell_type": "code",
   "execution_count": null,
   "metadata": {
    "collapsed": true
   },
   "outputs": [],
   "source": []
  },
  {
   "cell_type": "code",
   "execution_count": 209,
   "metadata": {
    "collapsed": true
   },
   "outputs": [],
   "source": [
    "## OLDER STUFF"
   ]
  },
  {
   "cell_type": "code",
   "execution_count": 149,
   "metadata": {},
   "outputs": [
    {
     "data": {
      "text/html": [
       "<div>\n",
       "<style scoped>\n",
       "    .dataframe tbody tr th:only-of-type {\n",
       "        vertical-align: middle;\n",
       "    }\n",
       "\n",
       "    .dataframe tbody tr th {\n",
       "        vertical-align: top;\n",
       "    }\n",
       "\n",
       "    .dataframe thead th {\n",
       "        text-align: right;\n",
       "    }\n",
       "</style>\n",
       "<table border=\"1\" class=\"dataframe\">\n",
       "  <thead>\n",
       "    <tr style=\"text-align: right;\">\n",
       "      <th></th>\n",
       "      <th>Unnamed: 0_x</th>\n",
       "      <th>fips</th>\n",
       "      <th>AGEGRP</th>\n",
       "      <th>TOT_POP</th>\n",
       "      <th>pct_male</th>\n",
       "      <th>2010:AgeGroup01:0-4</th>\n",
       "      <th>2010:AgeGroup02:5-9</th>\n",
       "      <th>2010:AgeGroup03:10-14</th>\n",
       "      <th>2010:AgeGroup04:15-19</th>\n",
       "      <th>2010:AgeGroup05:20-24</th>\n",
       "      <th>...</th>\n",
       "      <th>Unnamed: 0_y</th>\n",
       "      <th>FIPS</th>\n",
       "      <th>2010:UnemploymentRate</th>\n",
       "      <th>Unnamed: 0_x</th>\n",
       "      <th>FIPS Codes</th>\n",
       "      <th>Unnamed: 0_y</th>\n",
       "      <th>FFRPTH09</th>\n",
       "      <th>PCT_LACCESS_POP10</th>\n",
       "      <th>Unnamed: 0</th>\n",
       "      <th>Poverty Rate 2010</th>\n",
       "    </tr>\n",
       "  </thead>\n",
       "  <tbody>\n",
       "    <tr>\n",
       "      <th>count</th>\n",
       "      <td>2969.000000</td>\n",
       "      <td>2969.000000</td>\n",
       "      <td>2969.0</td>\n",
       "      <td>2.969000e+03</td>\n",
       "      <td>2969.000000</td>\n",
       "      <td>2969.000000</td>\n",
       "      <td>2969.000000</td>\n",
       "      <td>2969.000000</td>\n",
       "      <td>2969.000000</td>\n",
       "      <td>2969.000000</td>\n",
       "      <td>...</td>\n",
       "      <td>3217.000000</td>\n",
       "      <td>3224.000000</td>\n",
       "      <td>3214.000000</td>\n",
       "      <td>3224.00000</td>\n",
       "      <td>3224.000000</td>\n",
       "      <td>3143.000000</td>\n",
       "      <td>3143.000000</td>\n",
       "      <td>3143.000000</td>\n",
       "      <td>3142.000000</td>\n",
       "      <td>3142.000000</td>\n",
       "    </tr>\n",
       "    <tr>\n",
       "      <th>mean</th>\n",
       "      <td>281960.000000</td>\n",
       "      <td>30665.959919</td>\n",
       "      <td>0.0</td>\n",
       "      <td>9.771847e+04</td>\n",
       "      <td>0.499618</td>\n",
       "      <td>0.062386</td>\n",
       "      <td>0.063776</td>\n",
       "      <td>0.065946</td>\n",
       "      <td>0.069216</td>\n",
       "      <td>0.059495</td>\n",
       "      <td>...</td>\n",
       "      <td>48.494249</td>\n",
       "      <td>31372.754342</td>\n",
       "      <td>9.601805</td>\n",
       "      <td>1611.50000</td>\n",
       "      <td>31372.754342</td>\n",
       "      <td>1571.000000</td>\n",
       "      <td>0.561422</td>\n",
       "      <td>23.559330</td>\n",
       "      <td>1598.749523</td>\n",
       "      <td>16.295283</td>\n",
       "    </tr>\n",
       "    <tr>\n",
       "      <th>std</th>\n",
       "      <td>162871.952005</td>\n",
       "      <td>15010.968732</td>\n",
       "      <td>0.0</td>\n",
       "      <td>3.165378e+05</td>\n",
       "      <td>0.021222</td>\n",
       "      <td>0.011491</td>\n",
       "      <td>0.010244</td>\n",
       "      <td>0.009100</td>\n",
       "      <td>0.010986</td>\n",
       "      <td>0.024538</td>\n",
       "      <td>...</td>\n",
       "      <td>42.767668</td>\n",
       "      <td>16310.025278</td>\n",
       "      <td>3.511622</td>\n",
       "      <td>930.83296</td>\n",
       "      <td>16310.025278</td>\n",
       "      <td>907.450274</td>\n",
       "      <td>0.300987</td>\n",
       "      <td>20.250176</td>\n",
       "      <td>921.386733</td>\n",
       "      <td>6.437963</td>\n",
       "    </tr>\n",
       "    <tr>\n",
       "      <th>min</th>\n",
       "      <td>0.000000</td>\n",
       "      <td>1001.000000</td>\n",
       "      <td>0.0</td>\n",
       "      <td>8.200000e+01</td>\n",
       "      <td>0.432223</td>\n",
       "      <td>0.023587</td>\n",
       "      <td>0.018705</td>\n",
       "      <td>0.024390</td>\n",
       "      <td>0.021352</td>\n",
       "      <td>0.012552</td>\n",
       "      <td>...</td>\n",
       "      <td>1.000000</td>\n",
       "      <td>1001.000000</td>\n",
       "      <td>2.100000</td>\n",
       "      <td>0.00000</td>\n",
       "      <td>1001.000000</td>\n",
       "      <td>0.000000</td>\n",
       "      <td>0.000000</td>\n",
       "      <td>0.000000</td>\n",
       "      <td>2.000000</td>\n",
       "      <td>0.000000</td>\n",
       "    </tr>\n",
       "    <tr>\n",
       "      <th>25%</th>\n",
       "      <td>140980.000000</td>\n",
       "      <td>19003.000000</td>\n",
       "      <td>0.0</td>\n",
       "      <td>1.100800e+04</td>\n",
       "      <td>0.488955</td>\n",
       "      <td>0.055219</td>\n",
       "      <td>0.057466</td>\n",
       "      <td>0.060370</td>\n",
       "      <td>0.063137</td>\n",
       "      <td>0.046909</td>\n",
       "      <td>...</td>\n",
       "      <td>18.000000</td>\n",
       "      <td>19028.500000</td>\n",
       "      <td>7.300000</td>\n",
       "      <td>805.75000</td>\n",
       "      <td>19028.500000</td>\n",
       "      <td>785.500000</td>\n",
       "      <td>0.403243</td>\n",
       "      <td>10.847099</td>\n",
       "      <td>801.250000</td>\n",
       "      <td>11.685496</td>\n",
       "    </tr>\n",
       "    <tr>\n",
       "      <th>50%</th>\n",
       "      <td>281960.000000</td>\n",
       "      <td>30027.000000</td>\n",
       "      <td>0.0</td>\n",
       "      <td>2.574000e+04</td>\n",
       "      <td>0.495379</td>\n",
       "      <td>0.061248</td>\n",
       "      <td>0.063348</td>\n",
       "      <td>0.065775</td>\n",
       "      <td>0.068038</td>\n",
       "      <td>0.054535</td>\n",
       "      <td>...</td>\n",
       "      <td>39.000000</td>\n",
       "      <td>30022.000000</td>\n",
       "      <td>9.300000</td>\n",
       "      <td>1611.50000</td>\n",
       "      <td>30022.000000</td>\n",
       "      <td>1571.000000</td>\n",
       "      <td>0.565323</td>\n",
       "      <td>19.685956</td>\n",
       "      <td>1597.500000</td>\n",
       "      <td>15.579181</td>\n",
       "    </tr>\n",
       "    <tr>\n",
       "      <th>75%</th>\n",
       "      <td>422940.000000</td>\n",
       "      <td>45083.000000</td>\n",
       "      <td>0.0</td>\n",
       "      <td>6.556500e+04</td>\n",
       "      <td>0.503613</td>\n",
       "      <td>0.068137</td>\n",
       "      <td>0.068992</td>\n",
       "      <td>0.070882</td>\n",
       "      <td>0.073775</td>\n",
       "      <td>0.064486</td>\n",
       "      <td>...</td>\n",
       "      <td>66.000000</td>\n",
       "      <td>46107.500000</td>\n",
       "      <td>11.500000</td>\n",
       "      <td>2417.25000</td>\n",
       "      <td>46107.500000</td>\n",
       "      <td>2356.500000</td>\n",
       "      <td>0.703764</td>\n",
       "      <td>29.581054</td>\n",
       "      <td>2397.750000</td>\n",
       "      <td>19.827935</td>\n",
       "    </tr>\n",
       "    <tr>\n",
       "      <th>max</th>\n",
       "      <td>563920.000000</td>\n",
       "      <td>56045.000000</td>\n",
       "      <td>0.0</td>\n",
       "      <td>9.818605e+06</td>\n",
       "      <td>0.721106</td>\n",
       "      <td>0.125988</td>\n",
       "      <td>0.121339</td>\n",
       "      <td>0.121345</td>\n",
       "      <td>0.135608</td>\n",
       "      <td>0.270727</td>\n",
       "      <td>...</td>\n",
       "      <td>254.000000</td>\n",
       "      <td>72153.000000</td>\n",
       "      <td>28.800000</td>\n",
       "      <td>3223.00000</td>\n",
       "      <td>72153.000000</td>\n",
       "      <td>3142.000000</td>\n",
       "      <td>6.088280</td>\n",
       "      <td>100.000001</td>\n",
       "      <td>3193.000000</td>\n",
       "      <td>49.453491</td>\n",
       "    </tr>\n",
       "  </tbody>\n",
       "</table>\n",
       "<p>8 rows × 33 columns</p>\n",
       "</div>"
      ],
      "text/plain": [
       "        Unnamed: 0_x          fips  AGEGRP       TOT_POP     pct_male  \\\n",
       "count    2969.000000   2969.000000  2969.0  2.969000e+03  2969.000000   \n",
       "mean   281960.000000  30665.959919     0.0  9.771847e+04     0.499618   \n",
       "std    162871.952005  15010.968732     0.0  3.165378e+05     0.021222   \n",
       "min         0.000000   1001.000000     0.0  8.200000e+01     0.432223   \n",
       "25%    140980.000000  19003.000000     0.0  1.100800e+04     0.488955   \n",
       "50%    281960.000000  30027.000000     0.0  2.574000e+04     0.495379   \n",
       "75%    422940.000000  45083.000000     0.0  6.556500e+04     0.503613   \n",
       "max    563920.000000  56045.000000     0.0  9.818605e+06     0.721106   \n",
       "\n",
       "       2010:AgeGroup01:0-4  2010:AgeGroup02:5-9  2010:AgeGroup03:10-14  \\\n",
       "count          2969.000000          2969.000000            2969.000000   \n",
       "mean              0.062386             0.063776               0.065946   \n",
       "std               0.011491             0.010244               0.009100   \n",
       "min               0.023587             0.018705               0.024390   \n",
       "25%               0.055219             0.057466               0.060370   \n",
       "50%               0.061248             0.063348               0.065775   \n",
       "75%               0.068137             0.068992               0.070882   \n",
       "max               0.125988             0.121339               0.121345   \n",
       "\n",
       "       2010:AgeGroup04:15-19  2010:AgeGroup05:20-24  ...  Unnamed: 0_y  \\\n",
       "count            2969.000000            2969.000000  ...   3217.000000   \n",
       "mean                0.069216               0.059495  ...     48.494249   \n",
       "std                 0.010986               0.024538  ...     42.767668   \n",
       "min                 0.021352               0.012552  ...      1.000000   \n",
       "25%                 0.063137               0.046909  ...     18.000000   \n",
       "50%                 0.068038               0.054535  ...     39.000000   \n",
       "75%                 0.073775               0.064486  ...     66.000000   \n",
       "max                 0.135608               0.270727  ...    254.000000   \n",
       "\n",
       "               FIPS  2010:UnemploymentRate  Unnamed: 0_x    FIPS Codes  \\\n",
       "count   3224.000000            3214.000000    3224.00000   3224.000000   \n",
       "mean   31372.754342               9.601805    1611.50000  31372.754342   \n",
       "std    16310.025278               3.511622     930.83296  16310.025278   \n",
       "min     1001.000000               2.100000       0.00000   1001.000000   \n",
       "25%    19028.500000               7.300000     805.75000  19028.500000   \n",
       "50%    30022.000000               9.300000    1611.50000  30022.000000   \n",
       "75%    46107.500000              11.500000    2417.25000  46107.500000   \n",
       "max    72153.000000              28.800000    3223.00000  72153.000000   \n",
       "\n",
       "       Unnamed: 0_y     FFRPTH09  PCT_LACCESS_POP10   Unnamed: 0  \\\n",
       "count   3143.000000  3143.000000        3143.000000  3142.000000   \n",
       "mean    1571.000000     0.561422          23.559330  1598.749523   \n",
       "std      907.450274     0.300987          20.250176   921.386733   \n",
       "min        0.000000     0.000000           0.000000     2.000000   \n",
       "25%      785.500000     0.403243          10.847099   801.250000   \n",
       "50%     1571.000000     0.565323          19.685956  1597.500000   \n",
       "75%     2356.500000     0.703764          29.581054  2397.750000   \n",
       "max     3142.000000     6.088280         100.000001  3193.000000   \n",
       "\n",
       "       Poverty Rate 2010  \n",
       "count        3142.000000  \n",
       "mean           16.295283  \n",
       "std             6.437963  \n",
       "min             0.000000  \n",
       "25%            11.685496  \n",
       "50%            15.579181  \n",
       "75%            19.827935  \n",
       "max            49.453491  \n",
       "\n",
       "[8 rows x 33 columns]"
      ]
     },
     "execution_count": 149,
     "metadata": {},
     "output_type": "execute_result"
    }
   ],
   "source": [
    "big_df.describe()"
   ]
  },
  {
   "cell_type": "code",
   "execution_count": 163,
   "metadata": {},
   "outputs": [
    {
     "name": "stdout",
     "output_type": "stream",
     "text": [
      "<class 'pandas.core.frame.DataFrame'>\n",
      "Int64Index: 3231 entries, 0 to 3230\n",
      "Data columns (total 43 columns):\n",
      "Unnamed: 0_x             2969 non-null float64\n",
      "STNAME                   2969 non-null object\n",
      "CTYNAME                  2969 non-null object\n",
      "fips                     2969 non-null float64\n",
      "AGEGRP                   2969 non-null float64\n",
      "TOT_POP                  2969 non-null float64\n",
      "pct_male                 2969 non-null float64\n",
      "2010:AgeGroup01:0-4      2969 non-null float64\n",
      "2010:AgeGroup02:5-9      2969 non-null float64\n",
      "2010:AgeGroup03:10-14    2969 non-null float64\n",
      "2010:AgeGroup04:15-19    2969 non-null float64\n",
      "2010:AgeGroup05:20-24    2969 non-null float64\n",
      "2010:AgeGroup06:25-29    2969 non-null float64\n",
      "2010:AgeGroup07:30-34    2969 non-null float64\n",
      "2010:AgeGroup08:35-39    2969 non-null float64\n",
      "2010:AgeGroup09:40-44    2969 non-null float64\n",
      "2010:AgeGroup10:45-49    2969 non-null float64\n",
      "2010:AgeGroup11:50-54    2969 non-null float64\n",
      "2010:AgeGroup12:55-59    2969 non-null float64\n",
      "2010:AgeGroup13:60-64    2969 non-null float64\n",
      "2010:AgeGroup14:65-69    2969 non-null float64\n",
      "2010:AgeGroup15:70-74    2969 non-null float64\n",
      "2010:AgeGroup16:75-79    2969 non-null float64\n",
      "2010:AgeGroup17:80-84    2969 non-null float64\n",
      "2010:AgeGroup18:85+      2969 non-null float64\n",
      "Unnamed: 0_y             3217 non-null float64\n",
      "FIPS                     3224 non-null float64\n",
      "Name                     3217 non-null object\n",
      "2010:UnemploymentRate    3214 non-null float64\n",
      "Unnamed: 0_x             3224 non-null float64\n",
      "State_x                  3224 non-null object\n",
      "FIPS Codes               3224 non-null float64\n",
      "County_x                 3224 non-null object\n",
      "DDP:2012:percent.8       3224 non-null object\n",
      "Unnamed: 0_y             3143 non-null float64\n",
      "State_y                  3143 non-null object\n",
      "County_y                 3143 non-null object\n",
      "FFRPTH09                 3143 non-null float64\n",
      "PCT_LACCESS_POP10        3143 non-null float64\n",
      "Unnamed: 0               3142 non-null float64\n",
      "State                    3142 non-null object\n",
      "County                   3142 non-null object\n",
      "Poverty Rate 2010        3142 non-null float64\n",
      "dtypes: float64(33), object(10)\n",
      "memory usage: 1.1+ MB\n"
     ]
    }
   ],
   "source": [
    "big_df.info()"
   ]
  },
  {
   "cell_type": "code",
   "execution_count": null,
   "metadata": {
    "collapsed": true
   },
   "outputs": [],
   "source": []
  }
 ],
 "metadata": {
  "kernelspec": {
   "display_name": "Python 3",
   "language": "python",
   "name": "python3"
  },
  "language_info": {
   "codemirror_mode": {
    "name": "ipython",
    "version": 3
   },
   "file_extension": ".py",
   "mimetype": "text/x-python",
   "name": "python",
   "nbconvert_exporter": "python",
   "pygments_lexer": "ipython3",
   "version": "3.6.8"
  }
 },
 "nbformat": 4,
 "nbformat_minor": 2
}
