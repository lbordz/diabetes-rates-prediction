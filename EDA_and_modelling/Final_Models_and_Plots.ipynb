{
 "cells": [
  {
   "cell_type": "code",
   "execution_count": 141,
   "metadata": {},
   "outputs": [
    {
     "data": {
      "text/plain": [
       "'\\n\\n\\n\\ndef scale_data()\\nscalar = StandardScaler()\\n\\n\\n#SCALE!\\n\\nFOR MODEL FIT / TRNAFORMS --> MUST SCALE DATA THERE!!!!! (BC MUST BE FIT TO TRIAN)\\n\\n'"
      ]
     },
     "execution_count": 141,
     "metadata": {},
     "output_type": "execute_result"
    }
   ],
   "source": [
    "import pandas as pd\n",
    "import numpy as np\n",
    "\n",
    "\n",
    "\n",
    "\n",
    "# ----- HELPER FUNCTIONS ----\n",
    "\n",
    "def _create_df_dummy_states(df, state_col_name):\n",
    "    return pd.get_dummies(df[state_col_name], prefix='ST:')\n",
    "\n",
    "def _drop_cols(df, col_names):\n",
    "    for col in col_names:\n",
    "        df = df.drop(col, axis = 1)\n",
    "    return df\n",
    "\n",
    "\n",
    "## ------ CLEANING FEATURES ----- #\n",
    "\n",
    "def clean_reformat_features(filepath):\n",
    "\n",
    "    df = pd.read_csv(filepath)\n",
    "\n",
    "    #state dummies\n",
    "    states = _create_df_dummy_states(df, \"State_master\")\n",
    "    #if state dummies missing a state, add the column with all zeros\n",
    "    all_states = ['ST:_Alabama', 'ST:_Alaska', 'ST:_Arizona', 'ST:_Arkansas',\n",
    "       'ST:_California', 'ST:_Colorado', 'ST:_Connecticut', 'ST:_Delaware',\n",
    "       'ST:_District of Columbia', 'ST:_Florida', 'ST:_Georgia', 'ST:_Idaho',\n",
    "       'ST:_Illinois', 'ST:_Indiana', 'ST:_Iowa', 'ST:_Kansas', 'ST:_Kentucky',\n",
    "       'ST:_Louisiana', 'ST:_Maine', 'ST:_Maryland', 'ST:_Massachusetts',\n",
    "       'ST:_Michigan', 'ST:_Minnesota', 'ST:_Mississippi', 'ST:_Missouri',\n",
    "       'ST:_Montana', 'ST:_Nebraska', 'ST:_Nevada', 'ST:_New Hampshire',\n",
    "       'ST:_New Jersey', 'ST:_New Mexico', 'ST:_New York',\n",
    "       'ST:_North Carolina', 'ST:_North Dakota', 'ST:_Ohio', 'ST:_Oklahoma',\n",
    "       'ST:_Oregon', 'ST:_Pennsylvania', 'ST:_Rhode Island',\n",
    "       'ST:_South Carolina', 'ST:_South Dakota', 'ST:_Tennessee', 'ST:_Texas',\n",
    "       'ST:_Utah', 'ST:_Vermont', 'ST:_Virginia', 'ST:_Washington',\n",
    "       'ST:_West Virginia', 'ST:_Wisconsin', 'ST:_Wyoming', 'ST:_Hawaii']\n",
    "    for state_col in all_states:\n",
    "         if state_col not in states.columns:\n",
    "             states[state_col] = [0] * states.shape[0]\n",
    "\n",
    "    df = df.join(states)\n",
    "    df = _drop_cols(df, ['State_master', 'ST:_Hawaii'])\n",
    "\n",
    "\n",
    "\n",
    "    #reduce ages into fewer Grps(otherwise high correlation)\n",
    "    df['Age:0-14'] = df['AgeGrp01:0-4:2010'] +  df['AgeGrp02:5-9:2010'] + df['AgeGrp03:10-14:2010']\n",
    "    df['Age:15-24'] = df['AgeGrp04:15-19:2010'] +  df['AgeGrp05:20-24:2010']\n",
    "    df['Age:25-44'] = df['AgeGrp06:25-29:2010'] +  df['AgeGrp07:30-34:2010'] + df['AgeGrp08:35-39:2010'] +  df['AgeGrp09:40-44:2010']\n",
    "    df['Age:45+'] = df['AgeGrp10:45-49:2010'] + df['AgeGrp11:50-54:2010'] + df['AgeGrp12:55-59:2010'] + df['AgeGrp13:60-64:2010'] + df['AgeGrp14:65-69:2010'] + df['AgeGrp15:70-74:2010'] + df['AgeGrp16:75-79:2010'] + df['AgeGrp17:80-84:2010'] + df['AgeGrp18:85+:2010']\n",
    "\n",
    "    dropped_ages = ['AgeGrp01:0-4:2010', 'AgeGrp02:5-9:2010', 'AgeGrp03:10-14:2010',\n",
    "       'AgeGrp04:15-19:2010', 'AgeGrp05:20-24:2010',\n",
    "       'AgeGrp06:25-29:2010', 'AgeGrp07:30-34:2010',\n",
    "       'AgeGrp08:35-39:2010', 'AgeGrp09:40-44:2010',\n",
    "       'AgeGrp10:45-49:2010', 'AgeGrp11:50-54:2010',\n",
    "       'AgeGrp12:55-59:2010', 'AgeGrp13:60-64:2010',\n",
    "       'AgeGrp14:65-69:2010', 'AgeGrp15:70-74:2010',\n",
    "       'AgeGrp16:75-79:2010', 'AgeGrp17:80-84:2010', 'AgeGrp18:85+:2010']\n",
    "\n",
    "    df = _drop_cols(df, dropped_ages)\n",
    "\n",
    "    #add % male feature\n",
    "    df[\"Male_pct_2010\"] =  (df[\"TOT_MALE\"] / df[\"TOT_POP\"])*100\n",
    "    df = _drop_cols(df, ['TOT_MALE'])\n",
    "\n",
    "    #create rate change features for diabetes and obesity, remove non-needed\n",
    "    df['DB:2009-2010:Rate_Change'] = (df[\"DB:2010:percent\"] - df['DB:2009:percent']) / df['DB:2009:percent']\n",
    "    df['OB:2009-2010:Rate_Change'] = (df[\"OB:2010:percent\"] - df['OB:2009:percent']) / df['OB:2009:percent']\n",
    "    df['LI:2009-2010:Rate_Change'] = (df[\"LI:2010:percent\"] - df['LI:2009:percent']) / df['LI:2009:percent']\n",
    "\n",
    "    df = _drop_cols(df, ['DB:2009:percent', 'OB:2009:percent', 'LI:2009:percent'])\n",
    "\n",
    "    #reformat census columns\n",
    "    # --> combine male.female into one\n",
    "    census_col_prefixes = ['BAC', 'IAC', 'AAC', 'NAC', 'H']\n",
    "    for race in census_col_prefixes:\n",
    "        df['CEN:2010:' + race] = (df[race + '_MALE'] + df[race + '_FEMALE']) / df[\"TOT_POP\"]\n",
    "        df = _drop_cols(df, [race + '_MALE', race + '_FEMALE'])\n",
    "    # --> remove columns no longer needed (WAC was heavily correlated with BAC, BAC performed better)\n",
    "    df = _drop_cols(df, ['TOT_POP', 'WAC_MALE', 'WAC_FEMALE'])\n",
    "\n",
    "    #fill in missing values *only 5 in training and test set, across differnet rows\n",
    "    df.fillna(df.mean(), inplace = True)\n",
    "\n",
    "    return df\n",
    "\n",
    "\n",
    "\n",
    "if __name__ == '__main__':\n",
    "    filepath_X = '../data/X_train.csv'\n",
    "    X_train = clean_reformat_features(filepath_X)\n",
    "    filepath_y = '../data/y_train.csv'\n",
    "    y_train = pd.read_csv(filepath_y)\n",
    "\n",
    "'''\n",
    "\n",
    "\n",
    "\n",
    "def scale_data()\n",
    "scalar = StandardScaler()\n",
    "\n",
    "\n",
    "#SCALE!\n",
    "\n",
    "FOR MODEL FIT / TRNAFORMS --> MUST SCALE DATA THERE!!!!! (BC MUST BE FIT TO TRIAN)\n",
    "\n",
    "'''\n"
   ]
  },
  {
   "cell_type": "code",
   "execution_count": 142,
   "metadata": {},
   "outputs": [],
   "source": [
    "filepath_Xtest = '../data/X_test.csv'\n",
    "X_test = clean_reformat_features(filepath_Xtest)\n",
    "filepath_ytest = '../data/y_test.csv'\n",
    "y_test = pd.read_csv(filepath_ytest)"
   ]
  },
  {
   "cell_type": "code",
   "execution_count": 15,
   "metadata": {},
   "outputs": [],
   "source": [
    "def warn(*args, **kwargs):\n",
    "    pass\n",
    "import warnings\n",
    "warnings.warn = warn"
   ]
  },
  {
   "cell_type": "code",
   "execution_count": 55,
   "metadata": {},
   "outputs": [],
   "source": [
    "from sklearn.linear_model import Lasso\n",
    "from sklearn.linear_model import Ridge\n",
    "from sklearn.preprocessing import StandardScaler\n",
    "\n",
    "\n",
    "from sklearn.model_selection import GridSearchCV\n",
    "from sklearn.model_selection import cross_val_score\n",
    "\n",
    "from sklearn.metrics import mean_squared_error \n"
   ]
  },
  {
   "cell_type": "markdown",
   "metadata": {},
   "source": [
    "# 0 Average"
   ]
  },
  {
   "cell_type": "code",
   "execution_count": 52,
   "metadata": {},
   "outputs": [
    {
     "data": {
      "text/plain": [
       "y_train    5.376988\n",
       "dtype: float64"
      ]
     },
     "execution_count": 52,
     "metadata": {},
     "output_type": "execute_result"
    }
   ],
   "source": [
    "avg = y_train.mean()\n",
    "avg"
   ]
  },
  {
   "cell_type": "code",
   "execution_count": 53,
   "metadata": {},
   "outputs": [
    {
     "data": {
      "text/plain": [
       "array([[5.3769882],\n",
       "       [5.3769882],\n",
       "       [5.3769882],\n",
       "       ...,\n",
       "       [5.3769882],\n",
       "       [5.3769882],\n",
       "       [5.3769882]])"
      ]
     },
     "execution_count": 53,
     "metadata": {},
     "output_type": "execute_result"
    }
   ],
   "source": [
    "y_pred_avg = np.array([avg] * X_train.shape[0])\n",
    "y_pred_avg"
   ]
  },
  {
   "cell_type": "code",
   "execution_count": 56,
   "metadata": {},
   "outputs": [
    {
     "data": {
      "text/plain": [
       "140.22171307415687"
      ]
     },
     "execution_count": 56,
     "metadata": {},
     "output_type": "execute_result"
    }
   ],
   "source": [
    "avg_model_mse = mean_squared_error(y_train, y_pred_avg)\n",
    "avg_model_mse"
   ]
  },
  {
   "cell_type": "markdown",
   "metadata": {},
   "source": [
    "# 1 SCALE DATA!!"
   ]
  },
  {
   "cell_type": "code",
   "execution_count": 18,
   "metadata": {},
   "outputs": [],
   "source": [
    "scalar = StandardScaler()\n",
    "X_train_scaled = scalar.fit_transform(X_train)"
   ]
  },
  {
   "cell_type": "markdown",
   "metadata": {},
   "source": [
    "# RIDGE: GRID SEARCH!"
   ]
  },
  {
   "cell_type": "code",
   "execution_count": 27,
   "metadata": {},
   "outputs": [],
   "source": [
    "ridge = Ridge(random_state=50)"
   ]
  },
  {
   "cell_type": "code",
   "execution_count": 29,
   "metadata": {},
   "outputs": [
    {
     "name": "stdout",
     "output_type": "stream",
     "text": [
      "{'alpha': [0.01, 0.05, 0.1, 0.25, 0.5, 1.0, 1.5, 3.0, 5.0, 8.0, 10.0, 20.0, 30.0, 50.0], 'solver': ['svd', 'cholesky', 'lsqr', 'sag', 'saga'], 'max_iter': [None, 200, 500, 1000, 2000, 5000]}\n"
     ]
    }
   ],
   "source": [
    "alpha = [.01, .05, .1, .25, .5, 1.0, 1.5, 3.0, 5.0, 8.0, 10.0, 20.0, 30.0, 50.0]  #larger values stronger regulation\n",
    "solver = ['svd', 'cholesky', 'lsqr','sag', 'saga']\n",
    "max_iter = [None, 200, 500, 1000, 2000, 5000]\n",
    "\n",
    "random_grid = {'alpha': alpha,\n",
    "               'solver': solver, \n",
    "              \"max_iter\" : max_iter}\n",
    "print(random_grid)"
   ]
  },
  {
   "cell_type": "code",
   "execution_count": 30,
   "metadata": {},
   "outputs": [
    {
     "data": {
      "text/plain": [
       "GridSearchCV(cv=3, error_score='raise-deprecating',\n",
       "       estimator=Ridge(alpha=1.0, copy_X=True, fit_intercept=True, max_iter=None,\n",
       "   normalize=False, random_state=50, solver='auto', tol=0.001),\n",
       "       fit_params=None, iid='warn', n_jobs=None,\n",
       "       param_grid={'alpha': [0.01, 0.05, 0.1, 0.25, 0.5, 1.0, 1.5, 3.0, 5.0, 8.0, 10.0, 20.0, 30.0, 50.0], 'solver': ['svd', 'cholesky', 'lsqr', 'sag', 'saga'], 'max_iter': [None, 200, 500, 1000, 2000, 5000]},\n",
       "       pre_dispatch='2*n_jobs', refit=True, return_train_score='warn',\n",
       "       scoring='neg_mean_squared_error', verbose=0)"
      ]
     },
     "execution_count": 30,
     "metadata": {},
     "output_type": "execute_result"
    }
   ],
   "source": [
    "ridgegrid = GridSearchCV(ridge, param_grid=random_grid, cv=3, scoring = 'neg_mean_squared_error')\n",
    "ridgegrid.fit(X_train_scaled, y_train)"
   ]
  },
  {
   "cell_type": "code",
   "execution_count": 31,
   "metadata": {},
   "outputs": [
    {
     "data": {
      "text/plain": [
       "{'alpha': 10.0, 'max_iter': None, 'solver': 'cholesky'}"
      ]
     },
     "execution_count": 31,
     "metadata": {},
     "output_type": "execute_result"
    }
   ],
   "source": [
    "ridgegrid.best_params_"
   ]
  },
  {
   "cell_type": "code",
   "execution_count": 32,
   "metadata": {},
   "outputs": [
    {
     "data": {
      "text/plain": [
       "-101.70832375844401"
      ]
     },
     "execution_count": 32,
     "metadata": {},
     "output_type": "execute_result"
    }
   ],
   "source": [
    "ridgegrid.best_score_"
   ]
  },
  {
   "cell_type": "code",
   "execution_count": 37,
   "metadata": {},
   "outputs": [],
   "source": [
    "ridgebest = Ridge(alpha =  10.0, max_iter = None, solver = 'cholesky')\n"
   ]
  },
  {
   "cell_type": "code",
   "execution_count": 116,
   "metadata": {},
   "outputs": [
    {
     "name": "stdout",
     "output_type": "stream",
     "text": [
      "-103.5202556876909\n"
     ]
    },
    {
     "data": {
      "text/plain": [
       "array([-102.09715666, -104.94335472])"
      ]
     },
     "execution_count": 116,
     "metadata": {},
     "output_type": "execute_result"
    }
   ],
   "source": [
    "score = cross_val_score(ridgebest, X_train_scaled, y_train, cv = 2, scoring = 'neg_mean_squared_error' )\n",
    "print(score.mean())\n",
    "score"
   ]
  },
  {
   "cell_type": "code",
   "execution_count": 111,
   "metadata": {},
   "outputs": [
    {
     "data": {
      "text/plain": [
       "Ridge(alpha=10.0, copy_X=True, fit_intercept=True, max_iter=None,\n",
       "   normalize=False, random_state=None, solver='cholesky', tol=0.001)"
      ]
     },
     "execution_count": 111,
     "metadata": {},
     "output_type": "execute_result"
    }
   ],
   "source": [
    "ridgebest.fit(X_train_scaled, y_train)"
   ]
  },
  {
   "cell_type": "code",
   "execution_count": 113,
   "metadata": {},
   "outputs": [
    {
     "data": {
      "text/plain": [
       "11"
      ]
     },
     "execution_count": 113,
     "metadata": {},
     "output_type": "execute_result"
    }
   ],
   "source": [
    "(abs(ridgebest.coef_) > 1.5).sum()"
   ]
  },
  {
   "cell_type": "code",
   "execution_count": 163,
   "metadata": {},
   "outputs": [],
   "source": [
    "y_pred = ridgebest.predict(X_test_scaled)"
   ]
  },
  {
   "cell_type": "code",
   "execution_count": 164,
   "metadata": {},
   "outputs": [
    {
     "data": {
      "text/plain": [
       "136.76797347251218"
      ]
     },
     "execution_count": 164,
     "metadata": {},
     "output_type": "execute_result"
    }
   ],
   "source": [
    "mean_squared_error(y_test, y_pred)"
   ]
  },
  {
   "cell_type": "markdown",
   "metadata": {},
   "source": [
    "# LASSO: GRID SEARCH!"
   ]
  },
  {
   "cell_type": "code",
   "execution_count": 42,
   "metadata": {},
   "outputs": [],
   "source": [
    "lasso = Lasso(random_state=50)"
   ]
  },
  {
   "cell_type": "code",
   "execution_count": 45,
   "metadata": {},
   "outputs": [
    {
     "name": "stdout",
     "output_type": "stream",
     "text": [
      "{'alpha': [0.01, 0.025, 0.05, 0.1, 0.25, 0.5, 1, 1.5, 2, 3, 5, 10, 20, 30, 50], 'max_iter': [200, 500, 1000, 2000, 5000]}\n"
     ]
    }
   ],
   "source": [
    "alpha = [.01, .025, .05, .1, .25, .5, 1, 1.5, 2, 3, 5, 10, 20, 30, 50]\n",
    "max_iter = [200, 500, 1000, 2000, 5000]\n",
    "\n",
    "random_grid = {'alpha': alpha,\n",
    "               'max_iter': max_iter}\n",
    "print(random_grid)"
   ]
  },
  {
   "cell_type": "code",
   "execution_count": 47,
   "metadata": {},
   "outputs": [
    {
     "data": {
      "text/plain": [
       "GridSearchCV(cv=3, error_score='raise-deprecating',\n",
       "       estimator=Lasso(alpha=1.0, copy_X=True, fit_intercept=True, max_iter=1000,\n",
       "   normalize=False, positive=False, precompute=False, random_state=50,\n",
       "   selection='cyclic', tol=0.0001, warm_start=False),\n",
       "       fit_params=None, iid='warn', n_jobs=None,\n",
       "       param_grid={'alpha': [0.01, 0.025, 0.05, 0.1, 0.25, 0.5, 1, 1.5, 2, 3, 5, 10, 20, 30, 50], 'max_iter': [200, 500, 1000, 2000, 5000]},\n",
       "       pre_dispatch='2*n_jobs', refit=True, return_train_score='warn',\n",
       "       scoring='neg_mean_squared_error', verbose=0)"
      ]
     },
     "execution_count": 47,
     "metadata": {},
     "output_type": "execute_result"
    }
   ],
   "source": [
    "lassogrid = GridSearchCV(lasso, param_grid=random_grid, cv=3, scoring = 'neg_mean_squared_error')\n",
    "lassogrid.fit(X_train_scaled, y_train)\n"
   ]
  },
  {
   "cell_type": "code",
   "execution_count": 50,
   "metadata": {},
   "outputs": [
    {
     "data": {
      "text/plain": [
       "{'alpha': 0.05, 'max_iter': 200}"
      ]
     },
     "execution_count": 50,
     "metadata": {},
     "output_type": "execute_result"
    }
   ],
   "source": [
    "lassogrid.best_params_"
   ]
  },
  {
   "cell_type": "code",
   "execution_count": 51,
   "metadata": {},
   "outputs": [
    {
     "data": {
      "text/plain": [
       "-101.28416419401209"
      ]
     },
     "execution_count": 51,
     "metadata": {},
     "output_type": "execute_result"
    }
   ],
   "source": [
    "lassogrid.best_score_"
   ]
  },
  {
   "cell_type": "code",
   "execution_count": 190,
   "metadata": {},
   "outputs": [],
   "source": [
    "lassobest = Lasso(alpha =  .5, max_iter = 1000)\n"
   ]
  },
  {
   "cell_type": "code",
   "execution_count": 191,
   "metadata": {},
   "outputs": [
    {
     "name": "stdout",
     "output_type": "stream",
     "text": [
      "-111.75042633643307\n"
     ]
    },
    {
     "data": {
      "text/plain": [
       "array([-106.59523631, -116.90561636])"
      ]
     },
     "execution_count": 191,
     "metadata": {},
     "output_type": "execute_result"
    }
   ],
   "source": [
    "score = cross_val_score(lassobest, X_train_scaled, y_train, cv = 2, scoring = 'neg_mean_squared_error' )\n",
    "print(score.mean())\n",
    "score"
   ]
  },
  {
   "cell_type": "code",
   "execution_count": 195,
   "metadata": {},
   "outputs": [
    {
     "data": {
      "text/plain": [
       "Lasso(alpha=0.5, copy_X=True, fit_intercept=True, max_iter=1000,\n",
       "   normalize=False, positive=False, precompute=False, random_state=None,\n",
       "   selection='cyclic', tol=0.0001, warm_start=False)"
      ]
     },
     "execution_count": 195,
     "metadata": {},
     "output_type": "execute_result"
    }
   ],
   "source": [
    "lassobest.fit(X_train_scaled, y_train)"
   ]
  },
  {
   "cell_type": "code",
   "execution_count": 196,
   "metadata": {},
   "outputs": [
    {
     "data": {
      "text/plain": [
       "array([-3.64450749e+00,  1.55665931e+00, -0.00000000e+00, -0.00000000e+00,\n",
       "        0.00000000e+00,  1.42987506e+00,  0.00000000e+00,  1.72281642e-01,\n",
       "       -6.03379698e-01, -0.00000000e+00,  4.38763941e-01, -6.34028273e-01,\n",
       "        0.00000000e+00,  0.00000000e+00,  0.00000000e+00, -2.35821004e-01,\n",
       "       -0.00000000e+00,  0.00000000e+00, -0.00000000e+00,  0.00000000e+00,\n",
       "       -0.00000000e+00, -4.01538510e-01,  0.00000000e+00,  1.49867099e-01,\n",
       "        7.28662456e-01, -0.00000000e+00, -0.00000000e+00, -0.00000000e+00,\n",
       "       -0.00000000e+00,  0.00000000e+00, -0.00000000e+00, -0.00000000e+00,\n",
       "       -0.00000000e+00,  0.00000000e+00,  0.00000000e+00,  0.00000000e+00,\n",
       "       -0.00000000e+00, -1.99316458e-03,  0.00000000e+00, -0.00000000e+00,\n",
       "        0.00000000e+00, -2.79902870e-02,  0.00000000e+00, -0.00000000e+00,\n",
       "        3.14980997e-01,  0.00000000e+00,  6.45190145e-02,  0.00000000e+00,\n",
       "        0.00000000e+00,  1.24980436e-01, -0.00000000e+00,  5.47345306e-01,\n",
       "       -1.16139977e+00, -7.12918347e-02, -0.00000000e+00, -2.57723853e-01,\n",
       "       -0.00000000e+00, -0.00000000e+00, -0.00000000e+00,  7.17840191e-02,\n",
       "       -0.00000000e+00, -0.00000000e+00, -0.00000000e+00, -0.00000000e+00,\n",
       "       -0.00000000e+00, -2.07072823e+00, -0.00000000e+00,  0.00000000e+00,\n",
       "        0.00000000e+00, -0.00000000e+00, -1.39554124e-01, -0.00000000e+00,\n",
       "       -6.22407753e-01])"
      ]
     },
     "execution_count": 196,
     "metadata": {},
     "output_type": "execute_result"
    }
   ],
   "source": [
    "lassobest.coef_"
   ]
  },
  {
   "cell_type": "code",
   "execution_count": 202,
   "metadata": {},
   "outputs": [
    {
     "data": {
      "text/plain": [
       "10"
      ]
     },
     "execution_count": 202,
     "metadata": {},
     "output_type": "execute_result"
    }
   ],
   "source": [
    "(abs(lassobest.coef_) > .5).sum()"
   ]
  },
  {
   "cell_type": "code",
   "execution_count": 203,
   "metadata": {},
   "outputs": [
    {
     "data": {
      "text/plain": [
       "Index(['DB:2010:percent', 'UnemploymentRate:2010', 'LI:2010:percent',\n",
       "       'Alcohol:Any:2010', 'ST:_Alaska', 'ST:_Iowa', 'ST:_Tennessee',\n",
       "       'ST:_Texas', 'DB:2009-2010:Rate_Change', 'CEN:2010:H'],\n",
       "      dtype='object')"
      ]
     },
     "execution_count": 203,
     "metadata": {},
     "output_type": "execute_result"
    }
   ],
   "source": [
    "X_train.columns[abs(lassobest.coef_) > .5]"
   ]
  },
  {
   "cell_type": "code",
   "execution_count": 106,
   "metadata": {},
   "outputs": [
    {
     "data": {
      "text/plain": [
       "array([-7.92489904,  2.26128023,  1.84931197,  1.44797427, -2.17311335,\n",
       "       -1.40484532, -1.18070471, -1.00593322,  1.00750512, -1.09419104,\n",
       "       -1.87679703,  1.34204478, -1.20593757])"
      ]
     },
     "execution_count": 106,
     "metadata": {},
     "output_type": "execute_result"
    }
   ],
   "source": [
    "lassobest.coef_[abs(lassobest.coef_) > 1]"
   ]
  },
  {
   "cell_type": "code",
   "execution_count": 119,
   "metadata": {},
   "outputs": [
    {
     "name": "stdout",
     "output_type": "stream",
     "text": [
      "(-7.924899040205686, 'DB:2010:percent')\n",
      "(2.2612802299019394, 'UnemploymentRate:2010')\n",
      "(1.8493119680463288, 'LI:2010:percent')\n",
      "(1.4479742705915162, 'Rural_percent_2010')\n",
      "(-2.1731133546859183, 'Alcohol:Any:2010')\n",
      "(-1.4048453154647444, 'ST:_Alaska')\n",
      "(-1.1807047114053997, 'ST:_Colorado')\n",
      "(-1.005933217754181, 'ST:_Idaho')\n",
      "(1.007505119508163, 'ST:_Iowa')\n",
      "(-1.0941910351551556, 'ST:_Texas')\n",
      "(-1.8767970321165168, 'DB:2009-2010:Rate_Change')\n",
      "(1.3420447768683614, 'CEN:2010:BAC')\n",
      "(-1.205937572703344, 'CEN:2010:H')\n"
     ]
    }
   ],
   "source": [
    "for i in zip(lassobest.coef_[abs(lassobest.coef_) > 1], X_train.columns[abs(lassobest.coef_) > 1]):\n",
    "    print (i)"
   ]
  },
  {
   "cell_type": "code",
   "execution_count": 159,
   "metadata": {},
   "outputs": [],
   "source": [
    "X_test_scaled = scalar.transform(X_test)"
   ]
  },
  {
   "cell_type": "code",
   "execution_count": 193,
   "metadata": {},
   "outputs": [],
   "source": [
    "y_pred = lassobest.predict(X_test_scaled)"
   ]
  },
  {
   "cell_type": "code",
   "execution_count": 194,
   "metadata": {},
   "outputs": [
    {
     "data": {
      "text/plain": [
       "125.3111334211078"
      ]
     },
     "execution_count": 194,
     "metadata": {},
     "output_type": "execute_result"
    }
   ],
   "source": [
    "mean_squared_error(y_test, y_pred)"
   ]
  },
  {
   "cell_type": "code",
   "execution_count": 143,
   "metadata": {},
   "outputs": [
    {
     "data": {
      "text/plain": [
       "(943, 73)"
      ]
     },
     "execution_count": 143,
     "metadata": {},
     "output_type": "execute_result"
    }
   ],
   "source": [
    "X_test.shape"
   ]
  },
  {
   "cell_type": "code",
   "execution_count": 127,
   "metadata": {},
   "outputs": [
    {
     "data": {
      "text/plain": [
       "(2199, 73)"
      ]
     },
     "execution_count": 127,
     "metadata": {},
     "output_type": "execute_result"
    }
   ],
   "source": [
    "X_train.shape"
   ]
  },
  {
   "cell_type": "code",
   "execution_count": 130,
   "metadata": {},
   "outputs": [
    {
     "data": {
      "text/plain": [
       "Index(['DB:2010:percent', 'UnemploymentRate:2010', 'PCT_LACCESS_POP10',\n",
       "       'FFRPTH09', 'Poverty_Rate_2010', 'LI:2010:percent', 'OB:2010:percent',\n",
       "       'Rural_percent_2010', 'Alcohol:Any:2010', 'Alcohol:Heavy:2010',\n",
       "       'ST:_Alabama', 'ST:_Alaska', 'ST:_Arizona', 'ST:_Arkansas',\n",
       "       'ST:_California', 'ST:_Colorado', 'ST:_Connecticut', 'ST:_Florida',\n",
       "       'ST:_Georgia', 'ST:_Idaho', 'ST:_Illinois', 'ST:_Indiana', 'ST:_Iowa',\n",
       "       'ST:_Kansas', 'ST:_Kentucky', 'ST:_Louisiana', 'ST:_Maine',\n",
       "       'ST:_Maryland', 'ST:_Massachusetts', 'ST:_Michigan', 'ST:_Minnesota',\n",
       "       'ST:_Mississippi', 'ST:_Missouri', 'ST:_Montana', 'ST:_Nebraska',\n",
       "       'ST:_Nevada', 'ST:_New Hampshire', 'ST:_New Jersey', 'ST:_New Mexico',\n",
       "       'ST:_New York', 'ST:_North Carolina', 'ST:_North Dakota', 'ST:_Ohio',\n",
       "       'ST:_Oklahoma', 'ST:_Oregon', 'ST:_Pennsylvania', 'ST:_Rhode Island',\n",
       "       'ST:_South Carolina', 'ST:_South Dakota', 'ST:_Tennessee', 'ST:_Texas',\n",
       "       'ST:_Utah', 'ST:_Vermont', 'ST:_Virginia', 'ST:_Washington',\n",
       "       'ST:_West Virginia', 'ST:_Wisconsin', 'ST:_Wyoming', 'Age:0-14',\n",
       "       'Age:15-24', 'Age:25-44', 'Age:45+', 'Male_pct_2010',\n",
       "       'DB:2009-2010:Rate_Change', 'OB:2009-2010:Rate_Change',\n",
       "       'LI:2009-2010:Rate_Change', 'CEN:2010:BAC', 'CEN:2010:IAC',\n",
       "       'CEN:2010:AAC', 'CEN:2010:NAC', 'CEN:2010:H'],\n",
       "      dtype='object')"
      ]
     },
     "execution_count": 130,
     "metadata": {},
     "output_type": "execute_result"
    }
   ],
   "source": []
  },
  {
   "cell_type": "code",
   "execution_count": 137,
   "metadata": {},
   "outputs": [
    {
     "data": {
      "text/plain": [
       "Index(['ST:_Alabama', 'ST:_Alaska', 'ST:_Arizona', 'ST:_Arkansas',\n",
       "       'ST:_California', 'ST:_Colorado', 'ST:_Connecticut', 'ST:_Delaware',\n",
       "       'ST:_District of Columbia', 'ST:_Florida', 'ST:_Georgia', 'ST:_Idaho',\n",
       "       'ST:_Illinois', 'ST:_Indiana', 'ST:_Iowa', 'ST:_Kansas', 'ST:_Kentucky',\n",
       "       'ST:_Louisiana', 'ST:_Maine', 'ST:_Maryland', 'ST:_Massachusetts',\n",
       "       'ST:_Michigan', 'ST:_Minnesota', 'ST:_Mississippi', 'ST:_Missouri',\n",
       "       'ST:_Montana', 'ST:_Nebraska', 'ST:_Nevada', 'ST:_New Hampshire',\n",
       "       'ST:_New Jersey', 'ST:_New Mexico', 'ST:_New York',\n",
       "       'ST:_North Carolina', 'ST:_North Dakota', 'ST:_Ohio', 'ST:_Oklahoma',\n",
       "       'ST:_Oregon', 'ST:_Pennsylvania', 'ST:_Rhode Island',\n",
       "       'ST:_South Carolina', 'ST:_South Dakota', 'ST:_Tennessee', 'ST:_Texas',\n",
       "       'ST:_Utah', 'ST:_Vermont', 'ST:_Virginia', 'ST:_Washington',\n",
       "       'ST:_West Virginia', 'ST:_Wisconsin', 'ST:_Wyoming'],\n",
       "      dtype='object')"
      ]
     },
     "execution_count": 137,
     "metadata": {},
     "output_type": "execute_result"
    }
   ],
   "source": [
    "X_train.columns[X_train.columns.str.startswith(\"ST:\")]\n"
   ]
  },
  {
   "cell_type": "code",
   "execution_count": 165,
   "metadata": {},
   "outputs": [],
   "source": [
    "# FINAL: RANDOM FOREST"
   ]
  },
  {
   "cell_type": "code",
   "execution_count": 168,
   "metadata": {},
   "outputs": [],
   "source": [
    "from sklearn.ensemble import RandomForestRegressor\n"
   ]
  },
  {
   "cell_type": "code",
   "execution_count": 489,
   "metadata": {},
   "outputs": [],
   "source": [
    "rfbest = RandomForestRegressor(max_depth = 20, min_samples_leaf = 5, n_estimators = 500, oob_score = True)"
   ]
  },
  {
   "cell_type": "code",
   "execution_count": 490,
   "metadata": {},
   "outputs": [
    {
     "data": {
      "text/plain": [
       "RandomForestRegressor(bootstrap=True, criterion='mse', max_depth=20,\n",
       "           max_features='auto', max_leaf_nodes=None,\n",
       "           min_impurity_decrease=0.0, min_impurity_split=None,\n",
       "           min_samples_leaf=5, min_samples_split=2,\n",
       "           min_weight_fraction_leaf=0.0, n_estimators=500, n_jobs=None,\n",
       "           oob_score=True, random_state=None, verbose=0, warm_start=False)"
      ]
     },
     "execution_count": 490,
     "metadata": {},
     "output_type": "execute_result"
    }
   ],
   "source": [
    "rfbest.fit(X_train, y_train)"
   ]
  },
  {
   "cell_type": "code",
   "execution_count": 491,
   "metadata": {},
   "outputs": [
    {
     "data": {
      "text/plain": [
       "111.2491430159424"
      ]
     },
     "execution_count": 491,
     "metadata": {},
     "output_type": "execute_result"
    }
   ],
   "source": [
    "y_pred = rfbest.oob_prediction_\n",
    "mean_squared_error(y_pred, y_train)"
   ]
  },
  {
   "cell_type": "code",
   "execution_count": 492,
   "metadata": {},
   "outputs": [],
   "source": [
    "#with test set"
   ]
  },
  {
   "cell_type": "code",
   "execution_count": 493,
   "metadata": {},
   "outputs": [
    {
     "data": {
      "text/plain": [
       "122.54953768082021"
      ]
     },
     "execution_count": 493,
     "metadata": {},
     "output_type": "execute_result"
    }
   ],
   "source": [
    "y_pred = rfbest.predict(X_test)\n",
    "mean_squared_error(y_pred, y_test)"
   ]
  },
  {
   "cell_type": "markdown",
   "metadata": {},
   "source": [
    "# My Diabets Model"
   ]
  },
  {
   "cell_type": "code",
   "execution_count": 239,
   "metadata": {},
   "outputs": [],
   "source": [
    "\n",
    "class Diabetes_Rate_Model():\n",
    "\n",
    "    def __init__(self):\n",
    "        self.scalar = StandardScaler()\n",
    "        self.modellinear =  Lasso(alpha =  .5, max_iter = 1000)\n",
    "        self.modelensemble = RandomForestRegressor(max_depth = 20, min_samples_leaf = 5, n_estimators = 1000)\n",
    "        self.mse_avg = None\n",
    "\n",
    "    def fit_linear(self, X_train, y_train):\n",
    "        self.X_train = X_train\n",
    "        self.y_train = y_train\n",
    "\n",
    "        self.scalar.fit(X_train)\n",
    "        self.X_train_scaled = self.scalar.transform(X_train)\n",
    "        self.modellinear.fit(self.X_train_scaled, self.y_train)\n",
    "        if not self.mse_avg:\n",
    "            yavg = self.y_train.mean()\n",
    "            y_pred_avg = np.array([yavg] * self.X_train.shape[0])\n",
    "            self.mse_avg = mean_squared_error(y_train, y_pred_avg)\n",
    "\n",
    "\n",
    "    def predict_linear(self, X):\n",
    "        X_scaled = self.scalar.transform(X)\n",
    "        return self.modellinear.predict(X_scaled)\n",
    "\n",
    "\n",
    "    def fit_ensemble(self, X_train, y_train):\n",
    "        self.X_train = X_train\n",
    "        self.y_train = y_train\n",
    "        self.modelensemble.fit(self.X_train, self.y_train)\n",
    "        if not self.mse_avg:\n",
    "            yavg = self.y_train.mean()\n",
    "            y_pred_avg = np.array([yavg] * self.X_train.shape[0])\n",
    "            self.mse_avg = mean_squared_error(y_train, y_pred_avg)\n",
    "\n",
    "    def predict_ensemble(self, X):\n",
    "        return self.modelensemble.predict(X)\n",
    "\n",
    "    def mse(self, y_true, y_pred):\n",
    "        return mean_squared_error(y_true, y_pred)\n",
    "\n",
    "    def mse_pct_improvement(self, y_true, y_pred):\n",
    "        mse = mean_squared_error(y_true, y_pred)\n",
    "        return (mse - self.mse_avg) / self.mse_avg\n"
   ]
  },
  {
   "cell_type": "code",
   "execution_count": 240,
   "metadata": {},
   "outputs": [],
   "source": [
    "model = Diabetes_Rate_Model()"
   ]
  },
  {
   "cell_type": "code",
   "execution_count": 223,
   "metadata": {},
   "outputs": [],
   "source": [
    "model.fit_linear(X_train, y_train)"
   ]
  },
  {
   "cell_type": "code",
   "execution_count": 224,
   "metadata": {},
   "outputs": [
    {
     "data": {
      "text/plain": [
       "array([ 7.94777024e+00, -1.84634493e-01,  5.44952025e+00,  1.46769278e+00,\n",
       "        2.33929988e+00,  7.84707647e+00,  9.30094262e+00,  7.89727358e+00,\n",
       "        5.58442684e+00,  7.07314420e+00,  6.94427463e+00,  1.22924517e+01,\n",
       "        8.01382846e+00,  6.77381127e+00,  1.00990800e+01,  7.53106716e+00,\n",
       "        5.89985275e+00,  4.49023699e+00,  6.83200844e+00,  7.05703954e+00,\n",
       "        5.80088121e+00,  3.10938043e+00,  2.37948703e+00,  9.14542840e+00,\n",
       "        6.91444671e+00,  6.11648409e+00,  7.24026546e+00,  7.53726666e+00,\n",
       "        7.66514693e+00,  4.07066488e+00,  1.03498664e+01,  7.00336051e+00,\n",
       "        4.81680551e+00,  1.29223540e+01,  6.82195262e+00,  6.01461388e+00,\n",
       "        6.07158623e+00,  1.69898362e+00,  1.46607376e+01,  4.04001371e+00,\n",
       "        5.10372982e+00,  2.64827440e+00,  1.30910783e+01,  2.66154297e+00,\n",
       "        5.32876048e+00,  7.29710954e+00,  1.02587595e+01,  5.87721399e+00,\n",
       "        4.58641488e+00, -1.22842611e+00,  1.63692272e+00,  6.20176072e+00,\n",
       "        6.04836750e+00,  3.51837405e+00,  4.04767692e+00,  5.76440812e+00,\n",
       "        9.03542663e+00,  4.01963372e+00,  5.19541087e+00, -8.90149978e-01,\n",
       "        6.69323686e+00,  3.65319079e+00,  7.96604005e+00,  1.02382973e+01,\n",
       "        4.65432352e+00,  9.40443378e+00,  8.00167123e+00,  8.49817592e+00,\n",
       "        2.54327003e-02,  7.28342341e+00,  1.17472021e+01,  8.90047350e+00,\n",
       "        6.29809313e+00,  1.21288771e+01,  5.10677467e+00,  6.76856104e-01,\n",
       "        6.20903810e+00,  6.54227965e+00,  9.56632661e+00,  7.01054344e+00,\n",
       "        6.88863970e+00,  4.34373746e+00,  2.36626836e+00,  4.13257353e+00,\n",
       "        5.87948804e+00, -1.42046257e+00,  4.26973585e+00,  3.03887089e+00,\n",
       "        2.79430302e+00,  3.94079253e+00,  6.47652727e+00,  2.31868622e+00,\n",
       "        6.43541495e+00,  5.18528423e+00,  5.59814855e+00,  9.06789233e+00,\n",
       "        1.28528042e+00,  3.42051805e+00,  8.95896401e+00,  8.90762293e+00,\n",
       "        7.94872030e+00,  3.63866730e+00,  7.26068673e+00,  8.62125526e+00,\n",
       "        7.36273915e+00, -7.83416853e-01,  1.61741814e+01,  7.52156899e+00,\n",
       "        6.49369600e+00,  1.58150824e+00,  1.18861282e+01,  3.87344182e+00,\n",
       "        4.91964841e-01,  7.06556317e+00,  6.38279110e+00,  8.13145393e+00,\n",
       "        7.60310131e+00,  3.98724705e+00,  5.65956185e+00,  7.22055773e+00,\n",
       "        9.93279717e+00, -9.16611459e-01,  3.73652171e+00,  3.47592466e+00,\n",
       "        5.67548868e+00, -2.77655073e-01,  7.78208185e+00,  3.78061063e+00,\n",
       "        1.85701576e+00,  2.43690885e+00, -5.61404623e-01,  4.02401741e+00,\n",
       "        7.70816194e+00,  7.15673673e+00,  4.81958332e+00, -9.19322467e-01,\n",
       "        9.98838983e+00,  1.42280159e+00,  7.75523762e+00,  9.27335511e+00,\n",
       "        5.61779711e+00,  7.97188056e-01,  3.76143741e+00,  3.72413576e+00,\n",
       "        1.21659260e+00,  5.56245633e+00,  7.53375517e+00,  7.47673510e+00,\n",
       "       -1.44912330e-01,  1.08317880e+01,  9.66881581e+00,  1.47923950e+01,\n",
       "        6.13850403e+00,  7.19972216e+00,  7.10795856e+00,  2.58579330e+00,\n",
       "        1.06905179e+01,  6.05936119e+00,  3.36868788e+00,  4.53210489e+00,\n",
       "        3.97895976e+00,  6.61167173e+00,  3.88795349e+00,  4.47673769e+00,\n",
       "        1.16169065e+01,  2.41960579e+00,  3.33950787e+00,  4.02190534e+00,\n",
       "        7.24263354e+00,  6.61393001e+00,  3.07622937e+00,  6.12310976e+00,\n",
       "        6.75107649e+00,  9.86231668e+00,  9.08634590e+00,  4.38448059e+00,\n",
       "       -5.84441664e-01,  7.59201133e+00,  6.97477089e+00,  3.74074270e+00,\n",
       "       -2.88998350e-01,  7.36250741e+00,  4.65833798e+00,  5.35344395e+00,\n",
       "        6.05534516e+00,  7.48557492e+00,  3.56097332e+00,  6.59210931e+00,\n",
       "        3.21490206e+00,  8.17492184e-01,  1.26458832e+00,  7.43867153e+00,\n",
       "        8.20399255e+00,  7.21173213e+00,  7.81084772e+00,  5.77532656e+00,\n",
       "        1.00075541e+01,  7.27614979e+00,  3.70250684e+00,  1.88669244e+00,\n",
       "        4.68149387e+00,  4.65035940e+00,  3.72453329e+00,  4.24150628e+00,\n",
       "        3.45379305e+00,  7.12580595e-01,  5.73243554e+00,  1.61129794e-01,\n",
       "        1.36498147e+00,  7.31643088e+00,  6.66200345e+00,  4.40630199e+00,\n",
       "        3.07799141e+00,  1.02168369e+01,  3.94857201e+00,  5.71407867e+00,\n",
       "        7.28307649e+00, -2.98885133e-02,  8.28844719e+00,  8.85442265e+00,\n",
       "        5.68618134e+00,  2.34473590e+00,  1.22336744e+01,  1.05038502e+01,\n",
       "        8.50599630e+00, -2.49327528e+00,  9.03381160e+00,  7.93199784e+00,\n",
       "        5.45750888e+00,  4.90476266e+00,  5.72988278e+00,  5.25136052e+00,\n",
       "        8.48992966e+00,  6.02607881e+00,  8.67875084e+00,  3.85210297e+00,\n",
       "        1.81155434e+01,  5.97215409e+00,  5.28888813e+00,  7.17483369e+00,\n",
       "        5.80423626e+00,  4.76677611e+00,  4.81941959e+00,  3.44168874e+00,\n",
       "        1.49691194e+01,  6.40246532e-01, -3.59062946e-01,  6.59898609e+00,\n",
       "        6.97134743e-01,  1.08321342e+01,  1.73714574e+00, -1.75820767e+00,\n",
       "        6.21349958e+00,  2.30644306e+00,  1.13993632e+01,  1.19744822e+01,\n",
       "        9.88265605e+00,  7.14959919e+00,  6.55572784e+00,  6.00801618e+00,\n",
       "        1.32553749e+01,  6.38046791e+00,  7.59358726e+00,  1.60650002e+00,\n",
       "        6.01457976e+00,  7.58081831e+00,  4.37180848e+00,  7.05325818e+00,\n",
       "        7.52579558e+00,  1.36592345e+00,  7.06241918e+00,  3.08907147e+00,\n",
       "        4.98537901e+00,  3.96070091e+00,  5.99271335e+00,  1.04912777e+00,\n",
       "        8.54614545e-01,  1.06126364e+01,  2.37813895e+00,  2.92078647e+00,\n",
       "        7.07330683e+00, -1.60002865e-01,  5.53585840e+00,  6.65386482e+00,\n",
       "        6.39039987e+00,  1.07978795e+01,  4.52867419e+00,  6.57950839e+00,\n",
       "        5.57633898e+00,  5.95208356e+00,  7.44184140e+00,  6.00438933e+00,\n",
       "        3.84807659e+00,  1.11601071e+01,  6.73361138e+00,  5.41929586e+00,\n",
       "        8.37726367e+00,  8.99535501e+00,  5.83187667e+00,  1.23296311e+01,\n",
       "        9.90285353e+00,  7.84478591e+00,  3.52191525e+00,  8.43075961e+00,\n",
       "        6.47276389e+00,  2.39063472e+00,  9.94214805e+00,  5.19300062e+00,\n",
       "        7.38971545e+00,  4.57809979e+00,  7.13461630e+00,  7.04509214e+00,\n",
       "       -2.34781379e+00,  5.66291317e+00, -4.68064939e-01,  5.11639362e+00,\n",
       "        1.18917209e+01, -5.26936862e+00,  6.26186273e+00,  4.28885501e+00,\n",
       "        5.08123608e+00,  7.92646224e+00,  3.29264522e+00,  1.73022338e+00,\n",
       "        6.23913345e+00,  6.61860564e+00,  3.16791321e+00,  6.37467370e+00,\n",
       "        5.08341825e+00,  9.49206221e+00,  3.63123547e+00,  2.38637617e+00,\n",
       "        6.84244995e+00,  8.35758803e+00,  3.55628292e+00,  2.86821656e+00,\n",
       "        7.65273875e+00,  4.71767072e+00,  3.67563822e+00,  6.51205691e+00,\n",
       "        5.24876967e+00,  1.16148804e+01,  4.29979361e+00,  9.19792489e+00,\n",
       "        5.81552523e+00,  7.69851879e+00,  7.72849012e+00,  2.35461681e+00,\n",
       "        7.27470498e+00,  4.09136429e-01,  3.08432104e+00,  1.01501350e+01,\n",
       "        6.72225334e+00,  5.99622398e+00,  4.94049867e+00,  6.25859788e+00,\n",
       "        8.68466993e+00,  2.78174322e+00,  6.80030093e+00,  6.14405375e+00,\n",
       "       -4.41742169e-01,  6.52394790e+00,  2.50526934e+00,  2.08341567e+00,\n",
       "        7.83840562e+00,  6.84779975e+00,  9.42813255e+00,  5.32249566e+00,\n",
       "       -1.26133959e-01,  5.80689658e+00,  8.64501969e+00,  4.90803834e+00,\n",
       "        5.79603716e+00,  6.13148362e+00,  4.87470326e+00,  8.18663183e+00,\n",
       "        5.51275047e+00,  5.46775619e+00,  7.76908312e+00,  4.56802707e+00,\n",
       "        3.40009053e+00,  5.62844593e+00,  2.71800270e+00,  4.83742858e+00,\n",
       "        8.04636621e+00,  6.89206825e+00,  1.01242712e+01,  2.96628732e+00,\n",
       "        1.65624885e+00,  3.07490272e+00,  1.78637823e+00,  7.58094945e+00,\n",
       "        1.41695780e+01, -9.03730795e-01,  5.89111119e+00,  9.34970401e-01,\n",
       "        8.43470874e+00,  7.61824859e+00,  2.25782357e+00,  3.71976821e+00,\n",
       "        5.22078107e+00,  1.84245207e+00,  7.38614969e+00,  4.69370701e+00,\n",
       "        6.65818399e+00,  1.25571560e+00,  3.66528469e+00,  4.40864074e+00,\n",
       "        8.07459112e+00,  5.12506070e-01,  9.21688991e+00,  8.08413422e+00,\n",
       "        4.82060219e+00,  6.92692436e+00,  4.77605082e+00,  8.03019737e+00,\n",
       "        1.01628803e+01,  4.96630494e+00,  7.66866268e+00,  8.37457095e+00,\n",
       "        3.96636739e+00,  1.20859854e+01,  4.84958319e+00,  8.94324662e+00,\n",
       "       -1.94537040e+00,  2.09375127e-01,  1.35696715e+00,  1.94510304e+00,\n",
       "        1.90767189e+00,  6.35013761e+00,  5.31373083e+00,  4.10463342e+00,\n",
       "        7.38872951e+00,  4.78533461e+00,  9.28962434e-01,  5.32338795e+00,\n",
       "        5.02291952e+00,  2.74662586e+00,  4.68835012e+00,  7.93423253e+00,\n",
       "        5.54285820e+00,  8.55850842e+00,  7.22458036e+00,  2.83447094e+00,\n",
       "        7.14033468e+00,  4.63889788e+00,  5.90544143e+00,  4.29711525e+00,\n",
       "        4.84624799e+00,  8.11474115e+00,  8.74990215e+00,  8.24430078e+00,\n",
       "        1.05173842e+01,  3.91967785e+00,  3.03058522e+00,  9.92126127e+00,\n",
       "        1.60228685e+01, -2.23247189e+00,  7.48283506e+00,  8.07848469e+00,\n",
       "        2.62139916e+00,  1.07042028e+01,  4.32974152e+00,  6.35309766e+00,\n",
       "        3.62675608e+00,  4.82239194e+00,  6.71952851e+00,  1.86620476e+00,\n",
       "        1.41865254e+00,  3.53172966e+00,  7.20301450e+00,  1.15501091e+01,\n",
       "        6.36218323e+00,  7.14065410e+00,  1.28924252e+00,  1.18186036e+01,\n",
       "        5.79257664e+00,  2.83234366e+00,  1.09101266e+01, -2.40832700e+00,\n",
       "        3.07938365e+00,  5.15187805e+00,  3.93764483e+00,  2.38500388e+00,\n",
       "        1.13937037e+01,  7.44523789e+00,  5.46351569e+00,  9.18555389e+00,\n",
       "        5.30711400e-01,  6.67160436e+00,  8.33555330e+00,  7.29852873e+00,\n",
       "        5.55368923e+00,  1.30791291e+01,  4.23091014e+00,  2.12027719e-01,\n",
       "        2.12531269e+00,  9.13414566e+00,  4.72683133e+00,  4.16276010e+00,\n",
       "        2.18823085e+00,  6.77380689e+00,  5.18778969e-02, -1.13422186e+00,\n",
       "        1.46998461e+00,  3.34998076e+00,  5.55081506e+00,  1.00925941e+01,\n",
       "        2.15804785e+00,  9.63419325e+00,  2.09588513e+00,  4.65091042e+00,\n",
       "        3.52757878e+00,  5.01327471e+00,  9.76813434e+00,  8.42828807e+00,\n",
       "        7.75754558e+00,  1.08807858e+01,  1.02448457e+01, -8.40097925e-01,\n",
       "        7.55513243e+00, -1.62997514e+00,  4.48248700e+00,  8.65015703e+00,\n",
       "        4.14977989e+00,  2.91962819e+00,  1.19603892e+01,  7.48764202e+00,\n",
       "        2.11335968e+00,  3.00311967e+00,  1.02158171e+01, -5.72266000e-01,\n",
       "        1.09397883e+01,  7.87870431e+00,  1.38732287e+01,  7.84501136e+00,\n",
       "        5.06082903e+00,  7.30546585e+00,  1.00310133e+01, -5.29674350e-01,\n",
       "        8.97985068e+00,  3.50586803e+00,  1.14981014e+01, -6.25302296e+00,\n",
       "        1.24111803e+01,  2.50168654e+00,  3.87370860e+00,  1.90181404e+00,\n",
       "        9.55961751e+00,  7.13896083e+00,  8.75278142e+00,  8.30008067e+00,\n",
       "        2.12319639e+00,  3.81943306e+00,  6.76428761e-01,  4.48103780e+00,\n",
       "        2.89095029e+00,  4.44202599e+00,  7.32631304e+00,  4.09809551e+00,\n",
       "        1.19943945e+01,  9.36119100e+00,  7.81198484e+00,  2.35486490e+00,\n",
       "        1.17514968e+01,  4.87421657e+00,  7.99600098e-01,  3.28192185e+00,\n",
       "        7.88621627e+00,  4.02424290e+00,  7.30455390e+00,  9.80121892e-01,\n",
       "        6.71847024e+00,  7.72378650e+00,  3.53151557e+00,  1.30709505e+01,\n",
       "        8.16889053e+00,  5.33325204e+00,  5.09725766e+00,  1.02567826e+01,\n",
       "        1.01710653e+01,  5.56721248e+00,  6.08270445e+00,  2.30001993e-03,\n",
       "       -1.07511232e+00,  6.87041774e+00,  9.19734869e+00,  6.71682492e+00,\n",
       "        8.21806431e+00,  3.92312496e+00,  9.43501567e+00,  4.28680877e+00,\n",
       "        9.92416966e+00,  6.02035191e+00,  8.04907460e+00,  1.19138661e+01,\n",
       "        2.75040118e+00, -1.95633493e+00,  6.06261136e+00,  1.38681676e+01,\n",
       "        3.32661241e+00,  5.26132072e-01,  7.75619341e+00,  1.45734432e+01,\n",
       "        1.26882959e+00,  2.17013370e+00,  4.70800106e+00,  2.10685967e+00,\n",
       "        6.29130055e+00,  1.69951442e+00,  6.53097034e+00,  5.45257153e+00,\n",
       "        4.49975779e+00,  5.25454654e+00,  1.34147088e+01,  2.97732718e+00,\n",
       "        6.50219963e+00,  1.04349839e+01,  3.77754806e+00,  8.84867940e+00,\n",
       "        7.17529490e+00,  5.92371650e+00,  8.25121557e+00,  9.80475564e+00,\n",
       "        5.18959119e+00,  9.84103418e+00,  5.22409918e+00,  4.26450665e+00,\n",
       "        9.18351713e+00,  6.97056892e+00,  7.20663003e+00,  4.46769280e+00,\n",
       "        2.78996156e+00,  1.09546269e+01,  6.70685514e+00,  1.60267359e+00,\n",
       "        3.26406217e+00,  3.38960333e+00,  5.47982926e+00,  5.18177791e+00,\n",
       "        6.14048156e+00,  1.07873654e+01,  3.94211185e+00,  3.87521690e+00,\n",
       "        9.83027351e+00,  4.02557998e+00,  1.52748253e+01,  3.54862809e+00,\n",
       "        3.20525148e+00,  4.57814535e+00,  3.16187781e+00,  2.12529879e+00,\n",
       "        7.57995694e+00,  4.12889032e+00, -1.02253328e+00,  6.79169293e+00,\n",
       "        8.07726835e+00,  1.10614565e+01, -1.74019985e-01,  1.35988697e+00,\n",
       "        3.24220372e+00,  1.01876648e+01,  2.31821614e+00,  4.05698728e+00,\n",
       "        7.32309192e+00,  3.96779289e+00,  7.90221491e+00,  5.50277781e+00,\n",
       "        5.57524194e+00,  5.79879400e+00, -2.76393235e+00,  2.87211539e+00,\n",
       "        2.83664876e+00,  4.94099514e+00,  5.53469601e+00,  6.12169129e+00,\n",
       "        6.09676671e+00,  3.39143864e-01, -3.14742195e+00,  1.63624573e+01,\n",
       "        4.58125031e+00,  6.63726172e+00,  4.77883411e+00,  7.09863070e+00,\n",
       "        1.18582727e+00,  2.82634706e+00,  7.75661458e+00,  3.04030385e+00,\n",
       "        9.23596178e+00,  1.85768166e+00,  9.09679660e+00, -7.73270278e-01,\n",
       "        7.24779930e+00,  4.93040307e+00,  4.25529332e+00,  6.68712616e+00,\n",
       "        6.82605138e+00,  7.81346797e+00,  1.76965083e+00,  5.97594139e+00,\n",
       "        6.96814911e+00,  9.09464739e+00,  1.52337724e+01,  5.00672280e+00,\n",
       "        9.51079139e+00,  4.64916012e+00,  2.40135933e+00,  2.27163816e+00,\n",
       "        6.23217511e+00,  5.27791690e+00,  6.57709467e+00,  5.51040497e+00,\n",
       "        9.58556353e+00,  3.15835058e+00,  4.62767056e+00,  5.89578114e+00,\n",
       "        7.00824181e+00,  9.84891183e+00,  1.29999320e+01,  8.44053438e+00,\n",
       "        7.57326797e+00,  8.83642842e+00,  7.23474856e-01,  1.52686445e+01,\n",
       "        3.41289250e+00,  1.71191640e+00,  3.39640709e+00,  4.78778491e+00,\n",
       "        5.07412735e+00,  6.03298645e+00,  9.68923298e+00,  3.78932895e+00,\n",
       "        1.99617420e+00,  7.82684776e+00,  1.16715574e+01,  1.08021408e+00,\n",
       "        1.09839166e+00,  3.70565980e-01,  8.95470941e+00,  8.54020540e+00,\n",
       "        7.96520705e+00,  2.84240965e+00,  2.35738626e+00,  7.79883609e+00,\n",
       "        6.99777848e+00,  7.98761188e+00,  2.52732455e+00,  5.18273865e+00,\n",
       "        8.12681759e+00,  5.55744051e+00,  7.73012583e+00,  9.90587588e+00,\n",
       "        1.37153196e+01,  5.26273880e+00,  4.78657112e+00,  3.80732106e+00,\n",
       "       -2.03533005e-01,  8.14837064e+00,  4.39604021e+00,  8.52928982e+00,\n",
       "        4.82142444e+00,  6.40587619e+00,  8.90549244e+00,  2.00152841e+00,\n",
       "        6.80605133e+00,  6.53810858e-01,  2.93353785e+00,  1.16520058e+01,\n",
       "        1.85189813e+00,  4.94776709e+00,  8.92114083e+00,  1.02415883e+01,\n",
       "        1.22038278e+01,  2.01455990e+00,  6.59670177e+00,  1.04882774e+01,\n",
       "        1.24107868e+01,  1.13299531e+01,  5.66971350e+00,  2.65978676e+00,\n",
       "        1.92414983e+00,  9.73153328e+00,  7.16054375e+00,  8.01185418e-01,\n",
       "        5.49833511e+00,  5.39091215e+00,  6.96780855e+00,  4.25599320e+00,\n",
       "        8.01483236e+00,  2.83668543e+00,  7.90083432e+00,  6.19184505e+00,\n",
       "       -2.28880853e+00,  8.74804984e+00,  1.39678685e+01,  6.55584429e+00,\n",
       "        9.31832953e+00,  5.90530737e+00,  1.17749952e+01,  3.05350735e+00,\n",
       "        8.94282305e+00,  5.26376973e+00,  1.81962651e+00,  5.63780630e+00,\n",
       "        9.01961137e+00,  1.10136600e+01,  2.94742286e+00,  5.65527944e+00,\n",
       "        1.13988815e+00,  2.81502368e+00,  2.86165130e+00,  4.84712320e+00,\n",
       "        7.27263486e+00,  8.82429491e+00,  1.84189904e+00,  5.09685190e+00,\n",
       "       -3.23707537e-01,  7.26832406e+00,  7.74312004e+00,  9.91193735e+00,\n",
       "        2.99335077e+00,  9.10962654e-01,  8.45859962e+00,  4.18900107e+00,\n",
       "        8.36114113e+00,  9.08464155e+00,  4.58132215e+00,  2.27827458e+00,\n",
       "        9.24108423e+00,  4.91645953e+00,  4.11742607e+00,  1.07688625e+01,\n",
       "        1.20326278e+00,  6.20080588e+00,  5.44537283e+00,  3.45068691e+00,\n",
       "        1.70116268e+01,  7.32590828e+00,  5.89459229e+00,  1.69382504e+00,\n",
       "        5.64281204e+00,  9.91212816e+00,  2.76408364e-01,  1.56510452e+01,\n",
       "        8.62123876e+00,  5.43204765e+00,  1.07063183e+01,  1.07370094e+01,\n",
       "        6.66815196e+00,  6.24498903e+00, -1.22738000e+00,  4.97383438e+00,\n",
       "        9.62650614e+00,  5.36240849e+00,  4.90128801e+00,  2.25986082e+00,\n",
       "        9.00866641e+00,  4.92442767e+00,  5.92261068e+00,  3.42439663e+00,\n",
       "        1.28639510e+01,  8.97306929e+00,  1.08523440e+00, -4.14778806e+00,\n",
       "        2.28593880e+00,  6.88946243e+00,  3.74421503e+00,  6.55232880e+00,\n",
       "        6.96383890e+00,  6.08571065e+00,  6.08027006e+00,  8.51008812e+00,\n",
       "        6.15899138e+00,  5.88143037e+00,  1.09430068e+01,  6.52512391e+00,\n",
       "        3.52117431e+00,  2.41100652e+00,  6.99304057e+00,  3.14578376e+00,\n",
       "        5.96553066e+00,  2.20137684e+00,  8.47407071e+00,  4.86766496e+00,\n",
       "        9.36499029e-01,  3.45955026e+00,  4.59938482e+00,  1.31077002e+01,\n",
       "        2.23855105e+00,  7.84511664e+00,  8.92696652e+00,  4.94466307e+00,\n",
       "        8.77717786e+00,  1.98751606e+00,  5.39802920e+00,  6.94583522e+00,\n",
       "        1.33419655e+01,  9.70835247e+00,  1.19604297e+01,  3.43028741e+00,\n",
       "        9.02275960e+00,  6.66292640e+00, -1.42599872e+00,  2.63288952e+00,\n",
       "        8.65182924e+00,  3.96545664e+00,  1.76591049e+00,  1.07681442e+01,\n",
       "        4.12158193e+00,  9.57897591e+00,  6.08637689e+00,  2.09108979e+00,\n",
       "        8.57377903e+00,  3.35800526e+00,  1.51641597e+01,  2.53463030e+00,\n",
       "        6.86781905e+00,  1.33134269e+01,  7.73224875e+00,  6.86202889e+00,\n",
       "        2.54767974e+00,  8.90117780e+00,  5.08134758e+00,  6.87527292e+00,\n",
       "        4.83049883e+00,  9.72953371e+00,  5.66875229e+00,  2.22449456e+00,\n",
       "        6.35384546e+00,  5.61998545e+00,  4.27112428e+00,  5.62387483e+00,\n",
       "        7.38057071e+00,  2.86041875e+00,  9.12717543e+00,  1.01129427e+01,\n",
       "        3.40948658e+00,  8.70046403e+00,  5.35793194e+00,  7.43310547e-01,\n",
       "        5.39626542e+00,  4.33239410e+00,  6.81183286e+00])"
      ]
     },
     "execution_count": 224,
     "metadata": {},
     "output_type": "execute_result"
    }
   ],
   "source": [
    "model.predict_linear(X_test)"
   ]
  },
  {
   "cell_type": "code",
   "execution_count": 225,
   "metadata": {},
   "outputs": [
    {
     "data": {
      "text/plain": [
       "125.3111334211078"
      ]
     },
     "execution_count": 225,
     "metadata": {},
     "output_type": "execute_result"
    }
   ],
   "source": [
    "model.mse(y_test, model.predict_linear(X_test))"
   ]
  },
  {
   "cell_type": "code",
   "execution_count": 228,
   "metadata": {},
   "outputs": [
    {
     "data": {
      "text/plain": [
       "-0.1063357402085335"
      ]
     },
     "execution_count": 228,
     "metadata": {},
     "output_type": "execute_result"
    }
   ],
   "source": [
    "model.mse_pct_improvement(y_test, model.predict_linear(X_test))"
   ]
  },
  {
   "cell_type": "code",
   "execution_count": 242,
   "metadata": {},
   "outputs": [],
   "source": [
    "model.fit_ensemble(X_train, y_train)"
   ]
  },
  {
   "cell_type": "code",
   "execution_count": 244,
   "metadata": {},
   "outputs": [
    {
     "data": {
      "text/plain": [
       "array([ 6.85947434e+00, -1.46606595e+00,  1.74833674e+00,  1.80330800e+00,\n",
       "        3.88586420e+00,  5.96312004e+00,  1.00172811e+01,  7.24138273e+00,\n",
       "        5.98479018e+00,  9.86489999e+00,  7.39805897e+00,  9.44466257e+00,\n",
       "        8.54985530e+00,  1.22735739e+01,  1.17400878e+01,  1.20489362e+01,\n",
       "        6.57246115e+00,  3.30888844e+00,  9.43379342e+00,  5.02811324e+00,\n",
       "       -2.54784058e+00,  1.50464365e-01,  2.89150968e+00,  5.52297260e+00,\n",
       "        8.74270562e+00,  4.15302241e+00,  4.50354889e+00,  7.46508213e+00,\n",
       "        6.44895381e+00,  2.28576138e+00,  1.00771065e+01,  6.38091224e+00,\n",
       "        3.26893892e+00,  1.13432663e+01,  8.27444296e+00,  3.89938359e+00,\n",
       "        3.75221543e+00,  4.27045612e-01,  1.54299095e+01,  6.47559288e+00,\n",
       "        3.61592961e+00,  3.04942918e+00,  1.25055712e+01,  4.02104904e+00,\n",
       "        7.14518909e+00,  6.28483220e+00,  1.31021627e+01,  4.61330592e+00,\n",
       "        7.76353909e+00, -9.35179975e-01,  3.47404841e+00,  2.61992909e+00,\n",
       "        9.20280720e+00,  3.37915260e+00,  5.25604944e+00,  3.61650142e+00,\n",
       "        1.13573790e+01,  1.37607993e+00,  5.98251675e+00, -3.53951407e+00,\n",
       "        1.17681703e+01,  2.60009660e+00,  8.12046847e+00,  9.54972455e+00,\n",
       "        4.79956930e+00,  4.68309480e+00,  4.58792526e+00,  7.17568288e+00,\n",
       "       -3.01192246e+00,  5.91238969e+00,  1.97938875e+01,  9.06420829e+00,\n",
       "        1.04516304e+01,  1.31872663e+01,  7.86234403e+00,  2.33469316e+00,\n",
       "        7.80608605e+00,  6.11865576e+00,  3.77217487e+00,  8.75081596e+00,\n",
       "        9.29970071e+00,  6.69831881e+00,  6.43543107e-01,  1.48782894e+00,\n",
       "        4.33215595e+00,  1.52361422e-01,  4.76606649e+00,  3.10427889e-01,\n",
       "        1.01024289e+00,  1.66064895e+00,  8.42614528e+00, -1.33584418e+00,\n",
       "        2.78789965e-01,  7.95863235e-02,  8.48663399e+00,  1.23415796e+01,\n",
       "       -1.13174429e+00,  3.47245785e+00,  8.69130956e+00,  1.08234856e+01,\n",
       "        9.26958840e+00,  4.19948291e+00,  8.16039665e+00,  9.15600983e+00,\n",
       "        7.54038159e+00, -1.56795778e-02,  1.38913902e+01,  1.05750803e+01,\n",
       "        2.00118993e+00,  1.45365712e+00,  7.18972230e+00,  2.48883334e+00,\n",
       "        3.36443396e+00,  7.73048673e+00,  1.40645914e+01,  9.97571632e+00,\n",
       "        7.04327579e+00,  2.97079661e+00,  3.94129445e+00,  1.09251578e+01,\n",
       "        1.45529114e+01, -1.79017004e+00,  2.95548421e+00,  3.60207751e+00,\n",
       "        9.43029220e+00, -3.41885590e+00,  8.77916183e+00,  3.90465076e+00,\n",
       "        2.82495986e+00,  1.52702020e+00,  6.11939814e-01,  5.08046281e-01,\n",
       "        8.23154009e+00,  4.84722836e+00,  2.26877741e+00, -3.69320275e+00,\n",
       "        5.77850542e+00, -2.66389080e+00,  8.12189959e+00,  6.37666124e+00,\n",
       "        4.85447516e+00,  5.98789106e-01,  3.93004941e+00,  2.92398883e+00,\n",
       "        1.16982552e+00,  6.57369906e+00,  6.21311367e+00,  2.47927448e+00,\n",
       "        6.83974437e-01,  7.91412515e+00,  1.12160675e+01,  5.61096097e+00,\n",
       "        8.93877743e+00,  7.94655284e+00,  7.02329833e+00,  1.77115071e+00,\n",
       "        1.62927085e+01,  4.27847522e+00,  1.46308768e+00,  2.81855082e+00,\n",
       "        4.29738395e+00,  8.59479005e+00,  6.07717704e+00,  4.20617875e+00,\n",
       "        1.50660706e+01,  7.38512684e+00,  5.33798150e+00,  4.87937521e+00,\n",
       "        4.29857412e+00,  3.54997282e+00,  1.79981673e-01,  7.07941717e+00,\n",
       "        9.44123581e+00,  1.21363873e+01,  9.00352421e+00,  4.42828133e-01,\n",
       "       -1.39786008e+00,  8.30352514e+00,  7.41758307e+00,  4.17559781e+00,\n",
       "       -4.56341635e+00,  1.06186539e+01,  6.32337535e+00,  2.73447619e+00,\n",
       "        8.48931477e+00,  7.86513945e+00,  1.03369104e+00,  6.61237628e+00,\n",
       "        7.07325137e-01,  5.88243192e-01,  9.19045811e-01,  7.84681652e+00,\n",
       "        6.93441406e+00,  6.81852238e+00,  7.90029788e+00,  6.15909044e+00,\n",
       "        6.86027020e+00,  1.30983333e+01,  7.76811272e-01,  2.83826151e+00,\n",
       "        3.84302419e+00,  4.13635037e+00,  5.77817640e+00,  2.90679598e+00,\n",
       "        3.09390199e+00,  5.07948378e+00, -2.22578171e-01, -3.79457124e+00,\n",
       "        9.63323866e-02,  6.74816168e+00,  1.12822078e+01,  5.43002951e+00,\n",
       "        2.68084698e+00,  7.35468092e+00,  4.61370716e+00,  8.11411472e+00,\n",
       "        5.80095933e-01,  6.71850160e-01,  1.47921963e+01,  2.60692127e+00,\n",
       "        3.75831123e+00, -5.84161920e-01,  1.86869869e+01,  1.20949932e+01,\n",
       "        1.28248067e+01,  2.77530517e+00,  1.11135657e+01,  2.77611812e-01,\n",
       "        2.32699112e+00,  8.95531559e+00,  2.37319056e+00,  4.60141512e+00,\n",
       "        2.07592646e+00,  7.80058272e+00,  1.30117413e+01,  3.17893703e+00,\n",
       "        8.03447216e+00,  1.04259490e+01,  2.34812311e+00,  1.12994338e+01,\n",
       "        2.70003420e+00,  5.78788921e+00,  5.80969858e+00,  3.13817034e+00,\n",
       "        1.34338981e+01, -2.99691642e+00,  2.26125763e+00,  6.70589922e+00,\n",
       "        2.63238019e+00,  9.86365150e+00, -6.33328188e-01,  1.10123838e+00,\n",
       "        7.72417753e+00,  5.36436450e+00,  9.94632566e+00,  1.07973230e+01,\n",
       "        8.20335649e+00,  5.29078687e+00,  7.37388955e+00,  4.35290319e+00,\n",
       "        2.16246215e+01,  6.76884416e+00,  6.04495482e+00,  5.93055115e-01,\n",
       "        7.37649718e+00,  1.48690996e+01,  6.03014334e+00,  9.41338559e+00,\n",
       "        9.66822509e+00,  4.38371025e+00,  1.53752981e+01,  4.21167308e+00,\n",
       "       -2.31055143e-01,  2.26690410e+00,  6.29894675e+00,  8.73874218e-02,\n",
       "        2.22211116e+00,  1.61916805e+01,  1.47519304e+00,  1.36495272e+00,\n",
       "       -9.83137795e-01, -3.09218431e+00,  8.05984522e+00,  7.17269251e+00,\n",
       "       -1.39035486e+00,  5.95187445e+00,  2.31497262e+00,  5.79100668e+00,\n",
       "        3.07469550e+00,  6.15349531e+00,  1.08391398e+01,  5.48785900e+00,\n",
       "       -3.84551873e-02,  9.89834901e+00,  6.51634680e+00,  4.05446040e+00,\n",
       "        6.99508024e+00,  1.17295171e+01,  7.61907361e+00,  1.52556565e+01,\n",
       "        1.33360951e+01,  1.27334947e+01,  2.34148616e-01,  8.09899557e+00,\n",
       "        9.43631003e+00, -6.22592338e-01,  6.92253545e+00,  2.13321787e+00,\n",
       "        6.81004024e+00,  6.13538081e+00,  7.52689734e+00,  5.26785924e+00,\n",
       "       -4.19792142e+00,  1.54332566e+00, -1.40608278e+00,  8.88630276e+00,\n",
       "        1.24427885e+01,  5.75727090e-01,  3.65636293e+00,  3.86176468e+00,\n",
       "        3.43335086e+00,  1.23110151e+01,  4.17164986e+00, -1.68794814e+00,\n",
       "        7.38394275e+00,  1.02778258e+01, -5.97312111e-01,  2.40333313e+00,\n",
       "        5.72008949e+00,  4.55486686e+00,  5.36588292e+00,  4.10020290e+00,\n",
       "        6.77208552e+00,  1.49445448e+01,  2.80953392e+00,  1.16127660e+00,\n",
       "        8.97416663e+00,  4.52662878e+00,  3.31923918e+00,  5.47268096e+00,\n",
       "        5.02946226e+00,  8.19616587e+00, -5.25673177e+00,  2.48279925e+00,\n",
       "        1.02815344e+01,  9.22963104e+00,  9.61290496e+00,  2.77421697e+00,\n",
       "        1.20273506e+01,  1.95631284e+00, -1.52142501e+00,  6.47577971e+00,\n",
       "        6.15941620e+00,  5.49981972e+00,  6.62033163e+00,  1.00857747e+01,\n",
       "        9.41516484e+00,  7.90263669e-01,  4.43994560e+00,  9.45399738e+00,\n",
       "       -4.38253425e+00,  5.41877534e+00,  1.33089447e+00,  1.03927699e+00,\n",
       "        4.83231601e+00,  1.46888276e+01,  1.12310503e+01,  3.09811559e+00,\n",
       "       -3.43256830e+00,  1.05419247e+01,  8.23912726e+00,  2.28081079e+00,\n",
       "        6.97319554e+00,  5.59067282e+00,  7.30394621e+00,  1.08949290e+01,\n",
       "        3.30450381e+00,  5.05375125e+00,  6.97013421e+00,  9.54492462e+00,\n",
       "        3.25878166e+00,  1.99389839e+00,  2.46431530e+00,  6.90479075e+00,\n",
       "        1.21195263e+01,  4.50854780e+00,  1.15469398e+01, -2.75359521e+00,\n",
       "       -8.83514807e-01,  1.20295150e+00,  1.87411855e+00,  1.19243691e+01,\n",
       "        1.10676936e+01, -2.39268800e+00,  3.18561171e+00, -2.53563254e+00,\n",
       "        1.02186890e+01,  1.08420743e+01, -1.57031145e+00,  5.10224436e+00,\n",
       "        5.73863418e+00,  6.97317957e-01,  1.17562481e+01,  3.06349344e+00,\n",
       "        1.04959862e+01, -9.58735732e-01,  5.68170487e+00, -7.08314060e-01,\n",
       "        7.49278920e+00, -3.06839419e+00,  1.11345513e+01,  1.36498969e+01,\n",
       "        3.06594910e+00,  6.83825071e+00,  2.06102325e-01,  2.00738507e+00,\n",
       "        9.72625822e+00,  4.99030561e+00,  8.21629995e+00,  1.14302868e+01,\n",
       "        1.28517339e+01,  1.20794671e+01,  5.68558766e+00,  1.46306724e+01,\n",
       "       -2.19034076e+00,  8.33177944e-01, -1.01017504e+00,  4.98172453e+00,\n",
       "       -8.12453032e-01,  9.12405241e+00,  1.11117969e+01, -7.08229875e-01,\n",
       "        4.13288681e+00,  5.20692201e+00,  2.23823247e+00,  6.32081353e+00,\n",
       "        1.60812876e+00,  1.57491270e-01,  6.91758019e+00,  7.12888863e+00,\n",
       "        6.35710569e+00,  1.52838156e+01,  8.00453454e+00,  4.36428294e+00,\n",
       "        8.99724925e+00, -4.41541767e-01,  8.52826996e+00,  7.81760147e+00,\n",
       "        4.09383890e+00,  1.25017501e+01,  4.51354538e+00,  1.34823941e+01,\n",
       "        6.91048533e+00,  8.53780185e+00,  1.96169250e+00,  9.41909392e+00,\n",
       "        9.62778418e+00, -1.59513043e-02,  1.51066167e+01,  1.11002839e+01,\n",
       "        7.02976160e+00,  6.04855338e+00,  5.03186204e+00,  9.13590271e+00,\n",
       "        2.68157044e+00,  8.52538763e-01,  7.12638808e+00,  3.76995839e+00,\n",
       "       -2.87645252e+00,  2.78484825e+00,  1.09542087e+01,  9.87934942e+00,\n",
       "        6.74186099e+00,  1.46218807e+01, -2.98563949e+00,  1.02418889e+01,\n",
       "        4.69130581e+00, -5.41915511e-01,  1.38737077e+01, -3.84336687e+00,\n",
       "        2.99162734e+00,  5.36736362e+00,  5.19359090e+00,  2.97893278e+00,\n",
       "        1.37917073e+01,  6.38218836e+00,  5.56361742e+00,  7.88032612e+00,\n",
       "       -1.21544509e+00,  1.34643580e+01,  1.05654129e+01,  1.04046749e+01,\n",
       "        5.36444353e+00,  1.05529414e+01,  2.82995747e+00,  1.59515331e+00,\n",
       "        1.61325696e+00,  8.43763160e+00,  9.28868735e+00,  3.96171017e+00,\n",
       "        3.86445077e+00,  1.12593982e+01, -4.64008469e-01,  5.78163058e+00,\n",
       "        4.84253637e+00,  3.07489155e+00,  3.55186424e+00,  5.07297344e+00,\n",
       "        2.07637799e+00,  9.68548647e+00,  1.18736718e+00,  4.38703664e+00,\n",
       "        2.32735840e+00,  4.08733681e+00,  8.75697940e+00,  9.62130824e+00,\n",
       "        2.98313013e+00,  6.99223825e+00,  1.48848320e+01, -2.15400437e+00,\n",
       "        5.90657015e+00, -5.86820869e-01,  6.05207991e+00,  1.26943216e+01,\n",
       "        5.61232172e+00, -6.10206665e-01,  1.35242141e+01,  6.34712890e+00,\n",
       "        1.24820172e+00,  1.26609256e+00,  1.00115729e+01,  3.95516640e+00,\n",
       "        1.54322765e+01,  7.43941424e+00,  1.34125237e+01,  1.03853411e+01,\n",
       "        4.55250714e+00,  7.12812905e+00,  5.30524410e+00, -2.15091380e+00,\n",
       "        6.33141464e+00,  2.46340623e+00,  1.55686205e+01, -6.03399750e+00,\n",
       "        9.93079065e+00,  1.31706177e+00,  6.56117434e+00,  2.23140377e+00,\n",
       "        1.00964500e+01,  7.57480699e+00,  1.68034127e+01,  9.52333765e+00,\n",
       "       -2.29095968e+00,  1.24306406e+01,  8.51141285e-01,  4.33063697e+00,\n",
       "       -3.09773955e-01,  2.91586273e+00,  9.38963770e+00,  4.86461824e+00,\n",
       "        6.69491604e+00,  8.32887396e+00,  1.89764958e+00,  4.74225317e+00,\n",
       "        1.36054431e+01,  8.01193264e+00, -6.29764337e-01,  1.27027891e+00,\n",
       "       -4.08147706e-01,  3.49610793e+00,  7.59064649e+00,  2.99385765e+00,\n",
       "        8.76811951e+00, -6.85942357e-01, -5.74339947e-01,  3.54998070e+00,\n",
       "        6.95772896e+00, -3.52461083e-01,  3.67913798e+00,  2.51838429e+00,\n",
       "        9.52440872e+00,  6.84898671e+00,  8.64666440e+00, -4.08288829e-01,\n",
       "       -3.27327712e+00,  9.09491992e+00,  1.17906731e+01,  8.34596846e+00,\n",
       "        9.33264580e+00,  2.33588713e+00,  1.19916449e+01,  6.37377971e+00,\n",
       "        1.05409238e+01,  9.68591587e+00,  6.63051917e+00,  1.78282225e+01,\n",
       "        2.68541480e+00, -2.03251997e+00,  1.00439676e+01,  1.37584056e+01,\n",
       "        2.36221933e+00,  2.88055198e-01,  1.07098427e+01,  8.52029775e+00,\n",
       "       -7.11351650e-03,  1.09627849e+01,  6.59114287e+00,  7.38996642e+00,\n",
       "        6.73496555e+00,  5.54376376e+00,  6.79489052e+00,  8.47706843e+00,\n",
       "        3.38380133e+00,  4.08636779e+00,  1.79810948e+01,  3.16447389e+00,\n",
       "        1.06937936e+01,  1.12865721e+01,  2.59094499e+00,  7.98970031e+00,\n",
       "        5.81996587e+00,  5.83797942e+00,  1.13222156e+01,  1.51713105e+01,\n",
       "        5.90559305e+00,  1.26336981e+01,  5.78014760e+00, -4.69760225e-02,\n",
       "        1.30769093e+01,  6.88452233e+00,  4.62096978e+00,  4.42876379e+00,\n",
       "        6.62418740e+00,  1.32520831e+01,  1.06644220e+01,  3.49195203e+00,\n",
       "       -7.99553490e-01,  5.08242920e+00,  7.48715321e+00,  7.47096785e+00,\n",
       "        2.93808616e+00,  1.01006587e+01,  5.02340393e+00,  5.42597448e+00,\n",
       "        1.35186144e+01,  3.77046048e+00,  1.79894318e+01,  3.04237366e+00,\n",
       "       -5.85124468e-01,  1.21215598e+00, -2.87061994e+00,  3.73354184e+00,\n",
       "        7.10373106e+00,  5.37510733e+00, -3.35070074e+00,  3.47598489e+00,\n",
       "        1.06898645e+01,  1.05386902e+01, -1.43953566e+00,  3.85777612e-01,\n",
       "       -1.00454001e+00,  9.45973693e+00, -1.05312237e+00,  6.63157834e+00,\n",
       "        5.23121341e+00, -2.05194758e+00,  1.07014104e+01,  3.77827997e+00,\n",
       "        7.46570582e+00,  4.40464476e+00, -1.14455068e+00,  8.09878820e+00,\n",
       "        8.91186847e-01,  6.89408034e+00,  2.08686577e+00,  5.56994333e+00,\n",
       "        2.67329480e+00,  8.55539359e-01, -2.82550013e+00,  1.21022644e+01,\n",
       "        4.34233362e+00,  1.00704024e+01,  1.17107407e+01,  3.79983111e+00,\n",
       "        8.32009443e-01,  3.32274674e+00,  7.90720008e+00, -2.23081015e-01,\n",
       "        1.19059721e+01,  2.94822460e+00,  9.40847069e+00,  4.72630321e+00,\n",
       "        8.96251284e+00,  3.98950333e-01,  3.60934281e+00,  8.80504386e+00,\n",
       "        5.66629215e+00,  5.03165264e+00,  2.25230180e+00,  7.43147941e+00,\n",
       "        3.47355112e+00,  1.10200905e+01,  1.30070013e+01,  9.90650068e-01,\n",
       "        1.39363554e+01,  7.67494627e+00,  1.75796959e+00,  9.13888206e+00,\n",
       "        6.02534362e+00,  5.56929975e+00,  3.42560394e+00,  7.09305378e+00,\n",
       "        1.49844265e+01,  4.67811097e+00,  8.21658782e+00,  9.47862439e-01,\n",
       "        6.36575612e+00,  1.43377637e+01,  1.25750481e+01,  8.84355023e+00,\n",
       "        6.18918589e+00,  7.89304155e+00,  3.00344529e+00,  6.62948562e+00,\n",
       "       -6.41084623e-01,  5.70317939e-01, -9.07071667e-01,  6.23457844e+00,\n",
       "        6.19967811e+00,  7.42608527e+00,  7.25212259e+00,  3.85277141e+00,\n",
       "        5.87916277e+00,  1.06835772e+01,  1.17751024e+01,  2.61272590e+00,\n",
       "       -2.57762158e+00, -2.37037174e-02,  1.33224137e+01,  1.04385922e+01,\n",
       "        8.23970970e+00,  9.62736315e-03,  4.01429530e+00,  7.35056293e+00,\n",
       "        7.56069791e+00,  9.61088192e+00,  4.48549365e-01,  3.55470879e+00,\n",
       "        8.04309602e+00,  7.24139975e+00,  1.09068613e+01,  1.17964564e+01,\n",
       "        1.56595970e+01,  3.66602306e+00,  7.91234111e+00,  2.23435689e+00,\n",
       "        6.68879351e-01,  8.75609738e+00,  3.67156189e+00,  1.65074083e+01,\n",
       "        7.67240791e+00,  2.37108612e+00,  8.97912280e+00,  4.02022405e+00,\n",
       "        8.56253438e+00, -2.10666640e+00,  3.90838988e+00,  8.23448549e+00,\n",
       "        2.71012542e-01,  5.59717208e+00,  1.08668336e+01,  5.08320885e+00,\n",
       "        8.98545854e+00,  5.74742894e+00,  4.21556088e+00,  8.07716386e+00,\n",
       "        1.34778280e+01,  9.79968136e+00,  8.36725718e+00,  2.69753740e+00,\n",
       "        3.43252442e+00,  9.90847174e+00,  6.64443989e+00,  1.40232276e+00,\n",
       "        6.70590876e+00,  3.43580732e+00,  7.03840532e+00,  4.21451782e+00,\n",
       "        7.47793060e+00,  3.81749907e+00,  9.04824768e+00,  7.54232276e+00,\n",
       "       -6.86598946e+00,  1.03606781e+01,  1.29574953e+01,  1.23090153e+01,\n",
       "        9.90067075e+00,  5.66608243e+00,  9.84765430e+00,  4.07692091e+00,\n",
       "        6.18159886e+00,  7.71127418e+00, -2.63878544e+00,  6.82224888e+00,\n",
       "        1.09232910e+01,  9.50762825e+00,  3.29272758e+00,  2.25353510e+00,\n",
       "       -2.98690029e-02,  1.94979406e+00,  1.01828541e+00,  7.29809505e+00,\n",
       "        8.16658355e+00,  9.32510888e+00,  7.48948200e-01,  2.40728969e+00,\n",
       "        1.48193999e+00,  1.00146198e+01,  1.10297557e+01,  1.29422058e+01,\n",
       "        1.06588600e-02,  2.60538546e+00,  6.05263928e+00,  3.82593273e+00,\n",
       "        6.27604387e+00,  8.21068491e+00,  5.09721588e+00,  6.36902904e-01,\n",
       "        6.28710942e+00,  9.02750072e+00,  8.03650134e+00,  1.20762744e+01,\n",
       "        1.07369634e+00,  8.96367470e+00,  8.03822773e-01,  4.90009146e+00,\n",
       "        1.90765704e+01,  7.97450976e+00,  5.21948686e+00,  2.15570191e+00,\n",
       "        8.16245245e+00,  4.69816273e+00,  5.13152893e-01,  2.03048178e+01,\n",
       "        9.06344781e+00,  1.41639724e+00,  1.48924081e+01,  6.61604070e+00,\n",
       "        4.17752963e+00,  9.67266151e+00, -3.85027119e-01,  4.57097563e+00,\n",
       "        1.34586945e+01,  6.55179229e+00,  6.93377328e+00,  1.14339111e+00,\n",
       "        8.04448278e+00,  5.40919374e+00,  7.08099513e+00,  3.78510641e+00,\n",
       "        1.44784853e+01,  1.09372126e+01,  3.13616346e+00, -2.25961475e+00,\n",
       "        6.28253330e-01,  4.73857533e+00,  5.33273717e+00,  1.56944036e+00,\n",
       "        6.23217532e+00,  6.17129672e+00,  5.02712402e+00,  9.12791402e+00,\n",
       "        7.57914867e+00,  6.66400509e+00,  1.37341673e+01,  6.65410235e+00,\n",
       "        2.63710052e+00, -1.24139089e-01,  6.24041008e+00, -6.15658904e-01,\n",
       "        5.05584543e+00,  5.13371233e+00,  1.53888707e+00,  4.15051891e+00,\n",
       "        2.29567793e+00,  1.39263758e+00,  3.88088070e+00,  9.40423244e+00,\n",
       "        2.22294955e+00,  1.03020481e+01,  1.27909271e+01,  4.56087047e+00,\n",
       "        9.40743742e+00,  8.00672880e+00,  5.19490420e+00,  3.69600403e+00,\n",
       "        1.11616324e+01,  1.03508015e+01,  1.31101553e+01,  4.11339858e+00,\n",
       "        1.06369550e+01,  2.06998677e+00, -5.78555023e+00,  3.92366799e+00,\n",
       "        1.21091921e+01,  2.42149789e+00,  1.81004907e+00,  9.45937588e+00,\n",
       "        4.69478480e+00,  6.05754587e+00,  1.08415797e+01,  2.18857301e-01,\n",
       "        5.10049415e+00,  9.85135110e+00,  9.25947948e+00, -2.38400287e+00,\n",
       "        6.09834145e+00,  1.34322374e+01,  5.49616517e+00,  4.28812808e+00,\n",
       "        3.98379422e+00,  9.15995165e+00,  1.06974621e+01,  8.53433650e+00,\n",
       "        3.51372212e+00,  1.02993534e+01,  7.49538600e+00,  9.96112966e-01,\n",
       "        1.12954784e+01,  2.63024300e+00,  7.71924817e-02,  2.12890619e+00,\n",
       "        4.08727813e+00,  5.74171883e-01,  8.76384122e+00,  6.62786501e+00,\n",
       "        3.69277764e+00,  8.98963114e+00,  5.71324706e+00,  1.79506454e+00,\n",
       "        7.27905715e+00,  3.43737169e+00,  9.82927989e+00])"
      ]
     },
     "execution_count": 244,
     "metadata": {},
     "output_type": "execute_result"
    }
   ],
   "source": [
    "model.predict_ensemble(X_test)"
   ]
  },
  {
   "cell_type": "code",
   "execution_count": 245,
   "metadata": {},
   "outputs": [
    {
     "data": {
      "text/plain": [
       "122.98331767017042"
      ]
     },
     "execution_count": 245,
     "metadata": {},
     "output_type": "execute_result"
    }
   ],
   "source": [
    "model.mse(y_test, model.predict_ensemble(X_test))"
   ]
  },
  {
   "cell_type": "code",
   "execution_count": 246,
   "metadata": {},
   "outputs": [
    {
     "data": {
      "text/plain": [
       "-0.12293670520820013"
      ]
     },
     "execution_count": 246,
     "metadata": {},
     "output_type": "execute_result"
    }
   ],
   "source": [
    "model.mse_pct_improvement(y_test, model.predict_ensemble(X_test))"
   ]
  },
  {
   "cell_type": "code",
   "execution_count": 248,
   "metadata": {},
   "outputs": [
    {
     "data": {
      "text/plain": [
       "(2199, 73)"
      ]
     },
     "execution_count": 248,
     "metadata": {},
     "output_type": "execute_result"
    }
   ],
   "source": [
    "X_train.shape"
   ]
  },
  {
   "cell_type": "code",
   "execution_count": 249,
   "metadata": {},
   "outputs": [
    {
     "data": {
      "text/plain": [
       "(943, 73)"
      ]
     },
     "execution_count": 249,
     "metadata": {},
     "output_type": "execute_result"
    }
   ],
   "source": [
    "X_test.shape"
   ]
  },
  {
   "cell_type": "code",
   "execution_count": 250,
   "metadata": {},
   "outputs": [
    {
     "data": {
      "text/plain": [
       "y_train    5.376988\n",
       "dtype: float64"
      ]
     },
     "execution_count": 250,
     "metadata": {},
     "output_type": "execute_result"
    }
   ],
   "source": [
    "y_train.mean()"
   ]
  },
  {
   "cell_type": "code",
   "execution_count": 251,
   "metadata": {},
   "outputs": [
    {
     "data": {
      "text/plain": [
       "(943, 1)"
      ]
     },
     "execution_count": 251,
     "metadata": {},
     "output_type": "execute_result"
    }
   ],
   "source": [
    "y_test.shape"
   ]
  },
  {
   "cell_type": "code",
   "execution_count": 253,
   "metadata": {},
   "outputs": [],
   "source": [
    "avg_test = [5.376988] * 943"
   ]
  },
  {
   "cell_type": "code",
   "execution_count": 254,
   "metadata": {},
   "outputs": [],
   "source": [
    "mse = mean_squared_error(y_test, avg_test)\n",
    "#mse - self.mse_avg) / self.mse_avg"
   ]
  },
  {
   "cell_type": "code",
   "execution_count": 255,
   "metadata": {},
   "outputs": [
    {
     "data": {
      "text/plain": [
       "147.1089233642011"
      ]
     },
     "execution_count": 255,
     "metadata": {},
     "output_type": "execute_result"
    }
   ],
   "source": [
    "mse"
   ]
  },
  {
   "cell_type": "markdown",
   "metadata": {},
   "source": [
    "# PLOT LASSO COEFFICIENTS"
   ]
  },
  {
   "cell_type": "code",
   "execution_count": 295,
   "metadata": {},
   "outputs": [],
   "source": [
    "lassocoefs = lassobest.coef_"
   ]
  },
  {
   "cell_type": "code",
   "execution_count": 330,
   "metadata": {},
   "outputs": [],
   "source": [
    "plt_coefs_df = pd.DataFrame.from_dict({\"features\" : X_train.columns,\n",
    "                             \"coefficients\" : lassocoefs })"
   ]
  },
  {
   "cell_type": "code",
   "execution_count": 332,
   "metadata": {},
   "outputs": [],
   "source": [
    "plt_coefs_df = plt_coefs_df.reindex(plt_coefs_df[\"coefficients\"].abs().sort_values().index)[::-1]\n"
   ]
  },
  {
   "cell_type": "code",
   "execution_count": 399,
   "metadata": {},
   "outputs": [],
   "source": [
    "plt_coefs_df[\"color\"] = plt_coefs_df[\"coefficients\"].apply(lambda x: \"tomato\" if  x > 0 else \"teal\")\n",
    "\n"
   ]
  },
  {
   "cell_type": "code",
   "execution_count": 421,
   "metadata": {},
   "outputs": [],
   "source": [
    "plt_coefs_df[\"labels\"] = plt_coefs_df[\"features\"]"
   ]
  },
  {
   "cell_type": "code",
   "execution_count": 423,
   "metadata": {},
   "outputs": [
    {
     "data": {
      "text/plain": [
       "0              DB:2010:percent\n",
       "65    DB:2009-2010:Rate_Change\n",
       "1        UnemploymentRate:2010\n",
       "5              LI:2010:percent\n",
       "52                   ST:_Texas\n",
       "24                    ST:_Iowa\n",
       "11                  ST:_Alaska\n",
       "72                  CEN:2010:H\n",
       "8             Alcohol:Any:2010\n",
       "51               ST:_Tennessee\n",
       "Name: labels, dtype: object"
      ]
     },
     "execution_count": 423,
     "metadata": {},
     "output_type": "execute_result"
    }
   ],
   "source": [
    "plt_coefs_df[\"labels\"][:10] "
   ]
  },
  {
   "cell_type": "code",
   "execution_count": 426,
   "metadata": {},
   "outputs": [],
   "source": [
    "plt_coefs_df[\"labels\"][:10] = [\"Diabetes Rate in 2010\", \"Change in Diabetes Rate 2009-2010\", \n",
    "                               \"Unemployment Rate 2010\", \"Leisure Inactivity Rate 2010\", \n",
    "                              \"Texas\", \"Iowa\", \"Alaska\", \"Percent Hispanic 2010\", \"Any Alcohol Use 2010\", \"Tennesse\"]"
   ]
  },
  {
   "cell_type": "code",
   "execution_count": 333,
   "metadata": {},
   "outputs": [],
   "source": [
    "import seaborn as sns"
   ]
  },
  {
   "cell_type": "code",
   "execution_count": 370,
   "metadata": {},
   "outputs": [
    {
     "data": {
      "text/plain": [
       "Text(0.5, 1.0, 'Features with highest impact on Linear Model')"
      ]
     },
     "execution_count": 370,
     "metadata": {},
     "output_type": "execute_result"
    },
    {
     "data": {
      "image/png": "[encoded data removed]",
      "text/plain": [
       "<Figure size 864x576 with 1 Axes>"
      ]
     },
     "metadata": {},
     "output_type": "display_data"
    }
   ],
   "source": [
    "sns.set() \n",
    "sns.set_palette(\"RdBu\")\n",
    "plt.figure(figsize = (12, 8))\n",
    "sns.barplot(x=\"coefficients\", y=\"features\", data=plt_coefs_df.iloc[:10])#hue=[\"red\", \"red\", ]\"color\"\n",
    "plt.xlabel(\"Lasso Feature Coefficient\", size = 20)\n",
    "#barlist[0].set_color('r')\n",
    "plt.ylabel(\"Feature\")\n",
    "plt.title(\"Features with highest impact on Linear Model\")\n"
   ]
  },
  {
   "cell_type": "code",
   "execution_count": 485,
   "metadata": {
    "scrolled": false
   },
   "outputs": [
    {
     "data": {
      "text/html": [
       "<div>\n",
       "<style scoped>\n",
       "    .dataframe tbody tr th:only-of-type {\n",
       "        vertical-align: middle;\n",
       "    }\n",
       "\n",
       "    .dataframe tbody tr th {\n",
       "        vertical-align: top;\n",
       "    }\n",
       "\n",
       "    .dataframe thead th {\n",
       "        text-align: right;\n",
       "    }\n",
       "</style>\n",
       "<table border=\"1\" class=\"dataframe\">\n",
       "  <thead>\n",
       "    <tr style=\"text-align: right;\">\n",
       "      <th></th>\n",
       "      <th>features</th>\n",
       "      <th>coefficients</th>\n",
       "      <th>color</th>\n",
       "      <th>labels</th>\n",
       "    </tr>\n",
       "  </thead>\n",
       "  <tbody>\n",
       "    <tr>\n",
       "      <th>0</th>\n",
       "      <td>DB:2010:percent</td>\n",
       "      <td>-3.644507</td>\n",
       "      <td>teal</td>\n",
       "      <td>Diabetes Rate in 2010</td>\n",
       "    </tr>\n",
       "    <tr>\n",
       "      <th>65</th>\n",
       "      <td>DB:2009-2010:Rate_Change</td>\n",
       "      <td>-2.070728</td>\n",
       "      <td>teal</td>\n",
       "      <td>Change in Diabetes Rate 2009-2010</td>\n",
       "    </tr>\n",
       "    <tr>\n",
       "      <th>1</th>\n",
       "      <td>UnemploymentRate:2010</td>\n",
       "      <td>1.556659</td>\n",
       "      <td>tomato</td>\n",
       "      <td>Unemployment Rate 2010</td>\n",
       "    </tr>\n",
       "    <tr>\n",
       "      <th>5</th>\n",
       "      <td>LI:2010:percent</td>\n",
       "      <td>1.429875</td>\n",
       "      <td>tomato</td>\n",
       "      <td>Leisure Inactivity Rate 2010</td>\n",
       "    </tr>\n",
       "    <tr>\n",
       "      <th>52</th>\n",
       "      <td>ST:_Texas</td>\n",
       "      <td>-1.161400</td>\n",
       "      <td>teal</td>\n",
       "      <td>Texas</td>\n",
       "    </tr>\n",
       "    <tr>\n",
       "      <th>24</th>\n",
       "      <td>ST:_Iowa</td>\n",
       "      <td>0.728662</td>\n",
       "      <td>tomato</td>\n",
       "      <td>Iowa</td>\n",
       "    </tr>\n",
       "    <tr>\n",
       "      <th>11</th>\n",
       "      <td>ST:_Alaska</td>\n",
       "      <td>-0.634028</td>\n",
       "      <td>teal</td>\n",
       "      <td>Alaska</td>\n",
       "    </tr>\n",
       "    <tr>\n",
       "      <th>72</th>\n",
       "      <td>CEN:2010:H</td>\n",
       "      <td>-0.622408</td>\n",
       "      <td>teal</td>\n",
       "      <td>Percent Hispanic 2010</td>\n",
       "    </tr>\n",
       "    <tr>\n",
       "      <th>8</th>\n",
       "      <td>Alcohol:Any:2010</td>\n",
       "      <td>-0.603380</td>\n",
       "      <td>teal</td>\n",
       "      <td>Any Alcohol Use 2010</td>\n",
       "    </tr>\n",
       "    <tr>\n",
       "      <th>51</th>\n",
       "      <td>ST:_Tennessee</td>\n",
       "      <td>0.547345</td>\n",
       "      <td>tomato</td>\n",
       "      <td>Tennesse</td>\n",
       "    </tr>\n",
       "    <tr>\n",
       "      <th>10</th>\n",
       "      <td>ST:_Alabama</td>\n",
       "      <td>0.438764</td>\n",
       "      <td>tomato</td>\n",
       "      <td>ST:_Alabama</td>\n",
       "    </tr>\n",
       "    <tr>\n",
       "      <th>21</th>\n",
       "      <td>ST:_Idaho</td>\n",
       "      <td>-0.401539</td>\n",
       "      <td>teal</td>\n",
       "      <td>ST:_Idaho</td>\n",
       "    </tr>\n",
       "    <tr>\n",
       "      <th>44</th>\n",
       "      <td>ST:_Ohio</td>\n",
       "      <td>0.314981</td>\n",
       "      <td>tomato</td>\n",
       "      <td>ST:_Ohio</td>\n",
       "    </tr>\n",
       "    <tr>\n",
       "      <th>55</th>\n",
       "      <td>ST:_Virginia</td>\n",
       "      <td>-0.257724</td>\n",
       "      <td>teal</td>\n",
       "      <td>ST:_Virginia</td>\n",
       "    </tr>\n",
       "    <tr>\n",
       "      <th>15</th>\n",
       "      <td>ST:_Colorado</td>\n",
       "      <td>-0.235821</td>\n",
       "      <td>teal</td>\n",
       "      <td>ST:_Colorado</td>\n",
       "    </tr>\n",
       "    <tr>\n",
       "      <th>7</th>\n",
       "      <td>Rural_percent_2010</td>\n",
       "      <td>0.172282</td>\n",
       "      <td>tomato</td>\n",
       "      <td>Rural_percent_2010</td>\n",
       "    </tr>\n",
       "    <tr>\n",
       "      <th>23</th>\n",
       "      <td>ST:_Indiana</td>\n",
       "      <td>0.149867</td>\n",
       "      <td>tomato</td>\n",
       "      <td>ST:_Indiana</td>\n",
       "    </tr>\n",
       "    <tr>\n",
       "      <th>70</th>\n",
       "      <td>CEN:2010:AAC</td>\n",
       "      <td>-0.139554</td>\n",
       "      <td>teal</td>\n",
       "      <td>CEN:2010:AAC</td>\n",
       "    </tr>\n",
       "    <tr>\n",
       "      <th>49</th>\n",
       "      <td>ST:_South Carolina</td>\n",
       "      <td>0.124980</td>\n",
       "      <td>tomato</td>\n",
       "      <td>ST:_South Carolina</td>\n",
       "    </tr>\n",
       "    <tr>\n",
       "      <th>59</th>\n",
       "      <td>ST:_Wyoming</td>\n",
       "      <td>0.071784</td>\n",
       "      <td>tomato</td>\n",
       "      <td>ST:_Wyoming</td>\n",
       "    </tr>\n",
       "    <tr>\n",
       "      <th>53</th>\n",
       "      <td>ST:_Utah</td>\n",
       "      <td>-0.071292</td>\n",
       "      <td>teal</td>\n",
       "      <td>ST:_Utah</td>\n",
       "    </tr>\n",
       "    <tr>\n",
       "      <th>46</th>\n",
       "      <td>ST:_Oregon</td>\n",
       "      <td>0.064519</td>\n",
       "      <td>tomato</td>\n",
       "      <td>ST:_Oregon</td>\n",
       "    </tr>\n",
       "    <tr>\n",
       "      <th>41</th>\n",
       "      <td>ST:_New York</td>\n",
       "      <td>-0.027990</td>\n",
       "      <td>teal</td>\n",
       "      <td>ST:_New York</td>\n",
       "    </tr>\n",
       "    <tr>\n",
       "      <th>37</th>\n",
       "      <td>ST:_Nevada</td>\n",
       "      <td>-0.001993</td>\n",
       "      <td>teal</td>\n",
       "      <td>ST:_Nevada</td>\n",
       "    </tr>\n",
       "    <tr>\n",
       "      <th>20</th>\n",
       "      <td>ST:_Georgia</td>\n",
       "      <td>-0.000000</td>\n",
       "      <td>teal</td>\n",
       "      <td>ST:_Georgia</td>\n",
       "    </tr>\n",
       "    <tr>\n",
       "      <th>22</th>\n",
       "      <td>ST:_Illinois</td>\n",
       "      <td>0.000000</td>\n",
       "      <td>teal</td>\n",
       "      <td>ST:_Illinois</td>\n",
       "    </tr>\n",
       "    <tr>\n",
       "      <th>67</th>\n",
       "      <td>LI:2009-2010:Rate_Change</td>\n",
       "      <td>0.000000</td>\n",
       "      <td>teal</td>\n",
       "      <td>LI:2009-2010:Rate_Change</td>\n",
       "    </tr>\n",
       "    <tr>\n",
       "      <th>19</th>\n",
       "      <td>ST:_Florida</td>\n",
       "      <td>0.000000</td>\n",
       "      <td>teal</td>\n",
       "      <td>ST:_Florida</td>\n",
       "    </tr>\n",
       "    <tr>\n",
       "      <th>18</th>\n",
       "      <td>ST:_District of Columbia</td>\n",
       "      <td>-0.000000</td>\n",
       "      <td>teal</td>\n",
       "      <td>ST:_District of Columbia</td>\n",
       "    </tr>\n",
       "    <tr>\n",
       "      <th>25</th>\n",
       "      <td>ST:_Kansas</td>\n",
       "      <td>-0.000000</td>\n",
       "      <td>teal</td>\n",
       "      <td>ST:_Kansas</td>\n",
       "    </tr>\n",
       "    <tr>\n",
       "      <th>...</th>\n",
       "      <td>...</td>\n",
       "      <td>...</td>\n",
       "      <td>...</td>\n",
       "      <td>...</td>\n",
       "    </tr>\n",
       "    <tr>\n",
       "      <th>2</th>\n",
       "      <td>PCT_LACCESS_POP10</td>\n",
       "      <td>-0.000000</td>\n",
       "      <td>teal</td>\n",
       "      <td>PCT_LACCESS_POP10</td>\n",
       "    </tr>\n",
       "    <tr>\n",
       "      <th>26</th>\n",
       "      <td>ST:_Kentucky</td>\n",
       "      <td>-0.000000</td>\n",
       "      <td>teal</td>\n",
       "      <td>ST:_Kentucky</td>\n",
       "    </tr>\n",
       "    <tr>\n",
       "      <th>32</th>\n",
       "      <td>ST:_Minnesota</td>\n",
       "      <td>-0.000000</td>\n",
       "      <td>teal</td>\n",
       "      <td>ST:_Minnesota</td>\n",
       "    </tr>\n",
       "    <tr>\n",
       "      <th>28</th>\n",
       "      <td>ST:_Maine</td>\n",
       "      <td>-0.000000</td>\n",
       "      <td>teal</td>\n",
       "      <td>ST:_Maine</td>\n",
       "    </tr>\n",
       "    <tr>\n",
       "      <th>45</th>\n",
       "      <td>ST:_Oklahoma</td>\n",
       "      <td>0.000000</td>\n",
       "      <td>teal</td>\n",
       "      <td>ST:_Oklahoma</td>\n",
       "    </tr>\n",
       "    <tr>\n",
       "      <th>62</th>\n",
       "      <td>Age:25-44</td>\n",
       "      <td>-0.000000</td>\n",
       "      <td>teal</td>\n",
       "      <td>Age:25-44</td>\n",
       "    </tr>\n",
       "    <tr>\n",
       "      <th>61</th>\n",
       "      <td>Age:15-24</td>\n",
       "      <td>-0.000000</td>\n",
       "      <td>teal</td>\n",
       "      <td>Age:15-24</td>\n",
       "    </tr>\n",
       "    <tr>\n",
       "      <th>60</th>\n",
       "      <td>Age:0-14</td>\n",
       "      <td>-0.000000</td>\n",
       "      <td>teal</td>\n",
       "      <td>Age:0-14</td>\n",
       "    </tr>\n",
       "    <tr>\n",
       "      <th>58</th>\n",
       "      <td>ST:_Wisconsin</td>\n",
       "      <td>-0.000000</td>\n",
       "      <td>teal</td>\n",
       "      <td>ST:_Wisconsin</td>\n",
       "    </tr>\n",
       "    <tr>\n",
       "      <th>57</th>\n",
       "      <td>ST:_West Virginia</td>\n",
       "      <td>-0.000000</td>\n",
       "      <td>teal</td>\n",
       "      <td>ST:_West Virginia</td>\n",
       "    </tr>\n",
       "    <tr>\n",
       "      <th>56</th>\n",
       "      <td>ST:_Washington</td>\n",
       "      <td>-0.000000</td>\n",
       "      <td>teal</td>\n",
       "      <td>ST:_Washington</td>\n",
       "    </tr>\n",
       "    <tr>\n",
       "      <th>54</th>\n",
       "      <td>ST:_Vermont</td>\n",
       "      <td>-0.000000</td>\n",
       "      <td>teal</td>\n",
       "      <td>ST:_Vermont</td>\n",
       "    </tr>\n",
       "    <tr>\n",
       "      <th>66</th>\n",
       "      <td>OB:2009-2010:Rate_Change</td>\n",
       "      <td>-0.000000</td>\n",
       "      <td>teal</td>\n",
       "      <td>OB:2009-2010:Rate_Change</td>\n",
       "    </tr>\n",
       "    <tr>\n",
       "      <th>50</th>\n",
       "      <td>ST:_South Dakota</td>\n",
       "      <td>-0.000000</td>\n",
       "      <td>teal</td>\n",
       "      <td>ST:_South Dakota</td>\n",
       "    </tr>\n",
       "    <tr>\n",
       "      <th>48</th>\n",
       "      <td>ST:_Rhode Island</td>\n",
       "      <td>0.000000</td>\n",
       "      <td>teal</td>\n",
       "      <td>ST:_Rhode Island</td>\n",
       "    </tr>\n",
       "    <tr>\n",
       "      <th>47</th>\n",
       "      <td>ST:_Pennsylvania</td>\n",
       "      <td>0.000000</td>\n",
       "      <td>teal</td>\n",
       "      <td>ST:_Pennsylvania</td>\n",
       "    </tr>\n",
       "    <tr>\n",
       "      <th>43</th>\n",
       "      <td>ST:_North Dakota</td>\n",
       "      <td>-0.000000</td>\n",
       "      <td>teal</td>\n",
       "      <td>ST:_North Dakota</td>\n",
       "    </tr>\n",
       "    <tr>\n",
       "      <th>29</th>\n",
       "      <td>ST:_Maryland</td>\n",
       "      <td>0.000000</td>\n",
       "      <td>teal</td>\n",
       "      <td>ST:_Maryland</td>\n",
       "    </tr>\n",
       "    <tr>\n",
       "      <th>42</th>\n",
       "      <td>ST:_North Carolina</td>\n",
       "      <td>0.000000</td>\n",
       "      <td>teal</td>\n",
       "      <td>ST:_North Carolina</td>\n",
       "    </tr>\n",
       "    <tr>\n",
       "      <th>40</th>\n",
       "      <td>ST:_New Mexico</td>\n",
       "      <td>0.000000</td>\n",
       "      <td>teal</td>\n",
       "      <td>ST:_New Mexico</td>\n",
       "    </tr>\n",
       "    <tr>\n",
       "      <th>39</th>\n",
       "      <td>ST:_New Jersey</td>\n",
       "      <td>-0.000000</td>\n",
       "      <td>teal</td>\n",
       "      <td>ST:_New Jersey</td>\n",
       "    </tr>\n",
       "    <tr>\n",
       "      <th>38</th>\n",
       "      <td>ST:_New Hampshire</td>\n",
       "      <td>0.000000</td>\n",
       "      <td>teal</td>\n",
       "      <td>ST:_New Hampshire</td>\n",
       "    </tr>\n",
       "    <tr>\n",
       "      <th>71</th>\n",
       "      <td>CEN:2010:NAC</td>\n",
       "      <td>-0.000000</td>\n",
       "      <td>teal</td>\n",
       "      <td>CEN:2010:NAC</td>\n",
       "    </tr>\n",
       "    <tr>\n",
       "      <th>35</th>\n",
       "      <td>ST:_Montana</td>\n",
       "      <td>0.000000</td>\n",
       "      <td>teal</td>\n",
       "      <td>ST:_Montana</td>\n",
       "    </tr>\n",
       "    <tr>\n",
       "      <th>34</th>\n",
       "      <td>ST:_Missouri</td>\n",
       "      <td>0.000000</td>\n",
       "      <td>teal</td>\n",
       "      <td>ST:_Missouri</td>\n",
       "    </tr>\n",
       "    <tr>\n",
       "      <th>33</th>\n",
       "      <td>ST:_Mississippi</td>\n",
       "      <td>0.000000</td>\n",
       "      <td>teal</td>\n",
       "      <td>ST:_Mississippi</td>\n",
       "    </tr>\n",
       "    <tr>\n",
       "      <th>63</th>\n",
       "      <td>Age:45+</td>\n",
       "      <td>-0.000000</td>\n",
       "      <td>teal</td>\n",
       "      <td>Age:45+</td>\n",
       "    </tr>\n",
       "    <tr>\n",
       "      <th>31</th>\n",
       "      <td>ST:_Michigan</td>\n",
       "      <td>-0.000000</td>\n",
       "      <td>teal</td>\n",
       "      <td>ST:_Michigan</td>\n",
       "    </tr>\n",
       "    <tr>\n",
       "      <th>30</th>\n",
       "      <td>ST:_Massachusetts</td>\n",
       "      <td>-0.000000</td>\n",
       "      <td>teal</td>\n",
       "      <td>ST:_Massachusetts</td>\n",
       "    </tr>\n",
       "    <tr>\n",
       "      <th>36</th>\n",
       "      <td>ST:_Nebraska</td>\n",
       "      <td>-0.000000</td>\n",
       "      <td>teal</td>\n",
       "      <td>ST:_Nebraska</td>\n",
       "    </tr>\n",
       "  </tbody>\n",
       "</table>\n",
       "<p>73 rows × 4 columns</p>\n",
       "</div>"
      ],
      "text/plain": [
       "                    features  coefficients   color  \\\n",
       "0            DB:2010:percent     -3.644507    teal   \n",
       "65  DB:2009-2010:Rate_Change     -2.070728    teal   \n",
       "1      UnemploymentRate:2010      1.556659  tomato   \n",
       "5            LI:2010:percent      1.429875  tomato   \n",
       "52                 ST:_Texas     -1.161400    teal   \n",
       "24                  ST:_Iowa      0.728662  tomato   \n",
       "11                ST:_Alaska     -0.634028    teal   \n",
       "72                CEN:2010:H     -0.622408    teal   \n",
       "8           Alcohol:Any:2010     -0.603380    teal   \n",
       "51             ST:_Tennessee      0.547345  tomato   \n",
       "10               ST:_Alabama      0.438764  tomato   \n",
       "21                 ST:_Idaho     -0.401539    teal   \n",
       "44                  ST:_Ohio      0.314981  tomato   \n",
       "55              ST:_Virginia     -0.257724    teal   \n",
       "15              ST:_Colorado     -0.235821    teal   \n",
       "7         Rural_percent_2010      0.172282  tomato   \n",
       "23               ST:_Indiana      0.149867  tomato   \n",
       "70              CEN:2010:AAC     -0.139554    teal   \n",
       "49        ST:_South Carolina      0.124980  tomato   \n",
       "59               ST:_Wyoming      0.071784  tomato   \n",
       "53                  ST:_Utah     -0.071292    teal   \n",
       "46                ST:_Oregon      0.064519  tomato   \n",
       "41              ST:_New York     -0.027990    teal   \n",
       "37                ST:_Nevada     -0.001993    teal   \n",
       "20               ST:_Georgia     -0.000000    teal   \n",
       "22              ST:_Illinois      0.000000    teal   \n",
       "67  LI:2009-2010:Rate_Change      0.000000    teal   \n",
       "19               ST:_Florida      0.000000    teal   \n",
       "18  ST:_District of Columbia     -0.000000    teal   \n",
       "25                ST:_Kansas     -0.000000    teal   \n",
       "..                       ...           ...     ...   \n",
       "2          PCT_LACCESS_POP10     -0.000000    teal   \n",
       "26              ST:_Kentucky     -0.000000    teal   \n",
       "32             ST:_Minnesota     -0.000000    teal   \n",
       "28                 ST:_Maine     -0.000000    teal   \n",
       "45              ST:_Oklahoma      0.000000    teal   \n",
       "62                 Age:25-44     -0.000000    teal   \n",
       "61                 Age:15-24     -0.000000    teal   \n",
       "60                  Age:0-14     -0.000000    teal   \n",
       "58             ST:_Wisconsin     -0.000000    teal   \n",
       "57         ST:_West Virginia     -0.000000    teal   \n",
       "56            ST:_Washington     -0.000000    teal   \n",
       "54               ST:_Vermont     -0.000000    teal   \n",
       "66  OB:2009-2010:Rate_Change     -0.000000    teal   \n",
       "50          ST:_South Dakota     -0.000000    teal   \n",
       "48          ST:_Rhode Island      0.000000    teal   \n",
       "47          ST:_Pennsylvania      0.000000    teal   \n",
       "43          ST:_North Dakota     -0.000000    teal   \n",
       "29              ST:_Maryland      0.000000    teal   \n",
       "42        ST:_North Carolina      0.000000    teal   \n",
       "40            ST:_New Mexico      0.000000    teal   \n",
       "39            ST:_New Jersey     -0.000000    teal   \n",
       "38         ST:_New Hampshire      0.000000    teal   \n",
       "71              CEN:2010:NAC     -0.000000    teal   \n",
       "35               ST:_Montana      0.000000    teal   \n",
       "34              ST:_Missouri      0.000000    teal   \n",
       "33           ST:_Mississippi      0.000000    teal   \n",
       "63                   Age:45+     -0.000000    teal   \n",
       "31              ST:_Michigan     -0.000000    teal   \n",
       "30         ST:_Massachusetts     -0.000000    teal   \n",
       "36              ST:_Nebraska     -0.000000    teal   \n",
       "\n",
       "                               labels  \n",
       "0               Diabetes Rate in 2010  \n",
       "65  Change in Diabetes Rate 2009-2010  \n",
       "1              Unemployment Rate 2010  \n",
       "5        Leisure Inactivity Rate 2010  \n",
       "52                              Texas  \n",
       "24                               Iowa  \n",
       "11                             Alaska  \n",
       "72              Percent Hispanic 2010  \n",
       "8                Any Alcohol Use 2010  \n",
       "51                           Tennesse  \n",
       "10                        ST:_Alabama  \n",
       "21                          ST:_Idaho  \n",
       "44                           ST:_Ohio  \n",
       "55                       ST:_Virginia  \n",
       "15                       ST:_Colorado  \n",
       "7                  Rural_percent_2010  \n",
       "23                        ST:_Indiana  \n",
       "70                       CEN:2010:AAC  \n",
       "49                 ST:_South Carolina  \n",
       "59                        ST:_Wyoming  \n",
       "53                           ST:_Utah  \n",
       "46                         ST:_Oregon  \n",
       "41                       ST:_New York  \n",
       "37                         ST:_Nevada  \n",
       "20                        ST:_Georgia  \n",
       "22                       ST:_Illinois  \n",
       "67           LI:2009-2010:Rate_Change  \n",
       "19                        ST:_Florida  \n",
       "18           ST:_District of Columbia  \n",
       "25                         ST:_Kansas  \n",
       "..                                ...  \n",
       "2                   PCT_LACCESS_POP10  \n",
       "26                       ST:_Kentucky  \n",
       "32                      ST:_Minnesota  \n",
       "28                          ST:_Maine  \n",
       "45                       ST:_Oklahoma  \n",
       "62                          Age:25-44  \n",
       "61                          Age:15-24  \n",
       "60                           Age:0-14  \n",
       "58                      ST:_Wisconsin  \n",
       "57                  ST:_West Virginia  \n",
       "56                     ST:_Washington  \n",
       "54                        ST:_Vermont  \n",
       "66           OB:2009-2010:Rate_Change  \n",
       "50                   ST:_South Dakota  \n",
       "48                   ST:_Rhode Island  \n",
       "47                   ST:_Pennsylvania  \n",
       "43                   ST:_North Dakota  \n",
       "29                       ST:_Maryland  \n",
       "42                 ST:_North Carolina  \n",
       "40                     ST:_New Mexico  \n",
       "39                     ST:_New Jersey  \n",
       "38                  ST:_New Hampshire  \n",
       "71                       CEN:2010:NAC  \n",
       "35                        ST:_Montana  \n",
       "34                       ST:_Missouri  \n",
       "33                    ST:_Mississippi  \n",
       "63                            Age:45+  \n",
       "31                       ST:_Michigan  \n",
       "30                  ST:_Massachusetts  \n",
       "36                       ST:_Nebraska  \n",
       "\n",
       "[73 rows x 4 columns]"
      ]
     },
     "execution_count": 485,
     "metadata": {},
     "output_type": "execute_result"
    }
   ],
   "source": [
    "plt_coefs_df"
   ]
  },
  {
   "cell_type": "markdown",
   "metadata": {},
   "source": [
    "## FINAL PLOT: LASSO TOP FEATURES"
   ]
  },
  {
   "cell_type": "code",
   "execution_count": 541,
   "metadata": {},
   "outputs": [
    {
     "data": {
      "image/png": "[encoded data removed]",
      "text/plain": [
       "<Figure size 864x576 with 1 Axes>"
      ]
     },
     "metadata": {},
     "output_type": "display_data"
    }
   ],
   "source": [
    "plt.figure(figsize = (12, 8))\n",
    "plt.barh(plt_coefs_df[\"labels\"].iloc[:10], height = .85, width = plt_coefs_df[\"coefficients\"].iloc[:10],  \n",
    "        color = plt_coefs_df[\"color\"], align='center')\n",
    "plt.xlabel(\"Coefficient\", fontsize=20)\n",
    "#plt.ylabel(\"Feature\", fontsize=20)\n",
    "\n",
    "plt.xticks(fontsize=20)\n",
    "plt.yticks(fontsize=20)\n",
    "\n",
    "\n",
    "plt.title(\"Top Impactful Features per Lasso\", fontsize=25, pad = 40)\n",
    "#plt.tick_params(axis='both', which='major', labelsize=10)\n",
    "#plt.tick_params(axis='both', which='minor', labelsize=20)\n",
    "plt.gca().invert_yaxis()\n",
    "\n",
    "\n",
    "#plt.yticklabels(plt_coefs_df[\"Features\"])\n",
    "plt.savefig('../images/lassotop10.png', bbox_inches=\"tight\")\n"
   ]
  },
  {
   "cell_type": "markdown",
   "metadata": {},
   "source": [
    "# PLOT LASSO PARTIAL DEPENDENCY"
   ]
  },
  {
   "cell_type": "code",
   "execution_count": 528,
   "metadata": {},
   "outputs": [],
   "source": [
    "#Dependence Plot\n",
    "\n",
    "#Made it so axis all the same!!\n",
    "\n",
    "colnamemap = { \"DB:2010:percent\":\"Diabetes Rate in 2010\",\n",
    "    \"DB:2009-2010:Rate_Change\":\"Change in Diabetes Rate 2009-2010\",\n",
    "        \"UnemploymentRate:2010\": \"Unemployment Rate 2010\",\n",
    "             \"LI:2010:percent\":\"Leisure Inactivity Rate 2010\",\n",
    "                   \"ST:_Texas\":\"Texas\",\n",
    "                    \"ST:_Iowa\":\"Iowa\",\n",
    "                  \"ST:_Alaska\":\"Alaska\",\n",
    "\"CEN:2010:H\":\"Percent Hispanic 2010\",\n",
    "\"Alcohol:Any:2010\":\"Any Alcohol Use 2010\",\n",
    "\"ST:_Tennessee\": \"Tennesse\"}\n",
    "    \n",
    "    \n",
    "def pdp_same_axis_scale(model, col, num_breaks, ax, y_lim_min, y_lim_max):\n",
    "    X_train_pdp = X_train.copy()\n",
    "    \n",
    "    #get x-axis values\n",
    "    min_pdp = X_train[col].min()\n",
    "    max_pdp = X_train[col].max()\n",
    "    x = np.linspace(0, 100, num_breaks)\n",
    "    x = x * ((max_pdp - min_pdp)/num_breaks)\n",
    "    x = x + min_pdp\n",
    "    \n",
    "    #get y-axis values\n",
    "    y = []\n",
    "    for val in x:\n",
    "        X_train_pdp[col] = val\n",
    "        predictions = model.predict(scalar.transform(X_train_pdp))\n",
    "        y.append(predictions.mean())\n",
    "\n",
    "    #plot partial dependence\n",
    "    ax.plot(x, y, linestyle='-', color = \"tomato\", linewidth=3.0)\n",
    "    ax.set_xlabel(colnamemap[col], fontsize=16)\n",
    "    ax.set_ylabel(\"Avg. Prediction for Diabetes Rate Change\")\n",
    "    ax.set_ylim(y_lim_min, y_lim_max)\n",
    "    \n",
    "    #formatting\n",
    "    #ax.set_xticks(fontsize=14)\n",
    "    #ax.set_yticks(fontsize=14)\n"
   ]
  },
  {
   "cell_type": "code",
   "execution_count": 529,
   "metadata": {},
   "outputs": [
    {
     "data": {
      "text/plain": [
       "0              DB:2010:percent\n",
       "65    DB:2009-2010:Rate_Change\n",
       "1        UnemploymentRate:2010\n",
       "5              LI:2010:percent\n",
       "52                   ST:_Texas\n",
       "24                    ST:_Iowa\n",
       "11                  ST:_Alaska\n",
       "72                  CEN:2010:H\n",
       "8             Alcohol:Any:2010\n",
       "Name: features, dtype: object"
      ]
     },
     "execution_count": 529,
     "metadata": {},
     "output_type": "execute_result"
    }
   ],
   "source": [
    "top_10_lasso_feats = plt_coefs_df[\"features\"].iloc[:9]\n",
    "top_10_lasso_feats"
   ]
  },
  {
   "cell_type": "code",
   "execution_count": 530,
   "metadata": {},
   "outputs": [
    {
     "data": {
      "text/plain": [
       "<bound method StandardScaler.inverse_transform of StandardScaler(copy=True, with_mean=True, with_std=True)>"
      ]
     },
     "execution_count": 530,
     "metadata": {},
     "output_type": "execute_result"
    }
   ],
   "source": [
    "scalar.inverse_transform"
   ]
  },
  {
   "cell_type": "code",
   "execution_count": 531,
   "metadata": {
    "scrolled": false
   },
   "outputs": [
    {
     "data": {
      "image/png": "[encoded data removed]",
      "text/plain": [
       "<Figure size 1440x1440 with 9 Axes>"
      ]
     },
     "metadata": {},
     "output_type": "display_data"
    }
   ],
   "source": [
    "matplotlib.rcParams.update({'font.size': 16})\n",
    "\n",
    "\n",
    "fig, axs = plt.subplots(3, 3, figsize=(20,20))\n",
    "af = axs.flatten()\n",
    "fig.suptitle(\"Lasso Feature/Target Relationships\",  fontsize=20, y = .92)\n",
    "\n",
    "\n",
    "for i, col in enumerate(top_10_lasso_feats):\n",
    "    pdp_same_axis_scale(lassobest, col, 100, af[i], -15, 20)\n",
    "    \n",
    "fig.subplots_adjust(hspace=.2)\n",
    "\n",
    "plt.savefig('../images/lassorelationships.png')\n"
   ]
  },
  {
   "cell_type": "markdown",
   "metadata": {},
   "source": [
    "# PLOT RANDOM FOREST FEATURE IMPORTANCE"
   ]
  },
  {
   "cell_type": "code",
   "execution_count": 535,
   "metadata": {},
   "outputs": [],
   "source": [
    "colnamemap = { \"DB:2010:percent\":\"Diabetes Rate in 2010\",\n",
    "    \"DB:2009-2010:Rate_Change\":\"Change in Diabetes Rate 2009-2010\",\n",
    "              \"OB:2009-2010:Rate_Change\" : \"Change in Obesity Rate 2009-2010\",\n",
    "        \"UnemploymentRate:2010\": \"Unemployment Rate 2010\",\n",
    "             \"LI:2010:percent\":\"Leisure Inactivity Rate 2010\",\n",
    "    \"LI:2009-2010:Rate_Change\":\"Change in Leisure Inactivity Rate 2009-2010\",\n",
    "\n",
    "              \"OB:2010:percent\" : \"Obesity Prevalance 2010\",\n",
    "                   \"ST:_Texas\":\"Texas\",\n",
    "                    \"ST:_Iowa\":\"Iowa\",\n",
    "                  \"ST:_Alaska\":\"Alaska\",\n",
    "\"CEN:2010:H\":\"Percent Hispanic 2010\",\n",
    "\"Alcohol:Any:2010\":\"Any Alcohol Use 2010\",\n",
    "              \"Alcohol:Heavy:2010\":\"Heavy Alcohol Use 2010\",\n",
    "\"ST:_Tennessee\": \"Tennesse\", \n",
    "   \"PCT_LACCESS_POP10\" : \"Low Access to groceries (%) 2010\", \n",
    "        \"FFRPTH09\" :    \"Fast Food per capita (2009)\"  , \n",
    "     \"Poverty_Rate_2010\"    :    \"Poverty Rate 2010\" , \n",
    "          \"Male_pct_2010\" : \"Male (%) 2010\"  , \n",
    "              \"CEN:2010:H\" : \"Hispanic (%) 2010\",\n",
    "            \"Rural_percent_2010\" : \"Rural (%) 2010\" , \n",
    "             \"ST:_Alabama\" : \"Alabama\", \n",
    "        \n",
    "             \n",
    "             \"CEN:2010:NAC\" : \"Native Hawaiian / Pactific Islander (%) 2010\"\n",
    "             }\n",
    "\n",
    "\n"
   ]
  },
  {
   "cell_type": "code",
   "execution_count": 503,
   "metadata": {},
   "outputs": [],
   "source": [
    "rfimpfeats = rfbest.feature_importances_"
   ]
  },
  {
   "cell_type": "code",
   "execution_count": 513,
   "metadata": {},
   "outputs": [],
   "source": [
    "plt_impfeats_df = pd.DataFrame.from_dict({\"features\" : X_train.columns,\n",
    "                             \"feature_importance\" : rfimpfeats })"
   ]
  },
  {
   "cell_type": "code",
   "execution_count": 523,
   "metadata": {},
   "outputs": [],
   "source": [
    "plt_impfeats_df = plt_impfeats_df.reindex(plt_impfeats_df[\"feature_importance\"].abs().sort_values().index)[::-1]\n"
   ]
  },
  {
   "cell_type": "code",
   "execution_count": 524,
   "metadata": {},
   "outputs": [],
   "source": [
    "plt_impfeats_df[\"labels\"] = plt_impfeats_df[\"features\"].apply(lambda x: colnamemap[x] if x in colnamemap.keys() else x)"
   ]
  },
  {
   "cell_type": "code",
   "execution_count": 525,
   "metadata": {},
   "outputs": [
    {
     "data": {
      "text/html": [
       "<div>\n",
       "<style scoped>\n",
       "    .dataframe tbody tr th:only-of-type {\n",
       "        vertical-align: middle;\n",
       "    }\n",
       "\n",
       "    .dataframe tbody tr th {\n",
       "        vertical-align: top;\n",
       "    }\n",
       "\n",
       "    .dataframe thead th {\n",
       "        text-align: right;\n",
       "    }\n",
       "</style>\n",
       "<table border=\"1\" class=\"dataframe\">\n",
       "  <thead>\n",
       "    <tr style=\"text-align: right;\">\n",
       "      <th></th>\n",
       "      <th>features</th>\n",
       "      <th>feature_importance</th>\n",
       "      <th>labels</th>\n",
       "    </tr>\n",
       "  </thead>\n",
       "  <tbody>\n",
       "    <tr>\n",
       "      <th>65</th>\n",
       "      <td>DB:2009-2010:Rate_Change</td>\n",
       "      <td>0.136594</td>\n",
       "      <td>Change in Diabetes Rate 2009-2010</td>\n",
       "    </tr>\n",
       "    <tr>\n",
       "      <th>0</th>\n",
       "      <td>DB:2010:percent</td>\n",
       "      <td>0.101197</td>\n",
       "      <td>Diabetes Rate in 2010</td>\n",
       "    </tr>\n",
       "    <tr>\n",
       "      <th>1</th>\n",
       "      <td>UnemploymentRate:2010</td>\n",
       "      <td>0.051543</td>\n",
       "      <td>Unemployment Rate 2010</td>\n",
       "    </tr>\n",
       "    <tr>\n",
       "      <th>5</th>\n",
       "      <td>LI:2010:percent</td>\n",
       "      <td>0.048340</td>\n",
       "      <td>Leisure Inactivity Rate 2010</td>\n",
       "    </tr>\n",
       "    <tr>\n",
       "      <th>8</th>\n",
       "      <td>Alcohol:Any:2010</td>\n",
       "      <td>0.046546</td>\n",
       "      <td>Any Alcohol Use 2010</td>\n",
       "    </tr>\n",
       "    <tr>\n",
       "      <th>71</th>\n",
       "      <td>CEN:2010:NAC</td>\n",
       "      <td>0.038213</td>\n",
       "      <td>Native Hawaiian / Pactific Islander (%) 2010</td>\n",
       "    </tr>\n",
       "    <tr>\n",
       "      <th>66</th>\n",
       "      <td>OB:2009-2010:Rate_Change</td>\n",
       "      <td>0.037492</td>\n",
       "      <td>Change in Obesity Rate 2009-2010</td>\n",
       "    </tr>\n",
       "    <tr>\n",
       "      <th>64</th>\n",
       "      <td>Male_pct_2010</td>\n",
       "      <td>0.037327</td>\n",
       "      <td>Male (%) 2010</td>\n",
       "    </tr>\n",
       "    <tr>\n",
       "      <th>67</th>\n",
       "      <td>LI:2009-2010:Rate_Change</td>\n",
       "      <td>0.037016</td>\n",
       "      <td>Change in Leisure Inactivity Rate 2009-2010</td>\n",
       "    </tr>\n",
       "    <tr>\n",
       "      <th>72</th>\n",
       "      <td>CEN:2010:H</td>\n",
       "      <td>0.036282</td>\n",
       "      <td>Hispanic (%) 2010</td>\n",
       "    </tr>\n",
       "    <tr>\n",
       "      <th>70</th>\n",
       "      <td>CEN:2010:AAC</td>\n",
       "      <td>0.035231</td>\n",
       "      <td>CEN:2010:AAC</td>\n",
       "    </tr>\n",
       "    <tr>\n",
       "      <th>69</th>\n",
       "      <td>CEN:2010:IAC</td>\n",
       "      <td>0.033505</td>\n",
       "      <td>CEN:2010:IAC</td>\n",
       "    </tr>\n",
       "  </tbody>\n",
       "</table>\n",
       "</div>"
      ],
      "text/plain": [
       "                    features  feature_importance  \\\n",
       "65  DB:2009-2010:Rate_Change            0.136594   \n",
       "0            DB:2010:percent            0.101197   \n",
       "1      UnemploymentRate:2010            0.051543   \n",
       "5            LI:2010:percent            0.048340   \n",
       "8           Alcohol:Any:2010            0.046546   \n",
       "71              CEN:2010:NAC            0.038213   \n",
       "66  OB:2009-2010:Rate_Change            0.037492   \n",
       "64             Male_pct_2010            0.037327   \n",
       "67  LI:2009-2010:Rate_Change            0.037016   \n",
       "72                CEN:2010:H            0.036282   \n",
       "70              CEN:2010:AAC            0.035231   \n",
       "69              CEN:2010:IAC            0.033505   \n",
       "\n",
       "                                          labels  \n",
       "65             Change in Diabetes Rate 2009-2010  \n",
       "0                          Diabetes Rate in 2010  \n",
       "1                         Unemployment Rate 2010  \n",
       "5                   Leisure Inactivity Rate 2010  \n",
       "8                           Any Alcohol Use 2010  \n",
       "71  Native Hawaiian / Pactific Islander (%) 2010  \n",
       "66              Change in Obesity Rate 2009-2010  \n",
       "64                                 Male (%) 2010  \n",
       "67   Change in Leisure Inactivity Rate 2009-2010  \n",
       "72                             Hispanic (%) 2010  \n",
       "70                                  CEN:2010:AAC  \n",
       "69                                  CEN:2010:IAC  "
      ]
     },
     "execution_count": 525,
     "metadata": {},
     "output_type": "execute_result"
    }
   ],
   "source": [
    "plt_impfeats_df.head(12)"
   ]
  },
  {
   "cell_type": "code",
   "execution_count": 526,
   "metadata": {},
   "outputs": [
    {
     "data": {
      "text/plain": [
       "65    DB:2009-2010:Rate_Change\n",
       "0              DB:2010:percent\n",
       "1        UnemploymentRate:2010\n",
       "5              LI:2010:percent\n",
       "8             Alcohol:Any:2010\n",
       "71                CEN:2010:NAC\n",
       "66    OB:2009-2010:Rate_Change\n",
       "64               Male_pct_2010\n",
       "67    LI:2009-2010:Rate_Change\n",
       "72                  CEN:2010:H\n",
       "Name: features, dtype: object"
      ]
     },
     "execution_count": 526,
     "metadata": {},
     "output_type": "execute_result"
    }
   ],
   "source": [
    "plt_impfeats_df[\"features\"][:10] "
   ]
  },
  {
   "cell_type": "markdown",
   "metadata": {},
   "source": [
    "## FINAL PLOT: RANDOM FOREST TOP IMPORTANT FEATURES"
   ]
  },
  {
   "cell_type": "code",
   "execution_count": 543,
   "metadata": {},
   "outputs": [
    {
     "data": {
      "image/png": "[encoded data removed]",
      "text/plain": [
       "<Figure size 864x576 with 1 Axes>"
      ]
     },
     "metadata": {},
     "output_type": "display_data"
    }
   ],
   "source": [
    "plt.figure(figsize = (12, 8))\n",
    "plt.barh(plt_impfeats_df[\"labels\"].iloc[:10], height = .85, width = plt_impfeats_df[\"feature_importance\"].iloc[:10],  \n",
    "        color = \"lightblue\", align='center')\n",
    "plt.xlabel(\"Feature Importance\", fontsize=20)\n",
    "#plt.ylabel(\"Feature\", fontsize=20)\n",
    "\n",
    "plt.xticks(fontsize=20)\n",
    "plt.yticks(fontsize=20)\n",
    "\n",
    "\n",
    "plt.title(\"Best Predictors of Diabetes Rate Change \\n in Random Forest Model\", fontsize=25, pad = 40)\n",
    "#plt.tick_params(axis='both', which='major', labelsize=10)\n",
    "#plt.tick_params(axis='both', which='minor', labelsize=20)\n",
    "plt.gca().invert_yaxis()\n",
    "\n",
    "\n",
    "#plt.yticklabels(plt_coefs_df[\"Features\"])\n",
    "plt.savefig('../images/rftop10.png', bbox_inches=\"tight\")\n"
   ]
  },
  {
   "cell_type": "markdown",
   "metadata": {},
   "source": [
    "# PLOT LASSO PARTIAL DEPENDENCY"
   ]
  },
  {
   "cell_type": "code",
   "execution_count": 544,
   "metadata": {},
   "outputs": [],
   "source": [
    "#Dependence Plot\n",
    "\n",
    "#Made it so axis all the same!!\n",
    "\n",
    "#REMOVED SCALLIN!!!\n",
    "    \n",
    "def pdp_same_axis(model, col, num_breaks, ax, y_lim_min, y_lim_max):\n",
    "    X_train_pdp = X_train.copy()\n",
    "    \n",
    "    #get x-axis values\n",
    "    min_pdp = X_train[col].min()\n",
    "    max_pdp = X_train[col].max()\n",
    "    x = np.linspace(0, 100, num_breaks)\n",
    "    x = x * ((max_pdp - min_pdp)/num_breaks)\n",
    "    x = x + min_pdp\n",
    "    \n",
    "    #get y-axis values\n",
    "    y = []\n",
    "    for val in x:\n",
    "        X_train_pdp[col] = val\n",
    "        predictions = model.predict(X_train_pdp)\n",
    "        y.append(predictions.mean())\n",
    "\n",
    "    #plot partial dependence\n",
    "    ax.plot(x, y, linestyle='-', color = \"lightblue\", linewidth=4.0)\n",
    "    ax.set_xlabel(colnamemap[col], fontsize=20)\n",
    "    ax.set_ylabel(\"Avg. Prediction for Diabetes Rate Change\")\n",
    "    ax.set_ylim(y_lim_min, y_lim_max)\n",
    "    \n",
    "    #formatting\n",
    "    #ax.set_xticks(fontsize=14)\n",
    "    #ax.set_yticks(fontsize=14)\n"
   ]
  },
  {
   "cell_type": "code",
   "execution_count": 532,
   "metadata": {},
   "outputs": [
    {
     "data": {
      "text/plain": [
       "65    DB:2009-2010:Rate_Change\n",
       "0              DB:2010:percent\n",
       "1        UnemploymentRate:2010\n",
       "5              LI:2010:percent\n",
       "8             Alcohol:Any:2010\n",
       "71                CEN:2010:NAC\n",
       "66    OB:2009-2010:Rate_Change\n",
       "64               Male_pct_2010\n",
       "67    LI:2009-2010:Rate_Change\n",
       "Name: features, dtype: object"
      ]
     },
     "execution_count": 532,
     "metadata": {},
     "output_type": "execute_result"
    }
   ],
   "source": [
    "top_9_rf_feats = plt_impfeats_df[\"features\"].iloc[:9]\n",
    "top_9_rf_feats"
   ]
  },
  {
   "cell_type": "code",
   "execution_count": 545,
   "metadata": {
    "scrolled": false
   },
   "outputs": [
    {
     "data": {
      "image/png": "[encoded data removed]",
      "text/plain": [
       "<Figure size 1440x1440 with 9 Axes>"
      ]
     },
     "metadata": {},
     "output_type": "display_data"
    }
   ],
   "source": [
    "matplotlib.rcParams.update({'font.size': 16})\n",
    "\n",
    "\n",
    "fig, axs = plt.subplots(3, 3, figsize=(20,20))\n",
    "af = axs.flatten()\n",
    "fig.suptitle(\"Random Forest Feature/Target Relationships\",  fontsize=30, y = .92)\n",
    "\n",
    "\n",
    "for i, col in enumerate(top_9_rf_feats):\n",
    "    pdp_same_axis(rfbest, col, 100, af[i], -2, 12)\n",
    "    \n",
    "fig.subplots_adjust(hspace=.2)\n",
    "\n",
    "plt.savefig('../images/rfrelationships.png')\n"
   ]
  },
  {
   "cell_type": "code",
   "execution_count": null,
   "metadata": {},
   "outputs": [],
   "source": []
  },
  {
   "cell_type": "markdown",
   "metadata": {},
   "source": [
    "# REGULARIZED SM MODELS STATS"
   ]
  },
  {
   "cell_type": "code",
   "execution_count": null,
   "metadata": {},
   "outputs": [],
   "source": [
    "LASSO "
   ]
  },
  {
   "cell_type": "code",
   "execution_count": 259,
   "metadata": {},
   "outputs": [],
   "source": [
    "import statsmodels.api as sm\n",
    "from statsmodels.regression.linear_model import OLS"
   ]
  },
  {
   "cell_type": "code",
   "execution_count": 260,
   "metadata": {},
   "outputs": [],
   "source": [
    "X_train_scaled_const = sm.add_constant(X_train_scaled)"
   ]
  },
  {
   "cell_type": "code",
   "execution_count": 271,
   "metadata": {},
   "outputs": [],
   "source": [
    "modelsmlasso = sm.OLS(y_train,X_train_scaled_const)\n"
   ]
  },
  {
   "cell_type": "code",
   "execution_count": 278,
   "metadata": {},
   "outputs": [],
   "source": [
    "results = modelsmlasso.fit_regularized() #alpha = .5, L1_wt = 1, method='elastic_net', maxiter = 1000"
   ]
  },
  {
   "cell_type": "code",
   "execution_count": 279,
   "metadata": {},
   "outputs": [],
   "source": [
    "results.summary()"
   ]
  },
  {
   "cell_type": "code",
   "execution_count": 257,
   "metadata": {},
   "outputs": [
    {
     "ename": "TypeError",
     "evalue": "fit_regularized() missing 1 required positional argument: 'self'",
     "output_type": "error",
     "traceback": [
      "\u001b[0;31m---------------------------------------------------------------------------\u001b[0m",
      "\u001b[0;31mTypeError\u001b[0m                                 Traceback (most recent call last)",
      "\u001b[0;32m<ipython-input-257-139fc1828651>\u001b[0m in \u001b[0;36m<module>\u001b[0;34m\u001b[0m\n\u001b[1;32m      1\u001b[0m \u001b[0;31m# lassobest = Lasso(alpha =  .5, max_iter = 1000)\u001b[0m\u001b[0;34m\u001b[0m\u001b[0;34m\u001b[0m\u001b[0m\n\u001b[1;32m      2\u001b[0m \u001b[0;34m\u001b[0m\u001b[0m\n\u001b[0;32m----> 3\u001b[0;31m \u001b[0mOLS\u001b[0m\u001b[0;34m.\u001b[0m\u001b[0mfit_regularized\u001b[0m\u001b[0;34m(\u001b[0m\u001b[0malpha\u001b[0m \u001b[0;34m=\u001b[0m \u001b[0;36m.5\u001b[0m\u001b[0;34m,\u001b[0m \u001b[0mL1_wt\u001b[0m \u001b[0;34m=\u001b[0m \u001b[0;36m1\u001b[0m\u001b[0;34m,\u001b[0m \u001b[0mmethod\u001b[0m\u001b[0;34m=\u001b[0m\u001b[0;34m'elastic_net'\u001b[0m\u001b[0;34m,\u001b[0m \u001b[0mmaxiter\u001b[0m \u001b[0;34m=\u001b[0m \u001b[0;36m100\u001b[0m\u001b[0;34m)\u001b[0m  \u001b[0;31m#1 is lasso fit\u001b[0m\u001b[0;34m\u001b[0m\u001b[0m\n\u001b[0m",
      "\u001b[0;31mTypeError\u001b[0m: fit_regularized() missing 1 required positional argument: 'self'"
     ]
    }
   ],
   "source": [
    "# lassobest = Lasso(alpha =  .5, max_iter = 1000)\n",
    "\n",
    "OLS  #1 is lasso fit\n",
    "\n",
    "\n"
   ]
  },
  {
   "cell_type": "code",
   "execution_count": 283,
   "metadata": {},
   "outputs": [],
   "source": [
    "model = sm.OLS(y_train, X_train_scaled_const)\n",
    "results_fu = model.fit()\n",
    "\n",
    "results_fr = model.fit_regularized(L1_wt=0, alpha=.5)\n"
   ]
  },
  {
   "cell_type": "code",
   "execution_count": 284,
   "metadata": {},
   "outputs": [
    {
     "data": {
      "text/plain": [
       "array([ 3.58465880e+00, -2.35908181e+00,  8.49699329e-01, -2.90500802e-01,\n",
       "       -1.47253237e-01,  4.02270535e-02,  4.49052502e-01, -1.23864322e-01,\n",
       "        5.11056917e-01, -5.17047900e-01, -5.91683103e-02,  5.84967443e-01,\n",
       "       -5.54722255e-01,  3.10550110e-01,  2.79851643e-01,  2.84127525e-01,\n",
       "       -3.95219334e-01, -2.09344149e-01,  1.32161594e-01, -1.08653413e-01,\n",
       "        4.20739207e-02, -3.18612756e-01, -5.90418673e-01,  3.75259464e-01,\n",
       "        4.93449956e-01,  8.02235045e-01, -2.76638691e-01, -9.41459855e-02,\n",
       "       -1.50111876e-01, -2.31768621e-01,  2.08903979e-02, -6.16470701e-02,\n",
       "       -1.29691085e-01, -2.24044987e-01,  1.00069336e-01,  2.04765119e-01,\n",
       "        1.43589115e-01, -1.99678965e-01, -2.37520962e-01,  1.78803384e-01,\n",
       "       -5.70442587e-02,  2.77524626e-01, -3.53053229e-01, -1.57399101e-02,\n",
       "       -6.44718913e-02,  6.01608999e-01,  3.14041451e-01,  3.60635415e-01,\n",
       "        8.25621949e-02,  2.76068398e-01,  3.73106028e-01, -7.40951790e-02,\n",
       "        7.57149567e-01, -1.06453033e+00, -3.28608015e-01, -1.48069809e-01,\n",
       "       -5.98519263e-01, -5.15967793e-02, -9.25329741e-02, -2.56087770e-02,\n",
       "        4.28261017e-01,  6.41841361e-02, -1.03202588e-01, -1.40492911e-03,\n",
       "        1.73018855e-02, -2.34700109e-01, -1.86214553e+00, -9.71884492e-02,\n",
       "        1.86758849e-01,  1.44626639e-01, -2.48855048e-01, -3.07341770e-01,\n",
       "       -9.37081241e-02, -6.88818310e-01])"
      ]
     },
     "execution_count": 284,
     "metadata": {},
     "output_type": "execute_result"
    }
   ],
   "source": [
    "results_fr.params"
   ]
  },
  {
   "cell_type": "code",
   "execution_count": 285,
   "metadata": {},
   "outputs": [],
   "source": [
    "final = sm.regression.linear_model.OLSResults(model, \n",
    "                                              results_fr.params, \n",
    "                                              model.normalized_cov_params)\n"
   ]
  },
  {
   "cell_type": "code",
   "execution_count": 290,
   "metadata": {},
   "outputs": [
    {
     "data": {
      "text/plain": [
       "array([[ 4.54752160e-04,  6.13251854e-19,  8.94731490e-19],\n",
       "       [ 6.13251854e-19,  2.75003091e-03, -2.29361705e-04],\n",
       "       [ 8.94731490e-19, -2.29361705e-04,  1.57853862e-03]])"
      ]
     },
     "execution_count": 290,
     "metadata": {},
     "output_type": "execute_result"
    }
   ],
   "source": [
    "model.normalized_cov_params[:3, :3]"
   ]
  },
  {
   "cell_type": "code",
   "execution_count": 286,
   "metadata": {},
   "outputs": [
    {
     "data": {
      "text/html": [
       "<table class=\"simpletable\">\n",
       "<caption>OLS Regression Results</caption>\n",
       "<tr>\n",
       "  <th>Dep. Variable:</th>         <td>y_train</td>     <th>  R-squared:         </th> <td>   0.214</td> \n",
       "</tr>\n",
       "<tr>\n",
       "  <th>Model:</th>                   <td>OLS</td>       <th>  Adj. R-squared:    </th> <td>   0.187</td> \n",
       "</tr>\n",
       "<tr>\n",
       "  <th>Method:</th>             <td>Least Squares</td>  <th>  F-statistic:       </th> <td>   7.911</td> \n",
       "</tr>\n",
       "<tr>\n",
       "  <th>Date:</th>             <td>Sun, 07 Apr 2019</td> <th>  Prob (F-statistic):</th> <td>1.71e-68</td> \n",
       "</tr>\n",
       "<tr>\n",
       "  <th>Time:</th>                 <td>16:20:52</td>     <th>  Log-Likelihood:    </th> <td> -8291.0</td> \n",
       "</tr>\n",
       "<tr>\n",
       "  <th>No. Observations:</th>      <td>  2199</td>      <th>  AIC:               </th> <td>1.673e+04</td>\n",
       "</tr>\n",
       "<tr>\n",
       "  <th>Df Residuals:</th>          <td>  2125</td>      <th>  BIC:               </th> <td>1.715e+04</td>\n",
       "</tr>\n",
       "<tr>\n",
       "  <th>Df Model:</th>              <td>    73</td>      <th>                     </th>     <td> </td>    \n",
       "</tr>\n",
       "<tr>\n",
       "  <th>Covariance Type:</th>      <td>nonrobust</td>    <th>                     </th>     <td> </td>    \n",
       "</tr>\n",
       "</table>\n",
       "<table class=\"simpletable\">\n",
       "<tr>\n",
       "    <td></td>       <th>coef</th>     <th>std err</th>      <th>t</th>      <th>P>|t|</th>  <th>[0.025</th>    <th>0.975]</th>  \n",
       "</tr>\n",
       "<tr>\n",
       "  <th>const</th> <td>    3.5847</td> <td>    0.228</td> <td>   15.737</td> <td> 0.000</td> <td>    3.138</td> <td>    4.031</td>\n",
       "</tr>\n",
       "<tr>\n",
       "  <th>x1</th>    <td>   -2.3591</td> <td>    0.560</td> <td>   -4.212</td> <td> 0.000</td> <td>   -3.458</td> <td>   -1.261</td>\n",
       "</tr>\n",
       "<tr>\n",
       "  <th>x2</th>    <td>    0.8497</td> <td>    0.424</td> <td>    2.002</td> <td> 0.045</td> <td>    0.017</td> <td>    1.682</td>\n",
       "</tr>\n",
       "<tr>\n",
       "  <th>x3</th>    <td>   -0.2905</td> <td>    0.271</td> <td>   -1.072</td> <td> 0.284</td> <td>   -0.822</td> <td>    0.241</td>\n",
       "</tr>\n",
       "<tr>\n",
       "  <th>x4</th>    <td>   -0.1473</td> <td>    0.268</td> <td>   -0.549</td> <td> 0.583</td> <td>   -0.673</td> <td>    0.379</td>\n",
       "</tr>\n",
       "<tr>\n",
       "  <th>x5</th>    <td>    0.0402</td> <td>    0.418</td> <td>    0.096</td> <td> 0.923</td> <td>   -0.780</td> <td>    0.861</td>\n",
       "</tr>\n",
       "<tr>\n",
       "  <th>x6</th>    <td>    0.4491</td> <td>    0.533</td> <td>    0.843</td> <td> 0.399</td> <td>   -0.595</td> <td>    1.493</td>\n",
       "</tr>\n",
       "<tr>\n",
       "  <th>x7</th>    <td>   -0.1239</td> <td>    0.495</td> <td>   -0.250</td> <td> 0.802</td> <td>   -1.094</td> <td>    0.846</td>\n",
       "</tr>\n",
       "<tr>\n",
       "  <th>x8</th>    <td>    0.5111</td> <td>    0.379</td> <td>    1.349</td> <td> 0.178</td> <td>   -0.232</td> <td>    1.254</td>\n",
       "</tr>\n",
       "<tr>\n",
       "  <th>x9</th>    <td>   -0.5170</td> <td>    0.798</td> <td>   -0.648</td> <td> 0.517</td> <td>   -2.082</td> <td>    1.048</td>\n",
       "</tr>\n",
       "<tr>\n",
       "  <th>x10</th>   <td>   -0.0592</td> <td>    0.546</td> <td>   -0.108</td> <td> 0.914</td> <td>   -1.130</td> <td>    1.012</td>\n",
       "</tr>\n",
       "<tr>\n",
       "  <th>x11</th>   <td>    0.5850</td> <td>    2.520</td> <td>    0.232</td> <td> 0.816</td> <td>   -4.357</td> <td>    5.527</td>\n",
       "</tr>\n",
       "<tr>\n",
       "  <th>x12</th>   <td>   -0.5547</td> <td>    1.603</td> <td>   -0.346</td> <td> 0.729</td> <td>   -3.698</td> <td>    2.589</td>\n",
       "</tr>\n",
       "<tr>\n",
       "  <th>x13</th>   <td>    0.3106</td> <td>    1.175</td> <td>    0.264</td> <td> 0.792</td> <td>   -1.993</td> <td>    2.614</td>\n",
       "</tr>\n",
       "<tr>\n",
       "  <th>x14</th>   <td>    0.2799</td> <td>    2.664</td> <td>    0.105</td> <td> 0.916</td> <td>   -4.944</td> <td>    5.503</td>\n",
       "</tr>\n",
       "<tr>\n",
       "  <th>x15</th>   <td>    0.2841</td> <td>    2.287</td> <td>    0.124</td> <td> 0.901</td> <td>   -4.201</td> <td>    4.769</td>\n",
       "</tr>\n",
       "<tr>\n",
       "  <th>x16</th>   <td>   -0.3952</td> <td>    2.262</td> <td>   -0.175</td> <td> 0.861</td> <td>   -4.830</td> <td>    4.040</td>\n",
       "</tr>\n",
       "<tr>\n",
       "  <th>x17</th>   <td>   -0.2093</td> <td>    0.733</td> <td>   -0.286</td> <td> 0.775</td> <td>   -1.647</td> <td>    1.228</td>\n",
       "</tr>\n",
       "<tr>\n",
       "  <th>x18</th>   <td>    0.1322</td> <td>    0.646</td> <td>    0.205</td> <td> 0.838</td> <td>   -1.134</td> <td>    1.398</td>\n",
       "</tr>\n",
       "<tr>\n",
       "  <th>x19</th>   <td>   -0.1087</td> <td>    0.422</td> <td>   -0.257</td> <td> 0.797</td> <td>   -0.936</td> <td>    0.719</td>\n",
       "</tr>\n",
       "<tr>\n",
       "  <th>x20</th>   <td>    0.0421</td> <td>    2.353</td> <td>    0.018</td> <td> 0.986</td> <td>   -4.572</td> <td>    4.656</td>\n",
       "</tr>\n",
       "<tr>\n",
       "  <th>x21</th>   <td>   -0.3186</td> <td>    3.546</td> <td>   -0.090</td> <td> 0.928</td> <td>   -7.274</td> <td>    6.636</td>\n",
       "</tr>\n",
       "<tr>\n",
       "  <th>x22</th>   <td>   -0.5904</td> <td>    2.028</td> <td>   -0.291</td> <td> 0.771</td> <td>   -4.567</td> <td>    3.387</td>\n",
       "</tr>\n",
       "<tr>\n",
       "  <th>x23</th>   <td>    0.3753</td> <td>    2.954</td> <td>    0.127</td> <td> 0.899</td> <td>   -5.417</td> <td>    6.168</td>\n",
       "</tr>\n",
       "<tr>\n",
       "  <th>x24</th>   <td>    0.4934</td> <td>    2.869</td> <td>    0.172</td> <td> 0.863</td> <td>   -5.132</td> <td>    6.119</td>\n",
       "</tr>\n",
       "<tr>\n",
       "  <th>x25</th>   <td>    0.8022</td> <td>    2.861</td> <td>    0.280</td> <td> 0.779</td> <td>   -4.808</td> <td>    6.412</td>\n",
       "</tr>\n",
       "<tr>\n",
       "  <th>x26</th>   <td>   -0.2766</td> <td>    2.834</td> <td>   -0.098</td> <td> 0.922</td> <td>   -5.834</td> <td>    5.281</td>\n",
       "</tr>\n",
       "<tr>\n",
       "  <th>x27</th>   <td>   -0.0941</td> <td>    3.093</td> <td>   -0.030</td> <td> 0.976</td> <td>   -6.160</td> <td>    5.972</td>\n",
       "</tr>\n",
       "<tr>\n",
       "  <th>x28</th>   <td>   -0.1501</td> <td>    2.490</td> <td>   -0.060</td> <td> 0.952</td> <td>   -5.033</td> <td>    4.733</td>\n",
       "</tr>\n",
       "<tr>\n",
       "  <th>x29</th>   <td>   -0.2318</td> <td>    1.281</td> <td>   -0.181</td> <td> 0.856</td> <td>   -2.744</td> <td>    2.281</td>\n",
       "</tr>\n",
       "<tr>\n",
       "  <th>x30</th>   <td>    0.0209</td> <td>    1.532</td> <td>    0.014</td> <td> 0.989</td> <td>   -2.983</td> <td>    3.025</td>\n",
       "</tr>\n",
       "<tr>\n",
       "  <th>x31</th>   <td>   -0.0616</td> <td>    1.010</td> <td>   -0.061</td> <td> 0.951</td> <td>   -2.043</td> <td>    1.920</td>\n",
       "</tr>\n",
       "<tr>\n",
       "  <th>x32</th>   <td>   -0.1297</td> <td>    2.634</td> <td>   -0.049</td> <td> 0.961</td> <td>   -5.296</td> <td>    5.036</td>\n",
       "</tr>\n",
       "<tr>\n",
       "  <th>x33</th>   <td>   -0.2240</td> <td>    2.645</td> <td>   -0.085</td> <td> 0.932</td> <td>   -5.411</td> <td>    4.963</td>\n",
       "</tr>\n",
       "<tr>\n",
       "  <th>x34</th>   <td>    0.1001</td> <td>    2.486</td> <td>    0.040</td> <td> 0.968</td> <td>   -4.774</td> <td>    4.975</td>\n",
       "</tr>\n",
       "<tr>\n",
       "  <th>x35</th>   <td>    0.2048</td> <td>    2.984</td> <td>    0.069</td> <td> 0.945</td> <td>   -5.647</td> <td>    6.056</td>\n",
       "</tr>\n",
       "<tr>\n",
       "  <th>x36</th>   <td>    0.1436</td> <td>    2.129</td> <td>    0.067</td> <td> 0.946</td> <td>   -4.031</td> <td>    4.318</td>\n",
       "</tr>\n",
       "<tr>\n",
       "  <th>x37</th>   <td>   -0.1997</td> <td>    2.804</td> <td>   -0.071</td> <td> 0.943</td> <td>   -5.699</td> <td>    5.300</td>\n",
       "</tr>\n",
       "<tr>\n",
       "  <th>x38</th>   <td>   -0.2375</td> <td>    1.262</td> <td>   -0.188</td> <td> 0.851</td> <td>   -2.713</td> <td>    2.238</td>\n",
       "</tr>\n",
       "<tr>\n",
       "  <th>x39</th>   <td>    0.1788</td> <td>    0.888</td> <td>    0.201</td> <td> 0.841</td> <td>   -1.563</td> <td>    1.921</td>\n",
       "</tr>\n",
       "<tr>\n",
       "  <th>x40</th>   <td>   -0.0570</td> <td>    1.438</td> <td>   -0.040</td> <td> 0.968</td> <td>   -2.876</td> <td>    2.762</td>\n",
       "</tr>\n",
       "<tr>\n",
       "  <th>x41</th>   <td>    0.2775</td> <td>    1.794</td> <td>    0.155</td> <td> 0.877</td> <td>   -3.241</td> <td>    3.796</td>\n",
       "</tr>\n",
       "<tr>\n",
       "  <th>x42</th>   <td>   -0.3531</td> <td>    2.204</td> <td>   -0.160</td> <td> 0.873</td> <td>   -4.675</td> <td>    3.969</td>\n",
       "</tr>\n",
       "<tr>\n",
       "  <th>x43</th>   <td>   -0.0157</td> <td>    2.886</td> <td>   -0.005</td> <td> 0.996</td> <td>   -5.675</td> <td>    5.644</td>\n",
       "</tr>\n",
       "<tr>\n",
       "  <th>x44</th>   <td>   -0.0645</td> <td>    2.138</td> <td>   -0.030</td> <td> 0.976</td> <td>   -4.257</td> <td>    4.128</td>\n",
       "</tr>\n",
       "<tr>\n",
       "  <th>x45</th>   <td>    0.6016</td> <td>    2.808</td> <td>    0.214</td> <td> 0.830</td> <td>   -4.905</td> <td>    6.108</td>\n",
       "</tr>\n",
       "<tr>\n",
       "  <th>x46</th>   <td>    0.3140</td> <td>    2.486</td> <td>    0.126</td> <td> 0.899</td> <td>   -4.561</td> <td>    5.189</td>\n",
       "</tr>\n",
       "<tr>\n",
       "  <th>x47</th>   <td>    0.3606</td> <td>    1.632</td> <td>    0.221</td> <td> 0.825</td> <td>   -2.840</td> <td>    3.562</td>\n",
       "</tr>\n",
       "<tr>\n",
       "  <th>x48</th>   <td>    0.0826</td> <td>    2.339</td> <td>    0.035</td> <td> 0.972</td> <td>   -4.504</td> <td>    4.669</td>\n",
       "</tr>\n",
       "<tr>\n",
       "  <th>x49</th>   <td>    0.2761</td> <td>    0.647</td> <td>    0.427</td> <td> 0.670</td> <td>   -0.993</td> <td>    1.545</td>\n",
       "</tr>\n",
       "<tr>\n",
       "  <th>x50</th>   <td>    0.3731</td> <td>    2.036</td> <td>    0.183</td> <td> 0.855</td> <td>   -3.619</td> <td>    4.365</td>\n",
       "</tr>\n",
       "<tr>\n",
       "  <th>x51</th>   <td>   -0.0741</td> <td>    2.495</td> <td>   -0.030</td> <td> 0.976</td> <td>   -4.967</td> <td>    4.819</td>\n",
       "</tr>\n",
       "<tr>\n",
       "  <th>x52</th>   <td>    0.7571</td> <td>    2.807</td> <td>    0.270</td> <td> 0.787</td> <td>   -4.748</td> <td>    6.262</td>\n",
       "</tr>\n",
       "<tr>\n",
       "  <th>x53</th>   <td>   -1.0645</td> <td>    4.492</td> <td>   -0.237</td> <td> 0.813</td> <td>   -9.873</td> <td>    7.744</td>\n",
       "</tr>\n",
       "<tr>\n",
       "  <th>x54</th>   <td>   -0.3286</td> <td>    1.356</td> <td>   -0.242</td> <td> 0.809</td> <td>   -2.988</td> <td>    2.331</td>\n",
       "</tr>\n",
       "<tr>\n",
       "  <th>x55</th>   <td>   -0.1481</td> <td>    1.186</td> <td>   -0.125</td> <td> 0.901</td> <td>   -2.474</td> <td>    2.178</td>\n",
       "</tr>\n",
       "<tr>\n",
       "  <th>x56</th>   <td>   -0.5985</td> <td>    3.251</td> <td>   -0.184</td> <td> 0.854</td> <td>   -6.974</td> <td>    5.777</td>\n",
       "</tr>\n",
       "<tr>\n",
       "  <th>x57</th>   <td>   -0.0516</td> <td>    1.793</td> <td>   -0.029</td> <td> 0.977</td> <td>   -3.569</td> <td>    3.465</td>\n",
       "</tr>\n",
       "<tr>\n",
       "  <th>x58</th>   <td>   -0.0925</td> <td>    2.231</td> <td>   -0.041</td> <td> 0.967</td> <td>   -4.468</td> <td>    4.283</td>\n",
       "</tr>\n",
       "<tr>\n",
       "  <th>x59</th>   <td>   -0.0256</td> <td>    2.461</td> <td>   -0.010</td> <td> 0.992</td> <td>   -4.853</td> <td>    4.801</td>\n",
       "</tr>\n",
       "<tr>\n",
       "  <th>x60</th>   <td>    0.4283</td> <td>    1.330</td> <td>    0.322</td> <td> 0.747</td> <td>   -2.179</td> <td>    3.036</td>\n",
       "</tr>\n",
       "<tr>\n",
       "  <th>x61</th>   <td>    0.0642</td> <td>    2.154</td> <td>    0.030</td> <td> 0.976</td> <td>   -4.160</td> <td>    4.289</td>\n",
       "</tr>\n",
       "<tr>\n",
       "  <th>x62</th>   <td>   -0.1032</td> <td>    2.591</td> <td>   -0.040</td> <td> 0.968</td> <td>   -5.185</td> <td>    4.979</td>\n",
       "</tr>\n",
       "<tr>\n",
       "  <th>x63</th>   <td>   -0.0014</td> <td>    2.766</td> <td>   -0.001</td> <td> 1.000</td> <td>   -5.425</td> <td>    5.422</td>\n",
       "</tr>\n",
       "<tr>\n",
       "  <th>x64</th>   <td>    0.0173</td> <td>    1.896</td> <td>    0.009</td> <td> 0.993</td> <td>   -3.701</td> <td>    3.735</td>\n",
       "</tr>\n",
       "<tr>\n",
       "  <th>x65</th>   <td>   -0.2347</td> <td>    0.268</td> <td>   -0.874</td> <td> 0.382</td> <td>   -0.761</td> <td>    0.292</td>\n",
       "</tr>\n",
       "<tr>\n",
       "  <th>x66</th>   <td>   -1.8621</td> <td>    0.266</td> <td>   -6.998</td> <td> 0.000</td> <td>   -2.384</td> <td>   -1.340</td>\n",
       "</tr>\n",
       "<tr>\n",
       "  <th>x67</th>   <td>   -0.0972</td> <td>    0.254</td> <td>   -0.383</td> <td> 0.702</td> <td>   -0.595</td> <td>    0.401</td>\n",
       "</tr>\n",
       "<tr>\n",
       "  <th>x68</th>   <td>    0.1868</td> <td>    0.267</td> <td>    0.700</td> <td> 0.484</td> <td>   -0.337</td> <td>    0.710</td>\n",
       "</tr>\n",
       "<tr>\n",
       "  <th>x69</th>   <td>    0.1446</td> <td>    0.439</td> <td>    0.329</td> <td> 0.742</td> <td>   -0.717</td> <td>    1.006</td>\n",
       "</tr>\n",
       "<tr>\n",
       "  <th>x70</th>   <td>   -0.2489</td> <td>    0.344</td> <td>   -0.724</td> <td> 0.469</td> <td>   -0.923</td> <td>    0.426</td>\n",
       "</tr>\n",
       "<tr>\n",
       "  <th>x71</th>   <td>   -0.3073</td> <td>    0.397</td> <td>   -0.775</td> <td> 0.439</td> <td>   -1.085</td> <td>    0.471</td>\n",
       "</tr>\n",
       "<tr>\n",
       "  <th>x72</th>   <td>   -0.0937</td> <td>    0.645</td> <td>   -0.145</td> <td> 0.884</td> <td>   -1.358</td> <td>    1.171</td>\n",
       "</tr>\n",
       "<tr>\n",
       "  <th>x73</th>   <td>   -0.6888</td> <td>    0.383</td> <td>   -1.798</td> <td> 0.072</td> <td>   -1.440</td> <td>    0.063</td>\n",
       "</tr>\n",
       "</table>\n",
       "<table class=\"simpletable\">\n",
       "<tr>\n",
       "  <th>Omnibus:</th>       <td>120.092</td> <th>  Durbin-Watson:     </th> <td>   1.911</td>\n",
       "</tr>\n",
       "<tr>\n",
       "  <th>Prob(Omnibus):</th> <td> 0.000</td>  <th>  Jarque-Bera (JB):  </th> <td> 170.539</td>\n",
       "</tr>\n",
       "<tr>\n",
       "  <th>Skew:</th>          <td> 0.486</td>  <th>  Prob(JB):          </th> <td>9.29e-38</td>\n",
       "</tr>\n",
       "<tr>\n",
       "  <th>Kurtosis:</th>      <td> 3.957</td>  <th>  Cond. No.          </th> <td>    172.</td>\n",
       "</tr>\n",
       "</table><br/><br/>Warnings:<br/>[1] Standard Errors assume that the covariance matrix of the errors is correctly specified."
      ],
      "text/plain": [
       "<class 'statsmodels.iolib.summary.Summary'>\n",
       "\"\"\"\n",
       "                            OLS Regression Results                            \n",
       "==============================================================================\n",
       "Dep. Variable:                y_train   R-squared:                       0.214\n",
       "Model:                            OLS   Adj. R-squared:                  0.187\n",
       "Method:                 Least Squares   F-statistic:                     7.911\n",
       "Date:                Sun, 07 Apr 2019   Prob (F-statistic):           1.71e-68\n",
       "Time:                        16:20:52   Log-Likelihood:                -8291.0\n",
       "No. Observations:                2199   AIC:                         1.673e+04\n",
       "Df Residuals:                    2125   BIC:                         1.715e+04\n",
       "Df Model:                          73                                         \n",
       "Covariance Type:            nonrobust                                         \n",
       "==============================================================================\n",
       "                 coef    std err          t      P>|t|      [0.025      0.975]\n",
       "------------------------------------------------------------------------------\n",
       "const          3.5847      0.228     15.737      0.000       3.138       4.031\n",
       "x1            -2.3591      0.560     -4.212      0.000      -3.458      -1.261\n",
       "x2             0.8497      0.424      2.002      0.045       0.017       1.682\n",
       "x3            -0.2905      0.271     -1.072      0.284      -0.822       0.241\n",
       "x4            -0.1473      0.268     -0.549      0.583      -0.673       0.379\n",
       "x5             0.0402      0.418      0.096      0.923      -0.780       0.861\n",
       "x6             0.4491      0.533      0.843      0.399      -0.595       1.493\n",
       "x7            -0.1239      0.495     -0.250      0.802      -1.094       0.846\n",
       "x8             0.5111      0.379      1.349      0.178      -0.232       1.254\n",
       "x9            -0.5170      0.798     -0.648      0.517      -2.082       1.048\n",
       "x10           -0.0592      0.546     -0.108      0.914      -1.130       1.012\n",
       "x11            0.5850      2.520      0.232      0.816      -4.357       5.527\n",
       "x12           -0.5547      1.603     -0.346      0.729      -3.698       2.589\n",
       "x13            0.3106      1.175      0.264      0.792      -1.993       2.614\n",
       "x14            0.2799      2.664      0.105      0.916      -4.944       5.503\n",
       "x15            0.2841      2.287      0.124      0.901      -4.201       4.769\n",
       "x16           -0.3952      2.262     -0.175      0.861      -4.830       4.040\n",
       "x17           -0.2093      0.733     -0.286      0.775      -1.647       1.228\n",
       "x18            0.1322      0.646      0.205      0.838      -1.134       1.398\n",
       "x19           -0.1087      0.422     -0.257      0.797      -0.936       0.719\n",
       "x20            0.0421      2.353      0.018      0.986      -4.572       4.656\n",
       "x21           -0.3186      3.546     -0.090      0.928      -7.274       6.636\n",
       "x22           -0.5904      2.028     -0.291      0.771      -4.567       3.387\n",
       "x23            0.3753      2.954      0.127      0.899      -5.417       6.168\n",
       "x24            0.4934      2.869      0.172      0.863      -5.132       6.119\n",
       "x25            0.8022      2.861      0.280      0.779      -4.808       6.412\n",
       "x26           -0.2766      2.834     -0.098      0.922      -5.834       5.281\n",
       "x27           -0.0941      3.093     -0.030      0.976      -6.160       5.972\n",
       "x28           -0.1501      2.490     -0.060      0.952      -5.033       4.733\n",
       "x29           -0.2318      1.281     -0.181      0.856      -2.744       2.281\n",
       "x30            0.0209      1.532      0.014      0.989      -2.983       3.025\n",
       "x31           -0.0616      1.010     -0.061      0.951      -2.043       1.920\n",
       "x32           -0.1297      2.634     -0.049      0.961      -5.296       5.036\n",
       "x33           -0.2240      2.645     -0.085      0.932      -5.411       4.963\n",
       "x34            0.1001      2.486      0.040      0.968      -4.774       4.975\n",
       "x35            0.2048      2.984      0.069      0.945      -5.647       6.056\n",
       "x36            0.1436      2.129      0.067      0.946      -4.031       4.318\n",
       "x37           -0.1997      2.804     -0.071      0.943      -5.699       5.300\n",
       "x38           -0.2375      1.262     -0.188      0.851      -2.713       2.238\n",
       "x39            0.1788      0.888      0.201      0.841      -1.563       1.921\n",
       "x40           -0.0570      1.438     -0.040      0.968      -2.876       2.762\n",
       "x41            0.2775      1.794      0.155      0.877      -3.241       3.796\n",
       "x42           -0.3531      2.204     -0.160      0.873      -4.675       3.969\n",
       "x43           -0.0157      2.886     -0.005      0.996      -5.675       5.644\n",
       "x44           -0.0645      2.138     -0.030      0.976      -4.257       4.128\n",
       "x45            0.6016      2.808      0.214      0.830      -4.905       6.108\n",
       "x46            0.3140      2.486      0.126      0.899      -4.561       5.189\n",
       "x47            0.3606      1.632      0.221      0.825      -2.840       3.562\n",
       "x48            0.0826      2.339      0.035      0.972      -4.504       4.669\n",
       "x49            0.2761      0.647      0.427      0.670      -0.993       1.545\n",
       "x50            0.3731      2.036      0.183      0.855      -3.619       4.365\n",
       "x51           -0.0741      2.495     -0.030      0.976      -4.967       4.819\n",
       "x52            0.7571      2.807      0.270      0.787      -4.748       6.262\n",
       "x53           -1.0645      4.492     -0.237      0.813      -9.873       7.744\n",
       "x54           -0.3286      1.356     -0.242      0.809      -2.988       2.331\n",
       "x55           -0.1481      1.186     -0.125      0.901      -2.474       2.178\n",
       "x56           -0.5985      3.251     -0.184      0.854      -6.974       5.777\n",
       "x57           -0.0516      1.793     -0.029      0.977      -3.569       3.465\n",
       "x58           -0.0925      2.231     -0.041      0.967      -4.468       4.283\n",
       "x59           -0.0256      2.461     -0.010      0.992      -4.853       4.801\n",
       "x60            0.4283      1.330      0.322      0.747      -2.179       3.036\n",
       "x61            0.0642      2.154      0.030      0.976      -4.160       4.289\n",
       "x62           -0.1032      2.591     -0.040      0.968      -5.185       4.979\n",
       "x63           -0.0014      2.766     -0.001      1.000      -5.425       5.422\n",
       "x64            0.0173      1.896      0.009      0.993      -3.701       3.735\n",
       "x65           -0.2347      0.268     -0.874      0.382      -0.761       0.292\n",
       "x66           -1.8621      0.266     -6.998      0.000      -2.384      -1.340\n",
       "x67           -0.0972      0.254     -0.383      0.702      -0.595       0.401\n",
       "x68            0.1868      0.267      0.700      0.484      -0.337       0.710\n",
       "x69            0.1446      0.439      0.329      0.742      -0.717       1.006\n",
       "x70           -0.2489      0.344     -0.724      0.469      -0.923       0.426\n",
       "x71           -0.3073      0.397     -0.775      0.439      -1.085       0.471\n",
       "x72           -0.0937      0.645     -0.145      0.884      -1.358       1.171\n",
       "x73           -0.6888      0.383     -1.798      0.072      -1.440       0.063\n",
       "==============================================================================\n",
       "Omnibus:                      120.092   Durbin-Watson:                   1.911\n",
       "Prob(Omnibus):                  0.000   Jarque-Bera (JB):              170.539\n",
       "Skew:                           0.486   Prob(JB):                     9.29e-38\n",
       "Kurtosis:                       3.957   Cond. No.                         172.\n",
       "==============================================================================\n",
       "\n",
       "Warnings:\n",
       "[1] Standard Errors assume that the covariance matrix of the errors is correctly specified.\n",
       "\"\"\""
      ]
     },
     "execution_count": 286,
     "metadata": {},
     "output_type": "execute_result"
    }
   ],
   "source": [
    "final.summary()"
   ]
  },
  {
   "cell_type": "code",
   "execution_count": null,
   "metadata": {},
   "outputs": [],
   "source": []
  }
 ],
 "metadata": {
  "kernelspec": {
   "display_name": "Python 3",
   "language": "python",
   "name": "python3"
  },
  "language_info": {
   "codemirror_mode": {
    "name": "ipython",
    "version": 3
   },
   "file_extension": ".py",
   "mimetype": "text/x-python",
   "name": "python",
   "nbconvert_exporter": "python",
   "pygments_lexer": "ipython3",
   "version": "3.7.0"
  }
 },
 "nbformat": 4,
 "nbformat_minor": 2
}
